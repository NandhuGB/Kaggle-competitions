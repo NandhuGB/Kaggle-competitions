{
 "cells": [
  {
   "cell_type": "code",
   "execution_count": 9,
   "metadata": {
    "ExecuteTime": {
     "end_time": "2020-08-29T04:35:47.260386Z",
     "start_time": "2020-08-29T04:35:47.249365Z"
    }
   },
   "outputs": [
    {
     "ename": "ImportError",
     "evalue": "No module named 'pandas_profiling'",
     "output_type": "error",
     "traceback": [
      "\u001b[1;31m---------------------------------------------------------------------------\u001b[0m",
      "\u001b[1;31mImportError\u001b[0m                               Traceback (most recent call last)",
      "\u001b[1;32m<ipython-input-9-2ff08469d229>\u001b[0m in \u001b[0;36m<module>\u001b[1;34m()\u001b[0m\n\u001b[0;32m      1\u001b[0m \u001b[1;32mimport\u001b[0m \u001b[0mpandas\u001b[0m \u001b[1;32mas\u001b[0m \u001b[0mpd\u001b[0m\u001b[1;33m\u001b[0m\u001b[0m\n\u001b[0;32m      2\u001b[0m \u001b[1;32mimport\u001b[0m \u001b[0mnumpy\u001b[0m \u001b[1;32mas\u001b[0m \u001b[0mnp\u001b[0m\u001b[1;33m\u001b[0m\u001b[0m\n\u001b[1;32m----> 3\u001b[1;33m \u001b[1;32mfrom\u001b[0m \u001b[0mpandas_profiling\u001b[0m \u001b[1;32mimport\u001b[0m \u001b[0mProfileReportrofileReport\u001b[0m\u001b[1;33m\u001b[0m\u001b[0m\n\u001b[0m",
      "\u001b[1;31mImportError\u001b[0m: No module named 'pandas_profiling'"
     ]
    }
   ],
   "source": [
    "import pandas as pd\n",
    "import numpy as np\n",
    "from pandas_profiling import ProfileReportrofileReport"
   ]
  },
  {
   "cell_type": "code",
   "execution_count": 10,
   "metadata": {
    "ExecuteTime": {
     "end_time": "2020-08-29T04:35:52.402027Z",
     "start_time": "2020-08-29T04:35:50.554273Z"
    }
   },
   "outputs": [],
   "source": [
    "data1=pd.read_csv('Jan_2019_ontime.csv')"
   ]
  },
  {
   "cell_type": "code",
   "execution_count": 11,
   "metadata": {
    "ExecuteTime": {
     "end_time": "2020-08-29T04:35:52.715069Z",
     "start_time": "2020-08-29T04:35:52.405618Z"
    }
   },
   "outputs": [
    {
     "name": "stdout",
     "output_type": "stream",
     "text": [
      "<class 'pandas.core.frame.DataFrame'>\n",
      "RangeIndex: 583985 entries, 0 to 583984\n",
      "Data columns (total 22 columns):\n",
      "DAY_OF_MONTH             583985 non-null int64\n",
      "DAY_OF_WEEK              583985 non-null int64\n",
      "OP_UNIQUE_CARRIER        583985 non-null object\n",
      "OP_CARRIER_AIRLINE_ID    583985 non-null int64\n",
      "OP_CARRIER               583985 non-null object\n",
      "TAIL_NUM                 581442 non-null object\n",
      "OP_CARRIER_FL_NUM        583985 non-null int64\n",
      "ORIGIN_AIRPORT_ID        583985 non-null int64\n",
      "ORIGIN_AIRPORT_SEQ_ID    583985 non-null int64\n",
      "ORIGIN                   583985 non-null object\n",
      "DEST_AIRPORT_ID          583985 non-null int64\n",
      "DEST_AIRPORT_SEQ_ID      583985 non-null int64\n",
      "DEST                     583985 non-null object\n",
      "DEP_TIME                 567633 non-null float64\n",
      "DEP_DEL15                567630 non-null float64\n",
      "DEP_TIME_BLK             583985 non-null object\n",
      "ARR_TIME                 566924 non-null float64\n",
      "ARR_DEL15                565963 non-null float64\n",
      "CANCELLED                583985 non-null float64\n",
      "DIVERTED                 583985 non-null float64\n",
      "DISTANCE                 583985 non-null float64\n",
      "Unnamed: 21              0 non-null float64\n",
      "dtypes: float64(8), int64(8), object(6)\n",
      "memory usage: 98.0+ MB\n"
     ]
    }
   ],
   "source": [
    "data1.info()"
   ]
  },
  {
   "cell_type": "code",
   "execution_count": 12,
   "metadata": {
    "ExecuteTime": {
     "end_time": "2020-08-29T04:35:52.734961Z",
     "start_time": "2020-08-29T04:35:52.717008Z"
    }
   },
   "outputs": [
    {
     "ename": "AttributeError",
     "evalue": "'DataFrame' object has no attribute 'profile_report'",
     "output_type": "error",
     "traceback": [
      "\u001b[1;31m---------------------------------------------------------------------------\u001b[0m",
      "\u001b[1;31mAttributeError\u001b[0m                            Traceback (most recent call last)",
      "\u001b[1;32m<ipython-input-12-198b32867e86>\u001b[0m in \u001b[0;36m<module>\u001b[1;34m()\u001b[0m\n\u001b[1;32m----> 1\u001b[1;33m \u001b[0mdata1\u001b[0m\u001b[1;33m.\u001b[0m\u001b[0mprofile_report\u001b[0m\u001b[1;33m(\u001b[0m\u001b[1;33m)\u001b[0m\u001b[1;33m\u001b[0m\u001b[0m\n\u001b[0m",
      "\u001b[1;32mC:\\Users\\Nandhu\\miniconda3\\envs\\study\\lib\\site-packages\\pandas\\core\\generic.py\u001b[0m in \u001b[0;36m__getattr__\u001b[1;34m(self, name)\u001b[0m\n\u001b[0;32m   4374\u001b[0m             \u001b[1;32mif\u001b[0m \u001b[0mself\u001b[0m\u001b[1;33m.\u001b[0m\u001b[0m_info_axis\u001b[0m\u001b[1;33m.\u001b[0m\u001b[0m_can_hold_identifiers_and_holds_name\u001b[0m\u001b[1;33m(\u001b[0m\u001b[0mname\u001b[0m\u001b[1;33m)\u001b[0m\u001b[1;33m:\u001b[0m\u001b[1;33m\u001b[0m\u001b[0m\n\u001b[0;32m   4375\u001b[0m                 \u001b[1;32mreturn\u001b[0m \u001b[0mself\u001b[0m\u001b[1;33m[\u001b[0m\u001b[0mname\u001b[0m\u001b[1;33m]\u001b[0m\u001b[1;33m\u001b[0m\u001b[0m\n\u001b[1;32m-> 4376\u001b[1;33m             \u001b[1;32mreturn\u001b[0m \u001b[0mobject\u001b[0m\u001b[1;33m.\u001b[0m\u001b[0m__getattribute__\u001b[0m\u001b[1;33m(\u001b[0m\u001b[0mself\u001b[0m\u001b[1;33m,\u001b[0m \u001b[0mname\u001b[0m\u001b[1;33m)\u001b[0m\u001b[1;33m\u001b[0m\u001b[0m\n\u001b[0m\u001b[0;32m   4377\u001b[0m \u001b[1;33m\u001b[0m\u001b[0m\n\u001b[0;32m   4378\u001b[0m     \u001b[1;32mdef\u001b[0m \u001b[0m__setattr__\u001b[0m\u001b[1;33m(\u001b[0m\u001b[0mself\u001b[0m\u001b[1;33m,\u001b[0m \u001b[0mname\u001b[0m\u001b[1;33m,\u001b[0m \u001b[0mvalue\u001b[0m\u001b[1;33m)\u001b[0m\u001b[1;33m:\u001b[0m\u001b[1;33m\u001b[0m\u001b[0m\n",
      "\u001b[1;31mAttributeError\u001b[0m: 'DataFrame' object has no attribute 'profile_report'"
     ]
    }
   ],
   "source": [
    "data1.profile_report()"
   ]
  },
  {
   "cell_type": "code",
   "execution_count": null,
   "metadata": {
    "ExecuteTime": {
     "end_time": "2020-08-29T04:35:52.736259Z",
     "start_time": "2020-08-29T04:35:52.188Z"
    }
   },
   "outputs": [],
   "source": [
    "data1.columns"
   ]
  },
  {
   "cell_type": "code",
   "execution_count": 13,
   "metadata": {
    "ExecuteTime": {
     "end_time": "2020-08-29T04:35:53.172936Z",
     "start_time": "2020-08-29T04:35:52.883787Z"
    }
   },
   "outputs": [
    {
     "name": "stdout",
     "output_type": "stream",
     "text": [
      "<class 'pandas.core.frame.DataFrame'>\n",
      "RangeIndex: 583985 entries, 0 to 583984\n",
      "Data columns (total 22 columns):\n",
      "DAY_OF_MONTH             583985 non-null int64\n",
      "DAY_OF_WEEK              583985 non-null int64\n",
      "OP_UNIQUE_CARRIER        583985 non-null object\n",
      "OP_CARRIER_AIRLINE_ID    583985 non-null int64\n",
      "OP_CARRIER               583985 non-null object\n",
      "TAIL_NUM                 581442 non-null object\n",
      "OP_CARRIER_FL_NUM        583985 non-null int64\n",
      "ORIGIN_AIRPORT_ID        583985 non-null int64\n",
      "ORIGIN_AIRPORT_SEQ_ID    583985 non-null int64\n",
      "ORIGIN                   583985 non-null object\n",
      "DEST_AIRPORT_ID          583985 non-null int64\n",
      "DEST_AIRPORT_SEQ_ID      583985 non-null int64\n",
      "DEST                     583985 non-null object\n",
      "DEP_TIME                 567633 non-null float64\n",
      "DEP_DEL15                567630 non-null float64\n",
      "DEP_TIME_BLK             583985 non-null object\n",
      "ARR_TIME                 566924 non-null float64\n",
      "ARR_DEL15                565963 non-null float64\n",
      "CANCELLED                583985 non-null float64\n",
      "DIVERTED                 583985 non-null float64\n",
      "DISTANCE                 583985 non-null float64\n",
      "Unnamed: 21              0 non-null float64\n",
      "dtypes: float64(8), int64(8), object(6)\n",
      "memory usage: 98.0+ MB\n"
     ]
    }
   ],
   "source": [
    "data1.info()"
   ]
  },
  {
   "cell_type": "code",
   "execution_count": 14,
   "metadata": {
    "ExecuteTime": {
     "end_time": "2020-08-29T04:35:54.248707Z",
     "start_time": "2020-08-29T04:35:53.989774Z"
    }
   },
   "outputs": [
    {
     "data": {
      "text/plain": [
       "DAY_OF_MONTH                  0\n",
       "DAY_OF_WEEK                   0\n",
       "OP_UNIQUE_CARRIER             0\n",
       "OP_CARRIER_AIRLINE_ID         0\n",
       "OP_CARRIER                    0\n",
       "TAIL_NUM                   2543\n",
       "OP_CARRIER_FL_NUM             0\n",
       "ORIGIN_AIRPORT_ID             0\n",
       "ORIGIN_AIRPORT_SEQ_ID         0\n",
       "ORIGIN                        0\n",
       "DEST_AIRPORT_ID               0\n",
       "DEST_AIRPORT_SEQ_ID           0\n",
       "DEST                          0\n",
       "DEP_TIME                  16352\n",
       "DEP_DEL15                 16355\n",
       "DEP_TIME_BLK                  0\n",
       "ARR_TIME                  17061\n",
       "ARR_DEL15                 18022\n",
       "CANCELLED                     0\n",
       "DIVERTED                      0\n",
       "DISTANCE                      0\n",
       "Unnamed: 21              583985\n",
       "dtype: int64"
      ]
     },
     "execution_count": 14,
     "metadata": {},
     "output_type": "execute_result"
    }
   ],
   "source": [
    "data1.isnull().sum()"
   ]
  },
  {
   "cell_type": "code",
   "execution_count": 15,
   "metadata": {
    "ExecuteTime": {
     "end_time": "2020-08-29T04:35:54.921436Z",
     "start_time": "2020-08-29T04:35:54.916011Z"
    }
   },
   "outputs": [],
   "source": [
    "#data1=data1.drop(columns='Unnamed: 21',inplace=True)"
   ]
  },
  {
   "cell_type": "code",
   "execution_count": 16,
   "metadata": {
    "ExecuteTime": {
     "end_time": "2020-08-29T04:35:55.521651Z",
     "start_time": "2020-08-29T04:35:55.505436Z"
    }
   },
   "outputs": [
    {
     "data": {
      "text/plain": [
       "0         N8688C\n",
       "1         N348PQ\n",
       "2         N8896A\n",
       "3         N8886A\n",
       "4         N8974C\n",
       "5         N927EV\n",
       "6         N915XJ\n",
       "7         N295PQ\n",
       "8         N337PQ\n",
       "9         N311PQ\n",
       "10        N311PQ\n",
       "11        N931XJ\n",
       "12        N800AY\n",
       "13        N927EV\n",
       "14        N600LR\n",
       "15        N840AY\n",
       "16        N232PQ\n",
       "17        N8970D\n",
       "18        N8970D\n",
       "19        N304PQ\n",
       "20        N931XJ\n",
       "21        N902XJ\n",
       "22        N349PQ\n",
       "23        N8928A\n",
       "24        N8928A\n",
       "25        N371CA\n",
       "26        N371CA\n",
       "27        N8836A\n",
       "28        N918XJ\n",
       "29        N8896A\n",
       "           ...  \n",
       "583955       NaN\n",
       "583956    N18223\n",
       "583957       NaN\n",
       "583958       NaN\n",
       "583959       NaN\n",
       "583960    N773UA\n",
       "583961    N780UA\n",
       "583962    N456UA\n",
       "583963    N71411\n",
       "583964       NaN\n",
       "583965    N481UA\n",
       "583966       NaN\n",
       "583967       NaN\n",
       "583968    N839UA\n",
       "583969    N73256\n",
       "583970    N39416\n",
       "583971    N39416\n",
       "583972    N17104\n",
       "583973    N68843\n",
       "583974    N37510\n",
       "583975    N813UA\n",
       "583976    N75861\n",
       "583977    N39728\n",
       "583978    N779UA\n",
       "583979    N769UA\n",
       "583980    N776UA\n",
       "583981    N36280\n",
       "583982    N36280\n",
       "583983    N39726\n",
       "583984    N39726\n",
       "Name: TAIL_NUM, Length: 583985, dtype: object"
      ]
     },
     "execution_count": 16,
     "metadata": {},
     "output_type": "execute_result"
    }
   ],
   "source": [
    "data1['TAIL_NUM']"
   ]
  },
  {
   "cell_type": "code",
   "execution_count": null,
   "metadata": {},
   "outputs": [],
   "source": []
  },
  {
   "cell_type": "code",
   "execution_count": null,
   "metadata": {},
   "outputs": [],
   "source": []
  }
 ],
 "metadata": {
  "kernelspec": {
   "display_name": "Python 3",
   "language": "python",
   "name": "python3"
  },
  "language_info": {
   "codemirror_mode": {
    "name": "ipython",
    "version": 3
   },
   "file_extension": ".py",
   "mimetype": "text/x-python",
   "name": "python",
   "nbconvert_exporter": "python",
   "pygments_lexer": "ipython3",
   "version": "3.5.6"
  },
  "toc": {
   "base_numbering": 1,
   "nav_menu": {},
   "number_sections": true,
   "sideBar": true,
   "skip_h1_title": false,
   "title_cell": "Table of Contents",
   "title_sidebar": "Contents",
   "toc_cell": false,
   "toc_position": {},
   "toc_section_display": true,
   "toc_window_display": false
  },
  "varInspector": {
   "cols": {
    "lenName": 16,
    "lenType": 16,
    "lenVar": 40
   },
   "kernels_config": {
    "python": {
     "delete_cmd_postfix": "",
     "delete_cmd_prefix": "del ",
     "library": "var_list.py",
     "varRefreshCmd": "print(var_dic_list())"
    },
    "r": {
     "delete_cmd_postfix": ") ",
     "delete_cmd_prefix": "rm(",
     "library": "var_list.r",
     "varRefreshCmd": "cat(var_dic_list()) "
    }
   },
   "types_to_exclude": [
    "module",
    "function",
    "builtin_function_or_method",
    "instance",
    "_Feature"
   ],
   "window_display": false
  }
 },
 "nbformat": 4,
 "nbformat_minor": 4
}
