{
 "cells": [
  {
   "cell_type": "markdown",
   "metadata": {},
   "source": [
    "## Imports"
   ]
  },
  {
   "cell_type": "code",
   "execution_count": 273,
   "metadata": {
    "ExecuteTime": {
     "end_time": "2020-09-09T16:11:07.949418Z",
     "start_time": "2020-09-09T16:11:07.925365Z"
    }
   },
   "outputs": [],
   "source": [
    "import pandas as pd\n",
    "import numpy as np\n",
    "import matplotlib.pyplot as plt\n",
    "import seaborn as sns\n",
    "%matplotlib inline"
   ]
  },
  {
   "cell_type": "code",
   "execution_count": 274,
   "metadata": {
    "ExecuteTime": {
     "end_time": "2020-09-09T16:11:08.328876Z",
     "start_time": "2020-09-09T16:11:08.320930Z"
    }
   },
   "outputs": [],
   "source": [
    "#  Import data"
   ]
  },
  {
   "cell_type": "code",
   "execution_count": 275,
   "metadata": {
    "ExecuteTime": {
     "end_time": "2020-09-09T16:11:08.820075Z",
     "start_time": "2020-09-09T16:11:08.782441Z"
    }
   },
   "outputs": [],
   "source": [
    "train_data=pd.read_csv('train.csv')"
   ]
  },
  {
   "cell_type": "code",
   "execution_count": 276,
   "metadata": {
    "ExecuteTime": {
     "end_time": "2020-09-09T16:11:09.141593Z",
     "start_time": "2020-09-09T16:11:09.091078Z"
    }
   },
   "outputs": [],
   "source": [
    "test=pd.read_csv('test.csv')"
   ]
  },
  {
   "cell_type": "markdown",
   "metadata": {},
   "source": [
    "## Preprocessing\n"
   ]
  },
  {
   "cell_type": "code",
   "execution_count": 277,
   "metadata": {
    "ExecuteTime": {
     "end_time": "2020-09-09T16:11:09.961319Z",
     "start_time": "2020-09-09T16:11:09.947593Z"
    }
   },
   "outputs": [
    {
     "data": {
      "text/plain": [
       "Index(['Id', 'MSSubClass', 'MSZoning', 'LotFrontage', 'LotArea', 'Street',\n",
       "       'Alley', 'LotShape', 'LandContour', 'Utilities', 'LotConfig',\n",
       "       'LandSlope', 'Neighborhood', 'Condition1', 'Condition2', 'BldgType',\n",
       "       'HouseStyle', 'OverallQual', 'OverallCond', 'YearBuilt', 'YearRemodAdd',\n",
       "       'RoofStyle', 'RoofMatl', 'Exterior1st', 'Exterior2nd', 'MasVnrType',\n",
       "       'MasVnrArea', 'ExterQual', 'ExterCond', 'Foundation', 'BsmtQual',\n",
       "       'BsmtCond', 'BsmtExposure', 'BsmtFinType1', 'BsmtFinSF1',\n",
       "       'BsmtFinType2', 'BsmtFinSF2', 'BsmtUnfSF', 'TotalBsmtSF', 'Heating',\n",
       "       'HeatingQC', 'CentralAir', 'Electrical', '1stFlrSF', '2ndFlrSF',\n",
       "       'LowQualFinSF', 'GrLivArea', 'BsmtFullBath', 'BsmtHalfBath', 'FullBath',\n",
       "       'HalfBath', 'BedroomAbvGr', 'KitchenAbvGr', 'KitchenQual',\n",
       "       'TotRmsAbvGrd', 'Functional', 'Fireplaces', 'FireplaceQu', 'GarageType',\n",
       "       'GarageYrBlt', 'GarageFinish', 'GarageCars', 'GarageArea', 'GarageQual',\n",
       "       'GarageCond', 'PavedDrive', 'WoodDeckSF', 'OpenPorchSF',\n",
       "       'EnclosedPorch', '3SsnPorch', 'ScreenPorch', 'PoolArea', 'PoolQC',\n",
       "       'Fence', 'MiscFeature', 'MiscVal', 'MoSold', 'YrSold', 'SaleType',\n",
       "       'SaleCondition', 'SalePrice'],\n",
       "      dtype='object')"
      ]
     },
     "execution_count": 277,
     "metadata": {},
     "output_type": "execute_result"
    }
   ],
   "source": [
    "train_data.columns"
   ]
  },
  {
   "cell_type": "code",
   "execution_count": 278,
   "metadata": {
    "ExecuteTime": {
     "end_time": "2020-09-09T16:11:10.638902Z",
     "start_time": "2020-09-09T16:11:10.606693Z"
    }
   },
   "outputs": [],
   "source": [
    "train=train_data[['Id', 'MSSubClass', 'MSZoning', 'LotFrontage', 'LotArea', 'Street',\n",
    "       'Alley', 'LotShape', 'LandContour', 'Utilities', 'LotConfig',\n",
    "       'LandSlope', 'Neighborhood', 'Condition1', 'Condition2', 'BldgType',\n",
    "       'HouseStyle', 'OverallQual', 'OverallCond', 'YearBuilt', 'YearRemodAdd',\n",
    "       'RoofStyle', 'RoofMatl', 'Exterior1st', 'Exterior2nd', 'MasVnrType',\n",
    "       'MasVnrArea', 'ExterQual', 'ExterCond', 'Foundation', 'BsmtQual',\n",
    "       'BsmtCond', 'BsmtExposure', 'BsmtFinType1', 'BsmtFinSF1',\n",
    "       'BsmtFinType2', 'BsmtFinSF2', 'BsmtUnfSF', 'TotalBsmtSF', 'Heating',\n",
    "       'HeatingQC', 'CentralAir', 'Electrical', '1stFlrSF', '2ndFlrSF',\n",
    "       'LowQualFinSF', 'GrLivArea', 'BsmtFullBath', 'BsmtHalfBath', 'FullBath',\n",
    "       'HalfBath', 'BedroomAbvGr', 'KitchenAbvGr', 'KitchenQual',\n",
    "       'TotRmsAbvGrd', 'Functional', 'Fireplaces', 'FireplaceQu', 'GarageType',\n",
    "       'GarageYrBlt', 'GarageFinish', 'GarageCars', 'GarageArea', 'GarageQual',\n",
    "       'GarageCond', 'PavedDrive', 'WoodDeckSF', 'OpenPorchSF',\n",
    "       'EnclosedPorch', '3SsnPorch', 'ScreenPorch', 'PoolArea', 'PoolQC',\n",
    "       'Fence', 'MiscFeature', 'MiscVal', 'MoSold', 'YrSold', 'SaleType',\n",
    "       'SaleCondition']]"
   ]
  },
  {
   "cell_type": "code",
   "execution_count": 279,
   "metadata": {
    "ExecuteTime": {
     "end_time": "2020-09-09T16:11:11.325301Z",
     "start_time": "2020-09-09T16:11:11.285999Z"
    }
   },
   "outputs": [],
   "source": [
    "data=pd.concat([train,test])\n",
    "data['Ind']=range(0,2919)\n",
    "data.set_index('Ind',inplace=True)"
   ]
  },
  {
   "cell_type": "code",
   "execution_count": 280,
   "metadata": {
    "ExecuteTime": {
     "end_time": "2020-09-09T16:11:13.229686Z",
     "start_time": "2020-09-09T16:11:13.185911Z"
    }
   },
   "outputs": [
    {
     "data": {
      "text/html": [
       "<div>\n",
       "<style scoped>\n",
       "    .dataframe tbody tr th:only-of-type {\n",
       "        vertical-align: middle;\n",
       "    }\n",
       "\n",
       "    .dataframe tbody tr th {\n",
       "        vertical-align: top;\n",
       "    }\n",
       "\n",
       "    .dataframe thead th {\n",
       "        text-align: right;\n",
       "    }\n",
       "</style>\n",
       "<table border=\"1\" class=\"dataframe\">\n",
       "  <thead>\n",
       "    <tr style=\"text-align: right;\">\n",
       "      <th></th>\n",
       "      <th>Id</th>\n",
       "      <th>MSSubClass</th>\n",
       "      <th>MSZoning</th>\n",
       "      <th>LotFrontage</th>\n",
       "      <th>LotArea</th>\n",
       "      <th>Street</th>\n",
       "      <th>Alley</th>\n",
       "      <th>LotShape</th>\n",
       "      <th>LandContour</th>\n",
       "      <th>Utilities</th>\n",
       "      <th>...</th>\n",
       "      <th>ScreenPorch</th>\n",
       "      <th>PoolArea</th>\n",
       "      <th>PoolQC</th>\n",
       "      <th>Fence</th>\n",
       "      <th>MiscFeature</th>\n",
       "      <th>MiscVal</th>\n",
       "      <th>MoSold</th>\n",
       "      <th>YrSold</th>\n",
       "      <th>SaleType</th>\n",
       "      <th>SaleCondition</th>\n",
       "    </tr>\n",
       "    <tr>\n",
       "      <th>Ind</th>\n",
       "      <th></th>\n",
       "      <th></th>\n",
       "      <th></th>\n",
       "      <th></th>\n",
       "      <th></th>\n",
       "      <th></th>\n",
       "      <th></th>\n",
       "      <th></th>\n",
       "      <th></th>\n",
       "      <th></th>\n",
       "      <th></th>\n",
       "      <th></th>\n",
       "      <th></th>\n",
       "      <th></th>\n",
       "      <th></th>\n",
       "      <th></th>\n",
       "      <th></th>\n",
       "      <th></th>\n",
       "      <th></th>\n",
       "      <th></th>\n",
       "      <th></th>\n",
       "    </tr>\n",
       "  </thead>\n",
       "  <tbody>\n",
       "    <tr>\n",
       "      <th>0</th>\n",
       "      <td>1</td>\n",
       "      <td>60</td>\n",
       "      <td>RL</td>\n",
       "      <td>65.0</td>\n",
       "      <td>8450</td>\n",
       "      <td>Pave</td>\n",
       "      <td>NaN</td>\n",
       "      <td>Reg</td>\n",
       "      <td>Lvl</td>\n",
       "      <td>AllPub</td>\n",
       "      <td>...</td>\n",
       "      <td>0</td>\n",
       "      <td>0</td>\n",
       "      <td>NaN</td>\n",
       "      <td>NaN</td>\n",
       "      <td>NaN</td>\n",
       "      <td>0</td>\n",
       "      <td>2</td>\n",
       "      <td>2008</td>\n",
       "      <td>WD</td>\n",
       "      <td>Normal</td>\n",
       "    </tr>\n",
       "    <tr>\n",
       "      <th>1</th>\n",
       "      <td>2</td>\n",
       "      <td>20</td>\n",
       "      <td>RL</td>\n",
       "      <td>80.0</td>\n",
       "      <td>9600</td>\n",
       "      <td>Pave</td>\n",
       "      <td>NaN</td>\n",
       "      <td>Reg</td>\n",
       "      <td>Lvl</td>\n",
       "      <td>AllPub</td>\n",
       "      <td>...</td>\n",
       "      <td>0</td>\n",
       "      <td>0</td>\n",
       "      <td>NaN</td>\n",
       "      <td>NaN</td>\n",
       "      <td>NaN</td>\n",
       "      <td>0</td>\n",
       "      <td>5</td>\n",
       "      <td>2007</td>\n",
       "      <td>WD</td>\n",
       "      <td>Normal</td>\n",
       "    </tr>\n",
       "  </tbody>\n",
       "</table>\n",
       "<p>2 rows × 80 columns</p>\n",
       "</div>"
      ],
      "text/plain": [
       "     Id  MSSubClass MSZoning  LotFrontage  LotArea Street Alley LotShape  \\\n",
       "Ind                                                                        \n",
       "0     1          60       RL         65.0     8450   Pave   NaN      Reg   \n",
       "1     2          20       RL         80.0     9600   Pave   NaN      Reg   \n",
       "\n",
       "    LandContour Utilities      ...       ScreenPorch PoolArea PoolQC Fence  \\\n",
       "Ind                            ...                                           \n",
       "0           Lvl    AllPub      ...                 0        0    NaN   NaN   \n",
       "1           Lvl    AllPub      ...                 0        0    NaN   NaN   \n",
       "\n",
       "    MiscFeature MiscVal MoSold  YrSold  SaleType  SaleCondition  \n",
       "Ind                                                              \n",
       "0           NaN       0      2    2008        WD         Normal  \n",
       "1           NaN       0      5    2007        WD         Normal  \n",
       "\n",
       "[2 rows x 80 columns]"
      ]
     },
     "execution_count": 280,
     "metadata": {},
     "output_type": "execute_result"
    }
   ],
   "source": [
    "data.head(2)"
   ]
  },
  {
   "cell_type": "code",
   "execution_count": 281,
   "metadata": {
    "ExecuteTime": {
     "end_time": "2020-09-09T16:11:14.240128Z",
     "start_time": "2020-09-09T16:11:14.191201Z"
    }
   },
   "outputs": [
    {
     "data": {
      "text/html": [
       "<div>\n",
       "<style scoped>\n",
       "    .dataframe tbody tr th:only-of-type {\n",
       "        vertical-align: middle;\n",
       "    }\n",
       "\n",
       "    .dataframe tbody tr th {\n",
       "        vertical-align: top;\n",
       "    }\n",
       "\n",
       "    .dataframe thead th {\n",
       "        text-align: right;\n",
       "    }\n",
       "</style>\n",
       "<table border=\"1\" class=\"dataframe\">\n",
       "  <thead>\n",
       "    <tr style=\"text-align: right;\">\n",
       "      <th></th>\n",
       "      <th>Id</th>\n",
       "      <th>MSSubClass</th>\n",
       "      <th>MSZoning</th>\n",
       "      <th>LotFrontage</th>\n",
       "      <th>LotArea</th>\n",
       "      <th>Street</th>\n",
       "      <th>Alley</th>\n",
       "      <th>LotShape</th>\n",
       "      <th>LandContour</th>\n",
       "      <th>Utilities</th>\n",
       "      <th>...</th>\n",
       "      <th>ScreenPorch</th>\n",
       "      <th>PoolArea</th>\n",
       "      <th>PoolQC</th>\n",
       "      <th>Fence</th>\n",
       "      <th>MiscFeature</th>\n",
       "      <th>MiscVal</th>\n",
       "      <th>MoSold</th>\n",
       "      <th>YrSold</th>\n",
       "      <th>SaleType</th>\n",
       "      <th>SaleCondition</th>\n",
       "    </tr>\n",
       "    <tr>\n",
       "      <th>Ind</th>\n",
       "      <th></th>\n",
       "      <th></th>\n",
       "      <th></th>\n",
       "      <th></th>\n",
       "      <th></th>\n",
       "      <th></th>\n",
       "      <th></th>\n",
       "      <th></th>\n",
       "      <th></th>\n",
       "      <th></th>\n",
       "      <th></th>\n",
       "      <th></th>\n",
       "      <th></th>\n",
       "      <th></th>\n",
       "      <th></th>\n",
       "      <th></th>\n",
       "      <th></th>\n",
       "      <th></th>\n",
       "      <th></th>\n",
       "      <th></th>\n",
       "      <th></th>\n",
       "    </tr>\n",
       "  </thead>\n",
       "  <tbody>\n",
       "    <tr>\n",
       "      <th>2916</th>\n",
       "      <td>2917</td>\n",
       "      <td>20</td>\n",
       "      <td>RL</td>\n",
       "      <td>160.0</td>\n",
       "      <td>20000</td>\n",
       "      <td>Pave</td>\n",
       "      <td>NaN</td>\n",
       "      <td>Reg</td>\n",
       "      <td>Lvl</td>\n",
       "      <td>AllPub</td>\n",
       "      <td>...</td>\n",
       "      <td>0</td>\n",
       "      <td>0</td>\n",
       "      <td>NaN</td>\n",
       "      <td>NaN</td>\n",
       "      <td>NaN</td>\n",
       "      <td>0</td>\n",
       "      <td>9</td>\n",
       "      <td>2006</td>\n",
       "      <td>WD</td>\n",
       "      <td>Abnorml</td>\n",
       "    </tr>\n",
       "    <tr>\n",
       "      <th>2917</th>\n",
       "      <td>2918</td>\n",
       "      <td>85</td>\n",
       "      <td>RL</td>\n",
       "      <td>62.0</td>\n",
       "      <td>10441</td>\n",
       "      <td>Pave</td>\n",
       "      <td>NaN</td>\n",
       "      <td>Reg</td>\n",
       "      <td>Lvl</td>\n",
       "      <td>AllPub</td>\n",
       "      <td>...</td>\n",
       "      <td>0</td>\n",
       "      <td>0</td>\n",
       "      <td>NaN</td>\n",
       "      <td>MnPrv</td>\n",
       "      <td>Shed</td>\n",
       "      <td>700</td>\n",
       "      <td>7</td>\n",
       "      <td>2006</td>\n",
       "      <td>WD</td>\n",
       "      <td>Normal</td>\n",
       "    </tr>\n",
       "    <tr>\n",
       "      <th>2918</th>\n",
       "      <td>2919</td>\n",
       "      <td>60</td>\n",
       "      <td>RL</td>\n",
       "      <td>74.0</td>\n",
       "      <td>9627</td>\n",
       "      <td>Pave</td>\n",
       "      <td>NaN</td>\n",
       "      <td>Reg</td>\n",
       "      <td>Lvl</td>\n",
       "      <td>AllPub</td>\n",
       "      <td>...</td>\n",
       "      <td>0</td>\n",
       "      <td>0</td>\n",
       "      <td>NaN</td>\n",
       "      <td>NaN</td>\n",
       "      <td>NaN</td>\n",
       "      <td>0</td>\n",
       "      <td>11</td>\n",
       "      <td>2006</td>\n",
       "      <td>WD</td>\n",
       "      <td>Normal</td>\n",
       "    </tr>\n",
       "  </tbody>\n",
       "</table>\n",
       "<p>3 rows × 80 columns</p>\n",
       "</div>"
      ],
      "text/plain": [
       "        Id  MSSubClass MSZoning  LotFrontage  LotArea Street Alley LotShape  \\\n",
       "Ind                                                                           \n",
       "2916  2917          20       RL        160.0    20000   Pave   NaN      Reg   \n",
       "2917  2918          85       RL         62.0    10441   Pave   NaN      Reg   \n",
       "2918  2919          60       RL         74.0     9627   Pave   NaN      Reg   \n",
       "\n",
       "     LandContour Utilities      ...       ScreenPorch PoolArea PoolQC  Fence  \\\n",
       "Ind                             ...                                            \n",
       "2916         Lvl    AllPub      ...                 0        0    NaN    NaN   \n",
       "2917         Lvl    AllPub      ...                 0        0    NaN  MnPrv   \n",
       "2918         Lvl    AllPub      ...                 0        0    NaN    NaN   \n",
       "\n",
       "     MiscFeature MiscVal MoSold  YrSold  SaleType  SaleCondition  \n",
       "Ind                                                               \n",
       "2916         NaN       0      9    2006        WD        Abnorml  \n",
       "2917        Shed     700      7    2006        WD         Normal  \n",
       "2918         NaN       0     11    2006        WD         Normal  \n",
       "\n",
       "[3 rows x 80 columns]"
      ]
     },
     "execution_count": 281,
     "metadata": {},
     "output_type": "execute_result"
    }
   ],
   "source": [
    "data.tail(3)"
   ]
  },
  {
   "cell_type": "markdown",
   "metadata": {},
   "source": [
    "## Missing data handling"
   ]
  },
  {
   "cell_type": "code",
   "execution_count": 282,
   "metadata": {
    "ExecuteTime": {
     "end_time": "2020-09-09T16:11:19.310379Z",
     "start_time": "2020-09-09T16:11:19.231501Z"
    }
   },
   "outputs": [],
   "source": [
    "# Collecting the features which have missing data\n",
    "\n",
    "miss_cols={}\n",
    "del_cols={}\n",
    "miss_dict=dict(data.isnull().sum()>0) \n",
    "for i in miss_dict:\n",
    "    if ( (miss_dict[i]) & (data[i].isnull().sum()<100) ):\n",
    "        miss_cols.update({i:data[i].isnull().sum()})\n",
    "    elif data[i].isnull().sum()>0:\n",
    "        del_cols.update({i:data[i].isnull().sum()})\n",
    "    "
   ]
  },
  {
   "cell_type": "code",
   "execution_count": 283,
   "metadata": {
    "ExecuteTime": {
     "end_time": "2020-09-09T16:11:21.281775Z",
     "start_time": "2020-09-09T16:11:21.267430Z"
    }
   },
   "outputs": [
    {
     "data": {
      "text/plain": [
       "{'Alley': 2721,\n",
       " 'Fence': 2348,\n",
       " 'FireplaceQu': 1420,\n",
       " 'GarageCond': 159,\n",
       " 'GarageFinish': 159,\n",
       " 'GarageQual': 159,\n",
       " 'GarageType': 157,\n",
       " 'GarageYrBlt': 159,\n",
       " 'LotFrontage': 486,\n",
       " 'MiscFeature': 2814,\n",
       " 'PoolQC': 2909}"
      ]
     },
     "execution_count": 283,
     "metadata": {},
     "output_type": "execute_result"
    }
   ],
   "source": [
    "# Columns need to be deleted\n",
    "\n",
    "data.drop(axis=1,columns=del_cols,inplace=True)\n",
    "del_cols"
   ]
  },
  {
   "cell_type": "code",
   "execution_count": 284,
   "metadata": {
    "ExecuteTime": {
     "end_time": "2020-09-09T16:11:22.576170Z",
     "start_time": "2020-09-09T16:11:22.557129Z"
    }
   },
   "outputs": [
    {
     "data": {
      "text/plain": [
       "{'BsmtCond': 82,\n",
       " 'BsmtExposure': 82,\n",
       " 'BsmtFinSF1': 1,\n",
       " 'BsmtFinSF2': 1,\n",
       " 'BsmtFinType1': 79,\n",
       " 'BsmtFinType2': 80,\n",
       " 'BsmtFullBath': 2,\n",
       " 'BsmtHalfBath': 2,\n",
       " 'BsmtQual': 81,\n",
       " 'BsmtUnfSF': 1,\n",
       " 'Electrical': 1,\n",
       " 'Exterior1st': 1,\n",
       " 'Exterior2nd': 1,\n",
       " 'Functional': 2,\n",
       " 'GarageArea': 1,\n",
       " 'GarageCars': 1,\n",
       " 'KitchenQual': 1,\n",
       " 'MSZoning': 4,\n",
       " 'MasVnrArea': 23,\n",
       " 'MasVnrType': 24,\n",
       " 'SaleType': 1,\n",
       " 'TotalBsmtSF': 1,\n",
       " 'Utilities': 2}"
      ]
     },
     "execution_count": 284,
     "metadata": {},
     "output_type": "execute_result"
    }
   ],
   "source": [
    "# Missing data columns\n",
    "\n",
    "miss_cols"
   ]
  },
  {
   "cell_type": "markdown",
   "metadata": {},
   "source": [
    "### 'BsmtCond'"
   ]
  },
  {
   "cell_type": "markdown",
   "metadata": {
    "ExecuteTime": {
     "end_time": "2020-09-09T16:06:22.609984Z",
     "start_time": "2020-09-09T16:06:22.597434Z"
    }
   },
   "source": [
    "data['BsmtCond'].value_counts()"
   ]
  },
  {
   "cell_type": "code",
   "execution_count": 117,
   "metadata": {
    "ExecuteTime": {
     "end_time": "2020-09-09T16:06:22.624998Z",
     "start_time": "2020-09-09T16:06:22.612034Z"
    }
   },
   "outputs": [],
   "source": [
    "data['BsmtCond'].fillna(value='TA',inplace=True)"
   ]
  },
  {
   "cell_type": "markdown",
   "metadata": {
    "ExecuteTime": {
     "end_time": "2020-09-09T16:06:22.640471Z",
     "start_time": "2020-09-09T16:06:22.626276Z"
    }
   },
   "source": [
    "data['BsmtCond'].isnull().sum()"
   ]
  },
  {
   "cell_type": "markdown",
   "metadata": {},
   "source": [
    "### 'BsmtExposure'"
   ]
  },
  {
   "cell_type": "markdown",
   "metadata": {
    "ExecuteTime": {
     "end_time": "2020-09-09T16:06:22.655824Z",
     "start_time": "2020-09-09T16:06:22.643202Z"
    }
   },
   "source": [
    "data['BsmtExposure'].value_counts()"
   ]
  },
  {
   "cell_type": "code",
   "execution_count": 120,
   "metadata": {
    "ExecuteTime": {
     "end_time": "2020-09-09T16:06:22.664411Z",
     "start_time": "2020-09-09T16:06:22.658197Z"
    }
   },
   "outputs": [],
   "source": [
    "data['BsmtExposure'].fillna(value='No',inplace=True)"
   ]
  },
  {
   "cell_type": "markdown",
   "metadata": {
    "ExecuteTime": {
     "end_time": "2020-09-09T16:06:22.673979Z",
     "start_time": "2020-09-09T16:06:22.667608Z"
    }
   },
   "source": [
    "data['BsmtExposure'].isnull().sum()"
   ]
  },
  {
   "cell_type": "markdown",
   "metadata": {},
   "source": [
    "### 'BsmtFinSF1' &  'BsmtFinType2'"
   ]
  },
  {
   "cell_type": "code",
   "execution_count": 122,
   "metadata": {
    "ExecuteTime": {
     "end_time": "2020-09-09T16:06:22.692059Z",
     "start_time": "2020-09-09T16:06:22.677452Z"
    }
   },
   "outputs": [],
   "source": [
    "data['BsmtFinSF2'].fillna(value=0.0,inplace=True)"
   ]
  },
  {
   "cell_type": "code",
   "execution_count": 123,
   "metadata": {
    "ExecuteTime": {
     "end_time": "2020-09-09T16:06:22.701091Z",
     "start_time": "2020-09-09T16:06:22.695100Z"
    }
   },
   "outputs": [],
   "source": [
    "data['BsmtFinSF1'].fillna(value=0.0,inplace=True)"
   ]
  },
  {
   "cell_type": "markdown",
   "metadata": {
    "ExecuteTime": {
     "end_time": "2020-09-09T16:06:22.724921Z",
     "start_time": "2020-09-09T16:06:22.703395Z"
    }
   },
   "source": [
    "data['BsmtFinSF1'].isnull().sum()"
   ]
  },
  {
   "cell_type": "markdown",
   "metadata": {
    "ExecuteTime": {
     "end_time": "2020-09-09T16:06:22.745179Z",
     "start_time": "2020-09-09T16:06:22.727887Z"
    }
   },
   "source": [
    "data['BsmtFinSF2'].isnull().sum()"
   ]
  },
  {
   "cell_type": "markdown",
   "metadata": {},
   "source": [
    "### 'BsmtFinType1' & 'BsmtFinType2'"
   ]
  },
  {
   "cell_type": "markdown",
   "metadata": {
    "ExecuteTime": {
     "end_time": "2020-09-09T16:06:22.761498Z",
     "start_time": "2020-09-09T16:06:22.747602Z"
    }
   },
   "source": [
    "data['BsmtFinType1'].value_counts()"
   ]
  },
  {
   "cell_type": "code",
   "execution_count": 127,
   "metadata": {
    "ExecuteTime": {
     "end_time": "2020-09-09T16:06:22.777701Z",
     "start_time": "2020-09-09T16:06:22.766096Z"
    }
   },
   "outputs": [],
   "source": [
    "data['BsmtFinType1'].fillna(value='Unf',inplace=True)"
   ]
  },
  {
   "cell_type": "markdown",
   "metadata": {
    "ExecuteTime": {
     "end_time": "2020-09-09T16:06:22.801313Z",
     "start_time": "2020-09-09T16:06:22.780955Z"
    }
   },
   "source": [
    "data['BsmtFinType2'].value_counts()"
   ]
  },
  {
   "cell_type": "code",
   "execution_count": 129,
   "metadata": {
    "ExecuteTime": {
     "end_time": "2020-09-09T16:06:22.818148Z",
     "start_time": "2020-09-09T16:06:22.805015Z"
    }
   },
   "outputs": [],
   "source": [
    "data['BsmtFinType2'].fillna(value='Unf',inplace=True)"
   ]
  },
  {
   "cell_type": "markdown",
   "metadata": {},
   "source": [
    "###  'BsmtFullBath' & 'BsmtHalfBath'"
   ]
  },
  {
   "cell_type": "markdown",
   "metadata": {
    "ExecuteTime": {
     "end_time": "2020-09-09T16:06:22.833322Z",
     "start_time": "2020-09-09T16:06:22.822235Z"
    }
   },
   "source": [
    "data['BsmtFullBath'].value_counts()"
   ]
  },
  {
   "cell_type": "markdown",
   "metadata": {
    "ExecuteTime": {
     "end_time": "2020-09-09T16:06:22.849377Z",
     "start_time": "2020-09-09T16:06:22.838250Z"
    }
   },
   "source": [
    "data[data['BsmtFullBath'].isnull()]['BsmtCond']"
   ]
  },
  {
   "cell_type": "code",
   "execution_count": 132,
   "metadata": {
    "ExecuteTime": {
     "end_time": "2020-09-09T16:06:22.868326Z",
     "start_time": "2020-09-09T16:06:22.853790Z"
    }
   },
   "outputs": [],
   "source": [
    "data['BsmtFullBath'].fillna(value=0.0,inplace=True)"
   ]
  },
  {
   "cell_type": "markdown",
   "metadata": {
    "ExecuteTime": {
     "end_time": "2020-09-09T16:06:22.893227Z",
     "start_time": "2020-09-09T16:06:22.871761Z"
    }
   },
   "source": [
    "data['BsmtHalfBath'].value_counts()"
   ]
  },
  {
   "cell_type": "markdown",
   "metadata": {
    "ExecuteTime": {
     "end_time": "2020-09-09T16:06:22.909016Z",
     "start_time": "2020-09-09T16:06:22.896900Z"
    }
   },
   "source": [
    "data[data['BsmtHalfBath'].isnull()]['BsmtCond']"
   ]
  },
  {
   "cell_type": "code",
   "execution_count": 135,
   "metadata": {
    "ExecuteTime": {
     "end_time": "2020-09-09T16:06:22.933418Z",
     "start_time": "2020-09-09T16:06:22.914641Z"
    }
   },
   "outputs": [],
   "source": [
    "data['BsmtHalfBath'].fillna(value=0.0,inplace=True)"
   ]
  },
  {
   "cell_type": "markdown",
   "metadata": {},
   "source": [
    "### BsmtQual"
   ]
  },
  {
   "cell_type": "markdown",
   "metadata": {
    "ExecuteTime": {
     "end_time": "2020-09-09T16:06:22.961409Z",
     "start_time": "2020-09-09T16:06:22.937626Z"
    }
   },
   "source": [
    "data['BsmtQual'].value_counts()"
   ]
  },
  {
   "cell_type": "code",
   "execution_count": 137,
   "metadata": {
    "ExecuteTime": {
     "end_time": "2020-09-09T16:06:22.977279Z",
     "start_time": "2020-09-09T16:06:22.965767Z"
    }
   },
   "outputs": [],
   "source": [
    "data['BsmtQual'].fillna('TA',inplace=True)"
   ]
  },
  {
   "cell_type": "markdown",
   "metadata": {
    "ExecuteTime": {
     "end_time": "2020-09-09T16:06:23.001247Z",
     "start_time": "2020-09-09T16:06:22.981467Z"
    }
   },
   "source": [
    "data['BsmtQual'].isnull().sum()"
   ]
  },
  {
   "cell_type": "markdown",
   "metadata": {},
   "source": [
    "### 'BsmtUnfSF'"
   ]
  },
  {
   "cell_type": "markdown",
   "metadata": {
    "ExecuteTime": {
     "end_time": "2020-09-09T16:06:23.027087Z",
     "start_time": "2020-09-09T16:06:23.005591Z"
    }
   },
   "source": [
    "data['BsmtUnfSF'].value_counts()"
   ]
  },
  {
   "cell_type": "code",
   "execution_count": 140,
   "metadata": {
    "ExecuteTime": {
     "end_time": "2020-09-09T16:06:23.045091Z",
     "start_time": "2020-09-09T16:06:23.029840Z"
    }
   },
   "outputs": [],
   "source": [
    "data['BsmtUnfSF'].fillna(value=0.0,inplace=True)"
   ]
  },
  {
   "cell_type": "markdown",
   "metadata": {},
   "source": [
    "### 'Electrical'"
   ]
  },
  {
   "cell_type": "markdown",
   "metadata": {
    "ExecuteTime": {
     "end_time": "2020-09-09T16:06:23.060505Z",
     "start_time": "2020-09-09T16:06:23.047861Z"
    }
   },
   "source": [
    "data['Electrical'].value_counts()"
   ]
  },
  {
   "cell_type": "code",
   "execution_count": 142,
   "metadata": {
    "ExecuteTime": {
     "end_time": "2020-09-09T16:06:23.068632Z",
     "start_time": "2020-09-09T16:06:23.062838Z"
    }
   },
   "outputs": [],
   "source": [
    "data['Electrical'].fillna(value='SBrkr',inplace=True)"
   ]
  },
  {
   "cell_type": "markdown",
   "metadata": {},
   "source": [
    "### 'Exterior1st'"
   ]
  },
  {
   "cell_type": "markdown",
   "metadata": {
    "ExecuteTime": {
     "end_time": "2020-09-09T16:06:23.084535Z",
     "start_time": "2020-09-09T16:06:23.072215Z"
    }
   },
   "source": [
    "data['Exterior1st'].value_counts()"
   ]
  },
  {
   "cell_type": "code",
   "execution_count": 144,
   "metadata": {
    "ExecuteTime": {
     "end_time": "2020-09-09T16:06:23.101231Z",
     "start_time": "2020-09-09T16:06:23.088269Z"
    }
   },
   "outputs": [],
   "source": [
    "data['Exterior1st'].fillna(value='VinylSd',inplace=True)"
   ]
  },
  {
   "cell_type": "markdown",
   "metadata": {},
   "source": [
    "### 'Exterior2nd'"
   ]
  },
  {
   "cell_type": "code",
   "execution_count": 145,
   "metadata": {
    "ExecuteTime": {
     "end_time": "2020-09-09T16:06:23.126135Z",
     "start_time": "2020-09-09T16:06:23.104386Z"
    }
   },
   "outputs": [
    {
     "data": {
      "text/plain": [
       "VinylSd    1014\n",
       "MetalSd     447\n",
       "HdBoard     406\n",
       "Wd Sdng     391\n",
       "Plywood     270\n",
       "CmentBd     126\n",
       "Wd Shng      81\n",
       "BrkFace      47\n",
       "Stucco       47\n",
       "AsbShng      38\n",
       "Brk Cmn      22\n",
       "ImStucc      15\n",
       "Stone         6\n",
       "AsphShn       4\n",
       "CBlock        3\n",
       "Other         1\n",
       "Name: Exterior2nd, dtype: int64"
      ]
     },
     "execution_count": 145,
     "metadata": {},
     "output_type": "execute_result"
    }
   ],
   "source": [
    "data['Exterior2nd'].value_counts()"
   ]
  },
  {
   "cell_type": "code",
   "execution_count": 146,
   "metadata": {
    "ExecuteTime": {
     "end_time": "2020-09-09T16:06:23.144982Z",
     "start_time": "2020-09-09T16:06:23.128164Z"
    }
   },
   "outputs": [],
   "source": [
    "data['Exterior2nd'].fillna(value='VinylSd',inplace=True)"
   ]
  },
  {
   "cell_type": "markdown",
   "metadata": {},
   "source": [
    "### 'Functional'"
   ]
  },
  {
   "cell_type": "code",
   "execution_count": 147,
   "metadata": {
    "ExecuteTime": {
     "end_time": "2020-09-09T16:06:23.160838Z",
     "start_time": "2020-09-09T16:06:23.147998Z"
    }
   },
   "outputs": [
    {
     "data": {
      "text/plain": [
       "Typ     2717\n",
       "Min2      70\n",
       "Min1      65\n",
       "Mod       35\n",
       "Maj1      19\n",
       "Maj2       9\n",
       "Sev        2\n",
       "Name: Functional, dtype: int64"
      ]
     },
     "execution_count": 147,
     "metadata": {},
     "output_type": "execute_result"
    }
   ],
   "source": [
    "data['Functional'].value_counts()"
   ]
  },
  {
   "cell_type": "code",
   "execution_count": 148,
   "metadata": {
    "ExecuteTime": {
     "end_time": "2020-09-09T16:06:23.179274Z",
     "start_time": "2020-09-09T16:06:23.160838Z"
    }
   },
   "outputs": [],
   "source": [
    "data['Functional'].fillna(value='Typ',inplace=True)"
   ]
  },
  {
   "cell_type": "markdown",
   "metadata": {},
   "source": [
    "### 'GarageArea'"
   ]
  },
  {
   "cell_type": "code",
   "execution_count": 149,
   "metadata": {
    "ExecuteTime": {
     "end_time": "2020-09-09T16:06:23.202949Z",
     "start_time": "2020-09-09T16:06:23.180272Z"
    }
   },
   "outputs": [
    {
     "data": {
      "text/plain": [
       "Ind\n",
       "2576   NaN\n",
       "Name: GarageCars, dtype: float64"
      ]
     },
     "execution_count": 149,
     "metadata": {},
     "output_type": "execute_result"
    }
   ],
   "source": [
    "data[data['GarageArea'].isnull()]['GarageCars']"
   ]
  },
  {
   "cell_type": "code",
   "execution_count": 150,
   "metadata": {
    "ExecuteTime": {
     "end_time": "2020-09-09T16:06:23.218702Z",
     "start_time": "2020-09-09T16:06:23.206123Z"
    }
   },
   "outputs": [],
   "source": [
    "data['GarageArea'].fillna(value=0.0,inplace=True)"
   ]
  },
  {
   "cell_type": "markdown",
   "metadata": {},
   "source": [
    "### 'GarageCars'"
   ]
  },
  {
   "cell_type": "code",
   "execution_count": 151,
   "metadata": {
    "ExecuteTime": {
     "end_time": "2020-09-09T16:06:23.233524Z",
     "start_time": "2020-09-09T16:06:23.218702Z"
    }
   },
   "outputs": [
    {
     "data": {
      "text/plain": [
       "2.0    1594\n",
       "1.0     776\n",
       "3.0     374\n",
       "0.0     157\n",
       "4.0      16\n",
       "5.0       1\n",
       "Name: GarageCars, dtype: int64"
      ]
     },
     "execution_count": 151,
     "metadata": {},
     "output_type": "execute_result"
    }
   ],
   "source": [
    "data['GarageCars'].value_counts()"
   ]
  },
  {
   "cell_type": "code",
   "execution_count": 152,
   "metadata": {
    "ExecuteTime": {
     "end_time": "2020-09-09T16:06:23.254919Z",
     "start_time": "2020-09-09T16:06:23.237553Z"
    }
   },
   "outputs": [
    {
     "data": {
      "text/plain": [
       "Ind\n",
       "2576    0.0\n",
       "Name: GarageArea, dtype: float64"
      ]
     },
     "execution_count": 152,
     "metadata": {},
     "output_type": "execute_result"
    }
   ],
   "source": [
    "data[data['GarageCars'].isnull()]['GarageArea']"
   ]
  },
  {
   "cell_type": "code",
   "execution_count": 153,
   "metadata": {
    "ExecuteTime": {
     "end_time": "2020-09-09T16:06:23.262719Z",
     "start_time": "2020-09-09T16:06:23.257809Z"
    }
   },
   "outputs": [],
   "source": [
    "data['GarageCars'].fillna(0.0,inplace=True)"
   ]
  },
  {
   "cell_type": "markdown",
   "metadata": {},
   "source": [
    "### 'KitchenQual'"
   ]
  },
  {
   "cell_type": "code",
   "execution_count": 154,
   "metadata": {
    "ExecuteTime": {
     "end_time": "2020-09-09T16:06:23.278690Z",
     "start_time": "2020-09-09T16:06:23.266813Z"
    }
   },
   "outputs": [
    {
     "data": {
      "text/plain": [
       "TA    1492\n",
       "Gd    1151\n",
       "Ex     205\n",
       "Fa      70\n",
       "Name: KitchenQual, dtype: int64"
      ]
     },
     "execution_count": 154,
     "metadata": {},
     "output_type": "execute_result"
    }
   ],
   "source": [
    "data['KitchenQual'].value_counts()"
   ]
  },
  {
   "cell_type": "code",
   "execution_count": 155,
   "metadata": {
    "ExecuteTime": {
     "end_time": "2020-09-09T16:06:23.294669Z",
     "start_time": "2020-09-09T16:06:23.281224Z"
    }
   },
   "outputs": [
    {
     "data": {
      "text/plain": [
       "Ind\n",
       "1555    1\n",
       "Name: KitchenAbvGr, dtype: int64"
      ]
     },
     "execution_count": 155,
     "metadata": {},
     "output_type": "execute_result"
    }
   ],
   "source": [
    "data[data['KitchenQual'].isnull()]['KitchenAbvGr']"
   ]
  },
  {
   "cell_type": "code",
   "execution_count": 156,
   "metadata": {
    "ExecuteTime": {
     "end_time": "2020-09-09T16:06:23.313957Z",
     "start_time": "2020-09-09T16:06:23.297165Z"
    }
   },
   "outputs": [
    {
     "data": {
      "text/plain": [
       "1    2785\n",
       "2     129\n",
       "0       3\n",
       "3       2\n",
       "Name: KitchenAbvGr, dtype: int64"
      ]
     },
     "execution_count": 156,
     "metadata": {},
     "output_type": "execute_result"
    }
   ],
   "source": [
    "data['KitchenAbvGr'].value_counts()"
   ]
  },
  {
   "cell_type": "code",
   "execution_count": 157,
   "metadata": {
    "ExecuteTime": {
     "end_time": "2020-09-09T16:06:23.330955Z",
     "start_time": "2020-09-09T16:06:23.317529Z"
    }
   },
   "outputs": [
    {
     "data": {
      "text/plain": [
       "TA    1372\n",
       "Gd    1146\n",
       "Ex     205\n",
       "Fa      61\n",
       "Name: KitchenQual, dtype: int64"
      ]
     },
     "execution_count": 157,
     "metadata": {},
     "output_type": "execute_result"
    }
   ],
   "source": [
    "data[data['KitchenAbvGr']==1]['KitchenQual'].value_counts()"
   ]
  },
  {
   "cell_type": "code",
   "execution_count": 158,
   "metadata": {
    "ExecuteTime": {
     "end_time": "2020-09-09T16:06:23.343685Z",
     "start_time": "2020-09-09T16:06:23.334301Z"
    }
   },
   "outputs": [],
   "source": [
    "data['KitchenQual'].fillna(value='TA',inplace=True)"
   ]
  },
  {
   "cell_type": "markdown",
   "metadata": {},
   "source": [
    "### 'MSZoning'"
   ]
  },
  {
   "cell_type": "code",
   "execution_count": 159,
   "metadata": {
    "ExecuteTime": {
     "end_time": "2020-09-09T16:06:23.363951Z",
     "start_time": "2020-09-09T16:06:23.345888Z"
    }
   },
   "outputs": [
    {
     "data": {
      "text/plain": [
       "RL         2265\n",
       "RM          460\n",
       "FV          139\n",
       "RH           26\n",
       "C (all)      25\n",
       "Name: MSZoning, dtype: int64"
      ]
     },
     "execution_count": 159,
     "metadata": {},
     "output_type": "execute_result"
    }
   ],
   "source": [
    "data['MSZoning'].value_counts()"
   ]
  },
  {
   "cell_type": "code",
   "execution_count": 160,
   "metadata": {
    "ExecuteTime": {
     "end_time": "2020-09-09T16:06:23.372517Z",
     "start_time": "2020-09-09T16:06:23.367057Z"
    }
   },
   "outputs": [],
   "source": [
    "data['MSZoning'].fillna(value='RL',inplace=True)"
   ]
  },
  {
   "cell_type": "markdown",
   "metadata": {},
   "source": [
    "### 'MasVnrArea'"
   ]
  },
  {
   "cell_type": "code",
   "execution_count": 161,
   "metadata": {
    "ExecuteTime": {
     "end_time": "2020-09-09T16:06:23.404692Z",
     "start_time": "2020-09-09T16:06:23.375575Z"
    }
   },
   "outputs": [
    {
     "data": {
      "text/plain": [
       "0.0       1738\n",
       "120.0       15\n",
       "176.0       13\n",
       "200.0       13\n",
       "216.0       12\n",
       "180.0       12\n",
       "144.0       11\n",
       "72.0        11\n",
       "108.0       11\n",
       "16.0        11\n",
       "340.0       10\n",
       "80.0         9\n",
       "210.0        9\n",
       "128.0        9\n",
       "196.0        9\n",
       "256.0        8\n",
       "178.0        8\n",
       "40.0         8\n",
       "302.0        8\n",
       "170.0        8\n",
       "132.0        8\n",
       "260.0        7\n",
       "300.0        7\n",
       "203.0        7\n",
       "186.0        7\n",
       "456.0        7\n",
       "420.0        7\n",
       "50.0         7\n",
       "252.0        7\n",
       "106.0        7\n",
       "          ... \n",
       "81.0         1\n",
       "528.0        1\n",
       "91.0         1\n",
       "87.0         1\n",
       "97.0         1\n",
       "63.0         1\n",
       "408.0        1\n",
       "47.0         1\n",
       "39.0         1\n",
       "118.0        1\n",
       "1170.0       1\n",
       "376.0        1\n",
       "584.0        1\n",
       "322.0        1\n",
       "634.0        1\n",
       "532.0        1\n",
       "1290.0       1\n",
       "519.0        1\n",
       "287.0        1\n",
       "571.0        1\n",
       "435.0        1\n",
       "886.0        1\n",
       "237.0        1\n",
       "738.0        1\n",
       "1050.0       1\n",
       "664.0        1\n",
       "247.0        1\n",
       "550.0        1\n",
       "137.0        1\n",
       "572.0        1\n",
       "Name: MasVnrArea, Length: 444, dtype: int64"
      ]
     },
     "execution_count": 161,
     "metadata": {},
     "output_type": "execute_result"
    }
   ],
   "source": [
    "data['MasVnrArea'].value_counts()"
   ]
  },
  {
   "cell_type": "code",
   "execution_count": 162,
   "metadata": {
    "ExecuteTime": {
     "end_time": "2020-09-09T16:06:23.424780Z",
     "start_time": "2020-09-09T16:06:23.404692Z"
    }
   },
   "outputs": [
    {
     "data": {
      "text/plain": [
       "23"
      ]
     },
     "execution_count": 162,
     "metadata": {},
     "output_type": "execute_result"
    }
   ],
   "source": [
    "len(data[data['MasVnrArea'].isnull()]['MasVnrType']==np.nan)"
   ]
  },
  {
   "cell_type": "code",
   "execution_count": 163,
   "metadata": {
    "ExecuteTime": {
     "end_time": "2020-09-09T16:06:23.444615Z",
     "start_time": "2020-09-09T16:06:23.424780Z"
    }
   },
   "outputs": [],
   "source": [
    "data['MasVnrArea'].fillna(value=0.0,inplace=True)"
   ]
  },
  {
   "cell_type": "markdown",
   "metadata": {},
   "source": [
    "###  'MasVnrType'"
   ]
  },
  {
   "cell_type": "code",
   "execution_count": 164,
   "metadata": {
    "ExecuteTime": {
     "end_time": "2020-09-09T16:06:23.457780Z",
     "start_time": "2020-09-09T16:06:23.444615Z"
    }
   },
   "outputs": [
    {
     "data": {
      "text/plain": [
       "None       1742\n",
       "BrkFace     879\n",
       "Stone       249\n",
       "BrkCmn       25\n",
       "Name: MasVnrType, dtype: int64"
      ]
     },
     "execution_count": 164,
     "metadata": {},
     "output_type": "execute_result"
    }
   ],
   "source": [
    "data['MasVnrType'].value_counts()"
   ]
  },
  {
   "cell_type": "code",
   "execution_count": 165,
   "metadata": {
    "ExecuteTime": {
     "end_time": "2020-09-09T16:06:23.467605Z",
     "start_time": "2020-09-09T16:06:23.459775Z"
    }
   },
   "outputs": [],
   "source": [
    "data['MasVnrType'].fillna('None',inplace=True)"
   ]
  },
  {
   "cell_type": "markdown",
   "metadata": {},
   "source": [
    "### 'SaleType'"
   ]
  },
  {
   "cell_type": "code",
   "execution_count": 166,
   "metadata": {
    "ExecuteTime": {
     "end_time": "2020-09-09T16:06:23.484375Z",
     "start_time": "2020-09-09T16:06:23.469600Z"
    }
   },
   "outputs": [
    {
     "data": {
      "text/plain": [
       "WD       2525\n",
       "New       239\n",
       "COD        87\n",
       "ConLD      26\n",
       "CWD        12\n",
       "ConLI       9\n",
       "ConLw       8\n",
       "Oth         7\n",
       "Con         5\n",
       "Name: SaleType, dtype: int64"
      ]
     },
     "execution_count": 166,
     "metadata": {},
     "output_type": "execute_result"
    }
   ],
   "source": [
    "data['SaleType'].value_counts()"
   ]
  },
  {
   "cell_type": "code",
   "execution_count": 167,
   "metadata": {
    "ExecuteTime": {
     "end_time": "2020-09-09T16:06:23.494826Z",
     "start_time": "2020-09-09T16:06:23.486882Z"
    }
   },
   "outputs": [],
   "source": [
    "data['SaleType'].fillna('WD',inplace=True)"
   ]
  },
  {
   "cell_type": "markdown",
   "metadata": {},
   "source": [
    "### 'TotalBsmtSF'"
   ]
  },
  {
   "cell_type": "code",
   "execution_count": 168,
   "metadata": {
    "ExecuteTime": {
     "end_time": "2020-09-09T16:06:23.509869Z",
     "start_time": "2020-09-09T16:06:23.495707Z"
    }
   },
   "outputs": [
    {
     "data": {
      "text/plain": [
       "0.0       78\n",
       "864.0     74\n",
       "672.0     29\n",
       "912.0     26\n",
       "1040.0    25\n",
       "768.0     24\n",
       "816.0     23\n",
       "728.0     20\n",
       "1008.0    19\n",
       "780.0     19\n",
       "384.0     19\n",
       "960.0     18\n",
       "894.0     17\n",
       "756.0     17\n",
       "832.0     17\n",
       "546.0     16\n",
       "936.0     16\n",
       "720.0     16\n",
       "600.0     16\n",
       "848.0     16\n",
       "483.0     14\n",
       "630.0     13\n",
       "952.0     13\n",
       "840.0     13\n",
       "988.0     12\n",
       "624.0     12\n",
       "876.0     11\n",
       "784.0     11\n",
       "796.0     11\n",
       "1056.0    10\n",
       "          ..\n",
       "1967.0     1\n",
       "1905.0     1\n",
       "1679.0     1\n",
       "1533.0     1\n",
       "2140.0     1\n",
       "1994.0     1\n",
       "1378.0     1\n",
       "763.0      1\n",
       "1047.0     1\n",
       "1376.0     1\n",
       "904.0      1\n",
       "370.0      1\n",
       "1570.0     1\n",
       "2033.0     1\n",
       "1709.0     1\n",
       "1519.0     1\n",
       "2077.0     1\n",
       "1550.0     1\n",
       "797.0      1\n",
       "699.0      1\n",
       "559.0      1\n",
       "396.0      1\n",
       "1866.0     1\n",
       "1641.0     1\n",
       "961.0      1\n",
       "1949.0     1\n",
       "1231.0     1\n",
       "1829.0     1\n",
       "1475.0     1\n",
       "1243.0     1\n",
       "Name: TotalBsmtSF, Length: 1058, dtype: int64"
      ]
     },
     "execution_count": 168,
     "metadata": {},
     "output_type": "execute_result"
    }
   ],
   "source": [
    "data['TotalBsmtSF'].value_counts()"
   ]
  },
  {
   "cell_type": "code",
   "execution_count": 169,
   "metadata": {
    "ExecuteTime": {
     "end_time": "2020-09-09T16:06:23.534335Z",
     "start_time": "2020-09-09T16:06:23.509869Z"
    }
   },
   "outputs": [
    {
     "data": {
      "text/plain": [
       "Ind\n",
       "2120    TA\n",
       "Name: BsmtCond, dtype: object"
      ]
     },
     "execution_count": 169,
     "metadata": {},
     "output_type": "execute_result"
    }
   ],
   "source": [
    "data[data['TotalBsmtSF'].isnull()]['BsmtCond']"
   ]
  },
  {
   "cell_type": "code",
   "execution_count": 170,
   "metadata": {
    "ExecuteTime": {
     "end_time": "2020-09-09T16:06:23.549980Z",
     "start_time": "2020-09-09T16:06:23.535841Z"
    }
   },
   "outputs": [],
   "source": [
    "data['TotalBsmtSF'].fillna(0.0,inplace=True)"
   ]
  },
  {
   "cell_type": "markdown",
   "metadata": {},
   "source": [
    "### 'Utilities'"
   ]
  },
  {
   "cell_type": "code",
   "execution_count": 171,
   "metadata": {
    "ExecuteTime": {
     "end_time": "2020-09-09T16:06:23.567698Z",
     "start_time": "2020-09-09T16:06:23.551998Z"
    }
   },
   "outputs": [
    {
     "data": {
      "text/plain": [
       "2"
      ]
     },
     "execution_count": 171,
     "metadata": {},
     "output_type": "execute_result"
    }
   ],
   "source": [
    "data['Utilities'].isnull().sum()"
   ]
  },
  {
   "cell_type": "code",
   "execution_count": 172,
   "metadata": {
    "ExecuteTime": {
     "end_time": "2020-09-09T16:06:23.584394Z",
     "start_time": "2020-09-09T16:06:23.569728Z"
    }
   },
   "outputs": [
    {
     "data": {
      "text/plain": [
       "AllPub    2916\n",
       "NoSeWa       1\n",
       "Name: Utilities, dtype: int64"
      ]
     },
     "execution_count": 172,
     "metadata": {},
     "output_type": "execute_result"
    }
   ],
   "source": [
    "data['Utilities'].value_counts()"
   ]
  },
  {
   "cell_type": "code",
   "execution_count": 173,
   "metadata": {
    "ExecuteTime": {
     "end_time": "2020-09-09T16:06:23.594820Z",
     "start_time": "2020-09-09T16:06:23.585939Z"
    }
   },
   "outputs": [],
   "source": [
    "data['Utilities'].fillna('AllPub',inplace=True)"
   ]
  },
  {
   "cell_type": "code",
   "execution_count": 174,
   "metadata": {
    "ExecuteTime": {
     "end_time": "2020-09-09T16:06:23.614915Z",
     "start_time": "2020-09-09T16:06:23.596417Z"
    }
   },
   "outputs": [
    {
     "data": {
      "text/plain": [
       "Pave    2907\n",
       "Grvl      12\n",
       "Name: Street, dtype: int64"
      ]
     },
     "execution_count": 174,
     "metadata": {},
     "output_type": "execute_result"
    }
   ],
   "source": [
    "data['Street'].value_counts()"
   ]
  },
  {
   "cell_type": "code",
   "execution_count": null,
   "metadata": {},
   "outputs": [],
   "source": []
  },
  {
   "cell_type": "code",
   "execution_count": null,
   "metadata": {},
   "outputs": [],
   "source": []
  },
  {
   "cell_type": "code",
   "execution_count": null,
   "metadata": {},
   "outputs": [],
   "source": []
  },
  {
   "cell_type": "code",
   "execution_count": null,
   "metadata": {},
   "outputs": [],
   "source": []
  },
  {
   "cell_type": "markdown",
   "metadata": {},
   "source": [
    "## Categorical to Numerical"
   ]
  },
  {
   "cell_type": "code",
   "execution_count": 175,
   "metadata": {
    "ExecuteTime": {
     "end_time": "2020-09-09T16:06:23.634249Z",
     "start_time": "2020-09-09T16:06:23.617275Z"
    }
   },
   "outputs": [
    {
     "data": {
      "text/plain": [
       "numpy.int64"
      ]
     },
     "execution_count": 175,
     "metadata": {},
     "output_type": "execute_result"
    }
   ],
   "source": [
    "type(data['YrSold'][0])"
   ]
  },
  {
   "cell_type": "code",
   "execution_count": 176,
   "metadata": {
    "ExecuteTime": {
     "end_time": "2020-09-09T16:06:23.651031Z",
     "start_time": "2020-09-09T16:06:23.636007Z"
    }
   },
   "outputs": [],
   "source": [
    "num_cols=[]\n",
    "for i in data.columns:\n",
    "    if type(data[i][0])==np.int64:\n",
    "        num_cols.append(i)\n",
    "    "
   ]
  },
  {
   "cell_type": "code",
   "execution_count": 177,
   "metadata": {
    "ExecuteTime": {
     "end_time": "2020-09-09T16:06:23.667080Z",
     "start_time": "2020-09-09T16:06:23.653026Z"
    }
   },
   "outputs": [],
   "source": [
    "from sklearn.preprocessing import LabelEncoder,LabelBinarizer"
   ]
  },
  {
   "cell_type": "code",
   "execution_count": 178,
   "metadata": {
    "ExecuteTime": {
     "end_time": "2020-09-09T16:06:23.693843Z",
     "start_time": "2020-09-09T16:06:23.669685Z"
    }
   },
   "outputs": [],
   "source": [
    "def cat_num(cat):\n",
    "    global data\n",
    "    if len(data[cat].value_counts())==2:\n",
    "        print(cat)\n",
    "        data[cat]=LabelEncoder().fit_transform(data[cat])\n",
    "    elif len(data[cat].value_counts())>2:\n",
    "        lb=LabelBinarizer()\n",
    "        lbr=lb.fit_transform(data[cat])\n",
    "        lbd=pd.DataFrame(data=lbr,columns=lb.classes_)\n",
    "        data=pd.concat([data,lbd],axis=1)\n",
    "        data.drop(columns=cat,inplace=True)\n"
   ]
  },
  {
   "cell_type": "code",
   "execution_count": 179,
   "metadata": {
    "ExecuteTime": {
     "end_time": "2020-09-09T16:06:23.710037Z",
     "start_time": "2020-09-09T16:06:23.697142Z"
    }
   },
   "outputs": [],
   "source": [
    "cat_cols=[]\n",
    "for i in data.columns:\n",
    "    if type(data[i][0])==str:\n",
    "        #cat_num(i)\n",
    "        cat_cols.append(i)\n",
    "        "
   ]
  },
  {
   "cell_type": "markdown",
   "metadata": {},
   "source": [
    "## Category columns handling"
   ]
  },
  {
   "cell_type": "code",
   "execution_count": 180,
   "metadata": {
    "ExecuteTime": {
     "end_time": "2020-09-09T16:06:23.725865Z",
     "start_time": "2020-09-09T16:06:23.711073Z"
    }
   },
   "outputs": [
    {
     "data": {
      "text/plain": [
       "'MSZoning'"
      ]
     },
     "execution_count": 180,
     "metadata": {},
     "output_type": "execute_result"
    }
   ],
   "source": [
    "cat_cols[0]"
   ]
  },
  {
   "cell_type": "markdown",
   "metadata": {},
   "source": [
    "### 'MSZoning'"
   ]
  },
  {
   "cell_type": "code",
   "execution_count": 181,
   "metadata": {
    "ExecuteTime": {
     "end_time": "2020-09-09T16:06:23.744830Z",
     "start_time": "2020-09-09T16:06:23.727435Z"
    }
   },
   "outputs": [
    {
     "data": {
      "text/plain": [
       "RL         2269\n",
       "RM          460\n",
       "FV          139\n",
       "RH           26\n",
       "C (all)      25\n",
       "Name: MSZoning, dtype: int64"
      ]
     },
     "execution_count": 181,
     "metadata": {},
     "output_type": "execute_result"
    }
   ],
   "source": [
    "data['MSZoning'].value_counts()"
   ]
  },
  {
   "cell_type": "markdown",
   "metadata": {},
   "source": [
    "Density of population increases the house prices.so \n",
    "\n",
    "       C\tCommercial--->10\n",
    "       RH\tResidential High Density--->8\n",
    "       RM\tResidential Medium Density--->6\n",
    "       RL\tResidential Low Density--->4\n",
    "       FV\tFloating Village Residential--->2\n",
    "       \n",
    "       "
   ]
  },
  {
   "cell_type": "code",
   "execution_count": 182,
   "metadata": {
    "ExecuteTime": {
     "end_time": "2020-09-09T16:06:23.760382Z",
     "start_time": "2020-09-09T16:06:23.747523Z"
    }
   },
   "outputs": [],
   "source": [
    "replace_map={'MSZoning': {'C (all)': 10, 'RH': 8, 'RM': 6, 'RL': 4, 'FV':2}}"
   ]
  },
  {
   "cell_type": "code",
   "execution_count": 183,
   "metadata": {
    "ExecuteTime": {
     "end_time": "2020-09-09T16:06:23.794524Z",
     "start_time": "2020-09-09T16:06:23.761379Z"
    }
   },
   "outputs": [],
   "source": [
    "data.replace(replace_map,inplace=True)"
   ]
  },
  {
   "cell_type": "code",
   "execution_count": 184,
   "metadata": {
    "ExecuteTime": {
     "end_time": "2020-09-09T16:06:23.809842Z",
     "start_time": "2020-09-09T16:06:23.797524Z"
    }
   },
   "outputs": [
    {
     "data": {
      "text/plain": [
       "4     2269\n",
       "6      460\n",
       "2      139\n",
       "8       26\n",
       "10      25\n",
       "Name: MSZoning, dtype: int64"
      ]
     },
     "execution_count": 184,
     "metadata": {},
     "output_type": "execute_result"
    }
   ],
   "source": [
    "data['MSZoning'].value_counts()"
   ]
  },
  {
   "cell_type": "markdown",
   "metadata": {},
   "source": [
    "### "
   ]
  },
  {
   "cell_type": "code",
   "execution_count": 185,
   "metadata": {
    "ExecuteTime": {
     "end_time": "2020-09-09T16:06:23.833911Z",
     "start_time": "2020-09-09T16:06:23.810842Z"
    }
   },
   "outputs": [
    {
     "data": {
      "text/plain": [
       "Inside     2133\n",
       "Corner      511\n",
       "CulDSac     176\n",
       "FR2          85\n",
       "FR3          14\n",
       "Name: LotConfig, dtype: int64"
      ]
     },
     "execution_count": 185,
     "metadata": {},
     "output_type": "execute_result"
    }
   ],
   "source": [
    "data[cat_cols[5]].value_counts()"
   ]
  },
  {
   "cell_type": "code",
   "execution_count": 186,
   "metadata": {
    "ExecuteTime": {
     "end_time": "2020-09-09T16:06:23.850952Z",
     "start_time": "2020-09-09T16:06:23.836890Z"
    }
   },
   "outputs": [],
   "source": [
    "replace_map={'LotConfig': {'FR3': 10, 'FR2': 8, 'Corner': 6, 'Inside': 4,'CulDSac':2}}"
   ]
  },
  {
   "cell_type": "code",
   "execution_count": 187,
   "metadata": {
    "ExecuteTime": {
     "end_time": "2020-09-09T16:06:23.874810Z",
     "start_time": "2020-09-09T16:06:23.855530Z"
    }
   },
   "outputs": [],
   "source": [
    "data.replace(replace_map,inplace=True)"
   ]
  },
  {
   "cell_type": "code",
   "execution_count": 188,
   "metadata": {
    "ExecuteTime": {
     "end_time": "2020-09-09T16:06:23.891491Z",
     "start_time": "2020-09-09T16:06:23.877004Z"
    }
   },
   "outputs": [
    {
     "data": {
      "text/plain": [
       "Gtl    2778\n",
       "Mod     125\n",
       "Sev      16\n",
       "Name: LandSlope, dtype: int64"
      ]
     },
     "execution_count": 188,
     "metadata": {},
     "output_type": "execute_result"
    }
   ],
   "source": [
    "data[cat_cols[6]].value_counts()"
   ]
  },
  {
   "cell_type": "code",
   "execution_count": 189,
   "metadata": {
    "ExecuteTime": {
     "end_time": "2020-09-09T16:06:23.900561Z",
     "start_time": "2020-09-09T16:06:23.894642Z"
    }
   },
   "outputs": [],
   "source": [
    "replace_map={'LandSlope': {'Gtl': 10, 'Mod': 5, 'Sev': 1}}"
   ]
  },
  {
   "cell_type": "code",
   "execution_count": 190,
   "metadata": {
    "ExecuteTime": {
     "end_time": "2020-09-09T16:06:23.924827Z",
     "start_time": "2020-09-09T16:06:23.903104Z"
    }
   },
   "outputs": [],
   "source": [
    "data.replace(replace_map,inplace=True)"
   ]
  },
  {
   "cell_type": "code",
   "execution_count": 191,
   "metadata": {
    "ExecuteTime": {
     "end_time": "2020-09-09T16:06:23.940699Z",
     "start_time": "2020-09-09T16:06:23.925519Z"
    }
   },
   "outputs": [
    {
     "data": {
      "text/plain": [
       "Norm      2511\n",
       "Feedr      164\n",
       "Artery      92\n",
       "RRAn        50\n",
       "PosN        39\n",
       "RRAe        28\n",
       "PosA        20\n",
       "RRNn         9\n",
       "RRNe         6\n",
       "Name: Condition1, dtype: int64"
      ]
     },
     "execution_count": 191,
     "metadata": {},
     "output_type": "execute_result"
    }
   ],
   "source": [
    "data[cat_cols[8]].value_counts()"
   ]
  },
  {
   "cell_type": "markdown",
   "metadata": {},
   "source": [
    "Condition1: Proximity to various conditions\n",
    "\n",
    "\t   PosN\t  Near positive off-site feature--park, greenbelt, etc. --->10\n",
    "       PosA\t  Adjacent to postive off-site feature  --->8\n",
    "       Artery\tAdjacent to arterial street--->7\n",
    "       Feedr\tAdjacent to feeder street-->6\t\n",
    "       Norm\tNormal-->5\t\n",
    "       RRAn\tAdjacent to North-South Railroad--->3\n",
    "       RRAe\tAdjacent to East-West Railroad--->3\n",
    "       RRNn\tWithin 200 of North-South Railroad--->1\n",
    "       RRNe\tWithin 200 of East-West Railroad--->1\n",
    "       "
   ]
  },
  {
   "cell_type": "code",
   "execution_count": 192,
   "metadata": {
    "ExecuteTime": {
     "end_time": "2020-09-09T16:06:23.956044Z",
     "start_time": "2020-09-09T16:06:23.943779Z"
    }
   },
   "outputs": [],
   "source": [
    "replace_map={'Condition1':{'PosN':10, 'PosA':8,'Artery':5,'Feedr':6,'Norm':7,'RRAn':3,'RRAe':3,'RRNn':1,'RRNe':1},\n",
    "            'Condition2':{'PosN':10, 'PosA':8,'Artery':5,'Feedr':6,'Norm':7,'RRAn':3,'RRAe':3,'RRNn':1,'RRNe':1}}"
   ]
  },
  {
   "cell_type": "code",
   "execution_count": 193,
   "metadata": {
    "ExecuteTime": {
     "end_time": "2020-09-09T16:06:23.994842Z",
     "start_time": "2020-09-09T16:06:23.957041Z"
    }
   },
   "outputs": [],
   "source": [
    "data.replace(replace_map,inplace=True)"
   ]
  },
  {
   "cell_type": "code",
   "execution_count": 194,
   "metadata": {
    "ExecuteTime": {
     "end_time": "2020-09-09T16:06:24.014751Z",
     "start_time": "2020-09-09T16:06:23.997228Z"
    }
   },
   "outputs": [],
   "source": [
    "data['Conditions']=data['Condition1']+data['Condition2']"
   ]
  },
  {
   "cell_type": "code",
   "execution_count": 195,
   "metadata": {
    "ExecuteTime": {
     "end_time": "2020-09-09T16:06:24.034252Z",
     "start_time": "2020-09-09T16:06:24.014751Z"
    }
   },
   "outputs": [],
   "source": [
    "data.drop(columns=['Condition1'],inplace=True)\n",
    "data.drop(columns=['Condition2'],inplace=True)"
   ]
  },
  {
   "cell_type": "code",
   "execution_count": 196,
   "metadata": {
    "ExecuteTime": {
     "end_time": "2020-09-09T16:06:24.059995Z",
     "start_time": "2020-09-09T16:06:24.037109Z"
    }
   },
   "outputs": [
    {
     "data": {
      "text/plain": [
       "1Fam      2425\n",
       "TwnhsE     227\n",
       "Duplex     109\n",
       "Twnhs       96\n",
       "2fmCon      62\n",
       "Name: BldgType, dtype: int64"
      ]
     },
     "execution_count": 196,
     "metadata": {},
     "output_type": "execute_result"
    }
   ],
   "source": [
    "data['BldgType'].value_counts()"
   ]
  },
  {
   "cell_type": "markdown",
   "metadata": {},
   "source": [
    "BldgType: Type of dwelling\n",
    "\t\t\n",
    "       Duplx\tDuplex  --->10\n",
    "       TwnhsE\tTownhouse End Unit --->8  \n",
    "       TwnhsI\tTownhouse Inside Unit --->6\n",
    "       2FmCon\tTwo-family Conversion; originally built as one-family dwelling--->4\n",
    "       1Fam\tSingle-family Detached--->2"
   ]
  },
  {
   "cell_type": "code",
   "execution_count": 197,
   "metadata": {
    "ExecuteTime": {
     "end_time": "2020-09-09T16:06:24.070625Z",
     "start_time": "2020-09-09T16:06:24.062216Z"
    }
   },
   "outputs": [],
   "source": [
    "replace_map={'BldgType':{'Duplex':10,'TwnhsE':8,'Twnhs':6,'2fmCon':4,'1Fam':2}}"
   ]
  },
  {
   "cell_type": "code",
   "execution_count": 198,
   "metadata": {
    "ExecuteTime": {
     "end_time": "2020-09-09T16:06:24.084668Z",
     "start_time": "2020-09-09T16:06:24.073005Z"
    }
   },
   "outputs": [],
   "source": [
    "data.replace(replace_map,inplace=True)"
   ]
  },
  {
   "cell_type": "markdown",
   "metadata": {
    "ExecuteTime": {
     "end_time": "2020-09-08T21:43:24.346924Z",
     "start_time": "2020-09-08T21:43:24.327599Z"
    }
   },
   "source": [
    "data[cat_cols[11]].value_counts()"
   ]
  },
  {
   "cell_type": "markdown",
   "metadata": {},
   "source": [
    "HouseStyle: Style of dwelling\n",
    "\n",
    "\t   SFoyer\tSplit Foyer--->10\n",
    "       SLvl\t  Split Level--->9\n",
    "       2.5Fin\tTwo and one-half story: 2nd level finished--->8\n",
    "       2Story\tTwo story--->7\n",
    "       2.5Unf\tTwo and one-half story: 2nd level unfinished--->6\n",
    "       1.5Fin\tOne and one-half story: 2nd level finished--->5\n",
    "       1.5Unf\tOne and one-half story: 2nd level unfinished--->4\n",
    "       1Story\tOne story--->3\n",
    "\n",
    "       \n",
    "\n",
    "       \n"
   ]
  },
  {
   "cell_type": "code",
   "execution_count": 199,
   "metadata": {
    "ExecuteTime": {
     "end_time": "2020-09-09T16:06:24.093685Z",
     "start_time": "2020-09-09T16:06:24.087165Z"
    }
   },
   "outputs": [],
   "source": [
    "replace_map={'HouseStyle':{'SFoyer':4,'SLvl':7,'2.5Fin':10,'2Story':9,'2.5Unf':8,'1.5Fin':6,'1.5Unf':5,'1Story':3}}"
   ]
  },
  {
   "cell_type": "code",
   "execution_count": 200,
   "metadata": {
    "ExecuteTime": {
     "end_time": "2020-09-09T16:06:24.125766Z",
     "start_time": "2020-09-09T16:06:24.096896Z"
    }
   },
   "outputs": [],
   "source": [
    "data.replace(replace_map,inplace=True)"
   ]
  },
  {
   "cell_type": "markdown",
   "metadata": {
    "ExecuteTime": {
     "end_time": "2020-09-08T22:13:00.824387Z",
     "start_time": "2020-09-08T22:13:00.805392Z"
    }
   },
   "source": [
    "data['Foundation'].value_counts()"
   ]
  },
  {
   "cell_type": "markdown",
   "metadata": {},
   "source": [
    "Foundation: Type of foundation\n",
    "\n",
    "       PConc\tPoured Contrete--->10\n",
    "\t   Stone\tStone--->8\n",
    "       Slab\tSlab--->9\n",
    "       BrkTil\tBrick & Tile--->7\n",
    "       CBlock\tCinder Block--->6\n",
    "       Wood\tWood--->5"
   ]
  },
  {
   "cell_type": "code",
   "execution_count": 201,
   "metadata": {
    "ExecuteTime": {
     "end_time": "2020-09-09T16:06:24.145202Z",
     "start_time": "2020-09-09T16:06:24.128206Z"
    }
   },
   "outputs": [],
   "source": [
    "replace_map={'Foundation':{'PConc':9,'Slab':10,'Stone':8,'BrkTil':7,'CBlock':6,'Wood':5}}"
   ]
  },
  {
   "cell_type": "code",
   "execution_count": 202,
   "metadata": {
    "ExecuteTime": {
     "end_time": "2020-09-09T16:06:24.164748Z",
     "start_time": "2020-09-09T16:06:24.147206Z"
    }
   },
   "outputs": [],
   "source": [
    "data.replace(replace_map,inplace=True)"
   ]
  },
  {
   "cell_type": "code",
   "execution_count": 203,
   "metadata": {
    "ExecuteTime": {
     "end_time": "2020-09-09T16:06:24.181111Z",
     "start_time": "2020-09-09T16:06:24.168382Z"
    }
   },
   "outputs": [
    {
     "data": {
      "text/plain": [
       "TA    1798\n",
       "Gd     979\n",
       "Ex     107\n",
       "Fa      35\n",
       "Name: ExterQual, dtype: int64"
      ]
     },
     "execution_count": 203,
     "metadata": {},
     "output_type": "execute_result"
    }
   ],
   "source": [
    "data[cat_cols[17]].value_counts()"
   ]
  },
  {
   "cell_type": "markdown",
   "metadata": {
    "ExecuteTime": {
     "end_time": "2020-09-08T23:07:14.508366Z",
     "start_time": "2020-09-08T23:07:14.498694Z"
    }
   },
   "source": [
    "ExterQual: Evaluates the quality of the material on the exterior \n",
    "\t\t\n",
    "       Ex\tExcellent -->10\n",
    "       Gd\tGood-->8\n",
    "       TA\tAverage/Typical-->6\n",
    "       Fa\tFair-->4\n",
    "       Po\tPoor-->2"
   ]
  },
  {
   "cell_type": "code",
   "execution_count": 204,
   "metadata": {
    "ExecuteTime": {
     "end_time": "2020-09-09T16:06:24.196561Z",
     "start_time": "2020-09-09T16:06:24.184729Z"
    }
   },
   "outputs": [],
   "source": [
    "replace_map={'ExterQual':{'Ex':10,'Gd':8,'TA':6,'Fa':4,'Po':2}}"
   ]
  },
  {
   "cell_type": "code",
   "execution_count": 205,
   "metadata": {
    "ExecuteTime": {
     "end_time": "2020-09-09T16:06:24.224807Z",
     "start_time": "2020-09-09T16:06:24.199614Z"
    }
   },
   "outputs": [],
   "source": [
    "data.replace(replace_map,inplace=True)"
   ]
  },
  {
   "cell_type": "code",
   "execution_count": 206,
   "metadata": {
    "ExecuteTime": {
     "end_time": "2020-09-09T16:06:24.244890Z",
     "start_time": "2020-09-09T16:06:24.226124Z"
    }
   },
   "outputs": [
    {
     "data": {
      "text/plain": [
       "TA    2538\n",
       "Gd     299\n",
       "Fa      67\n",
       "Ex      12\n",
       "Po       3\n",
       "Name: ExterCond, dtype: int64"
      ]
     },
     "execution_count": 206,
     "metadata": {},
     "output_type": "execute_result"
    }
   ],
   "source": [
    "data[cat_cols[18]].value_counts()"
   ]
  },
  {
   "cell_type": "code",
   "execution_count": 207,
   "metadata": {
    "ExecuteTime": {
     "end_time": "2020-09-09T16:06:24.263003Z",
     "start_time": "2020-09-09T16:06:24.247371Z"
    }
   },
   "outputs": [],
   "source": [
    "replace_map={'ExterCond':{'Ex':10,'Gd':8,'TA':6,'Fa':4,'Po':2}}"
   ]
  },
  {
   "cell_type": "code",
   "execution_count": 208,
   "metadata": {
    "ExecuteTime": {
     "end_time": "2020-09-09T16:06:24.292079Z",
     "start_time": "2020-09-09T16:06:24.264825Z"
    }
   },
   "outputs": [],
   "source": [
    "data.replace(replace_map,inplace=True)"
   ]
  },
  {
   "cell_type": "code",
   "execution_count": 209,
   "metadata": {
    "ExecuteTime": {
     "end_time": "2020-09-09T16:06:24.310171Z",
     "start_time": "2020-09-09T16:06:24.294668Z"
    }
   },
   "outputs": [
    {
     "data": {
      "text/plain": [
       "TA    1364\n",
       "Gd    1209\n",
       "Ex     258\n",
       "Fa      88\n",
       "Name: BsmtQual, dtype: int64"
      ]
     },
     "execution_count": 209,
     "metadata": {},
     "output_type": "execute_result"
    }
   ],
   "source": [
    "data[cat_cols[20]].value_counts()"
   ]
  },
  {
   "cell_type": "code",
   "execution_count": 210,
   "metadata": {
    "ExecuteTime": {
     "end_time": "2020-09-09T16:06:24.318776Z",
     "start_time": "2020-09-09T16:06:24.312166Z"
    }
   },
   "outputs": [],
   "source": [
    "replace_map={'BsmtQual':{'Ex':10,'Gd':8,'TA':6,'Fa':4,'Po':2}}"
   ]
  },
  {
   "cell_type": "code",
   "execution_count": 211,
   "metadata": {
    "ExecuteTime": {
     "end_time": "2020-09-09T16:06:24.334286Z",
     "start_time": "2020-09-09T16:06:24.322595Z"
    }
   },
   "outputs": [],
   "source": [
    "replace_map={'BsmtQual':{'Ex':10,'Gd':8,'TA':6,'Fa':4,'Po':2}}"
   ]
  },
  {
   "cell_type": "code",
   "execution_count": 212,
   "metadata": {
    "ExecuteTime": {
     "end_time": "2020-09-09T16:06:24.344122Z",
     "start_time": "2020-09-09T16:06:24.336507Z"
    }
   },
   "outputs": [
    {
     "data": {
      "text/plain": [
       "TA    2688\n",
       "Gd     122\n",
       "Fa     104\n",
       "Po       5\n",
       "Name: BsmtCond, dtype: int64"
      ]
     },
     "execution_count": 212,
     "metadata": {},
     "output_type": "execute_result"
    }
   ],
   "source": [
    "data[cat_cols[21]].value_counts()"
   ]
  },
  {
   "cell_type": "code",
   "execution_count": 213,
   "metadata": {
    "ExecuteTime": {
     "end_time": "2020-09-09T16:06:24.352327Z",
     "start_time": "2020-09-09T16:06:24.347057Z"
    }
   },
   "outputs": [],
   "source": [
    "replace_map={'BsmtCond':{'Ex':10,'Gd':8,'TA':6,'Fa':4,'Po':2}}"
   ]
  },
  {
   "cell_type": "code",
   "execution_count": 214,
   "metadata": {
    "ExecuteTime": {
     "end_time": "2020-09-09T16:06:24.383826Z",
     "start_time": "2020-09-09T16:06:24.356113Z"
    }
   },
   "outputs": [],
   "source": [
    "data.replace(replace_map,inplace=True)"
   ]
  },
  {
   "cell_type": "code",
   "execution_count": 215,
   "metadata": {
    "ExecuteTime": {
     "end_time": "2020-09-09T16:06:24.400809Z",
     "start_time": "2020-09-09T16:06:24.386113Z"
    }
   },
   "outputs": [
    {
     "data": {
      "text/plain": [
       "No    1986\n",
       "Av     418\n",
       "Gd     276\n",
       "Mn     239\n",
       "Name: BsmtExposure, dtype: int64"
      ]
     },
     "execution_count": 215,
     "metadata": {},
     "output_type": "execute_result"
    }
   ],
   "source": [
    "data[cat_cols[22]].value_counts()"
   ]
  },
  {
   "cell_type": "markdown",
   "metadata": {},
   "source": [
    "BsmtExposure: Refers to walkout or garden level walls\n",
    "\n",
    "       Gd\tGood Exposure --->10\n",
    "       Av\tAverage Exposure (split levels or foyers typically score average or above)--->8\n",
    "       Mn\tMimimum Exposure--->6\n",
    "       No\tNo Exposure--->4\n",
    "       NA\tNo Basement--->2\n",
    "\t"
   ]
  },
  {
   "cell_type": "code",
   "execution_count": 216,
   "metadata": {
    "ExecuteTime": {
     "end_time": "2020-09-09T16:06:24.414971Z",
     "start_time": "2020-09-09T16:06:24.401846Z"
    }
   },
   "outputs": [],
   "source": [
    "replace_map={'BsmtExposure':{'Gd':10,'Av':8,'Mn':6,'No':4,'Na':2}}"
   ]
  },
  {
   "cell_type": "code",
   "execution_count": 217,
   "metadata": {
    "ExecuteTime": {
     "end_time": "2020-09-09T16:06:24.444215Z",
     "start_time": "2020-09-09T16:06:24.417474Z"
    }
   },
   "outputs": [],
   "source": [
    "data.replace(replace_map,inplace=True)"
   ]
  },
  {
   "cell_type": "code",
   "execution_count": 218,
   "metadata": {
    "ExecuteTime": {
     "end_time": "2020-09-09T16:06:24.459519Z",
     "start_time": "2020-09-09T16:06:24.446962Z"
    }
   },
   "outputs": [
    {
     "data": {
      "text/plain": [
       "Unf    930\n",
       "GLQ    849\n",
       "ALQ    429\n",
       "Rec    288\n",
       "BLQ    269\n",
       "LwQ    154\n",
       "Name: BsmtFinType1, dtype: int64"
      ]
     },
     "execution_count": 218,
     "metadata": {},
     "output_type": "execute_result"
    }
   ],
   "source": [
    "data[cat_cols[23]].value_counts()"
   ]
  },
  {
   "cell_type": "markdown",
   "metadata": {
    "ExecuteTime": {
     "end_time": "2020-09-08T23:43:57.524522Z",
     "start_time": "2020-09-08T23:43:57.516334Z"
    }
   },
   "source": [
    "BsmtFinType1: Rating of basement finished area\n",
    "\n",
    "       GLQ\tGood Living Quarters-->10\n",
    "       ALQ\tAverage Living Quarters-->5\n",
    "       BLQ\tBelow Average Living Quarters-->4\t\n",
    "       Rec\tAverage Rec Room-->3\n",
    "       LwQ\tLow Quality-->2\n",
    "       Unf\tUnfinshed-->1\n",
    "       NA\tNo Basement-->0"
   ]
  },
  {
   "cell_type": "code",
   "execution_count": 219,
   "metadata": {
    "ExecuteTime": {
     "end_time": "2020-09-09T16:06:24.474821Z",
     "start_time": "2020-09-09T16:06:24.463542Z"
    }
   },
   "outputs": [],
   "source": [
    "replace_map={'BsmtFinType1':{'GLQ':10,'ALQ':6,'BLQ':5,'Rec':4,'LwQ':3,'Unf':2,'NA':1}}"
   ]
  },
  {
   "cell_type": "code",
   "execution_count": 220,
   "metadata": {
    "ExecuteTime": {
     "end_time": "2020-09-09T16:06:24.499847Z",
     "start_time": "2020-09-09T16:06:24.475766Z"
    }
   },
   "outputs": [],
   "source": [
    "data.replace(replace_map,inplace=True)"
   ]
  },
  {
   "cell_type": "code",
   "execution_count": null,
   "metadata": {},
   "outputs": [],
   "source": []
  },
  {
   "cell_type": "code",
   "execution_count": null,
   "metadata": {},
   "outputs": [],
   "source": []
  },
  {
   "cell_type": "code",
   "execution_count": null,
   "metadata": {},
   "outputs": [],
   "source": []
  },
  {
   "cell_type": "code",
   "execution_count": 221,
   "metadata": {
    "ExecuteTime": {
     "end_time": "2020-09-09T16:06:25.099880Z",
     "start_time": "2020-09-09T16:06:24.501775Z"
    }
   },
   "outputs": [
    {
     "name": "stdout",
     "output_type": "stream",
     "text": [
      "Street\n",
      "Utilities\n",
      "CentralAir\n"
     ]
    }
   ],
   "source": [
    "cat_cols=[]\n",
    "for i in data.columns:\n",
    "    if type(data[i][0])==str:\n",
    "        cat_num(i)\n",
    "        cat_cols.append(i)\n",
    "        "
   ]
  },
  {
   "cell_type": "code",
   "execution_count": 222,
   "metadata": {
    "ExecuteTime": {
     "end_time": "2020-09-09T16:06:25.114114Z",
     "start_time": "2020-09-09T16:06:25.102550Z"
    }
   },
   "outputs": [
    {
     "data": {
      "text/plain": [
       "1    2723\n",
       "0     196\n",
       "Name: CentralAir, dtype: int64"
      ]
     },
     "execution_count": 222,
     "metadata": {},
     "output_type": "execute_result"
    }
   ],
   "source": [
    "data['CentralAir'].value_counts()"
   ]
  },
  {
   "cell_type": "code",
   "execution_count": null,
   "metadata": {},
   "outputs": [],
   "source": []
  },
  {
   "cell_type": "code",
   "execution_count": 223,
   "metadata": {
    "ExecuteTime": {
     "end_time": "2020-09-09T16:06:25.159938Z",
     "start_time": "2020-09-09T16:06:25.117256Z"
    }
   },
   "outputs": [
    {
     "data": {
      "text/html": [
       "<div>\n",
       "<style scoped>\n",
       "    .dataframe tbody tr th:only-of-type {\n",
       "        vertical-align: middle;\n",
       "    }\n",
       "\n",
       "    .dataframe tbody tr th {\n",
       "        vertical-align: top;\n",
       "    }\n",
       "\n",
       "    .dataframe thead th {\n",
       "        text-align: right;\n",
       "    }\n",
       "</style>\n",
       "<table border=\"1\" class=\"dataframe\">\n",
       "  <thead>\n",
       "    <tr style=\"text-align: right;\">\n",
       "      <th></th>\n",
       "      <th>Id</th>\n",
       "      <th>MSSubClass</th>\n",
       "      <th>MSZoning</th>\n",
       "      <th>LotArea</th>\n",
       "      <th>Street</th>\n",
       "      <th>Utilities</th>\n",
       "      <th>LotConfig</th>\n",
       "      <th>LandSlope</th>\n",
       "      <th>BldgType</th>\n",
       "      <th>HouseStyle</th>\n",
       "      <th>...</th>\n",
       "      <th>ConLw</th>\n",
       "      <th>New</th>\n",
       "      <th>Oth</th>\n",
       "      <th>WD</th>\n",
       "      <th>Abnorml</th>\n",
       "      <th>AdjLand</th>\n",
       "      <th>Alloca</th>\n",
       "      <th>Family</th>\n",
       "      <th>Normal</th>\n",
       "      <th>Partial</th>\n",
       "    </tr>\n",
       "    <tr>\n",
       "      <th>Ind</th>\n",
       "      <th></th>\n",
       "      <th></th>\n",
       "      <th></th>\n",
       "      <th></th>\n",
       "      <th></th>\n",
       "      <th></th>\n",
       "      <th></th>\n",
       "      <th></th>\n",
       "      <th></th>\n",
       "      <th></th>\n",
       "      <th></th>\n",
       "      <th></th>\n",
       "      <th></th>\n",
       "      <th></th>\n",
       "      <th></th>\n",
       "      <th></th>\n",
       "      <th></th>\n",
       "      <th></th>\n",
       "      <th></th>\n",
       "      <th></th>\n",
       "      <th></th>\n",
       "    </tr>\n",
       "  </thead>\n",
       "  <tbody>\n",
       "    <tr>\n",
       "      <th>0</th>\n",
       "      <td>1</td>\n",
       "      <td>60</td>\n",
       "      <td>4</td>\n",
       "      <td>8450</td>\n",
       "      <td>1</td>\n",
       "      <td>0</td>\n",
       "      <td>4</td>\n",
       "      <td>10</td>\n",
       "      <td>2</td>\n",
       "      <td>9</td>\n",
       "      <td>...</td>\n",
       "      <td>0</td>\n",
       "      <td>0</td>\n",
       "      <td>0</td>\n",
       "      <td>1</td>\n",
       "      <td>0</td>\n",
       "      <td>0</td>\n",
       "      <td>0</td>\n",
       "      <td>0</td>\n",
       "      <td>1</td>\n",
       "      <td>0</td>\n",
       "    </tr>\n",
       "  </tbody>\n",
       "</table>\n",
       "<p>1 rows × 187 columns</p>\n",
       "</div>"
      ],
      "text/plain": [
       "     Id  MSSubClass  MSZoning  LotArea  Street  Utilities  LotConfig  \\\n",
       "Ind                                                                    \n",
       "0     1          60         4     8450       1          0          4   \n",
       "\n",
       "     LandSlope  BldgType  HouseStyle   ...     ConLw  New  Oth  WD  Abnorml  \\\n",
       "Ind                                    ...                                    \n",
       "0           10         2           9   ...         0    0    0   1        0   \n",
       "\n",
       "     AdjLand  Alloca  Family  Normal  Partial  \n",
       "Ind                                            \n",
       "0          0       0       0       1        0  \n",
       "\n",
       "[1 rows x 187 columns]"
      ]
     },
     "execution_count": 223,
     "metadata": {},
     "output_type": "execute_result"
    }
   ],
   "source": [
    "data.head(1)"
   ]
  },
  {
   "cell_type": "markdown",
   "metadata": {},
   "source": [
    "##  Outlier Detection"
   ]
  },
  {
   "cell_type": "code",
   "execution_count": 224,
   "metadata": {
    "ExecuteTime": {
     "end_time": "2020-09-09T16:06:25.173235Z",
     "start_time": "2020-09-09T16:06:25.159938Z"
    }
   },
   "outputs": [],
   "source": [
    "def Outlier_Detecter(data,feature):\n",
    "    Q1=data[feature].quantile(0.25)\n",
    "    Q3=data[feature].quantile(0.75)\n",
    "    IQR=Q3-Q1\n",
    "    Lower_lim=Q1-1.5*IQR\n",
    "    Upper_lim=Q3+1.5*IQR\n",
    "    return len(data[(data[feature] < Lower_lim ) & (data[feature] > Upper_lim)])"
   ]
  },
  {
   "cell_type": "code",
   "execution_count": 225,
   "metadata": {
    "ExecuteTime": {
     "end_time": "2020-09-09T16:06:25.394930Z",
     "start_time": "2020-09-09T16:06:25.177379Z"
    }
   },
   "outputs": [],
   "source": [
    "outliers=[]\n",
    "for i in num_cols:\n",
    "    len_out=Outlier_Detecter(data,i)\n",
    "    if len_out >0:\n",
    "        outliers.append(i)"
   ]
  },
  {
   "cell_type": "code",
   "execution_count": 226,
   "metadata": {
    "ExecuteTime": {
     "end_time": "2020-09-09T16:06:25.410354Z",
     "start_time": "2020-09-09T16:06:25.394930Z"
    }
   },
   "outputs": [
    {
     "data": {
      "text/plain": [
       "[]"
      ]
     },
     "execution_count": 226,
     "metadata": {},
     "output_type": "execute_result"
    }
   ],
   "source": [
    "outliers"
   ]
  },
  {
   "cell_type": "markdown",
   "metadata": {
    "ExecuteTime": {
     "end_time": "2020-09-05T04:23:24.442177Z",
     "start_time": "2020-09-05T04:23:24.433888Z"
    }
   },
   "source": [
    "**There is no outliers found**"
   ]
  },
  {
   "cell_type": "markdown",
   "metadata": {},
   "source": [
    "###  Train Test Split"
   ]
  },
  {
   "cell_type": "code",
   "execution_count": 227,
   "metadata": {
    "ExecuteTime": {
     "end_time": "2020-09-09T16:06:25.442546Z",
     "start_time": "2020-09-09T16:06:25.412680Z"
    }
   },
   "outputs": [
    {
     "data": {
      "text/html": [
       "<div>\n",
       "<style scoped>\n",
       "    .dataframe tbody tr th:only-of-type {\n",
       "        vertical-align: middle;\n",
       "    }\n",
       "\n",
       "    .dataframe tbody tr th {\n",
       "        vertical-align: top;\n",
       "    }\n",
       "\n",
       "    .dataframe thead th {\n",
       "        text-align: right;\n",
       "    }\n",
       "</style>\n",
       "<table border=\"1\" class=\"dataframe\">\n",
       "  <thead>\n",
       "    <tr style=\"text-align: right;\">\n",
       "      <th></th>\n",
       "      <th>Id</th>\n",
       "      <th>MSSubClass</th>\n",
       "      <th>MSZoning</th>\n",
       "      <th>LotArea</th>\n",
       "      <th>Street</th>\n",
       "      <th>Utilities</th>\n",
       "      <th>LotConfig</th>\n",
       "      <th>LandSlope</th>\n",
       "      <th>BldgType</th>\n",
       "      <th>HouseStyle</th>\n",
       "      <th>...</th>\n",
       "      <th>ConLw</th>\n",
       "      <th>New</th>\n",
       "      <th>Oth</th>\n",
       "      <th>WD</th>\n",
       "      <th>Abnorml</th>\n",
       "      <th>AdjLand</th>\n",
       "      <th>Alloca</th>\n",
       "      <th>Family</th>\n",
       "      <th>Normal</th>\n",
       "      <th>Partial</th>\n",
       "    </tr>\n",
       "    <tr>\n",
       "      <th>Ind</th>\n",
       "      <th></th>\n",
       "      <th></th>\n",
       "      <th></th>\n",
       "      <th></th>\n",
       "      <th></th>\n",
       "      <th></th>\n",
       "      <th></th>\n",
       "      <th></th>\n",
       "      <th></th>\n",
       "      <th></th>\n",
       "      <th></th>\n",
       "      <th></th>\n",
       "      <th></th>\n",
       "      <th></th>\n",
       "      <th></th>\n",
       "      <th></th>\n",
       "      <th></th>\n",
       "      <th></th>\n",
       "      <th></th>\n",
       "      <th></th>\n",
       "      <th></th>\n",
       "    </tr>\n",
       "  </thead>\n",
       "  <tbody>\n",
       "    <tr>\n",
       "      <th>0</th>\n",
       "      <td>1</td>\n",
       "      <td>60</td>\n",
       "      <td>4</td>\n",
       "      <td>8450</td>\n",
       "      <td>1</td>\n",
       "      <td>0</td>\n",
       "      <td>4</td>\n",
       "      <td>10</td>\n",
       "      <td>2</td>\n",
       "      <td>9</td>\n",
       "      <td>...</td>\n",
       "      <td>0</td>\n",
       "      <td>0</td>\n",
       "      <td>0</td>\n",
       "      <td>1</td>\n",
       "      <td>0</td>\n",
       "      <td>0</td>\n",
       "      <td>0</td>\n",
       "      <td>0</td>\n",
       "      <td>1</td>\n",
       "      <td>0</td>\n",
       "    </tr>\n",
       "    <tr>\n",
       "      <th>1</th>\n",
       "      <td>2</td>\n",
       "      <td>20</td>\n",
       "      <td>4</td>\n",
       "      <td>9600</td>\n",
       "      <td>1</td>\n",
       "      <td>0</td>\n",
       "      <td>8</td>\n",
       "      <td>10</td>\n",
       "      <td>2</td>\n",
       "      <td>3</td>\n",
       "      <td>...</td>\n",
       "      <td>0</td>\n",
       "      <td>0</td>\n",
       "      <td>0</td>\n",
       "      <td>1</td>\n",
       "      <td>0</td>\n",
       "      <td>0</td>\n",
       "      <td>0</td>\n",
       "      <td>0</td>\n",
       "      <td>1</td>\n",
       "      <td>0</td>\n",
       "    </tr>\n",
       "    <tr>\n",
       "      <th>2</th>\n",
       "      <td>3</td>\n",
       "      <td>60</td>\n",
       "      <td>4</td>\n",
       "      <td>11250</td>\n",
       "      <td>1</td>\n",
       "      <td>0</td>\n",
       "      <td>4</td>\n",
       "      <td>10</td>\n",
       "      <td>2</td>\n",
       "      <td>9</td>\n",
       "      <td>...</td>\n",
       "      <td>0</td>\n",
       "      <td>0</td>\n",
       "      <td>0</td>\n",
       "      <td>1</td>\n",
       "      <td>0</td>\n",
       "      <td>0</td>\n",
       "      <td>0</td>\n",
       "      <td>0</td>\n",
       "      <td>1</td>\n",
       "      <td>0</td>\n",
       "    </tr>\n",
       "    <tr>\n",
       "      <th>3</th>\n",
       "      <td>4</td>\n",
       "      <td>70</td>\n",
       "      <td>4</td>\n",
       "      <td>9550</td>\n",
       "      <td>1</td>\n",
       "      <td>0</td>\n",
       "      <td>6</td>\n",
       "      <td>10</td>\n",
       "      <td>2</td>\n",
       "      <td>9</td>\n",
       "      <td>...</td>\n",
       "      <td>0</td>\n",
       "      <td>0</td>\n",
       "      <td>0</td>\n",
       "      <td>1</td>\n",
       "      <td>1</td>\n",
       "      <td>0</td>\n",
       "      <td>0</td>\n",
       "      <td>0</td>\n",
       "      <td>0</td>\n",
       "      <td>0</td>\n",
       "    </tr>\n",
       "    <tr>\n",
       "      <th>4</th>\n",
       "      <td>5</td>\n",
       "      <td>60</td>\n",
       "      <td>4</td>\n",
       "      <td>14260</td>\n",
       "      <td>1</td>\n",
       "      <td>0</td>\n",
       "      <td>8</td>\n",
       "      <td>10</td>\n",
       "      <td>2</td>\n",
       "      <td>9</td>\n",
       "      <td>...</td>\n",
       "      <td>0</td>\n",
       "      <td>0</td>\n",
       "      <td>0</td>\n",
       "      <td>1</td>\n",
       "      <td>0</td>\n",
       "      <td>0</td>\n",
       "      <td>0</td>\n",
       "      <td>0</td>\n",
       "      <td>1</td>\n",
       "      <td>0</td>\n",
       "    </tr>\n",
       "  </tbody>\n",
       "</table>\n",
       "<p>5 rows × 187 columns</p>\n",
       "</div>"
      ],
      "text/plain": [
       "     Id  MSSubClass  MSZoning  LotArea  Street  Utilities  LotConfig  \\\n",
       "Ind                                                                    \n",
       "0     1          60         4     8450       1          0          4   \n",
       "1     2          20         4     9600       1          0          8   \n",
       "2     3          60         4    11250       1          0          4   \n",
       "3     4          70         4     9550       1          0          6   \n",
       "4     5          60         4    14260       1          0          8   \n",
       "\n",
       "     LandSlope  BldgType  HouseStyle   ...     ConLw  New  Oth  WD  Abnorml  \\\n",
       "Ind                                    ...                                    \n",
       "0           10         2           9   ...         0    0    0   1        0   \n",
       "1           10         2           3   ...         0    0    0   1        0   \n",
       "2           10         2           9   ...         0    0    0   1        0   \n",
       "3           10         2           9   ...         0    0    0   1        1   \n",
       "4           10         2           9   ...         0    0    0   1        0   \n",
       "\n",
       "     AdjLand  Alloca  Family  Normal  Partial  \n",
       "Ind                                            \n",
       "0          0       0       0       1        0  \n",
       "1          0       0       0       1        0  \n",
       "2          0       0       0       1        0  \n",
       "3          0       0       0       0        0  \n",
       "4          0       0       0       1        0  \n",
       "\n",
       "[5 rows x 187 columns]"
      ]
     },
     "execution_count": 227,
     "metadata": {},
     "output_type": "execute_result"
    }
   ],
   "source": [
    "data.head()"
   ]
  },
  {
   "cell_type": "code",
   "execution_count": 228,
   "metadata": {
    "ExecuteTime": {
     "end_time": "2020-09-09T16:06:25.458552Z",
     "start_time": "2020-09-09T16:06:25.445131Z"
    }
   },
   "outputs": [
    {
     "name": "stdout",
     "output_type": "stream",
     "text": [
      "Train dataset shape:(1460, 80), \n",
      "Test dataset shape:(1459, 80)\n"
     ]
    }
   ],
   "source": [
    "print('Train dataset shape:{0}, \\nTest dataset shape:{1}'.format(train.shape,test.shape))"
   ]
  },
  {
   "cell_type": "code",
   "execution_count": 229,
   "metadata": {
    "ExecuteTime": {
     "end_time": "2020-09-09T16:06:25.474704Z",
     "start_time": "2020-09-09T16:06:25.459586Z"
    }
   },
   "outputs": [],
   "source": [
    "data_copy=data.copy()"
   ]
  },
  {
   "cell_type": "code",
   "execution_count": 230,
   "metadata": {
    "ExecuteTime": {
     "end_time": "2020-09-09T16:06:25.490591Z",
     "start_time": "2020-09-09T16:06:25.477405Z"
    }
   },
   "outputs": [],
   "source": [
    "data=data_copy.copy()"
   ]
  },
  {
   "cell_type": "code",
   "execution_count": 231,
   "metadata": {
    "ExecuteTime": {
     "end_time": "2020-09-09T16:06:25.500498Z",
     "start_time": "2020-09-09T16:06:25.493329Z"
    }
   },
   "outputs": [
    {
     "data": {
      "text/plain": [
       "RangeIndex(start=0, stop=1460, step=1)"
      ]
     },
     "execution_count": 231,
     "metadata": {},
     "output_type": "execute_result"
    }
   ],
   "source": [
    "train.index"
   ]
  },
  {
   "cell_type": "code",
   "execution_count": 232,
   "metadata": {
    "ExecuteTime": {
     "end_time": "2020-09-09T16:06:25.514182Z",
     "start_time": "2020-09-09T16:06:25.503488Z"
    }
   },
   "outputs": [],
   "source": [
    "x_train=data[:1460]"
   ]
  },
  {
   "cell_type": "markdown",
   "metadata": {
    "ExecuteTime": {
     "end_time": "2020-09-06T16:50:33.797379Z",
     "start_time": "2020-09-06T16:50:33.782417Z"
    }
   },
   "source": [
    "x_train=x_train[num_cols]"
   ]
  },
  {
   "cell_type": "code",
   "execution_count": 233,
   "metadata": {
    "ExecuteTime": {
     "end_time": "2020-09-09T16:06:25.580677Z",
     "start_time": "2020-09-09T16:06:25.518230Z"
    }
   },
   "outputs": [
    {
     "name": "stderr",
     "output_type": "stream",
     "text": [
      "C:\\Users\\Nandhu\\miniconda3\\envs\\study\\lib\\site-packages\\pandas\\core\\frame.py:3697: SettingWithCopyWarning: \n",
      "A value is trying to be set on a copy of a slice from a DataFrame\n",
      "\n",
      "See the caveats in the documentation: http://pandas.pydata.org/pandas-docs/stable/indexing.html#indexing-view-versus-copy\n",
      "  errors=errors)\n"
     ]
    }
   ],
   "source": [
    "x_train.drop(columns='Id',inplace=True)"
   ]
  },
  {
   "cell_type": "code",
   "execution_count": 234,
   "metadata": {
    "ExecuteTime": {
     "end_time": "2020-09-09T16:06:25.596150Z",
     "start_time": "2020-09-09T16:06:25.583952Z"
    }
   },
   "outputs": [],
   "source": [
    "x_test=data[1460:]"
   ]
  },
  {
   "cell_type": "markdown",
   "metadata": {
    "ExecuteTime": {
     "end_time": "2020-09-06T16:50:34.460032Z",
     "start_time": "2020-09-06T16:50:34.445085Z"
    }
   },
   "source": [
    "x_test=x_test[num_cols]"
   ]
  },
  {
   "cell_type": "code",
   "execution_count": 235,
   "metadata": {
    "ExecuteTime": {
     "end_time": "2020-09-09T16:06:25.660236Z",
     "start_time": "2020-09-09T16:06:25.597150Z"
    }
   },
   "outputs": [
    {
     "name": "stderr",
     "output_type": "stream",
     "text": [
      "C:\\Users\\Nandhu\\miniconda3\\envs\\study\\lib\\site-packages\\pandas\\core\\frame.py:3697: SettingWithCopyWarning: \n",
      "A value is trying to be set on a copy of a slice from a DataFrame\n",
      "\n",
      "See the caveats in the documentation: http://pandas.pydata.org/pandas-docs/stable/indexing.html#indexing-view-versus-copy\n",
      "  errors=errors)\n"
     ]
    }
   ],
   "source": [
    "x_test.drop(columns='Id',inplace=True)"
   ]
  },
  {
   "cell_type": "code",
   "execution_count": 236,
   "metadata": {
    "ExecuteTime": {
     "end_time": "2020-09-09T16:06:25.677692Z",
     "start_time": "2020-09-09T16:06:25.660236Z"
    }
   },
   "outputs": [
    {
     "name": "stdout",
     "output_type": "stream",
     "text": [
      "Train dataset shape:(1460, 186), \n",
      "Test dataset shape:(1459, 186)\n"
     ]
    }
   ],
   "source": [
    "print('Train dataset shape:{0}, \\nTest dataset shape:{1}'.format(x_train.shape,x_test.shape))"
   ]
  },
  {
   "cell_type": "code",
   "execution_count": 237,
   "metadata": {
    "ExecuteTime": {
     "end_time": "2020-09-09T16:06:25.695052Z",
     "start_time": "2020-09-09T16:06:25.679721Z"
    }
   },
   "outputs": [],
   "source": [
    "y_train=train_data['SalePrice']"
   ]
  },
  {
   "cell_type": "code",
   "execution_count": 238,
   "metadata": {
    "ExecuteTime": {
     "end_time": "2020-09-09T16:06:25.725005Z",
     "start_time": "2020-09-09T16:06:25.697824Z"
    }
   },
   "outputs": [
    {
     "data": {
      "text/html": [
       "<div>\n",
       "<style scoped>\n",
       "    .dataframe tbody tr th:only-of-type {\n",
       "        vertical-align: middle;\n",
       "    }\n",
       "\n",
       "    .dataframe tbody tr th {\n",
       "        vertical-align: top;\n",
       "    }\n",
       "\n",
       "    .dataframe thead th {\n",
       "        text-align: right;\n",
       "    }\n",
       "</style>\n",
       "<table border=\"1\" class=\"dataframe\">\n",
       "  <thead>\n",
       "    <tr style=\"text-align: right;\">\n",
       "      <th></th>\n",
       "      <th>MSSubClass</th>\n",
       "      <th>MSZoning</th>\n",
       "      <th>LotArea</th>\n",
       "      <th>Street</th>\n",
       "      <th>Utilities</th>\n",
       "      <th>LotConfig</th>\n",
       "      <th>LandSlope</th>\n",
       "      <th>BldgType</th>\n",
       "      <th>HouseStyle</th>\n",
       "      <th>OverallQual</th>\n",
       "      <th>...</th>\n",
       "      <th>ConLw</th>\n",
       "      <th>New</th>\n",
       "      <th>Oth</th>\n",
       "      <th>WD</th>\n",
       "      <th>Abnorml</th>\n",
       "      <th>AdjLand</th>\n",
       "      <th>Alloca</th>\n",
       "      <th>Family</th>\n",
       "      <th>Normal</th>\n",
       "      <th>Partial</th>\n",
       "    </tr>\n",
       "    <tr>\n",
       "      <th>Ind</th>\n",
       "      <th></th>\n",
       "      <th></th>\n",
       "      <th></th>\n",
       "      <th></th>\n",
       "      <th></th>\n",
       "      <th></th>\n",
       "      <th></th>\n",
       "      <th></th>\n",
       "      <th></th>\n",
       "      <th></th>\n",
       "      <th></th>\n",
       "      <th></th>\n",
       "      <th></th>\n",
       "      <th></th>\n",
       "      <th></th>\n",
       "      <th></th>\n",
       "      <th></th>\n",
       "      <th></th>\n",
       "      <th></th>\n",
       "      <th></th>\n",
       "      <th></th>\n",
       "    </tr>\n",
       "  </thead>\n",
       "  <tbody>\n",
       "    <tr>\n",
       "      <th>0</th>\n",
       "      <td>60</td>\n",
       "      <td>4</td>\n",
       "      <td>8450</td>\n",
       "      <td>1</td>\n",
       "      <td>0</td>\n",
       "      <td>4</td>\n",
       "      <td>10</td>\n",
       "      <td>2</td>\n",
       "      <td>9</td>\n",
       "      <td>7</td>\n",
       "      <td>...</td>\n",
       "      <td>0</td>\n",
       "      <td>0</td>\n",
       "      <td>0</td>\n",
       "      <td>1</td>\n",
       "      <td>0</td>\n",
       "      <td>0</td>\n",
       "      <td>0</td>\n",
       "      <td>0</td>\n",
       "      <td>1</td>\n",
       "      <td>0</td>\n",
       "    </tr>\n",
       "  </tbody>\n",
       "</table>\n",
       "<p>1 rows × 186 columns</p>\n",
       "</div>"
      ],
      "text/plain": [
       "     MSSubClass  MSZoning  LotArea  Street  Utilities  LotConfig  LandSlope  \\\n",
       "Ind                                                                           \n",
       "0            60         4     8450       1          0          4         10   \n",
       "\n",
       "     BldgType  HouseStyle  OverallQual   ...     ConLw  New  Oth  WD  Abnorml  \\\n",
       "Ind                                      ...                                    \n",
       "0           2           9            7   ...         0    0    0   1        0   \n",
       "\n",
       "     AdjLand  Alloca  Family  Normal  Partial  \n",
       "Ind                                            \n",
       "0          0       0       0       1        0  \n",
       "\n",
       "[1 rows x 186 columns]"
      ]
     },
     "execution_count": 238,
     "metadata": {},
     "output_type": "execute_result"
    }
   ],
   "source": [
    "x_train.head(1)"
   ]
  },
  {
   "cell_type": "code",
   "execution_count": 239,
   "metadata": {
    "ExecuteTime": {
     "end_time": "2020-09-09T16:06:25.759777Z",
     "start_time": "2020-09-09T16:06:25.725005Z"
    }
   },
   "outputs": [
    {
     "data": {
      "text/html": [
       "<div>\n",
       "<style scoped>\n",
       "    .dataframe tbody tr th:only-of-type {\n",
       "        vertical-align: middle;\n",
       "    }\n",
       "\n",
       "    .dataframe tbody tr th {\n",
       "        vertical-align: top;\n",
       "    }\n",
       "\n",
       "    .dataframe thead th {\n",
       "        text-align: right;\n",
       "    }\n",
       "</style>\n",
       "<table border=\"1\" class=\"dataframe\">\n",
       "  <thead>\n",
       "    <tr style=\"text-align: right;\">\n",
       "      <th></th>\n",
       "      <th>MSSubClass</th>\n",
       "      <th>MSZoning</th>\n",
       "      <th>LotArea</th>\n",
       "      <th>Street</th>\n",
       "      <th>Utilities</th>\n",
       "      <th>LotConfig</th>\n",
       "      <th>LandSlope</th>\n",
       "      <th>BldgType</th>\n",
       "      <th>HouseStyle</th>\n",
       "      <th>OverallQual</th>\n",
       "      <th>...</th>\n",
       "      <th>ConLw</th>\n",
       "      <th>New</th>\n",
       "      <th>Oth</th>\n",
       "      <th>WD</th>\n",
       "      <th>Abnorml</th>\n",
       "      <th>AdjLand</th>\n",
       "      <th>Alloca</th>\n",
       "      <th>Family</th>\n",
       "      <th>Normal</th>\n",
       "      <th>Partial</th>\n",
       "    </tr>\n",
       "    <tr>\n",
       "      <th>Ind</th>\n",
       "      <th></th>\n",
       "      <th></th>\n",
       "      <th></th>\n",
       "      <th></th>\n",
       "      <th></th>\n",
       "      <th></th>\n",
       "      <th></th>\n",
       "      <th></th>\n",
       "      <th></th>\n",
       "      <th></th>\n",
       "      <th></th>\n",
       "      <th></th>\n",
       "      <th></th>\n",
       "      <th></th>\n",
       "      <th></th>\n",
       "      <th></th>\n",
       "      <th></th>\n",
       "      <th></th>\n",
       "      <th></th>\n",
       "      <th></th>\n",
       "      <th></th>\n",
       "    </tr>\n",
       "  </thead>\n",
       "  <tbody>\n",
       "    <tr>\n",
       "      <th>1460</th>\n",
       "      <td>20</td>\n",
       "      <td>8</td>\n",
       "      <td>11622</td>\n",
       "      <td>1</td>\n",
       "      <td>0</td>\n",
       "      <td>4</td>\n",
       "      <td>10</td>\n",
       "      <td>2</td>\n",
       "      <td>3</td>\n",
       "      <td>5</td>\n",
       "      <td>...</td>\n",
       "      <td>0</td>\n",
       "      <td>0</td>\n",
       "      <td>0</td>\n",
       "      <td>1</td>\n",
       "      <td>0</td>\n",
       "      <td>0</td>\n",
       "      <td>0</td>\n",
       "      <td>0</td>\n",
       "      <td>1</td>\n",
       "      <td>0</td>\n",
       "    </tr>\n",
       "  </tbody>\n",
       "</table>\n",
       "<p>1 rows × 186 columns</p>\n",
       "</div>"
      ],
      "text/plain": [
       "      MSSubClass  MSZoning  LotArea  Street  Utilities  LotConfig  LandSlope  \\\n",
       "Ind                                                                            \n",
       "1460          20         8    11622       1          0          4         10   \n",
       "\n",
       "      BldgType  HouseStyle  OverallQual   ...     ConLw  New  Oth  WD  \\\n",
       "Ind                                       ...                           \n",
       "1460         2           3            5   ...         0    0    0   1   \n",
       "\n",
       "      Abnorml  AdjLand  Alloca  Family  Normal  Partial  \n",
       "Ind                                                      \n",
       "1460        0        0       0       0       1        0  \n",
       "\n",
       "[1 rows x 186 columns]"
      ]
     },
     "execution_count": 239,
     "metadata": {},
     "output_type": "execute_result"
    }
   ],
   "source": [
    "x_test.head(1)"
   ]
  },
  {
   "cell_type": "code",
   "execution_count": 240,
   "metadata": {
    "ExecuteTime": {
     "end_time": "2020-09-09T16:06:25.783679Z",
     "start_time": "2020-09-09T16:06:25.762955Z"
    }
   },
   "outputs": [
    {
     "data": {
      "text/plain": [
       "0    208500\n",
       "Name: SalePrice, dtype: int64"
      ]
     },
     "execution_count": 240,
     "metadata": {},
     "output_type": "execute_result"
    }
   ],
   "source": [
    "y_train.head(1)"
   ]
  },
  {
   "cell_type": "markdown",
   "metadata": {},
   "source": [
    "##  Feature Selection"
   ]
  },
  {
   "cell_type": "code",
   "execution_count": 241,
   "metadata": {
    "ExecuteTime": {
     "end_time": "2020-09-09T16:06:26.074808Z",
     "start_time": "2020-09-09T16:06:25.786672Z"
    }
   },
   "outputs": [],
   "source": [
    "from sklearn.feature_selection import SelectKBest, chi2"
   ]
  },
  {
   "cell_type": "code",
   "execution_count": 242,
   "metadata": {
    "ExecuteTime": {
     "end_time": "2020-09-09T16:06:26.133820Z",
     "start_time": "2020-09-09T16:06:26.077105Z"
    }
   },
   "outputs": [],
   "source": [
    "kbest=SelectKBest(score_func=chi2,k=30)\n",
    "kbestf=kbest.fit(x_train,y_train)"
   ]
  },
  {
   "cell_type": "code",
   "execution_count": 243,
   "metadata": {
    "ExecuteTime": {
     "end_time": "2020-09-09T16:06:26.150492Z",
     "start_time": "2020-09-09T16:06:26.136343Z"
    }
   },
   "outputs": [
    {
     "data": {
      "text/plain": [
       "186"
      ]
     },
     "execution_count": 243,
     "metadata": {},
     "output_type": "execute_result"
    }
   ],
   "source": [
    "len(kbestf.scores_)"
   ]
  },
  {
   "cell_type": "code",
   "execution_count": 244,
   "metadata": {
    "ExecuteTime": {
     "end_time": "2020-09-09T16:06:26.165705Z",
     "start_time": "2020-09-09T16:06:26.153226Z"
    }
   },
   "outputs": [],
   "source": [
    "score=pd.DataFrame({'Score':kbestf.scores_,'Features':x_train.columns})"
   ]
  },
  {
   "cell_type": "code",
   "execution_count": 245,
   "metadata": {
    "ExecuteTime": {
     "end_time": "2020-09-09T16:06:26.181171Z",
     "start_time": "2020-09-09T16:06:26.167973Z"
    }
   },
   "outputs": [],
   "source": [
    "kbest25=list(score.nlargest(246,columns='Score')['Features'])"
   ]
  },
  {
   "cell_type": "code",
   "execution_count": 246,
   "metadata": {
    "ExecuteTime": {
     "end_time": "2020-09-09T16:06:26.191595Z",
     "start_time": "2020-09-09T16:06:26.183814Z"
    }
   },
   "outputs": [
    {
     "data": {
      "text/plain": [
       "186"
      ]
     },
     "execution_count": 246,
     "metadata": {},
     "output_type": "execute_result"
    }
   ],
   "source": [
    "len(kbest25)"
   ]
  },
  {
   "cell_type": "code",
   "execution_count": 247,
   "metadata": {
    "ExecuteTime": {
     "end_time": "2020-09-09T16:06:26.214213Z",
     "start_time": "2020-09-09T16:06:26.194727Z"
    }
   },
   "outputs": [],
   "source": [
    "x_train_f=x_train[kbest25]"
   ]
  },
  {
   "cell_type": "code",
   "execution_count": 248,
   "metadata": {
    "ExecuteTime": {
     "end_time": "2020-09-09T16:06:26.230225Z",
     "start_time": "2020-09-09T16:06:26.216978Z"
    }
   },
   "outputs": [],
   "source": [
    "x_test_f=x_test[kbest25]"
   ]
  },
  {
   "cell_type": "markdown",
   "metadata": {},
   "source": [
    "## Machine Learning"
   ]
  },
  {
   "cell_type": "code",
   "execution_count": 249,
   "metadata": {
    "ExecuteTime": {
     "end_time": "2020-09-09T16:06:26.332575Z",
     "start_time": "2020-09-09T16:06:26.233665Z"
    }
   },
   "outputs": [
    {
     "name": "stderr",
     "output_type": "stream",
     "text": [
      "C:\\Users\\Nandhu\\miniconda3\\envs\\study\\lib\\site-packages\\xgboost\\__init__.py:29: FutureWarning: Python 3.5 support is deprecated; XGBoost will require Python 3.6+ in the near future. Consider upgrading to Python 3.6+.\n",
      "  FutureWarning)\n"
     ]
    }
   ],
   "source": [
    "from sklearn.linear_model import LinearRegression,Lasso,LogisticRegression\n",
    "from xgboost import XGBRegressor"
   ]
  },
  {
   "cell_type": "markdown",
   "metadata": {},
   "source": [
    "###  Linear Regression"
   ]
  },
  {
   "cell_type": "code",
   "execution_count": 250,
   "metadata": {
    "ExecuteTime": {
     "end_time": "2020-09-09T16:06:26.350416Z",
     "start_time": "2020-09-09T16:06:26.335568Z"
    }
   },
   "outputs": [],
   "source": [
    "lr=LinearRegression()"
   ]
  },
  {
   "cell_type": "code",
   "execution_count": 251,
   "metadata": {
    "ExecuteTime": {
     "end_time": "2020-09-09T16:06:26.515052Z",
     "start_time": "2020-09-09T16:06:26.352980Z"
    }
   },
   "outputs": [],
   "source": [
    "lrf=lr.fit(x_train_f,y_train)"
   ]
  },
  {
   "cell_type": "code",
   "execution_count": 252,
   "metadata": {
    "ExecuteTime": {
     "end_time": "2020-09-09T16:06:26.533621Z",
     "start_time": "2020-09-09T16:06:26.518982Z"
    }
   },
   "outputs": [],
   "source": [
    "y_predict=lrf.predict(x_test_f)"
   ]
  },
  {
   "cell_type": "code",
   "execution_count": 253,
   "metadata": {
    "ExecuteTime": {
     "end_time": "2020-09-09T16:06:26.557614Z",
     "start_time": "2020-09-09T16:06:26.536344Z"
    }
   },
   "outputs": [
    {
     "data": {
      "text/plain": [
       "array([110556.20412591, 143883.76546693, 183156.5195165 , ...,\n",
       "       164949.04656962, 102478.62770672, 221374.26112631])"
      ]
     },
     "execution_count": 253,
     "metadata": {},
     "output_type": "execute_result"
    }
   ],
   "source": [
    "y_predict"
   ]
  },
  {
   "cell_type": "code",
   "execution_count": 254,
   "metadata": {
    "ExecuteTime": {
     "end_time": "2020-09-09T16:06:26.597273Z",
     "start_time": "2020-09-09T16:06:26.561606Z"
    }
   },
   "outputs": [],
   "source": [
    "'''Saving the results in Csv'''\n",
    "data={'Id':range(1461,2920),'SalePrice':y_predict}\n",
    "pd.DataFrame(data).set_index('Id').to_csv(r'submission files/submission_NH06.csv')"
   ]
  },
  {
   "cell_type": "code",
   "execution_count": 255,
   "metadata": {
    "ExecuteTime": {
     "end_time": "2020-09-09T16:06:26.628741Z",
     "start_time": "2020-09-09T16:06:26.600203Z"
    }
   },
   "outputs": [],
   "source": [
    "best_score=pd.read_csv(r'submission files/submission_NH05.csv')"
   ]
  },
  {
   "cell_type": "code",
   "execution_count": 256,
   "metadata": {
    "ExecuteTime": {
     "end_time": "2020-09-09T16:06:26.642950Z",
     "start_time": "2020-09-09T16:06:26.631687Z"
    }
   },
   "outputs": [],
   "source": [
    "a=best_score['SalePrice']-y_predict"
   ]
  },
  {
   "cell_type": "code",
   "execution_count": 257,
   "metadata": {
    "ExecuteTime": {
     "end_time": "2020-09-09T16:06:27.064926Z",
     "start_time": "2020-09-09T16:06:26.645898Z"
    }
   },
   "outputs": [
    {
     "name": "stderr",
     "output_type": "stream",
     "text": [
      "C:\\Users\\Nandhu\\miniconda3\\envs\\study\\lib\\site-packages\\scipy\\stats\\stats.py:1713: FutureWarning: Using a non-tuple sequence for multidimensional indexing is deprecated; use `arr[tuple(seq)]` instead of `arr[seq]`. In the future this will be interpreted as an array index, `arr[np.array(seq)]`, which will result either in an error or a different result.\n",
      "  return np.add.reduce(sorted[indexer] * weights, axis=axis) / sumval\n"
     ]
    },
    {
     "data": {
      "text/plain": [
       "<matplotlib.axes._subplots.AxesSubplot at 0x29e10f78d30>"
      ]
     },
     "execution_count": 257,
     "metadata": {},
     "output_type": "execute_result"
    },
    {
     "data": {
      "image/png": "[encoded data removed]",
      "text/plain": [
       "<Figure size 432x288 with 1 Axes>"
      ]
     },
     "metadata": {
      "needs_background": "light"
     },
     "output_type": "display_data"
    }
   ],
   "source": [
    "#fig,ax1=plt.subplot(1,1)\n",
    "sns.distplot(a,bins=30)\n"
   ]
  },
  {
   "cell_type": "code",
   "execution_count": 258,
   "metadata": {
    "ExecuteTime": {
     "end_time": "2020-09-09T16:06:27.074005Z",
     "start_time": "2020-09-09T16:06:27.069079Z"
    }
   },
   "outputs": [],
   "source": [
    "best_score['new']=y_predict"
   ]
  },
  {
   "cell_type": "code",
   "execution_count": 259,
   "metadata": {
    "ExecuteTime": {
     "end_time": "2020-09-09T16:06:27.372820Z",
     "start_time": "2020-09-09T16:06:27.077564Z"
    },
    "scrolled": true
   },
   "outputs": [
    {
     "data": {
      "text/plain": [
       "<matplotlib.axes._subplots.AxesSubplot at 0x29e108b5ef0>"
      ]
     },
     "execution_count": 259,
     "metadata": {},
     "output_type": "execute_result"
    },
    {
     "data": {
      "image/png": "[encoded data removed]",
      "text/plain": [
       "<Figure size 432x288 with 2 Axes>"
      ]
     },
     "metadata": {
      "needs_background": "light"
     },
     "output_type": "display_data"
    }
   ],
   "source": [
    "sns.heatmap(best_score[['SalePrice','new']].corr(),annot=True)"
   ]
  },
  {
   "cell_type": "markdown",
   "metadata": {},
   "source": [
    "### Random Forest Regressor"
   ]
  },
  {
   "cell_type": "code",
   "execution_count": 260,
   "metadata": {
    "ExecuteTime": {
     "end_time": "2020-09-09T16:06:27.478238Z",
     "start_time": "2020-09-09T16:06:27.374948Z"
    }
   },
   "outputs": [],
   "source": [
    "from sklearn.ensemble import RandomForestRegressor"
   ]
  },
  {
   "cell_type": "code",
   "execution_count": 261,
   "metadata": {
    "ExecuteTime": {
     "end_time": "2020-09-09T16:06:27.486626Z",
     "start_time": "2020-09-09T16:06:27.480233Z"
    }
   },
   "outputs": [],
   "source": [
    "rfs=RandomForestRegressor()"
   ]
  },
  {
   "cell_type": "code",
   "execution_count": 262,
   "metadata": {
    "ExecuteTime": {
     "end_time": "2020-09-09T16:06:31.494155Z",
     "start_time": "2020-09-09T16:06:27.488720Z"
    }
   },
   "outputs": [],
   "source": [
    "svr=rfs.fit(x_train_f,y_train)"
   ]
  },
  {
   "cell_type": "code",
   "execution_count": 263,
   "metadata": {
    "ExecuteTime": {
     "end_time": "2020-09-09T16:06:31.564928Z",
     "start_time": "2020-09-09T16:06:31.496249Z"
    }
   },
   "outputs": [],
   "source": [
    "y_predict=svr.predict(x_test_f)"
   ]
  },
  {
   "cell_type": "code",
   "execution_count": 264,
   "metadata": {
    "ExecuteTime": {
     "end_time": "2020-09-09T16:06:31.582522Z",
     "start_time": "2020-09-09T16:06:31.567704Z"
    }
   },
   "outputs": [
    {
     "data": {
      "text/plain": [
       "array([126943.26, 157002.82, 177229.71, ..., 153788.46, 116456.  ,\n",
       "       230811.8 ])"
      ]
     },
     "execution_count": 264,
     "metadata": {},
     "output_type": "execute_result"
    }
   ],
   "source": [
    "y_predict"
   ]
  },
  {
   "cell_type": "markdown",
   "metadata": {
    "ExecuteTime": {
     "end_time": "2020-09-07T18:05:48.510605Z",
     "start_time": "2020-09-07T18:05:48.476642Z"
    }
   },
   "source": [
    "Saving the results in Csv\n",
    "data={'Id':range(1461,2920),'SalePrice':y_predict}\n",
    "pd.DataFrame(data).set_index('Id').to_csv(r'submission files/submission_mhdLR.csv')"
   ]
  },
  {
   "cell_type": "code",
   "execution_count": 265,
   "metadata": {
    "ExecuteTime": {
     "end_time": "2020-09-09T16:06:31.615076Z",
     "start_time": "2020-09-09T16:06:31.585125Z"
    }
   },
   "outputs": [],
   "source": [
    "best_score=pd.read_csv(r'submission files/submission_05dlr.csv')"
   ]
  },
  {
   "cell_type": "code",
   "execution_count": 266,
   "metadata": {
    "ExecuteTime": {
     "end_time": "2020-09-09T16:06:31.624014Z",
     "start_time": "2020-09-09T16:06:31.617621Z"
    }
   },
   "outputs": [],
   "source": [
    "a=best_score['SalePrice']-y_predict"
   ]
  },
  {
   "cell_type": "code",
   "execution_count": 267,
   "metadata": {
    "ExecuteTime": {
     "end_time": "2020-09-09T16:06:32.026056Z",
     "start_time": "2020-09-09T16:06:31.627461Z"
    }
   },
   "outputs": [
    {
     "name": "stderr",
     "output_type": "stream",
     "text": [
      "C:\\Users\\Nandhu\\miniconda3\\envs\\study\\lib\\site-packages\\scipy\\stats\\stats.py:1713: FutureWarning: Using a non-tuple sequence for multidimensional indexing is deprecated; use `arr[tuple(seq)]` instead of `arr[seq]`. In the future this will be interpreted as an array index, `arr[np.array(seq)]`, which will result either in an error or a different result.\n",
      "  return np.add.reduce(sorted[indexer] * weights, axis=axis) / sumval\n"
     ]
    },
    {
     "data": {
      "text/plain": [
       "<matplotlib.axes._subplots.AxesSubplot at 0x29e11414c18>"
      ]
     },
     "execution_count": 267,
     "metadata": {},
     "output_type": "execute_result"
    },
    {
     "data": {
      "image/png": "[encoded data removed]",
      "text/plain": [
       "<Figure size 432x288 with 1 Axes>"
      ]
     },
     "metadata": {
      "needs_background": "light"
     },
     "output_type": "display_data"
    }
   ],
   "source": [
    "#fig,ax1=plt.subplot(1,1)\n",
    "sns.distplot(a,bins=30)\n"
   ]
  },
  {
   "cell_type": "code",
   "execution_count": 268,
   "metadata": {
    "ExecuteTime": {
     "end_time": "2020-09-09T16:06:32.041690Z",
     "start_time": "2020-09-09T16:06:32.028600Z"
    }
   },
   "outputs": [],
   "source": [
    "best_score['new']=y_predict"
   ]
  },
  {
   "cell_type": "code",
   "execution_count": 269,
   "metadata": {
    "ExecuteTime": {
     "end_time": "2020-09-09T16:06:32.340799Z",
     "start_time": "2020-09-09T16:06:32.044717Z"
    },
    "scrolled": true
   },
   "outputs": [
    {
     "data": {
      "text/plain": [
       "<matplotlib.axes._subplots.AxesSubplot at 0x29e11490ba8>"
      ]
     },
     "execution_count": 269,
     "metadata": {},
     "output_type": "execute_result"
    },
    {
     "data": {
      "image/png": "[encoded data removed]",
      "text/plain": [
       "<Figure size 432x288 with 2 Axes>"
      ]
     },
     "metadata": {
      "needs_background": "light"
     },
     "output_type": "display_data"
    }
   ],
   "source": [
    "sns.heatmap(best_score[['SalePrice','new']].corr(),annot=True)"
   ]
  },
  {
   "cell_type": "markdown",
   "metadata": {},
   "source": [
    "##  XGB Regressor"
   ]
  },
  {
   "cell_type": "code",
   "execution_count": 270,
   "metadata": {
    "ExecuteTime": {
     "end_time": "2020-09-09T16:06:32.361627Z",
     "start_time": "2020-09-09T16:06:32.343355Z"
    }
   },
   "outputs": [],
   "source": [
    "xgb=XGBRegressor()"
   ]
  },
  {
   "cell_type": "code",
   "execution_count": 271,
   "metadata": {
    "ExecuteTime": {
     "end_time": "2020-09-09T16:06:32.600776Z",
     "start_time": "2020-09-09T16:06:32.364643Z"
    }
   },
   "outputs": [
    {
     "ename": "ValueError",
     "evalue": "feature_names must be unique",
     "output_type": "error",
     "traceback": [
      "\u001b[1;31m---------------------------------------------------------------------------\u001b[0m",
      "\u001b[1;31mValueError\u001b[0m                                Traceback (most recent call last)",
      "\u001b[1;32m<ipython-input-271-2ff464e940c3>\u001b[0m in \u001b[0;36m<module>\u001b[1;34m()\u001b[0m\n\u001b[1;32m----> 1\u001b[1;33m \u001b[0mxgb_fit\u001b[0m\u001b[1;33m=\u001b[0m\u001b[0mxgb\u001b[0m\u001b[1;33m.\u001b[0m\u001b[0mfit\u001b[0m\u001b[1;33m(\u001b[0m\u001b[0mx_train_f\u001b[0m\u001b[1;33m,\u001b[0m\u001b[0my_train\u001b[0m\u001b[1;33m)\u001b[0m\u001b[1;33m\u001b[0m\u001b[0m\n\u001b[0m",
      "\u001b[1;32mC:\\Users\\Nandhu\\miniconda3\\envs\\study\\lib\\site-packages\\xgboost\\sklearn.py\u001b[0m in \u001b[0;36mfit\u001b[1;34m(self, X, y, sample_weight, base_margin, eval_set, eval_metric, early_stopping_rounds, verbose, xgb_model, sample_weight_eval_set, callbacks)\u001b[0m\n\u001b[0;32m    502\u001b[0m                                 \u001b[0mbase_margin\u001b[0m\u001b[1;33m=\u001b[0m\u001b[0mbase_margin\u001b[0m\u001b[1;33m,\u001b[0m\u001b[1;33m\u001b[0m\u001b[0m\n\u001b[0;32m    503\u001b[0m                                 \u001b[0mmissing\u001b[0m\u001b[1;33m=\u001b[0m\u001b[0mself\u001b[0m\u001b[1;33m.\u001b[0m\u001b[0mmissing\u001b[0m\u001b[1;33m,\u001b[0m\u001b[1;33m\u001b[0m\u001b[0m\n\u001b[1;32m--> 504\u001b[1;33m                                 nthread=self.n_jobs)\n\u001b[0m\u001b[0;32m    505\u001b[0m \u001b[1;33m\u001b[0m\u001b[0m\n\u001b[0;32m    506\u001b[0m         \u001b[0mevals_result\u001b[0m \u001b[1;33m=\u001b[0m \u001b[1;33m{\u001b[0m\u001b[1;33m}\u001b[0m\u001b[1;33m\u001b[0m\u001b[0m\n",
      "\u001b[1;32mC:\\Users\\Nandhu\\miniconda3\\envs\\study\\lib\\site-packages\\xgboost\\core.py\u001b[0m in \u001b[0;36m__init__\u001b[1;34m(self, data, label, weight, base_margin, missing, silent, feature_names, feature_types, nthread)\u001b[0m\n\u001b[0;32m    556\u001b[0m             \u001b[0mself\u001b[0m\u001b[1;33m.\u001b[0m\u001b[0mset_base_margin\u001b[0m\u001b[1;33m(\u001b[0m\u001b[0mbase_margin\u001b[0m\u001b[1;33m)\u001b[0m\u001b[1;33m\u001b[0m\u001b[0m\n\u001b[0;32m    557\u001b[0m \u001b[1;33m\u001b[0m\u001b[0m\n\u001b[1;32m--> 558\u001b[1;33m         \u001b[0mself\u001b[0m\u001b[1;33m.\u001b[0m\u001b[0mfeature_names\u001b[0m \u001b[1;33m=\u001b[0m \u001b[0mfeature_names\u001b[0m\u001b[1;33m\u001b[0m\u001b[0m\n\u001b[0m\u001b[0;32m    559\u001b[0m         \u001b[0mself\u001b[0m\u001b[1;33m.\u001b[0m\u001b[0mfeature_types\u001b[0m \u001b[1;33m=\u001b[0m \u001b[0mfeature_types\u001b[0m\u001b[1;33m\u001b[0m\u001b[0m\n\u001b[0;32m    560\u001b[0m \u001b[1;33m\u001b[0m\u001b[0m\n",
      "\u001b[1;32mC:\\Users\\Nandhu\\miniconda3\\envs\\study\\lib\\site-packages\\xgboost\\core.py\u001b[0m in \u001b[0;36mfeature_names\u001b[1;34m(self, feature_names)\u001b[0m\n\u001b[0;32m   1001\u001b[0m \u001b[1;33m\u001b[0m\u001b[0m\n\u001b[0;32m   1002\u001b[0m             \u001b[1;32mif\u001b[0m \u001b[0mlen\u001b[0m\u001b[1;33m(\u001b[0m\u001b[0mfeature_names\u001b[0m\u001b[1;33m)\u001b[0m \u001b[1;33m!=\u001b[0m \u001b[0mlen\u001b[0m\u001b[1;33m(\u001b[0m\u001b[0mset\u001b[0m\u001b[1;33m(\u001b[0m\u001b[0mfeature_names\u001b[0m\u001b[1;33m)\u001b[0m\u001b[1;33m)\u001b[0m\u001b[1;33m:\u001b[0m\u001b[1;33m\u001b[0m\u001b[0m\n\u001b[1;32m-> 1003\u001b[1;33m                 \u001b[1;32mraise\u001b[0m \u001b[0mValueError\u001b[0m\u001b[1;33m(\u001b[0m\u001b[1;34m'feature_names must be unique'\u001b[0m\u001b[1;33m)\u001b[0m\u001b[1;33m\u001b[0m\u001b[0m\n\u001b[0m\u001b[0;32m   1004\u001b[0m             \u001b[1;32mif\u001b[0m \u001b[0mlen\u001b[0m\u001b[1;33m(\u001b[0m\u001b[0mfeature_names\u001b[0m\u001b[1;33m)\u001b[0m \u001b[1;33m!=\u001b[0m \u001b[0mself\u001b[0m\u001b[1;33m.\u001b[0m\u001b[0mnum_col\u001b[0m\u001b[1;33m(\u001b[0m\u001b[1;33m)\u001b[0m\u001b[1;33m:\u001b[0m\u001b[1;33m\u001b[0m\u001b[0m\n\u001b[0;32m   1005\u001b[0m                 \u001b[0mmsg\u001b[0m \u001b[1;33m=\u001b[0m \u001b[1;34m'feature_names must have the same length as data'\u001b[0m\u001b[1;33m\u001b[0m\u001b[0m\n",
      "\u001b[1;31mValueError\u001b[0m: feature_names must be unique"
     ]
    }
   ],
   "source": [
    "xgb_fit=xgb.fit(x_train_f,y_train)"
   ]
  },
  {
   "cell_type": "code",
   "execution_count": null,
   "metadata": {
    "ExecuteTime": {
     "end_time": "2020-09-09T16:06:32.601772Z",
     "start_time": "2020-09-09T16:06:23.239Z"
    }
   },
   "outputs": [],
   "source": [
    "y_predict=svr.predict(x_test_f)"
   ]
  },
  {
   "cell_type": "code",
   "execution_count": null,
   "metadata": {
    "ExecuteTime": {
     "end_time": "2020-09-09T16:06:32.604875Z",
     "start_time": "2020-09-09T16:06:23.245Z"
    }
   },
   "outputs": [],
   "source": [
    "y_predict"
   ]
  },
  {
   "cell_type": "markdown",
   "metadata": {
    "ExecuteTime": {
     "end_time": "2020-09-07T18:05:48.510605Z",
     "start_time": "2020-09-07T18:05:48.476642Z"
    }
   },
   "source": [
    "Saving the results in Csv\n",
    "data={'Id':range(1461,2920),'SalePrice':y_predict}\n",
    "pd.DataFrame(data).set_index('Id').to_csv(r'submission files/submission_mhdLR.csv')"
   ]
  },
  {
   "cell_type": "code",
   "execution_count": null,
   "metadata": {
    "ExecuteTime": {
     "end_time": "2020-09-09T16:06:32.606057Z",
     "start_time": "2020-09-09T16:06:23.251Z"
    }
   },
   "outputs": [],
   "source": [
    "best_score=pd.read_csv(r'submission files/submission_05dlr.csv')"
   ]
  },
  {
   "cell_type": "code",
   "execution_count": null,
   "metadata": {
    "ExecuteTime": {
     "end_time": "2020-09-09T16:06:32.607171Z",
     "start_time": "2020-09-09T16:06:23.256Z"
    }
   },
   "outputs": [],
   "source": [
    "a=best_score['SalePrice']-y_predict"
   ]
  },
  {
   "cell_type": "code",
   "execution_count": null,
   "metadata": {
    "ExecuteTime": {
     "end_time": "2020-09-09T16:06:32.608206Z",
     "start_time": "2020-09-09T16:06:23.265Z"
    }
   },
   "outputs": [],
   "source": [
    "#fig,ax1=plt.subplot(1,1)\n",
    "sns.distplot(a,bins=30)\n"
   ]
  },
  {
   "cell_type": "code",
   "execution_count": null,
   "metadata": {
    "ExecuteTime": {
     "end_time": "2020-09-09T16:06:32.608801Z",
     "start_time": "2020-09-09T16:06:23.270Z"
    }
   },
   "outputs": [],
   "source": [
    "best_score['new']=y_predict"
   ]
  },
  {
   "cell_type": "code",
   "execution_count": null,
   "metadata": {
    "ExecuteTime": {
     "end_time": "2020-09-09T16:06:32.610799Z",
     "start_time": "2020-09-09T16:06:23.276Z"
    },
    "scrolled": true
   },
   "outputs": [],
   "source": [
    "sns.heatmap(best_score[['SalePrice','new']].corr(),annot=True)"
   ]
  },
  {
   "cell_type": "code",
   "execution_count": null,
   "metadata": {},
   "outputs": [],
   "source": []
  },
  {
   "cell_type": "code",
   "execution_count": null,
   "metadata": {},
   "outputs": [],
   "source": []
  },
  {
   "cell_type": "code",
   "execution_count": null,
   "metadata": {},
   "outputs": [],
   "source": []
  },
  {
   "cell_type": "code",
   "execution_count": null,
   "metadata": {},
   "outputs": [],
   "source": []
  },
  {
   "cell_type": "code",
   "execution_count": null,
   "metadata": {},
   "outputs": [],
   "source": []
  },
  {
   "cell_type": "code",
   "execution_count": null,
   "metadata": {},
   "outputs": [],
   "source": []
  },
  {
   "cell_type": "code",
   "execution_count": null,
   "metadata": {},
   "outputs": [],
   "source": []
  },
  {
   "cell_type": "code",
   "execution_count": null,
   "metadata": {},
   "outputs": [],
   "source": []
  },
  {
   "cell_type": "markdown",
   "metadata": {},
   "source": [
    "## Support Vector Regressor"
   ]
  },
  {
   "cell_type": "code",
   "execution_count": null,
   "metadata": {
    "ExecuteTime": {
     "end_time": "2020-09-09T16:06:32.610799Z",
     "start_time": "2020-09-09T16:06:23.309Z"
    }
   },
   "outputs": [],
   "source": [
    "from sklearn.svm import SVR"
   ]
  },
  {
   "cell_type": "code",
   "execution_count": null,
   "metadata": {
    "ExecuteTime": {
     "end_time": "2020-09-09T16:06:32.613197Z",
     "start_time": "2020-09-09T16:06:23.314Z"
    }
   },
   "outputs": [],
   "source": [
    "svr=SVR()"
   ]
  },
  {
   "cell_type": "code",
   "execution_count": null,
   "metadata": {
    "ExecuteTime": {
     "end_time": "2020-09-09T16:06:32.614913Z",
     "start_time": "2020-09-09T16:06:23.320Z"
    }
   },
   "outputs": [],
   "source": [
    "svr=svr.fit(x_train_f,y_train)"
   ]
  },
  {
   "cell_type": "code",
   "execution_count": null,
   "metadata": {
    "ExecuteTime": {
     "end_time": "2020-09-09T16:06:32.615904Z",
     "start_time": "2020-09-09T16:06:23.326Z"
    }
   },
   "outputs": [],
   "source": [
    "y_predict=svr.predict(x_test_f)"
   ]
  },
  {
   "cell_type": "code",
   "execution_count": null,
   "metadata": {
    "ExecuteTime": {
     "end_time": "2020-09-09T16:06:32.616938Z",
     "start_time": "2020-09-09T16:06:23.330Z"
    }
   },
   "outputs": [],
   "source": [
    "y_predict"
   ]
  },
  {
   "cell_type": "code",
   "execution_count": null,
   "metadata": {
    "ExecuteTime": {
     "end_time": "2020-09-09T16:06:32.618109Z",
     "start_time": "2020-09-09T16:06:23.336Z"
    }
   },
   "outputs": [],
   "source": [
    "#  # Saving the results in Csv\n",
    "data={'Id':range(1461,2920),'SalePrice':y_predict}\n",
    "pd.DataFrame(data).set_index('Id').to_csv(r'submission files/submission_mhdLR.csv')"
   ]
  },
  {
   "cell_type": "code",
   "execution_count": null,
   "metadata": {
    "ExecuteTime": {
     "end_time": "2020-09-09T16:06:32.619106Z",
     "start_time": "2020-09-09T16:06:23.341Z"
    }
   },
   "outputs": [],
   "source": [
    "best_score=pd.read_csv(r'submission files/submission_lr.csv')"
   ]
  },
  {
   "cell_type": "code",
   "execution_count": null,
   "metadata": {
    "ExecuteTime": {
     "end_time": "2020-09-09T16:06:32.619106Z",
     "start_time": "2020-09-09T16:06:23.346Z"
    }
   },
   "outputs": [],
   "source": [
    "a=best_score['SalePrice']-y_predict"
   ]
  },
  {
   "cell_type": "code",
   "execution_count": null,
   "metadata": {
    "ExecuteTime": {
     "end_time": "2020-09-09T16:06:32.621368Z",
     "start_time": "2020-09-09T16:06:23.353Z"
    }
   },
   "outputs": [],
   "source": [
    "#fig,ax1=plt.subplot(1,1)\n",
    "sns.distplot(a,bins=30)\n"
   ]
  },
  {
   "cell_type": "code",
   "execution_count": null,
   "metadata": {
    "ExecuteTime": {
     "end_time": "2020-09-09T16:06:32.621368Z",
     "start_time": "2020-09-09T16:06:23.359Z"
    }
   },
   "outputs": [],
   "source": [
    "best_score['new']=y_predict"
   ]
  },
  {
   "cell_type": "code",
   "execution_count": null,
   "metadata": {
    "ExecuteTime": {
     "end_time": "2020-09-09T16:06:32.624932Z",
     "start_time": "2020-09-09T16:06:23.364Z"
    },
    "scrolled": true
   },
   "outputs": [],
   "source": [
    "sns.heatmap(best_score[['SalePrice','new']].corr(),annot=True)"
   ]
  },
  {
   "cell_type": "code",
   "execution_count": null,
   "metadata": {},
   "outputs": [],
   "source": []
  },
  {
   "cell_type": "code",
   "execution_count": null,
   "metadata": {},
   "outputs": [],
   "source": []
  }
 ],
 "metadata": {
  "kernelspec": {
   "display_name": "Python 3",
   "language": "python",
   "name": "python3"
  },
  "language_info": {
   "codemirror_mode": {
    "name": "ipython",
    "version": 3
   },
   "file_extension": ".py",
   "mimetype": "text/x-python",
   "name": "python",
   "nbconvert_exporter": "python",
   "pygments_lexer": "ipython3",
   "version": "3.5.6"
  },
  "toc": {
   "base_numbering": 1,
   "nav_menu": {},
   "number_sections": true,
   "sideBar": true,
   "skip_h1_title": false,
   "title_cell": "Table of Contents",
   "title_sidebar": "Contents",
   "toc_cell": false,
   "toc_position": {
    "height": "calc(100% - 180px)",
    "left": "10px",
    "top": "150px",
    "width": "218.2px"
   },
   "toc_section_display": true,
   "toc_window_display": true
  }
 },
 "nbformat": 4,
 "nbformat_minor": 4
}
