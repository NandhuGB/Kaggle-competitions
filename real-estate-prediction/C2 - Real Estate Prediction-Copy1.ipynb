{
 "cells": [
  {
   "cell_type": "markdown",
   "metadata": {},
   "source": [
    "## Imports"
   ]
  },
  {
   "cell_type": "code",
   "execution_count": 192,
   "metadata": {
    "ExecuteTime": {
     "end_time": "2020-09-09T19:36:48.142851Z",
     "start_time": "2020-09-09T19:36:48.137507Z"
    }
   },
   "outputs": [],
   "source": [
    "import pandas as pd\n",
    "import numpy as np\n",
    "import matplotlib.pyplot as plt\n",
    "import seaborn as sns\n",
    "%matplotlib inline"
   ]
  },
  {
   "cell_type": "code",
   "execution_count": 193,
   "metadata": {
    "ExecuteTime": {
     "end_time": "2020-09-09T19:36:48.160115Z",
     "start_time": "2020-09-09T19:36:48.144800Z"
    }
   },
   "outputs": [],
   "source": [
    "#  Import data"
   ]
  },
  {
   "cell_type": "code",
   "execution_count": 194,
   "metadata": {
    "ExecuteTime": {
     "end_time": "2020-09-09T19:36:48.206529Z",
     "start_time": "2020-09-09T19:36:48.162774Z"
    }
   },
   "outputs": [],
   "source": [
    "train_data=pd.read_csv('train.csv')"
   ]
  },
  {
   "cell_type": "code",
   "execution_count": 195,
   "metadata": {
    "ExecuteTime": {
     "end_time": "2020-09-09T19:36:48.256751Z",
     "start_time": "2020-09-09T19:36:48.209776Z"
    }
   },
   "outputs": [],
   "source": [
    "test=pd.read_csv('test.csv')"
   ]
  },
  {
   "cell_type": "markdown",
   "metadata": {},
   "source": [
    "## Preprocessing\n"
   ]
  },
  {
   "cell_type": "code",
   "execution_count": 196,
   "metadata": {
    "ExecuteTime": {
     "end_time": "2020-09-09T19:36:48.272090Z",
     "start_time": "2020-09-09T19:36:48.258745Z"
    }
   },
   "outputs": [
    {
     "data": {
      "text/plain": [
       "Index(['Id', 'MSSubClass', 'MSZoning', 'LotFrontage', 'LotArea', 'Street',\n",
       "       'Alley', 'LotShape', 'LandContour', 'Utilities', 'LotConfig',\n",
       "       'LandSlope', 'Neighborhood', 'Condition1', 'Condition2', 'BldgType',\n",
       "       'HouseStyle', 'OverallQual', 'OverallCond', 'YearBuilt', 'YearRemodAdd',\n",
       "       'RoofStyle', 'RoofMatl', 'Exterior1st', 'Exterior2nd', 'MasVnrType',\n",
       "       'MasVnrArea', 'ExterQual', 'ExterCond', 'Foundation', 'BsmtQual',\n",
       "       'BsmtCond', 'BsmtExposure', 'BsmtFinType1', 'BsmtFinSF1',\n",
       "       'BsmtFinType2', 'BsmtFinSF2', 'BsmtUnfSF', 'TotalBsmtSF', 'Heating',\n",
       "       'HeatingQC', 'CentralAir', 'Electrical', '1stFlrSF', '2ndFlrSF',\n",
       "       'LowQualFinSF', 'GrLivArea', 'BsmtFullBath', 'BsmtHalfBath', 'FullBath',\n",
       "       'HalfBath', 'BedroomAbvGr', 'KitchenAbvGr', 'KitchenQual',\n",
       "       'TotRmsAbvGrd', 'Functional', 'Fireplaces', 'FireplaceQu', 'GarageType',\n",
       "       'GarageYrBlt', 'GarageFinish', 'GarageCars', 'GarageArea', 'GarageQual',\n",
       "       'GarageCond', 'PavedDrive', 'WoodDeckSF', 'OpenPorchSF',\n",
       "       'EnclosedPorch', '3SsnPorch', 'ScreenPorch', 'PoolArea', 'PoolQC',\n",
       "       'Fence', 'MiscFeature', 'MiscVal', 'MoSold', 'YrSold', 'SaleType',\n",
       "       'SaleCondition', 'SalePrice'],\n",
       "      dtype='object')"
      ]
     },
     "execution_count": 196,
     "metadata": {},
     "output_type": "execute_result"
    }
   ],
   "source": [
    "train_data.columns"
   ]
  },
  {
   "cell_type": "code",
   "execution_count": 197,
   "metadata": {
    "ExecuteTime": {
     "end_time": "2020-09-09T19:36:48.307559Z",
     "start_time": "2020-09-09T19:36:48.275163Z"
    }
   },
   "outputs": [],
   "source": [
    "train=train_data[['Id', 'MSSubClass', 'MSZoning', 'LotFrontage', 'LotArea', 'Street',\n",
    "       'Alley', 'LotShape', 'LandContour', 'Utilities', 'LotConfig',\n",
    "       'LandSlope', 'Neighborhood', 'Condition1', 'Condition2', 'BldgType',\n",
    "       'HouseStyle', 'OverallQual', 'OverallCond', 'YearBuilt', 'YearRemodAdd',\n",
    "       'RoofStyle', 'RoofMatl', 'Exterior1st', 'Exterior2nd', 'MasVnrType',\n",
    "       'MasVnrArea', 'ExterQual', 'ExterCond', 'Foundation', 'BsmtQual',\n",
    "       'BsmtCond', 'BsmtExposure', 'BsmtFinType1', 'BsmtFinSF1',\n",
    "       'BsmtFinType2', 'BsmtFinSF2', 'BsmtUnfSF', 'TotalBsmtSF', 'Heating',\n",
    "       'HeatingQC', 'CentralAir', 'Electrical', '1stFlrSF', '2ndFlrSF',\n",
    "       'LowQualFinSF', 'GrLivArea', 'BsmtFullBath', 'BsmtHalfBath', 'FullBath',\n",
    "       'HalfBath', 'BedroomAbvGr', 'KitchenAbvGr', 'KitchenQual',\n",
    "       'TotRmsAbvGrd', 'Functional', 'Fireplaces', 'FireplaceQu', 'GarageType',\n",
    "       'GarageYrBlt', 'GarageFinish', 'GarageCars', 'GarageArea', 'GarageQual',\n",
    "       'GarageCond', 'PavedDrive', 'WoodDeckSF', 'OpenPorchSF',\n",
    "       'EnclosedPorch', '3SsnPorch', 'ScreenPorch', 'PoolArea', 'PoolQC',\n",
    "       'Fence', 'MiscFeature', 'MiscVal', 'MoSold', 'YrSold', 'SaleType',\n",
    "       'SaleCondition']]"
   ]
  },
  {
   "cell_type": "code",
   "execution_count": 198,
   "metadata": {
    "ExecuteTime": {
     "end_time": "2020-09-09T19:36:48.350865Z",
     "start_time": "2020-09-09T19:36:48.310471Z"
    }
   },
   "outputs": [],
   "source": [
    "data=pd.concat([train,test])\n",
    "data['Ind']=range(0,2919)\n",
    "data.set_index('Ind',inplace=True)"
   ]
  },
  {
   "cell_type": "code",
   "execution_count": 199,
   "metadata": {
    "ExecuteTime": {
     "end_time": "2020-09-09T19:36:48.395447Z",
     "start_time": "2020-09-09T19:36:48.353927Z"
    }
   },
   "outputs": [
    {
     "data": {
      "text/html": [
       "<div>\n",
       "<style scoped>\n",
       "    .dataframe tbody tr th:only-of-type {\n",
       "        vertical-align: middle;\n",
       "    }\n",
       "\n",
       "    .dataframe tbody tr th {\n",
       "        vertical-align: top;\n",
       "    }\n",
       "\n",
       "    .dataframe thead th {\n",
       "        text-align: right;\n",
       "    }\n",
       "</style>\n",
       "<table border=\"1\" class=\"dataframe\">\n",
       "  <thead>\n",
       "    <tr style=\"text-align: right;\">\n",
       "      <th></th>\n",
       "      <th>Id</th>\n",
       "      <th>MSSubClass</th>\n",
       "      <th>MSZoning</th>\n",
       "      <th>LotFrontage</th>\n",
       "      <th>LotArea</th>\n",
       "      <th>Street</th>\n",
       "      <th>Alley</th>\n",
       "      <th>LotShape</th>\n",
       "      <th>LandContour</th>\n",
       "      <th>Utilities</th>\n",
       "      <th>...</th>\n",
       "      <th>ScreenPorch</th>\n",
       "      <th>PoolArea</th>\n",
       "      <th>PoolQC</th>\n",
       "      <th>Fence</th>\n",
       "      <th>MiscFeature</th>\n",
       "      <th>MiscVal</th>\n",
       "      <th>MoSold</th>\n",
       "      <th>YrSold</th>\n",
       "      <th>SaleType</th>\n",
       "      <th>SaleCondition</th>\n",
       "    </tr>\n",
       "    <tr>\n",
       "      <th>Ind</th>\n",
       "      <th></th>\n",
       "      <th></th>\n",
       "      <th></th>\n",
       "      <th></th>\n",
       "      <th></th>\n",
       "      <th></th>\n",
       "      <th></th>\n",
       "      <th></th>\n",
       "      <th></th>\n",
       "      <th></th>\n",
       "      <th></th>\n",
       "      <th></th>\n",
       "      <th></th>\n",
       "      <th></th>\n",
       "      <th></th>\n",
       "      <th></th>\n",
       "      <th></th>\n",
       "      <th></th>\n",
       "      <th></th>\n",
       "      <th></th>\n",
       "      <th></th>\n",
       "    </tr>\n",
       "  </thead>\n",
       "  <tbody>\n",
       "    <tr>\n",
       "      <th>0</th>\n",
       "      <td>1</td>\n",
       "      <td>60</td>\n",
       "      <td>RL</td>\n",
       "      <td>65.0</td>\n",
       "      <td>8450</td>\n",
       "      <td>Pave</td>\n",
       "      <td>NaN</td>\n",
       "      <td>Reg</td>\n",
       "      <td>Lvl</td>\n",
       "      <td>AllPub</td>\n",
       "      <td>...</td>\n",
       "      <td>0</td>\n",
       "      <td>0</td>\n",
       "      <td>NaN</td>\n",
       "      <td>NaN</td>\n",
       "      <td>NaN</td>\n",
       "      <td>0</td>\n",
       "      <td>2</td>\n",
       "      <td>2008</td>\n",
       "      <td>WD</td>\n",
       "      <td>Normal</td>\n",
       "    </tr>\n",
       "    <tr>\n",
       "      <th>1</th>\n",
       "      <td>2</td>\n",
       "      <td>20</td>\n",
       "      <td>RL</td>\n",
       "      <td>80.0</td>\n",
       "      <td>9600</td>\n",
       "      <td>Pave</td>\n",
       "      <td>NaN</td>\n",
       "      <td>Reg</td>\n",
       "      <td>Lvl</td>\n",
       "      <td>AllPub</td>\n",
       "      <td>...</td>\n",
       "      <td>0</td>\n",
       "      <td>0</td>\n",
       "      <td>NaN</td>\n",
       "      <td>NaN</td>\n",
       "      <td>NaN</td>\n",
       "      <td>0</td>\n",
       "      <td>5</td>\n",
       "      <td>2007</td>\n",
       "      <td>WD</td>\n",
       "      <td>Normal</td>\n",
       "    </tr>\n",
       "  </tbody>\n",
       "</table>\n",
       "<p>2 rows × 80 columns</p>\n",
       "</div>"
      ],
      "text/plain": [
       "     Id  MSSubClass MSZoning  LotFrontage  LotArea Street Alley LotShape  \\\n",
       "Ind                                                                        \n",
       "0     1          60       RL         65.0     8450   Pave   NaN      Reg   \n",
       "1     2          20       RL         80.0     9600   Pave   NaN      Reg   \n",
       "\n",
       "    LandContour Utilities      ...       ScreenPorch PoolArea PoolQC Fence  \\\n",
       "Ind                            ...                                           \n",
       "0           Lvl    AllPub      ...                 0        0    NaN   NaN   \n",
       "1           Lvl    AllPub      ...                 0        0    NaN   NaN   \n",
       "\n",
       "    MiscFeature MiscVal MoSold  YrSold  SaleType  SaleCondition  \n",
       "Ind                                                              \n",
       "0           NaN       0      2    2008        WD         Normal  \n",
       "1           NaN       0      5    2007        WD         Normal  \n",
       "\n",
       "[2 rows x 80 columns]"
      ]
     },
     "execution_count": 199,
     "metadata": {},
     "output_type": "execute_result"
    }
   ],
   "source": [
    "data.head(2)"
   ]
  },
  {
   "cell_type": "code",
   "execution_count": 200,
   "metadata": {
    "ExecuteTime": {
     "end_time": "2020-09-09T19:36:48.446583Z",
     "start_time": "2020-09-09T19:36:48.397428Z"
    }
   },
   "outputs": [
    {
     "data": {
      "text/html": [
       "<div>\n",
       "<style scoped>\n",
       "    .dataframe tbody tr th:only-of-type {\n",
       "        vertical-align: middle;\n",
       "    }\n",
       "\n",
       "    .dataframe tbody tr th {\n",
       "        vertical-align: top;\n",
       "    }\n",
       "\n",
       "    .dataframe thead th {\n",
       "        text-align: right;\n",
       "    }\n",
       "</style>\n",
       "<table border=\"1\" class=\"dataframe\">\n",
       "  <thead>\n",
       "    <tr style=\"text-align: right;\">\n",
       "      <th></th>\n",
       "      <th>Id</th>\n",
       "      <th>MSSubClass</th>\n",
       "      <th>MSZoning</th>\n",
       "      <th>LotFrontage</th>\n",
       "      <th>LotArea</th>\n",
       "      <th>Street</th>\n",
       "      <th>Alley</th>\n",
       "      <th>LotShape</th>\n",
       "      <th>LandContour</th>\n",
       "      <th>Utilities</th>\n",
       "      <th>...</th>\n",
       "      <th>ScreenPorch</th>\n",
       "      <th>PoolArea</th>\n",
       "      <th>PoolQC</th>\n",
       "      <th>Fence</th>\n",
       "      <th>MiscFeature</th>\n",
       "      <th>MiscVal</th>\n",
       "      <th>MoSold</th>\n",
       "      <th>YrSold</th>\n",
       "      <th>SaleType</th>\n",
       "      <th>SaleCondition</th>\n",
       "    </tr>\n",
       "    <tr>\n",
       "      <th>Ind</th>\n",
       "      <th></th>\n",
       "      <th></th>\n",
       "      <th></th>\n",
       "      <th></th>\n",
       "      <th></th>\n",
       "      <th></th>\n",
       "      <th></th>\n",
       "      <th></th>\n",
       "      <th></th>\n",
       "      <th></th>\n",
       "      <th></th>\n",
       "      <th></th>\n",
       "      <th></th>\n",
       "      <th></th>\n",
       "      <th></th>\n",
       "      <th></th>\n",
       "      <th></th>\n",
       "      <th></th>\n",
       "      <th></th>\n",
       "      <th></th>\n",
       "      <th></th>\n",
       "    </tr>\n",
       "  </thead>\n",
       "  <tbody>\n",
       "    <tr>\n",
       "      <th>2916</th>\n",
       "      <td>2917</td>\n",
       "      <td>20</td>\n",
       "      <td>RL</td>\n",
       "      <td>160.0</td>\n",
       "      <td>20000</td>\n",
       "      <td>Pave</td>\n",
       "      <td>NaN</td>\n",
       "      <td>Reg</td>\n",
       "      <td>Lvl</td>\n",
       "      <td>AllPub</td>\n",
       "      <td>...</td>\n",
       "      <td>0</td>\n",
       "      <td>0</td>\n",
       "      <td>NaN</td>\n",
       "      <td>NaN</td>\n",
       "      <td>NaN</td>\n",
       "      <td>0</td>\n",
       "      <td>9</td>\n",
       "      <td>2006</td>\n",
       "      <td>WD</td>\n",
       "      <td>Abnorml</td>\n",
       "    </tr>\n",
       "    <tr>\n",
       "      <th>2917</th>\n",
       "      <td>2918</td>\n",
       "      <td>85</td>\n",
       "      <td>RL</td>\n",
       "      <td>62.0</td>\n",
       "      <td>10441</td>\n",
       "      <td>Pave</td>\n",
       "      <td>NaN</td>\n",
       "      <td>Reg</td>\n",
       "      <td>Lvl</td>\n",
       "      <td>AllPub</td>\n",
       "      <td>...</td>\n",
       "      <td>0</td>\n",
       "      <td>0</td>\n",
       "      <td>NaN</td>\n",
       "      <td>MnPrv</td>\n",
       "      <td>Shed</td>\n",
       "      <td>700</td>\n",
       "      <td>7</td>\n",
       "      <td>2006</td>\n",
       "      <td>WD</td>\n",
       "      <td>Normal</td>\n",
       "    </tr>\n",
       "    <tr>\n",
       "      <th>2918</th>\n",
       "      <td>2919</td>\n",
       "      <td>60</td>\n",
       "      <td>RL</td>\n",
       "      <td>74.0</td>\n",
       "      <td>9627</td>\n",
       "      <td>Pave</td>\n",
       "      <td>NaN</td>\n",
       "      <td>Reg</td>\n",
       "      <td>Lvl</td>\n",
       "      <td>AllPub</td>\n",
       "      <td>...</td>\n",
       "      <td>0</td>\n",
       "      <td>0</td>\n",
       "      <td>NaN</td>\n",
       "      <td>NaN</td>\n",
       "      <td>NaN</td>\n",
       "      <td>0</td>\n",
       "      <td>11</td>\n",
       "      <td>2006</td>\n",
       "      <td>WD</td>\n",
       "      <td>Normal</td>\n",
       "    </tr>\n",
       "  </tbody>\n",
       "</table>\n",
       "<p>3 rows × 80 columns</p>\n",
       "</div>"
      ],
      "text/plain": [
       "        Id  MSSubClass MSZoning  LotFrontage  LotArea Street Alley LotShape  \\\n",
       "Ind                                                                           \n",
       "2916  2917          20       RL        160.0    20000   Pave   NaN      Reg   \n",
       "2917  2918          85       RL         62.0    10441   Pave   NaN      Reg   \n",
       "2918  2919          60       RL         74.0     9627   Pave   NaN      Reg   \n",
       "\n",
       "     LandContour Utilities      ...       ScreenPorch PoolArea PoolQC  Fence  \\\n",
       "Ind                             ...                                            \n",
       "2916         Lvl    AllPub      ...                 0        0    NaN    NaN   \n",
       "2917         Lvl    AllPub      ...                 0        0    NaN  MnPrv   \n",
       "2918         Lvl    AllPub      ...                 0        0    NaN    NaN   \n",
       "\n",
       "     MiscFeature MiscVal MoSold  YrSold  SaleType  SaleCondition  \n",
       "Ind                                                               \n",
       "2916         NaN       0      9    2006        WD        Abnorml  \n",
       "2917        Shed     700      7    2006        WD         Normal  \n",
       "2918         NaN       0     11    2006        WD         Normal  \n",
       "\n",
       "[3 rows x 80 columns]"
      ]
     },
     "execution_count": 200,
     "metadata": {},
     "output_type": "execute_result"
    }
   ],
   "source": [
    "data.tail(3)"
   ]
  },
  {
   "cell_type": "markdown",
   "metadata": {},
   "source": [
    "## Missing data handling"
   ]
  },
  {
   "cell_type": "code",
   "execution_count": 201,
   "metadata": {
    "ExecuteTime": {
     "end_time": "2020-09-09T19:36:48.549997Z",
     "start_time": "2020-09-09T19:36:48.449613Z"
    }
   },
   "outputs": [],
   "source": [
    "# Collecting the features which have missing data\n",
    "\n",
    "miss_cols={}\n",
    "del_cols={}\n",
    "miss_dict=dict(data.isnull().sum()>0) \n",
    "for i in miss_dict:\n",
    "    if ( (miss_dict[i]) & (data[i].isnull().sum()<100) ):\n",
    "        miss_cols.update({i:data[i].isnull().sum()})\n",
    "    elif data[i].isnull().sum()>0:\n",
    "        del_cols.update({i:data[i].isnull().sum()})\n",
    "    "
   ]
  },
  {
   "cell_type": "code",
   "execution_count": 202,
   "metadata": {
    "ExecuteTime": {
     "end_time": "2020-09-09T19:36:48.567638Z",
     "start_time": "2020-09-09T19:36:48.552740Z"
    }
   },
   "outputs": [
    {
     "data": {
      "text/plain": [
       "{'Alley': 2721,\n",
       " 'Fence': 2348,\n",
       " 'FireplaceQu': 1420,\n",
       " 'GarageCond': 159,\n",
       " 'GarageFinish': 159,\n",
       " 'GarageQual': 159,\n",
       " 'GarageType': 157,\n",
       " 'GarageYrBlt': 159,\n",
       " 'LotFrontage': 486,\n",
       " 'MiscFeature': 2814,\n",
       " 'PoolQC': 2909}"
      ]
     },
     "execution_count": 202,
     "metadata": {},
     "output_type": "execute_result"
    }
   ],
   "source": [
    "# Columns need to be deleted\n",
    "\n",
    "data.drop(axis=1,columns=del_cols,inplace=True)\n",
    "del_cols"
   ]
  },
  {
   "cell_type": "code",
   "execution_count": 203,
   "metadata": {
    "ExecuteTime": {
     "end_time": "2020-09-09T19:36:48.585976Z",
     "start_time": "2020-09-09T19:36:48.570750Z"
    }
   },
   "outputs": [
    {
     "data": {
      "text/plain": [
       "{'BsmtCond': 82,\n",
       " 'BsmtExposure': 82,\n",
       " 'BsmtFinSF1': 1,\n",
       " 'BsmtFinSF2': 1,\n",
       " 'BsmtFinType1': 79,\n",
       " 'BsmtFinType2': 80,\n",
       " 'BsmtFullBath': 2,\n",
       " 'BsmtHalfBath': 2,\n",
       " 'BsmtQual': 81,\n",
       " 'BsmtUnfSF': 1,\n",
       " 'Electrical': 1,\n",
       " 'Exterior1st': 1,\n",
       " 'Exterior2nd': 1,\n",
       " 'Functional': 2,\n",
       " 'GarageArea': 1,\n",
       " 'GarageCars': 1,\n",
       " 'KitchenQual': 1,\n",
       " 'MSZoning': 4,\n",
       " 'MasVnrArea': 23,\n",
       " 'MasVnrType': 24,\n",
       " 'SaleType': 1,\n",
       " 'TotalBsmtSF': 1,\n",
       " 'Utilities': 2}"
      ]
     },
     "execution_count": 203,
     "metadata": {},
     "output_type": "execute_result"
    }
   ],
   "source": [
    "# Missing data columns\n",
    "\n",
    "miss_cols"
   ]
  },
  {
   "cell_type": "markdown",
   "metadata": {},
   "source": [
    "### 'BsmtCond'"
   ]
  },
  {
   "cell_type": "code",
   "execution_count": 204,
   "metadata": {
    "ExecuteTime": {
     "end_time": "2020-09-09T19:36:48.598374Z",
     "start_time": "2020-09-09T19:36:48.585976Z"
    }
   },
   "outputs": [
    {
     "data": {
      "text/plain": [
       "TA    2606\n",
       "Gd     122\n",
       "Fa     104\n",
       "Po       5\n",
       "Name: BsmtCond, dtype: int64"
      ]
     },
     "execution_count": 204,
     "metadata": {},
     "output_type": "execute_result"
    }
   ],
   "source": [
    "data['BsmtCond'].value_counts()"
   ]
  },
  {
   "cell_type": "code",
   "execution_count": 205,
   "metadata": {
    "ExecuteTime": {
     "end_time": "2020-09-09T19:36:48.610318Z",
     "start_time": "2020-09-09T19:36:48.601324Z"
    }
   },
   "outputs": [],
   "source": [
    "data['BsmtCond'].fillna(value='TA',inplace=True)"
   ]
  },
  {
   "cell_type": "code",
   "execution_count": 206,
   "metadata": {
    "ExecuteTime": {
     "end_time": "2020-09-09T19:36:48.621701Z",
     "start_time": "2020-09-09T19:36:48.613269Z"
    }
   },
   "outputs": [
    {
     "data": {
      "text/plain": [
       "0"
      ]
     },
     "execution_count": 206,
     "metadata": {},
     "output_type": "execute_result"
    }
   ],
   "source": [
    "data['BsmtCond'].isnull().sum()"
   ]
  },
  {
   "cell_type": "markdown",
   "metadata": {},
   "source": [
    "### 'BsmtExposure'"
   ]
  },
  {
   "cell_type": "code",
   "execution_count": 207,
   "metadata": {
    "ExecuteTime": {
     "end_time": "2020-09-09T19:36:48.637010Z",
     "start_time": "2020-09-09T19:36:48.624702Z"
    }
   },
   "outputs": [
    {
     "data": {
      "text/plain": [
       "No    1904\n",
       "Av     418\n",
       "Gd     276\n",
       "Mn     239\n",
       "Name: BsmtExposure, dtype: int64"
      ]
     },
     "execution_count": 207,
     "metadata": {},
     "output_type": "execute_result"
    }
   ],
   "source": [
    "data['BsmtExposure'].value_counts()"
   ]
  },
  {
   "cell_type": "code",
   "execution_count": 208,
   "metadata": {
    "ExecuteTime": {
     "end_time": "2020-09-09T19:36:48.647022Z",
     "start_time": "2020-09-09T19:36:48.640627Z"
    }
   },
   "outputs": [],
   "source": [
    "data['BsmtExposure'].fillna(value='No',inplace=True)"
   ]
  },
  {
   "cell_type": "code",
   "execution_count": 209,
   "metadata": {
    "ExecuteTime": {
     "end_time": "2020-09-09T19:36:48.660625Z",
     "start_time": "2020-09-09T19:36:48.650225Z"
    }
   },
   "outputs": [
    {
     "data": {
      "text/plain": [
       "0"
      ]
     },
     "execution_count": 209,
     "metadata": {},
     "output_type": "execute_result"
    }
   ],
   "source": [
    "data['BsmtExposure'].isnull().sum()"
   ]
  },
  {
   "cell_type": "markdown",
   "metadata": {},
   "source": [
    "### 'BsmtFinSF1' &  'BsmtFinType2'"
   ]
  },
  {
   "cell_type": "code",
   "execution_count": 210,
   "metadata": {
    "ExecuteTime": {
     "end_time": "2020-09-09T19:36:48.676009Z",
     "start_time": "2020-09-09T19:36:48.662800Z"
    }
   },
   "outputs": [],
   "source": [
    "data['BsmtFinSF2'].fillna(value=0.0,inplace=True)"
   ]
  },
  {
   "cell_type": "code",
   "execution_count": 211,
   "metadata": {
    "ExecuteTime": {
     "end_time": "2020-09-09T19:36:48.688346Z",
     "start_time": "2020-09-09T19:36:48.677011Z"
    }
   },
   "outputs": [],
   "source": [
    "data['BsmtFinSF1'].fillna(value=0.0,inplace=True)"
   ]
  },
  {
   "cell_type": "code",
   "execution_count": 212,
   "metadata": {
    "ExecuteTime": {
     "end_time": "2020-09-09T19:36:48.699496Z",
     "start_time": "2020-09-09T19:36:48.691053Z"
    }
   },
   "outputs": [
    {
     "data": {
      "text/plain": [
       "0"
      ]
     },
     "execution_count": 212,
     "metadata": {},
     "output_type": "execute_result"
    }
   ],
   "source": [
    "data['BsmtFinSF1'].isnull().sum()"
   ]
  },
  {
   "cell_type": "code",
   "execution_count": 213,
   "metadata": {
    "ExecuteTime": {
     "end_time": "2020-09-09T19:36:48.715879Z",
     "start_time": "2020-09-09T19:36:48.702414Z"
    }
   },
   "outputs": [
    {
     "data": {
      "text/plain": [
       "0"
      ]
     },
     "execution_count": 213,
     "metadata": {},
     "output_type": "execute_result"
    }
   ],
   "source": [
    "data['BsmtFinSF2'].isnull().sum()"
   ]
  },
  {
   "cell_type": "markdown",
   "metadata": {},
   "source": [
    "### 'BsmtFinType1' & 'BsmtFinType2'"
   ]
  },
  {
   "cell_type": "code",
   "execution_count": 214,
   "metadata": {
    "ExecuteTime": {
     "end_time": "2020-09-09T19:36:48.730028Z",
     "start_time": "2020-09-09T19:36:48.716912Z"
    }
   },
   "outputs": [
    {
     "data": {
      "text/plain": [
       "Unf    851\n",
       "GLQ    849\n",
       "ALQ    429\n",
       "Rec    288\n",
       "BLQ    269\n",
       "LwQ    154\n",
       "Name: BsmtFinType1, dtype: int64"
      ]
     },
     "execution_count": 214,
     "metadata": {},
     "output_type": "execute_result"
    }
   ],
   "source": [
    "data['BsmtFinType1'].value_counts()"
   ]
  },
  {
   "cell_type": "code",
   "execution_count": 215,
   "metadata": {
    "ExecuteTime": {
     "end_time": "2020-09-09T19:36:48.738571Z",
     "start_time": "2020-09-09T19:36:48.731527Z"
    }
   },
   "outputs": [],
   "source": [
    "data['BsmtFinType1'].fillna(value='Unf',inplace=True)"
   ]
  },
  {
   "cell_type": "code",
   "execution_count": 216,
   "metadata": {
    "ExecuteTime": {
     "end_time": "2020-09-09T19:36:48.752794Z",
     "start_time": "2020-09-09T19:36:48.741779Z"
    }
   },
   "outputs": [
    {
     "data": {
      "text/plain": [
       "Unf    2493\n",
       "Rec     105\n",
       "LwQ      87\n",
       "BLQ      68\n",
       "ALQ      52\n",
       "GLQ      34\n",
       "Name: BsmtFinType2, dtype: int64"
      ]
     },
     "execution_count": 216,
     "metadata": {},
     "output_type": "execute_result"
    }
   ],
   "source": [
    "data['BsmtFinType2'].value_counts()"
   ]
  },
  {
   "cell_type": "code",
   "execution_count": 217,
   "metadata": {
    "ExecuteTime": {
     "end_time": "2020-09-09T19:36:48.761428Z",
     "start_time": "2020-09-09T19:36:48.754826Z"
    }
   },
   "outputs": [],
   "source": [
    "data['BsmtFinType2'].fillna(value='Unf',inplace=True)"
   ]
  },
  {
   "cell_type": "markdown",
   "metadata": {},
   "source": [
    "###  'BsmtFullBath' & 'BsmtHalfBath'"
   ]
  },
  {
   "cell_type": "code",
   "execution_count": 218,
   "metadata": {
    "ExecuteTime": {
     "end_time": "2020-09-09T19:36:48.779158Z",
     "start_time": "2020-09-09T19:36:48.764733Z"
    }
   },
   "outputs": [
    {
     "data": {
      "text/plain": [
       "0.0    1705\n",
       "1.0    1172\n",
       "2.0      38\n",
       "3.0       2\n",
       "Name: BsmtFullBath, dtype: int64"
      ]
     },
     "execution_count": 218,
     "metadata": {},
     "output_type": "execute_result"
    }
   ],
   "source": [
    "data['BsmtFullBath'].value_counts()"
   ]
  },
  {
   "cell_type": "code",
   "execution_count": 219,
   "metadata": {
    "ExecuteTime": {
     "end_time": "2020-09-09T19:36:48.804920Z",
     "start_time": "2020-09-09T19:36:48.780156Z"
    }
   },
   "outputs": [
    {
     "data": {
      "text/plain": [
       "Ind\n",
       "2120    TA\n",
       "2188    TA\n",
       "Name: BsmtCond, dtype: object"
      ]
     },
     "execution_count": 219,
     "metadata": {},
     "output_type": "execute_result"
    }
   ],
   "source": [
    "data[data['BsmtFullBath'].isnull()]['BsmtCond']"
   ]
  },
  {
   "cell_type": "code",
   "execution_count": 220,
   "metadata": {
    "ExecuteTime": {
     "end_time": "2020-09-09T19:36:48.824098Z",
     "start_time": "2020-09-09T19:36:48.807281Z"
    }
   },
   "outputs": [],
   "source": [
    "data['BsmtFullBath'].fillna(value=0.0,inplace=True)"
   ]
  },
  {
   "cell_type": "code",
   "execution_count": 221,
   "metadata": {
    "ExecuteTime": {
     "end_time": "2020-09-09T19:36:48.839451Z",
     "start_time": "2020-09-09T19:36:48.827321Z"
    }
   },
   "outputs": [
    {
     "data": {
      "text/plain": [
       "0.0    2742\n",
       "1.0     171\n",
       "2.0       4\n",
       "Name: BsmtHalfBath, dtype: int64"
      ]
     },
     "execution_count": 221,
     "metadata": {},
     "output_type": "execute_result"
    }
   ],
   "source": [
    "data['BsmtHalfBath'].value_counts()"
   ]
  },
  {
   "cell_type": "code",
   "execution_count": 222,
   "metadata": {
    "ExecuteTime": {
     "end_time": "2020-09-09T19:36:48.859323Z",
     "start_time": "2020-09-09T19:36:48.842684Z"
    }
   },
   "outputs": [
    {
     "data": {
      "text/plain": [
       "Ind\n",
       "2120    TA\n",
       "2188    TA\n",
       "Name: BsmtCond, dtype: object"
      ]
     },
     "execution_count": 222,
     "metadata": {},
     "output_type": "execute_result"
    }
   ],
   "source": [
    "data[data['BsmtHalfBath'].isnull()]['BsmtCond']"
   ]
  },
  {
   "cell_type": "code",
   "execution_count": 223,
   "metadata": {
    "ExecuteTime": {
     "end_time": "2020-09-09T19:36:48.867959Z",
     "start_time": "2020-09-09T19:36:48.861317Z"
    }
   },
   "outputs": [],
   "source": [
    "data['BsmtHalfBath'].fillna(value=0.0,inplace=True)"
   ]
  },
  {
   "cell_type": "markdown",
   "metadata": {},
   "source": [
    "### BsmtQual"
   ]
  },
  {
   "cell_type": "code",
   "execution_count": 224,
   "metadata": {
    "ExecuteTime": {
     "end_time": "2020-09-09T19:36:48.890705Z",
     "start_time": "2020-09-09T19:36:48.870630Z"
    }
   },
   "outputs": [
    {
     "data": {
      "text/plain": [
       "TA    1283\n",
       "Gd    1209\n",
       "Ex     258\n",
       "Fa      88\n",
       "Name: BsmtQual, dtype: int64"
      ]
     },
     "execution_count": 224,
     "metadata": {},
     "output_type": "execute_result"
    }
   ],
   "source": [
    "data['BsmtQual'].value_counts()"
   ]
  },
  {
   "cell_type": "code",
   "execution_count": 225,
   "metadata": {
    "ExecuteTime": {
     "end_time": "2020-09-09T19:36:48.901040Z",
     "start_time": "2020-09-09T19:36:48.893699Z"
    }
   },
   "outputs": [],
   "source": [
    "data['BsmtQual'].fillna('TA',inplace=True)"
   ]
  },
  {
   "cell_type": "code",
   "execution_count": 226,
   "metadata": {
    "ExecuteTime": {
     "end_time": "2020-09-09T19:36:48.917587Z",
     "start_time": "2020-09-09T19:36:48.904044Z"
    }
   },
   "outputs": [
    {
     "data": {
      "text/plain": [
       "0"
      ]
     },
     "execution_count": 226,
     "metadata": {},
     "output_type": "execute_result"
    }
   ],
   "source": [
    "data['BsmtQual'].isnull().sum()"
   ]
  },
  {
   "cell_type": "markdown",
   "metadata": {},
   "source": [
    "### 'BsmtUnfSF'"
   ]
  },
  {
   "cell_type": "code",
   "execution_count": 227,
   "metadata": {
    "ExecuteTime": {
     "end_time": "2020-09-09T19:36:48.940662Z",
     "start_time": "2020-09-09T19:36:48.920874Z"
    }
   },
   "outputs": [
    {
     "data": {
      "text/plain": [
       "0.0       241\n",
       "384.0      19\n",
       "728.0      14\n",
       "672.0      13\n",
       "600.0      12\n",
       "572.0      11\n",
       "216.0      11\n",
       "100.0      11\n",
       "816.0      11\n",
       "624.0      10\n",
       "270.0      10\n",
       "300.0      10\n",
       "264.0       9\n",
       "396.0       9\n",
       "280.0       9\n",
       "186.0       9\n",
       "768.0       9\n",
       "780.0       8\n",
       "546.0       8\n",
       "348.0       8\n",
       "294.0       8\n",
       "440.0       8\n",
       "162.0       8\n",
       "480.0       8\n",
       "832.0       8\n",
       "108.0       8\n",
       "840.0       8\n",
       "784.0       7\n",
       "80.0        7\n",
       "392.0       7\n",
       "         ... \n",
       "127.0       1\n",
       "795.0       1\n",
       "214.0       1\n",
       "1098.0      1\n",
       "584.0       1\n",
       "532.0       1\n",
       "983.0       1\n",
       "79.0        1\n",
       "388.0       1\n",
       "559.0       1\n",
       "1616.0      1\n",
       "889.0       1\n",
       "1078.0      1\n",
       "1411.0      1\n",
       "999.0       1\n",
       "659.0       1\n",
       "709.0       1\n",
       "1214.0      1\n",
       "657.0       1\n",
       "587.0       1\n",
       "1146.0      1\n",
       "2140.0      1\n",
       "579.0       1\n",
       "735.0       1\n",
       "1073.0      1\n",
       "1503.0      1\n",
       "445.0       1\n",
       "958.0       1\n",
       "1559.0      1\n",
       "1369.0      1\n",
       "Name: BsmtUnfSF, Length: 1135, dtype: int64"
      ]
     },
     "execution_count": 227,
     "metadata": {},
     "output_type": "execute_result"
    }
   ],
   "source": [
    "data['BsmtUnfSF'].value_counts()"
   ]
  },
  {
   "cell_type": "code",
   "execution_count": 228,
   "metadata": {
    "ExecuteTime": {
     "end_time": "2020-09-09T19:36:48.949192Z",
     "start_time": "2020-09-09T19:36:48.942659Z"
    }
   },
   "outputs": [],
   "source": [
    "data['BsmtUnfSF'].fillna(value=0.0,inplace=True)"
   ]
  },
  {
   "cell_type": "markdown",
   "metadata": {},
   "source": [
    "### 'Electrical'"
   ]
  },
  {
   "cell_type": "code",
   "execution_count": 229,
   "metadata": {
    "ExecuteTime": {
     "end_time": "2020-09-09T19:36:48.963510Z",
     "start_time": "2020-09-09T19:36:48.952502Z"
    }
   },
   "outputs": [
    {
     "data": {
      "text/plain": [
       "SBrkr    2671\n",
       "FuseA     188\n",
       "FuseF      50\n",
       "FuseP       8\n",
       "Mix         1\n",
       "Name: Electrical, dtype: int64"
      ]
     },
     "execution_count": 229,
     "metadata": {},
     "output_type": "execute_result"
    }
   ],
   "source": [
    "data['Electrical'].value_counts()"
   ]
  },
  {
   "cell_type": "code",
   "execution_count": 230,
   "metadata": {
    "ExecuteTime": {
     "end_time": "2020-09-09T19:36:48.975600Z",
     "start_time": "2020-09-09T19:36:48.966767Z"
    }
   },
   "outputs": [],
   "source": [
    "data['Electrical'].fillna(value='SBrkr',inplace=True)"
   ]
  },
  {
   "cell_type": "markdown",
   "metadata": {},
   "source": [
    "### 'Exterior1st'"
   ]
  },
  {
   "cell_type": "code",
   "execution_count": 231,
   "metadata": {
    "ExecuteTime": {
     "end_time": "2020-09-09T19:36:48.986286Z",
     "start_time": "2020-09-09T19:36:48.977595Z"
    }
   },
   "outputs": [
    {
     "data": {
      "text/plain": [
       "VinylSd    1025\n",
       "MetalSd     450\n",
       "HdBoard     442\n",
       "Wd Sdng     411\n",
       "Plywood     221\n",
       "CemntBd     126\n",
       "BrkFace      87\n",
       "WdShing      56\n",
       "AsbShng      44\n",
       "Stucco       43\n",
       "BrkComm       6\n",
       "CBlock        2\n",
       "AsphShn       2\n",
       "Stone         2\n",
       "ImStucc       1\n",
       "Name: Exterior1st, dtype: int64"
      ]
     },
     "execution_count": 231,
     "metadata": {},
     "output_type": "execute_result"
    }
   ],
   "source": [
    "data['Exterior1st'].value_counts()"
   ]
  },
  {
   "cell_type": "code",
   "execution_count": 232,
   "metadata": {
    "ExecuteTime": {
     "end_time": "2020-09-09T19:36:49.004961Z",
     "start_time": "2020-09-09T19:36:48.989510Z"
    }
   },
   "outputs": [],
   "source": [
    "data['Exterior1st'].fillna(value='VinylSd',inplace=True)"
   ]
  },
  {
   "cell_type": "markdown",
   "metadata": {},
   "source": [
    "### 'Exterior2nd'"
   ]
  },
  {
   "cell_type": "code",
   "execution_count": 233,
   "metadata": {
    "ExecuteTime": {
     "end_time": "2020-09-09T19:36:49.024019Z",
     "start_time": "2020-09-09T19:36:49.008333Z"
    }
   },
   "outputs": [
    {
     "data": {
      "text/plain": [
       "VinylSd    1014\n",
       "MetalSd     447\n",
       "HdBoard     406\n",
       "Wd Sdng     391\n",
       "Plywood     270\n",
       "CmentBd     126\n",
       "Wd Shng      81\n",
       "Stucco       47\n",
       "BrkFace      47\n",
       "AsbShng      38\n",
       "Brk Cmn      22\n",
       "ImStucc      15\n",
       "Stone         6\n",
       "AsphShn       4\n",
       "CBlock        3\n",
       "Other         1\n",
       "Name: Exterior2nd, dtype: int64"
      ]
     },
     "execution_count": 233,
     "metadata": {},
     "output_type": "execute_result"
    }
   ],
   "source": [
    "data['Exterior2nd'].value_counts()"
   ]
  },
  {
   "cell_type": "code",
   "execution_count": 234,
   "metadata": {
    "ExecuteTime": {
     "end_time": "2020-09-09T19:36:49.040652Z",
     "start_time": "2020-09-09T19:36:49.025016Z"
    }
   },
   "outputs": [],
   "source": [
    "data['Exterior2nd'].fillna(value='VinylSd',inplace=True)"
   ]
  },
  {
   "cell_type": "markdown",
   "metadata": {},
   "source": [
    "### 'Functional'"
   ]
  },
  {
   "cell_type": "code",
   "execution_count": 235,
   "metadata": {
    "ExecuteTime": {
     "end_time": "2020-09-09T19:36:49.058269Z",
     "start_time": "2020-09-09T19:36:49.042648Z"
    }
   },
   "outputs": [
    {
     "data": {
      "text/plain": [
       "Typ     2717\n",
       "Min2      70\n",
       "Min1      65\n",
       "Mod       35\n",
       "Maj1      19\n",
       "Maj2       9\n",
       "Sev        2\n",
       "Name: Functional, dtype: int64"
      ]
     },
     "execution_count": 235,
     "metadata": {},
     "output_type": "execute_result"
    }
   ],
   "source": [
    "data['Functional'].value_counts()"
   ]
  },
  {
   "cell_type": "code",
   "execution_count": 236,
   "metadata": {
    "ExecuteTime": {
     "end_time": "2020-09-09T19:36:49.067455Z",
     "start_time": "2020-09-09T19:36:49.060536Z"
    }
   },
   "outputs": [],
   "source": [
    "data['Functional'].fillna(value='Typ',inplace=True)"
   ]
  },
  {
   "cell_type": "markdown",
   "metadata": {},
   "source": [
    "### 'GarageArea'"
   ]
  },
  {
   "cell_type": "code",
   "execution_count": 237,
   "metadata": {
    "ExecuteTime": {
     "end_time": "2020-09-09T19:36:49.086383Z",
     "start_time": "2020-09-09T19:36:49.069588Z"
    }
   },
   "outputs": [
    {
     "data": {
      "text/plain": [
       "Ind\n",
       "2576   NaN\n",
       "Name: GarageCars, dtype: float64"
      ]
     },
     "execution_count": 237,
     "metadata": {},
     "output_type": "execute_result"
    }
   ],
   "source": [
    "data[data['GarageArea'].isnull()]['GarageCars']"
   ]
  },
  {
   "cell_type": "code",
   "execution_count": 238,
   "metadata": {
    "ExecuteTime": {
     "end_time": "2020-09-09T19:36:49.095891Z",
     "start_time": "2020-09-09T19:36:49.087380Z"
    }
   },
   "outputs": [],
   "source": [
    "data['GarageArea'].fillna(value=0.0,inplace=True)"
   ]
  },
  {
   "cell_type": "markdown",
   "metadata": {},
   "source": [
    "### 'GarageCars'"
   ]
  },
  {
   "cell_type": "code",
   "execution_count": 239,
   "metadata": {
    "ExecuteTime": {
     "end_time": "2020-09-09T19:36:49.118086Z",
     "start_time": "2020-09-09T19:36:49.098368Z"
    }
   },
   "outputs": [
    {
     "data": {
      "text/plain": [
       "2.0    1594\n",
       "1.0     776\n",
       "3.0     374\n",
       "0.0     157\n",
       "4.0      16\n",
       "5.0       1\n",
       "Name: GarageCars, dtype: int64"
      ]
     },
     "execution_count": 239,
     "metadata": {},
     "output_type": "execute_result"
    }
   ],
   "source": [
    "data['GarageCars'].value_counts()"
   ]
  },
  {
   "cell_type": "code",
   "execution_count": 240,
   "metadata": {
    "ExecuteTime": {
     "end_time": "2020-09-09T19:36:49.131406Z",
     "start_time": "2020-09-09T19:36:49.118086Z"
    }
   },
   "outputs": [
    {
     "data": {
      "text/plain": [
       "Ind\n",
       "2576    0.0\n",
       "Name: GarageArea, dtype: float64"
      ]
     },
     "execution_count": 240,
     "metadata": {},
     "output_type": "execute_result"
    }
   ],
   "source": [
    "data[data['GarageCars'].isnull()]['GarageArea']"
   ]
  },
  {
   "cell_type": "code",
   "execution_count": 241,
   "metadata": {
    "ExecuteTime": {
     "end_time": "2020-09-09T19:36:49.140004Z",
     "start_time": "2020-09-09T19:36:49.132406Z"
    }
   },
   "outputs": [],
   "source": [
    "data['GarageCars'].fillna(0.0,inplace=True)"
   ]
  },
  {
   "cell_type": "markdown",
   "metadata": {},
   "source": [
    "### 'KitchenQual'"
   ]
  },
  {
   "cell_type": "code",
   "execution_count": 242,
   "metadata": {
    "ExecuteTime": {
     "end_time": "2020-09-09T19:36:49.167351Z",
     "start_time": "2020-09-09T19:36:49.141002Z"
    }
   },
   "outputs": [
    {
     "data": {
      "text/plain": [
       "TA    1492\n",
       "Gd    1151\n",
       "Ex     205\n",
       "Fa      70\n",
       "Name: KitchenQual, dtype: int64"
      ]
     },
     "execution_count": 242,
     "metadata": {},
     "output_type": "execute_result"
    }
   ],
   "source": [
    "data['KitchenQual'].value_counts()"
   ]
  },
  {
   "cell_type": "code",
   "execution_count": 243,
   "metadata": {
    "ExecuteTime": {
     "end_time": "2020-09-09T19:36:49.180238Z",
     "start_time": "2020-09-09T19:36:49.167351Z"
    }
   },
   "outputs": [
    {
     "data": {
      "text/plain": [
       "Ind\n",
       "1555    1\n",
       "Name: KitchenAbvGr, dtype: int64"
      ]
     },
     "execution_count": 243,
     "metadata": {},
     "output_type": "execute_result"
    }
   ],
   "source": [
    "data[data['KitchenQual'].isnull()]['KitchenAbvGr']"
   ]
  },
  {
   "cell_type": "code",
   "execution_count": 244,
   "metadata": {
    "ExecuteTime": {
     "end_time": "2020-09-09T19:36:49.189761Z",
     "start_time": "2020-09-09T19:36:49.180238Z"
    }
   },
   "outputs": [
    {
     "data": {
      "text/plain": [
       "1    2785\n",
       "2     129\n",
       "0       3\n",
       "3       2\n",
       "Name: KitchenAbvGr, dtype: int64"
      ]
     },
     "execution_count": 244,
     "metadata": {},
     "output_type": "execute_result"
    }
   ],
   "source": [
    "data['KitchenAbvGr'].value_counts()"
   ]
  },
  {
   "cell_type": "code",
   "execution_count": 245,
   "metadata": {
    "ExecuteTime": {
     "end_time": "2020-09-09T19:36:49.216310Z",
     "start_time": "2020-09-09T19:36:49.191753Z"
    }
   },
   "outputs": [
    {
     "data": {
      "text/plain": [
       "TA    1372\n",
       "Gd    1146\n",
       "Ex     205\n",
       "Fa      61\n",
       "Name: KitchenQual, dtype: int64"
      ]
     },
     "execution_count": 245,
     "metadata": {},
     "output_type": "execute_result"
    }
   ],
   "source": [
    "data[data['KitchenAbvGr']==1]['KitchenQual'].value_counts()"
   ]
  },
  {
   "cell_type": "code",
   "execution_count": 246,
   "metadata": {
    "ExecuteTime": {
     "end_time": "2020-09-09T19:36:49.226055Z",
     "start_time": "2020-09-09T19:36:49.216310Z"
    }
   },
   "outputs": [],
   "source": [
    "data['KitchenQual'].fillna(value='TA',inplace=True)"
   ]
  },
  {
   "cell_type": "markdown",
   "metadata": {},
   "source": [
    "### 'MSZoning'"
   ]
  },
  {
   "cell_type": "code",
   "execution_count": 247,
   "metadata": {
    "ExecuteTime": {
     "end_time": "2020-09-09T19:36:49.249786Z",
     "start_time": "2020-09-09T19:36:49.227053Z"
    }
   },
   "outputs": [
    {
     "data": {
      "text/plain": [
       "RL         2265\n",
       "RM          460\n",
       "FV          139\n",
       "RH           26\n",
       "C (all)      25\n",
       "Name: MSZoning, dtype: int64"
      ]
     },
     "execution_count": 247,
     "metadata": {},
     "output_type": "execute_result"
    }
   ],
   "source": [
    "data['MSZoning'].value_counts()"
   ]
  },
  {
   "cell_type": "code",
   "execution_count": 248,
   "metadata": {
    "ExecuteTime": {
     "end_time": "2020-09-09T19:36:49.258890Z",
     "start_time": "2020-09-09T19:36:49.250783Z"
    }
   },
   "outputs": [],
   "source": [
    "data['MSZoning'].fillna(value='RL',inplace=True)"
   ]
  },
  {
   "cell_type": "markdown",
   "metadata": {},
   "source": [
    "### 'MasVnrArea'"
   ]
  },
  {
   "cell_type": "code",
   "execution_count": 249,
   "metadata": {
    "ExecuteTime": {
     "end_time": "2020-09-09T19:36:49.269225Z",
     "start_time": "2020-09-09T19:36:49.260749Z"
    }
   },
   "outputs": [
    {
     "data": {
      "text/plain": [
       "0.0       1738\n",
       "120.0       15\n",
       "176.0       13\n",
       "200.0       13\n",
       "216.0       12\n",
       "180.0       12\n",
       "144.0       11\n",
       "72.0        11\n",
       "108.0       11\n",
       "16.0        11\n",
       "340.0       10\n",
       "80.0         9\n",
       "210.0        9\n",
       "128.0        9\n",
       "196.0        9\n",
       "256.0        8\n",
       "178.0        8\n",
       "40.0         8\n",
       "302.0        8\n",
       "170.0        8\n",
       "132.0        8\n",
       "260.0        7\n",
       "300.0        7\n",
       "203.0        7\n",
       "186.0        7\n",
       "456.0        7\n",
       "420.0        7\n",
       "50.0         7\n",
       "252.0        7\n",
       "106.0        7\n",
       "          ... \n",
       "81.0         1\n",
       "528.0        1\n",
       "91.0         1\n",
       "87.0         1\n",
       "97.0         1\n",
       "63.0         1\n",
       "408.0        1\n",
       "47.0         1\n",
       "39.0         1\n",
       "118.0        1\n",
       "1170.0       1\n",
       "376.0        1\n",
       "584.0        1\n",
       "322.0        1\n",
       "634.0        1\n",
       "532.0        1\n",
       "1290.0       1\n",
       "519.0        1\n",
       "287.0        1\n",
       "571.0        1\n",
       "435.0        1\n",
       "886.0        1\n",
       "237.0        1\n",
       "738.0        1\n",
       "1050.0       1\n",
       "664.0        1\n",
       "247.0        1\n",
       "550.0        1\n",
       "137.0        1\n",
       "572.0        1\n",
       "Name: MasVnrArea, Length: 444, dtype: int64"
      ]
     },
     "execution_count": 249,
     "metadata": {},
     "output_type": "execute_result"
    }
   ],
   "source": [
    "data['MasVnrArea'].value_counts()"
   ]
  },
  {
   "cell_type": "code",
   "execution_count": 250,
   "metadata": {
    "ExecuteTime": {
     "end_time": "2020-09-09T19:36:49.289697Z",
     "start_time": "2020-09-09T19:36:49.271294Z"
    }
   },
   "outputs": [
    {
     "data": {
      "text/plain": [
       "23"
      ]
     },
     "execution_count": 250,
     "metadata": {},
     "output_type": "execute_result"
    }
   ],
   "source": [
    "len(data[data['MasVnrArea'].isnull()]['MasVnrType']==np.nan)"
   ]
  },
  {
   "cell_type": "code",
   "execution_count": 251,
   "metadata": {
    "ExecuteTime": {
     "end_time": "2020-09-09T19:36:49.298020Z",
     "start_time": "2020-09-09T19:36:49.291466Z"
    }
   },
   "outputs": [],
   "source": [
    "data['MasVnrArea'].fillna(value=0.0,inplace=True)"
   ]
  },
  {
   "cell_type": "markdown",
   "metadata": {},
   "source": [
    "###  'MasVnrType'"
   ]
  },
  {
   "cell_type": "code",
   "execution_count": 252,
   "metadata": {
    "ExecuteTime": {
     "end_time": "2020-09-09T19:36:49.319786Z",
     "start_time": "2020-09-09T19:36:49.299018Z"
    }
   },
   "outputs": [
    {
     "data": {
      "text/plain": [
       "None       1742\n",
       "BrkFace     879\n",
       "Stone       249\n",
       "BrkCmn       25\n",
       "Name: MasVnrType, dtype: int64"
      ]
     },
     "execution_count": 252,
     "metadata": {},
     "output_type": "execute_result"
    }
   ],
   "source": [
    "data['MasVnrType'].value_counts()"
   ]
  },
  {
   "cell_type": "code",
   "execution_count": 253,
   "metadata": {
    "ExecuteTime": {
     "end_time": "2020-09-09T19:36:49.340640Z",
     "start_time": "2020-09-09T19:36:49.321780Z"
    }
   },
   "outputs": [],
   "source": [
    "data['MasVnrType'].fillna('None',inplace=True)"
   ]
  },
  {
   "cell_type": "markdown",
   "metadata": {},
   "source": [
    "### 'SaleType'"
   ]
  },
  {
   "cell_type": "code",
   "execution_count": 254,
   "metadata": {
    "ExecuteTime": {
     "end_time": "2020-09-09T19:36:49.350284Z",
     "start_time": "2020-09-09T19:36:49.342634Z"
    }
   },
   "outputs": [
    {
     "data": {
      "text/plain": [
       "WD       2525\n",
       "New       239\n",
       "COD        87\n",
       "ConLD      26\n",
       "CWD        12\n",
       "ConLI       9\n",
       "ConLw       8\n",
       "Oth         7\n",
       "Con         5\n",
       "Name: SaleType, dtype: int64"
      ]
     },
     "execution_count": 254,
     "metadata": {},
     "output_type": "execute_result"
    }
   ],
   "source": [
    "data['SaleType'].value_counts()"
   ]
  },
  {
   "cell_type": "code",
   "execution_count": 255,
   "metadata": {
    "ExecuteTime": {
     "end_time": "2020-09-09T19:36:49.359067Z",
     "start_time": "2020-09-09T19:36:49.353312Z"
    }
   },
   "outputs": [],
   "source": [
    "data['SaleType'].fillna('WD',inplace=True)"
   ]
  },
  {
   "cell_type": "markdown",
   "metadata": {},
   "source": [
    "### 'TotalBsmtSF'"
   ]
  },
  {
   "cell_type": "code",
   "execution_count": 256,
   "metadata": {
    "ExecuteTime": {
     "end_time": "2020-09-09T19:36:49.384665Z",
     "start_time": "2020-09-09T19:36:49.363092Z"
    }
   },
   "outputs": [
    {
     "data": {
      "text/plain": [
       "0.0       78\n",
       "864.0     74\n",
       "672.0     29\n",
       "912.0     26\n",
       "1040.0    25\n",
       "768.0     24\n",
       "816.0     23\n",
       "728.0     20\n",
       "1008.0    19\n",
       "780.0     19\n",
       "384.0     19\n",
       "960.0     18\n",
       "894.0     17\n",
       "756.0     17\n",
       "832.0     17\n",
       "546.0     16\n",
       "936.0     16\n",
       "720.0     16\n",
       "600.0     16\n",
       "848.0     16\n",
       "483.0     14\n",
       "630.0     13\n",
       "952.0     13\n",
       "840.0     13\n",
       "988.0     12\n",
       "624.0     12\n",
       "876.0     11\n",
       "784.0     11\n",
       "796.0     11\n",
       "1056.0    10\n",
       "          ..\n",
       "1967.0     1\n",
       "1905.0     1\n",
       "1679.0     1\n",
       "1533.0     1\n",
       "2140.0     1\n",
       "1994.0     1\n",
       "1378.0     1\n",
       "763.0      1\n",
       "1047.0     1\n",
       "1376.0     1\n",
       "904.0      1\n",
       "370.0      1\n",
       "1570.0     1\n",
       "2033.0     1\n",
       "1709.0     1\n",
       "1519.0     1\n",
       "2077.0     1\n",
       "1550.0     1\n",
       "797.0      1\n",
       "699.0      1\n",
       "559.0      1\n",
       "396.0      1\n",
       "1866.0     1\n",
       "1641.0     1\n",
       "961.0      1\n",
       "1949.0     1\n",
       "1231.0     1\n",
       "1829.0     1\n",
       "1475.0     1\n",
       "1243.0     1\n",
       "Name: TotalBsmtSF, Length: 1058, dtype: int64"
      ]
     },
     "execution_count": 256,
     "metadata": {},
     "output_type": "execute_result"
    }
   ],
   "source": [
    "data['TotalBsmtSF'].value_counts()"
   ]
  },
  {
   "cell_type": "code",
   "execution_count": 257,
   "metadata": {
    "ExecuteTime": {
     "end_time": "2020-09-09T19:36:49.407287Z",
     "start_time": "2020-09-09T19:36:49.385698Z"
    }
   },
   "outputs": [
    {
     "data": {
      "text/plain": [
       "Ind\n",
       "2120    TA\n",
       "Name: BsmtCond, dtype: object"
      ]
     },
     "execution_count": 257,
     "metadata": {},
     "output_type": "execute_result"
    }
   ],
   "source": [
    "data[data['TotalBsmtSF'].isnull()]['BsmtCond']"
   ]
  },
  {
   "cell_type": "code",
   "execution_count": 258,
   "metadata": {
    "ExecuteTime": {
     "end_time": "2020-09-09T19:36:49.416037Z",
     "start_time": "2020-09-09T19:36:49.410442Z"
    }
   },
   "outputs": [],
   "source": [
    "data['TotalBsmtSF'].fillna(0.0,inplace=True)"
   ]
  },
  {
   "cell_type": "markdown",
   "metadata": {},
   "source": [
    "### 'Utilities'"
   ]
  },
  {
   "cell_type": "code",
   "execution_count": 259,
   "metadata": {
    "ExecuteTime": {
     "end_time": "2020-09-09T19:36:49.433192Z",
     "start_time": "2020-09-09T19:36:49.417034Z"
    }
   },
   "outputs": [
    {
     "data": {
      "text/plain": [
       "2"
      ]
     },
     "execution_count": 259,
     "metadata": {},
     "output_type": "execute_result"
    }
   ],
   "source": [
    "data['Utilities'].isnull().sum()"
   ]
  },
  {
   "cell_type": "code",
   "execution_count": 260,
   "metadata": {
    "ExecuteTime": {
     "end_time": "2020-09-09T19:36:49.452299Z",
     "start_time": "2020-09-09T19:36:49.436184Z"
    }
   },
   "outputs": [
    {
     "data": {
      "text/plain": [
       "AllPub    2916\n",
       "NoSeWa       1\n",
       "Name: Utilities, dtype: int64"
      ]
     },
     "execution_count": 260,
     "metadata": {},
     "output_type": "execute_result"
    }
   ],
   "source": [
    "data['Utilities'].value_counts()"
   ]
  },
  {
   "cell_type": "code",
   "execution_count": 261,
   "metadata": {
    "ExecuteTime": {
     "end_time": "2020-09-09T19:36:49.465034Z",
     "start_time": "2020-09-09T19:36:49.453333Z"
    }
   },
   "outputs": [],
   "source": [
    "data['Utilities'].fillna('AllPub',inplace=True)"
   ]
  },
  {
   "cell_type": "markdown",
   "metadata": {},
   "source": [
    "## Categorical to Numerical"
   ]
  },
  {
   "cell_type": "markdown",
   "metadata": {
    "ExecuteTime": {
     "end_time": "2020-09-07T18:36:39.480664Z",
     "start_time": "2020-09-07T18:36:39.444750Z"
    }
   },
   "source": [
    "data.info()"
   ]
  },
  {
   "cell_type": "code",
   "execution_count": 262,
   "metadata": {
    "ExecuteTime": {
     "end_time": "2020-09-09T19:36:49.480629Z",
     "start_time": "2020-09-09T19:36:49.466032Z"
    }
   },
   "outputs": [
    {
     "data": {
      "text/plain": [
       "numpy.int64"
      ]
     },
     "execution_count": 262,
     "metadata": {},
     "output_type": "execute_result"
    }
   ],
   "source": [
    "type(data['YrSold'][0])"
   ]
  },
  {
   "cell_type": "code",
   "execution_count": 263,
   "metadata": {
    "ExecuteTime": {
     "end_time": "2020-09-09T19:36:49.495832Z",
     "start_time": "2020-09-09T19:36:49.482659Z"
    }
   },
   "outputs": [],
   "source": [
    "num_cols=[]\n",
    "for i in data.columns:\n",
    "    if type(data[i][0])==np.int64:\n",
    "        num_cols.append(i)\n",
    "    "
   ]
  },
  {
   "cell_type": "code",
   "execution_count": 264,
   "metadata": {
    "ExecuteTime": {
     "end_time": "2020-09-09T19:36:49.507096Z",
     "start_time": "2020-09-09T19:36:49.497790Z"
    }
   },
   "outputs": [],
   "source": [
    "from sklearn.preprocessing import LabelEncoder,LabelBinarizer"
   ]
  },
  {
   "cell_type": "code",
   "execution_count": 265,
   "metadata": {
    "ExecuteTime": {
     "end_time": "2020-09-09T19:36:49.524888Z",
     "start_time": "2020-09-09T19:36:49.509125Z"
    }
   },
   "outputs": [],
   "source": [
    "def cat_num(cat):\n",
    "    global data\n",
    "    if len(data[cat].value_counts())==2:\n",
    "        data[cat]=LabelEncoder().fit_transform(data[cat])\n",
    "    elif len(data[cat].value_counts())>2:\n",
    "        lb=LabelBinarizer()\n",
    "        lbr=lb.fit_transform(data[cat])\n",
    "        classes=[]\n",
    "        for i in lb.classes_:\n",
    "            classes.append(cat+'_'+i)\n",
    "        lbd=pd.DataFrame(data=lbr,columns=classes)\n",
    "        data=pd.concat([data,lbd],axis=1)\n",
    "        data.drop(columns=cat,inplace=True)"
   ]
  },
  {
   "cell_type": "code",
   "execution_count": 266,
   "metadata": {
    "ExecuteTime": {
     "end_time": "2020-09-09T19:36:49.533337Z",
     "start_time": "2020-09-09T19:36:49.528136Z"
    }
   },
   "outputs": [],
   "source": [
    "cat_cols=[]\n",
    "for i in data.columns:\n",
    "    if type(data[i][0])==str:\n",
    "        #cat_num(i)\n",
    "        cat_cols.append(i)\n",
    "        "
   ]
  },
  {
   "cell_type": "markdown",
   "metadata": {},
   "source": [
    "## Category columns handling"
   ]
  },
  {
   "cell_type": "code",
   "execution_count": 267,
   "metadata": {
    "ExecuteTime": {
     "end_time": "2020-09-09T19:36:49.543420Z",
     "start_time": "2020-09-09T19:36:49.536098Z"
    }
   },
   "outputs": [
    {
     "data": {
      "text/plain": [
       "'MSZoning'"
      ]
     },
     "execution_count": 267,
     "metadata": {},
     "output_type": "execute_result"
    }
   ],
   "source": [
    "cat_cols[0]"
   ]
  },
  {
   "cell_type": "markdown",
   "metadata": {},
   "source": [
    "### 'MSZoning'"
   ]
  },
  {
   "cell_type": "code",
   "execution_count": 268,
   "metadata": {
    "ExecuteTime": {
     "end_time": "2020-09-09T19:36:49.556620Z",
     "start_time": "2020-09-09T19:36:49.545896Z"
    }
   },
   "outputs": [
    {
     "data": {
      "text/plain": [
       "RL         2269\n",
       "RM          460\n",
       "FV          139\n",
       "RH           26\n",
       "C (all)      25\n",
       "Name: MSZoning, dtype: int64"
      ]
     },
     "execution_count": 268,
     "metadata": {},
     "output_type": "execute_result"
    }
   ],
   "source": [
    "data['MSZoning'].value_counts()"
   ]
  },
  {
   "cell_type": "markdown",
   "metadata": {},
   "source": [
    "Density of population increases the house prices.so \n",
    "\n",
    "       C\tCommercial--->10\n",
    "       RH\tResidential High Density--->8\n",
    "       RM\tResidential Medium Density--->6\n",
    "       RL\tResidential Low Density--->4\n",
    "       FV\tFloating Village Residential--->2\n",
    "       \n",
    "       "
   ]
  },
  {
   "cell_type": "code",
   "execution_count": 269,
   "metadata": {
    "ExecuteTime": {
     "end_time": "2020-09-09T19:36:49.573852Z",
     "start_time": "2020-09-09T19:36:49.558614Z"
    }
   },
   "outputs": [],
   "source": [
    "replace_map={'MSZoning': {'C (all)': 10, 'RH': 8, 'RM': 6, 'RL': 4, 'FV':2}}"
   ]
  },
  {
   "cell_type": "code",
   "execution_count": 270,
   "metadata": {
    "ExecuteTime": {
     "end_time": "2020-09-09T19:36:49.590666Z",
     "start_time": "2020-09-09T19:36:49.575846Z"
    }
   },
   "outputs": [],
   "source": [
    "data.replace(replace_map,inplace=True)"
   ]
  },
  {
   "cell_type": "code",
   "execution_count": 271,
   "metadata": {
    "ExecuteTime": {
     "end_time": "2020-09-09T19:36:49.608171Z",
     "start_time": "2020-09-09T19:36:49.593659Z"
    }
   },
   "outputs": [
    {
     "data": {
      "text/plain": [
       "4     2269\n",
       "6      460\n",
       "2      139\n",
       "8       26\n",
       "10      25\n",
       "Name: MSZoning, dtype: int64"
      ]
     },
     "execution_count": 271,
     "metadata": {},
     "output_type": "execute_result"
    }
   ],
   "source": [
    "data['MSZoning'].value_counts()"
   ]
  },
  {
   "cell_type": "markdown",
   "metadata": {},
   "source": [
    "### "
   ]
  },
  {
   "cell_type": "code",
   "execution_count": 272,
   "metadata": {
    "ExecuteTime": {
     "end_time": "2020-09-09T19:36:49.623813Z",
     "start_time": "2020-09-09T19:36:49.610920Z"
    }
   },
   "outputs": [
    {
     "data": {
      "text/plain": [
       "Inside     2133\n",
       "Corner      511\n",
       "CulDSac     176\n",
       "FR2          85\n",
       "FR3          14\n",
       "Name: LotConfig, dtype: int64"
      ]
     },
     "execution_count": 272,
     "metadata": {},
     "output_type": "execute_result"
    }
   ],
   "source": [
    "data[cat_cols[5]].value_counts()"
   ]
  },
  {
   "cell_type": "code",
   "execution_count": 273,
   "metadata": {
    "ExecuteTime": {
     "end_time": "2020-09-09T19:36:49.635279Z",
     "start_time": "2020-09-09T19:36:49.626190Z"
    }
   },
   "outputs": [],
   "source": [
    "replace_map={'LotConfig': {'FR3': 10, 'FR2': 8, 'Corner': 6, 'Inside': 4,'CulDSac':2}}"
   ]
  },
  {
   "cell_type": "code",
   "execution_count": 274,
   "metadata": {
    "ExecuteTime": {
     "end_time": "2020-09-09T19:36:49.655227Z",
     "start_time": "2020-09-09T19:36:49.637299Z"
    }
   },
   "outputs": [],
   "source": [
    "data.replace(replace_map,inplace=True)"
   ]
  },
  {
   "cell_type": "code",
   "execution_count": 275,
   "metadata": {
    "ExecuteTime": {
     "end_time": "2020-09-09T19:36:49.667650Z",
     "start_time": "2020-09-09T19:36:49.657174Z"
    }
   },
   "outputs": [
    {
     "data": {
      "text/plain": [
       "Gtl    2778\n",
       "Mod     125\n",
       "Sev      16\n",
       "Name: LandSlope, dtype: int64"
      ]
     },
     "execution_count": 275,
     "metadata": {},
     "output_type": "execute_result"
    }
   ],
   "source": [
    "data[cat_cols[6]].value_counts()"
   ]
  },
  {
   "cell_type": "code",
   "execution_count": 276,
   "metadata": {
    "ExecuteTime": {
     "end_time": "2020-09-09T19:36:49.676921Z",
     "start_time": "2020-09-09T19:36:49.669519Z"
    }
   },
   "outputs": [],
   "source": [
    "replace_map={'LandSlope': {'Gtl': 10, 'Mod': 5, 'Sev': 0}}"
   ]
  },
  {
   "cell_type": "code",
   "execution_count": 277,
   "metadata": {
    "ExecuteTime": {
     "end_time": "2020-09-09T19:36:49.700598Z",
     "start_time": "2020-09-09T19:36:49.679947Z"
    }
   },
   "outputs": [],
   "source": [
    "data.replace(replace_map,inplace=True)"
   ]
  },
  {
   "cell_type": "code",
   "execution_count": 278,
   "metadata": {
    "ExecuteTime": {
     "end_time": "2020-09-09T19:36:49.722205Z",
     "start_time": "2020-09-09T19:36:49.700598Z"
    }
   },
   "outputs": [
    {
     "data": {
      "text/plain": [
       "Norm      2511\n",
       "Feedr      164\n",
       "Artery      92\n",
       "RRAn        50\n",
       "PosN        39\n",
       "RRAe        28\n",
       "PosA        20\n",
       "RRNn         9\n",
       "RRNe         6\n",
       "Name: Condition1, dtype: int64"
      ]
     },
     "execution_count": 278,
     "metadata": {},
     "output_type": "execute_result"
    }
   ],
   "source": [
    "data[cat_cols[8]].value_counts()"
   ]
  },
  {
   "cell_type": "markdown",
   "metadata": {},
   "source": [
    "Condition1: Proximity to various conditions\n",
    "\n",
    "\t   PosN\t  Near positive off-site feature--park, greenbelt, etc. --->10\n",
    "       PosA\t  Adjacent to postive off-site feature  --->8\n",
    "       Artery\tAdjacent to arterial street--->7\n",
    "       Feedr\tAdjacent to feeder street-->6\t\n",
    "       Norm\tNormal-->5\t\n",
    "       RRAn\tAdjacent to North-South Railroad--->3\n",
    "       RRAe\tAdjacent to East-West Railroad--->3\n",
    "       RRNn\tWithin 200 of North-South Railroad--->1\n",
    "       RRNe\tWithin 200 of East-West Railroad--->1\n",
    "       "
   ]
  },
  {
   "cell_type": "code",
   "execution_count": 279,
   "metadata": {
    "ExecuteTime": {
     "end_time": "2020-09-09T19:36:49.740522Z",
     "start_time": "2020-09-09T19:36:49.724790Z"
    }
   },
   "outputs": [],
   "source": [
    "replace_map={'Condition1':{'PosN':10, 'PosA':8,'Artery':5,'Feedr':6,'Norm':7,'RRAn':3,'RRAe':3,'RRNn':1,'RRNe':1},\n",
    "            'Condition2':{'PosN':10, 'PosA':8,'Artery':5,'Feedr':6,'Norm':7,'RRAn':3,'RRAe':3,'RRNn':1,'RRNe':1}}"
   ]
  },
  {
   "cell_type": "code",
   "execution_count": 280,
   "metadata": {
    "ExecuteTime": {
     "end_time": "2020-09-09T19:36:49.773960Z",
     "start_time": "2020-09-09T19:36:49.742518Z"
    }
   },
   "outputs": [],
   "source": [
    "data.replace(replace_map,inplace=True)"
   ]
  },
  {
   "cell_type": "code",
   "execution_count": 281,
   "metadata": {
    "ExecuteTime": {
     "end_time": "2020-09-09T19:36:49.789696Z",
     "start_time": "2020-09-09T19:36:49.778353Z"
    }
   },
   "outputs": [],
   "source": [
    "data['Conditions']=data['Condition1']+data['Condition2']"
   ]
  },
  {
   "cell_type": "code",
   "execution_count": 282,
   "metadata": {
    "ExecuteTime": {
     "end_time": "2020-09-09T19:36:49.805727Z",
     "start_time": "2020-09-09T19:36:49.792690Z"
    }
   },
   "outputs": [],
   "source": [
    "data.drop(columns=['Condition1'],inplace=True)\n",
    "data.drop(columns=['Condition2'],inplace=True)"
   ]
  },
  {
   "cell_type": "code",
   "execution_count": 283,
   "metadata": {
    "ExecuteTime": {
     "end_time": "2020-09-09T19:36:49.816839Z",
     "start_time": "2020-09-09T19:36:49.809003Z"
    }
   },
   "outputs": [
    {
     "data": {
      "text/plain": [
       "1Fam      2425\n",
       "TwnhsE     227\n",
       "Duplex     109\n",
       "Twnhs       96\n",
       "2fmCon      62\n",
       "Name: BldgType, dtype: int64"
      ]
     },
     "execution_count": 283,
     "metadata": {},
     "output_type": "execute_result"
    }
   ],
   "source": [
    "data['BldgType'].value_counts()"
   ]
  },
  {
   "cell_type": "markdown",
   "metadata": {},
   "source": [
    "BldgType: Type of dwelling\n",
    "\t\t\n",
    "       Duplx\tDuplex  --->10\n",
    "       TwnhsE\tTownhouse End Unit --->8  \n",
    "       TwnhsI\tTownhouse Inside Unit --->6\n",
    "       2FmCon\tTwo-family Conversion; originally built as one-family dwelling--->4\n",
    "       1Fam\tSingle-family Detached--->2"
   ]
  },
  {
   "cell_type": "code",
   "execution_count": 284,
   "metadata": {
    "ExecuteTime": {
     "end_time": "2020-09-09T19:36:49.825721Z",
     "start_time": "2020-09-09T19:36:49.820420Z"
    }
   },
   "outputs": [],
   "source": [
    "replace_map={'BldgType':{'Duplex':10,'TwnhsE':8,'Twnhs':6,'2fmCon':4,'1Fam':2}}"
   ]
  },
  {
   "cell_type": "code",
   "execution_count": 285,
   "metadata": {
    "ExecuteTime": {
     "end_time": "2020-09-09T19:36:49.843497Z",
     "start_time": "2020-09-09T19:36:49.828602Z"
    }
   },
   "outputs": [],
   "source": [
    "data.replace(replace_map,inplace=True)"
   ]
  },
  {
   "cell_type": "markdown",
   "metadata": {
    "ExecuteTime": {
     "end_time": "2020-09-08T21:43:24.346924Z",
     "start_time": "2020-09-08T21:43:24.327599Z"
    }
   },
   "source": [
    "data[cat_cols[11]].value_counts()"
   ]
  },
  {
   "cell_type": "markdown",
   "metadata": {},
   "source": [
    "HouseStyle: Style of dwelling\n",
    "\n",
    "\t   SFoyer\tSplit Foyer--->10\n",
    "       SLvl\t  Split Level--->9\n",
    "       2.5Fin\tTwo and one-half story: 2nd level finished--->8\n",
    "       2Story\tTwo story--->7\n",
    "       2.5Unf\tTwo and one-half story: 2nd level unfinished--->6\n",
    "       1.5Fin\tOne and one-half story: 2nd level finished--->5\n",
    "       1.5Unf\tOne and one-half story: 2nd level unfinished--->4\n",
    "       1Story\tOne story--->3\n",
    "\n",
    "       \n",
    "\n",
    "       \n"
   ]
  },
  {
   "cell_type": "code",
   "execution_count": 286,
   "metadata": {
    "ExecuteTime": {
     "end_time": "2020-09-09T19:36:49.854021Z",
     "start_time": "2020-09-09T19:36:49.844495Z"
    }
   },
   "outputs": [
    {
     "ename": "SyntaxError",
     "evalue": "invalid syntax (<ipython-input-286-75882c843d8b>, line 1)",
     "output_type": "error",
     "traceback": [
      "\u001b[1;36m  File \u001b[1;32m\"<ipython-input-286-75882c843d8b>\"\u001b[1;36m, line \u001b[1;32m1\u001b[0m\n\u001b[1;33m    replace_map={'HouseStyle'{'SFoyer':4,'SLvl':7,'2.5Fin':10,'2Story':9,'2.5Unf':8,'1.5Fin':6,'1.5Unf':5,'1Story':3}}m\u001b[0m\n\u001b[1;37m                             ^\u001b[0m\n\u001b[1;31mSyntaxError\u001b[0m\u001b[1;31m:\u001b[0m invalid syntax\n"
     ]
    }
   ],
   "source": [
    "replace_map={'HouseStyle'{'SFoyer':4,'SLvl':7,'2.5Fin':10,'2Story':9,'2.5Unf':8,'1.5Fin':6,'1.5Unf':5,'1Story':3}}"
   ]
  },
  {
   "cell_type": "code",
   "execution_count": null,
   "metadata": {
    "ExecuteTime": {
     "end_time": "2020-09-09T19:36:49.855052Z",
     "start_time": "2020-09-09T19:36:48.625Z"
    }
   },
   "outputs": [],
   "source": [
    "data.replace(replace_map,inplace=True)"
   ]
  },
  {
   "cell_type": "markdown",
   "metadata": {
    "ExecuteTime": {
     "end_time": "2020-09-08T22:13:00.824387Z",
     "start_time": "2020-09-08T22:13:00.805392Z"
    }
   },
   "source": [
    "data['Foundation'].value_counts()"
   ]
  },
  {
   "cell_type": "markdown",
   "metadata": {},
   "source": [
    "Foundation: Type of foundation\n",
    "\n",
    "       PConc\tPoured Contrete--->10\n",
    "\t   Stone\tStone--->8\n",
    "       Slab\tSlab--->9\n",
    "       BrkTil\tBrick & Tile--->7\n",
    "       CBlock\tCinder Block--->6\n",
    "       Wood\tWood--->5"
   ]
  },
  {
   "cell_type": "markdown",
   "metadata": {
    "ExecuteTime": {
     "end_time": "2020-09-08T22:13:00.837203Z",
     "start_time": "2020-09-08T22:13:00.826416Z"
    }
   },
   "source": [
    "replace_map={'Foundation':{'PConc':9,'Slab':10,'Stone':8,'BrkTil':7,'CBlock':6,'Wood':5}}"
   ]
  },
  {
   "cell_type": "markdown",
   "metadata": {
    "ExecuteTime": {
     "end_time": "2020-09-08T22:13:00.864196Z",
     "start_time": "2020-09-08T22:13:00.839486Z"
    }
   },
   "source": [
    "data.replace(replace_map,inplace=True)"
   ]
  },
  {
   "cell_type": "code",
   "execution_count": null,
   "metadata": {
    "ExecuteTime": {
     "end_time": "2020-09-09T19:36:49.858170Z",
     "start_time": "2020-09-09T19:36:48.635Z"
    }
   },
   "outputs": [],
   "source": [
    "data[cat_cols[17]].value_counts()"
   ]
  },
  {
   "cell_type": "markdown",
   "metadata": {
    "ExecuteTime": {
     "end_time": "2020-09-08T23:07:14.508366Z",
     "start_time": "2020-09-08T23:07:14.498694Z"
    }
   },
   "source": [
    "ExterQual: Evaluates the quality of the material on the exterior \n",
    "\t\t\n",
    "       Ex\tExcellent -->10\n",
    "       Gd\tGood-->8\n",
    "       TA\tAverage/Typical-->6\n",
    "       Fa\tFair-->4\n",
    "       Po\tPoor-->2"
   ]
  },
  {
   "cell_type": "code",
   "execution_count": null,
   "metadata": {
    "ExecuteTime": {
     "end_time": "2020-09-09T19:36:49.858170Z",
     "start_time": "2020-09-09T19:36:48.642Z"
    }
   },
   "outputs": [],
   "source": [
    "replace_map={'ExterQual':{'Ex':10,'Gd':8,'TA':6,'Fa':4,'Po':2}}"
   ]
  },
  {
   "cell_type": "code",
   "execution_count": null,
   "metadata": {
    "ExecuteTime": {
     "end_time": "2020-09-09T19:36:49.858170Z",
     "start_time": "2020-09-09T19:36:48.647Z"
    }
   },
   "outputs": [],
   "source": [
    "data.replace(replace_map,inplace=True)"
   ]
  },
  {
   "cell_type": "code",
   "execution_count": null,
   "metadata": {
    "ExecuteTime": {
     "end_time": "2020-09-09T19:36:49.862852Z",
     "start_time": "2020-09-09T19:36:48.652Z"
    }
   },
   "outputs": [],
   "source": [
    "data[cat_cols[18]].value_counts()"
   ]
  },
  {
   "cell_type": "code",
   "execution_count": null,
   "metadata": {
    "ExecuteTime": {
     "end_time": "2020-09-09T19:36:49.862852Z",
     "start_time": "2020-09-09T19:36:48.658Z"
    }
   },
   "outputs": [],
   "source": [
    "replace_map={'ExterCond':{'Ex':10,'Gd':8,'TA':6,'Fa':4,'Po':2}}"
   ]
  },
  {
   "cell_type": "code",
   "execution_count": null,
   "metadata": {
    "ExecuteTime": {
     "end_time": "2020-09-09T19:36:49.862852Z",
     "start_time": "2020-09-09T19:36:48.663Z"
    }
   },
   "outputs": [],
   "source": [
    "data.replace(replace_map,inplace=True)"
   ]
  },
  {
   "cell_type": "code",
   "execution_count": null,
   "metadata": {
    "ExecuteTime": {
     "end_time": "2020-09-09T19:36:49.862852Z",
     "start_time": "2020-09-09T19:36:48.669Z"
    }
   },
   "outputs": [],
   "source": [
    "data[cat_cols[20]].value_counts()"
   ]
  },
  {
   "cell_type": "code",
   "execution_count": null,
   "metadata": {
    "ExecuteTime": {
     "end_time": "2020-09-09T19:36:49.862852Z",
     "start_time": "2020-09-09T19:36:48.674Z"
    }
   },
   "outputs": [],
   "source": [
    "replace_map={'BsmtQual':{'Ex':10,'Gd':8,'TA':6,'Fa':4,'Po':2}}"
   ]
  },
  {
   "cell_type": "code",
   "execution_count": null,
   "metadata": {
    "ExecuteTime": {
     "end_time": "2020-09-09T19:36:49.862852Z",
     "start_time": "2020-09-09T19:36:48.678Z"
    }
   },
   "outputs": [],
   "source": [
    "replace_map={'BsmtQual':{'Ex':10,'Gd':8,'TA':6,'Fa':4,'Po':2}}"
   ]
  },
  {
   "cell_type": "code",
   "execution_count": null,
   "metadata": {
    "ExecuteTime": {
     "end_time": "2020-09-09T19:36:49.870958Z",
     "start_time": "2020-09-09T19:36:48.683Z"
    }
   },
   "outputs": [],
   "source": [
    "data[cat_cols[21]].value_counts()"
   ]
  },
  {
   "cell_type": "code",
   "execution_count": null,
   "metadata": {
    "ExecuteTime": {
     "end_time": "2020-09-09T19:36:49.871956Z",
     "start_time": "2020-09-09T19:36:48.688Z"
    }
   },
   "outputs": [],
   "source": [
    "replace_map={'BsmtCond':{'Ex':10,'Gd':8,'TA':6,'Fa':4,'Po':2}}"
   ]
  },
  {
   "cell_type": "code",
   "execution_count": null,
   "metadata": {
    "ExecuteTime": {
     "end_time": "2020-09-09T19:36:49.873842Z",
     "start_time": "2020-09-09T19:36:48.693Z"
    }
   },
   "outputs": [],
   "source": [
    "data.replace(replace_map,inplace=True)"
   ]
  },
  {
   "cell_type": "code",
   "execution_count": null,
   "metadata": {
    "ExecuteTime": {
     "end_time": "2020-09-09T19:36:49.875868Z",
     "start_time": "2020-09-09T19:36:48.698Z"
    }
   },
   "outputs": [],
   "source": [
    "data[cat_cols[22]].value_counts()"
   ]
  },
  {
   "cell_type": "markdown",
   "metadata": {},
   "source": [
    "BsmtExposure: Refers to walkout or garden level walls\n",
    "\n",
    "       Gd\tGood Exposure --->10\n",
    "       Av\tAverage Exposure (split levels or foyers typically score average or above)--->8\n",
    "       Mn\tMimimum Exposure--->6\n",
    "       No\tNo Exposure--->4\n",
    "       NA\tNo Basement--->2\n",
    "\t"
   ]
  },
  {
   "cell_type": "code",
   "execution_count": null,
   "metadata": {
    "ExecuteTime": {
     "end_time": "2020-09-09T19:36:49.875868Z",
     "start_time": "2020-09-09T19:36:48.704Z"
    }
   },
   "outputs": [],
   "source": [
    "replace_map={'BsmtExposure':{'Gd':10,'Av':8,'Mn':6,'No':4,'Na':2}}"
   ]
  },
  {
   "cell_type": "code",
   "execution_count": null,
   "metadata": {
    "ExecuteTime": {
     "end_time": "2020-09-09T19:36:49.875868Z",
     "start_time": "2020-09-09T19:36:48.710Z"
    }
   },
   "outputs": [],
   "source": [
    "data.replace(replace_map,inplace=True)"
   ]
  },
  {
   "cell_type": "code",
   "execution_count": null,
   "metadata": {
    "ExecuteTime": {
     "end_time": "2020-09-09T19:36:49.875868Z",
     "start_time": "2020-09-09T19:36:48.714Z"
    }
   },
   "outputs": [],
   "source": [
    "data[cat_cols[23]].value_counts()"
   ]
  },
  {
   "cell_type": "markdown",
   "metadata": {
    "ExecuteTime": {
     "end_time": "2020-09-08T23:43:57.524522Z",
     "start_time": "2020-09-08T23:43:57.516334Z"
    }
   },
   "source": [
    "BsmtFinType1: Rating of basement finished area\n",
    "\n",
    "       GLQ\tGood Living Quarters-->10\n",
    "       ALQ\tAverage Living Quarters-->5\n",
    "       BLQ\tBelow Average Living Quarters-->4\t\n",
    "       Rec\tAverage Rec Room-->3\n",
    "       LwQ\tLow Quality-->2\n",
    "       Unf\tUnfinshed-->1\n",
    "       NA\tNo Basement-->0"
   ]
  },
  {
   "cell_type": "code",
   "execution_count": null,
   "metadata": {
    "ExecuteTime": {
     "end_time": "2020-09-09T19:36:49.875868Z",
     "start_time": "2020-09-09T19:36:48.721Z"
    }
   },
   "outputs": [],
   "source": [
    "replace_map={'BsmtFinType1':{'GLQ':10,'ALQ':6,'BLQ':5,'Rec':4,'LwQ':3,'Unf':2,'NA':1}}"
   ]
  },
  {
   "cell_type": "code",
   "execution_count": null,
   "metadata": {
    "ExecuteTime": {
     "end_time": "2020-09-09T19:36:49.875868Z",
     "start_time": "2020-09-09T19:36:48.726Z"
    }
   },
   "outputs": [],
   "source": [
    "data.replace(replace_map,inplace=True)"
   ]
  },
  {
   "cell_type": "code",
   "execution_count": null,
   "metadata": {},
   "outputs": [],
   "source": []
  },
  {
   "cell_type": "code",
   "execution_count": null,
   "metadata": {},
   "outputs": [],
   "source": []
  },
  {
   "cell_type": "code",
   "execution_count": null,
   "metadata": {},
   "outputs": [],
   "source": []
  },
  {
   "cell_type": "code",
   "execution_count": null,
   "metadata": {
    "ExecuteTime": {
     "end_time": "2020-09-09T19:36:49.883888Z",
     "start_time": "2020-09-09T19:36:48.740Z"
    }
   },
   "outputs": [],
   "source": [
    "cat_cols=[]\n",
    "for i in data.columns:\n",
    "    if type(data[i][0])==str:\n",
    "        cat_num(i)\n",
    "        cat_cols.append(i)\n",
    "        "
   ]
  },
  {
   "cell_type": "code",
   "execution_count": null,
   "metadata": {},
   "outputs": [],
   "source": []
  },
  {
   "cell_type": "code",
   "execution_count": null,
   "metadata": {},
   "outputs": [],
   "source": []
  },
  {
   "cell_type": "code",
   "execution_count": null,
   "metadata": {
    "ExecuteTime": {
     "end_time": "2020-09-09T19:36:49.883888Z",
     "start_time": "2020-09-09T19:36:48.752Z"
    }
   },
   "outputs": [],
   "source": [
    "data.head(1)"
   ]
  },
  {
   "cell_type": "markdown",
   "metadata": {},
   "source": [
    "##  Outlier Detection"
   ]
  },
  {
   "cell_type": "code",
   "execution_count": null,
   "metadata": {
    "ExecuteTime": {
     "end_time": "2020-09-09T19:36:49.883888Z",
     "start_time": "2020-09-09T19:36:48.758Z"
    }
   },
   "outputs": [],
   "source": [
    "def Outlier_Detecter(data,feature):\n",
    "    Q1=data[feature].quantile(0.25)\n",
    "    Q3=data[feature].quantile(0.75)\n",
    "    IQR=Q3-Q1\n",
    "    Lower_lim=Q1-1.5*IQR\n",
    "    Upper_lim=Q3+1.5*IQR\n",
    "    return len(data[(data[feature] < Lower_lim ) & (data[feature] > Upper_lim)])"
   ]
  },
  {
   "cell_type": "code",
   "execution_count": null,
   "metadata": {
    "ExecuteTime": {
     "end_time": "2020-09-09T19:36:49.883888Z",
     "start_time": "2020-09-09T19:36:48.763Z"
    }
   },
   "outputs": [],
   "source": [
    "outliers=[]\n",
    "for i in num_cols:\n",
    "    len_out=Outlier_Detecter(data,i)\n",
    "    if len_out >0:\n",
    "        outliers.append(i)"
   ]
  },
  {
   "cell_type": "code",
   "execution_count": null,
   "metadata": {
    "ExecuteTime": {
     "end_time": "2020-09-09T19:36:49.883888Z",
     "start_time": "2020-09-09T19:36:48.768Z"
    }
   },
   "outputs": [],
   "source": [
    "outliers"
   ]
  },
  {
   "cell_type": "markdown",
   "metadata": {
    "ExecuteTime": {
     "end_time": "2020-09-05T04:23:24.442177Z",
     "start_time": "2020-09-05T04:23:24.433888Z"
    }
   },
   "source": [
    "**There is no outliers found**"
   ]
  },
  {
   "cell_type": "markdown",
   "metadata": {},
   "source": [
    "###  Train Test Split"
   ]
  },
  {
   "cell_type": "code",
   "execution_count": null,
   "metadata": {
    "ExecuteTime": {
     "end_time": "2020-09-09T19:36:49.890497Z",
     "start_time": "2020-09-09T19:36:48.776Z"
    }
   },
   "outputs": [],
   "source": [
    "data.head()"
   ]
  },
  {
   "cell_type": "code",
   "execution_count": null,
   "metadata": {
    "ExecuteTime": {
     "end_time": "2020-09-09T19:36:49.891494Z",
     "start_time": "2020-09-09T19:36:48.781Z"
    }
   },
   "outputs": [],
   "source": [
    "print('Train dataset shape:{0}, \\nTest dataset shape:{1}'.format(train.shape,test.shape))"
   ]
  },
  {
   "cell_type": "code",
   "execution_count": null,
   "metadata": {
    "ExecuteTime": {
     "end_time": "2020-09-09T19:36:49.892491Z",
     "start_time": "2020-09-09T19:36:48.785Z"
    }
   },
   "outputs": [],
   "source": [
    "data_copy=data.copy()"
   ]
  },
  {
   "cell_type": "code",
   "execution_count": null,
   "metadata": {
    "ExecuteTime": {
     "end_time": "2020-09-09T19:36:49.892491Z",
     "start_time": "2020-09-09T19:36:48.790Z"
    }
   },
   "outputs": [],
   "source": [
    "data=data_copy.copy()"
   ]
  },
  {
   "cell_type": "code",
   "execution_count": null,
   "metadata": {
    "ExecuteTime": {
     "end_time": "2020-09-09T19:36:49.892491Z",
     "start_time": "2020-09-09T19:36:48.795Z"
    }
   },
   "outputs": [],
   "source": [
    "train.index"
   ]
  },
  {
   "cell_type": "code",
   "execution_count": null,
   "metadata": {
    "ExecuteTime": {
     "end_time": "2020-09-09T19:36:49.892491Z",
     "start_time": "2020-09-09T19:36:48.799Z"
    }
   },
   "outputs": [],
   "source": [
    "x_train=data[:1460]"
   ]
  },
  {
   "cell_type": "markdown",
   "metadata": {
    "ExecuteTime": {
     "end_time": "2020-09-06T16:50:33.797379Z",
     "start_time": "2020-09-06T16:50:33.782417Z"
    }
   },
   "source": [
    "x_train=x_train[num_cols]"
   ]
  },
  {
   "cell_type": "code",
   "execution_count": null,
   "metadata": {
    "ExecuteTime": {
     "end_time": "2020-09-09T19:36:49.892491Z",
     "start_time": "2020-09-09T19:36:48.804Z"
    }
   },
   "outputs": [],
   "source": [
    "x_train.drop(columns='Id',inplace=True)"
   ]
  },
  {
   "cell_type": "code",
   "execution_count": null,
   "metadata": {
    "ExecuteTime": {
     "end_time": "2020-09-09T19:36:49.900542Z",
     "start_time": "2020-09-09T19:36:48.809Z"
    }
   },
   "outputs": [],
   "source": [
    "x_test=data[1460:]"
   ]
  },
  {
   "cell_type": "markdown",
   "metadata": {
    "ExecuteTime": {
     "end_time": "2020-09-06T16:50:34.460032Z",
     "start_time": "2020-09-06T16:50:34.445085Z"
    }
   },
   "source": [
    "x_test=x_test[num_cols]"
   ]
  },
  {
   "cell_type": "code",
   "execution_count": null,
   "metadata": {
    "ExecuteTime": {
     "end_time": "2020-09-09T19:36:49.900542Z",
     "start_time": "2020-09-09T19:36:48.815Z"
    }
   },
   "outputs": [],
   "source": [
    "x_test.drop(columns='Id',inplace=True)"
   ]
  },
  {
   "cell_type": "code",
   "execution_count": null,
   "metadata": {
    "ExecuteTime": {
     "end_time": "2020-09-09T19:36:49.900542Z",
     "start_time": "2020-09-09T19:36:48.820Z"
    }
   },
   "outputs": [],
   "source": [
    "print('Train dataset shape:{0}, \\nTest dataset shape:{1}'.format(x_train.shape,x_test.shape))"
   ]
  },
  {
   "cell_type": "code",
   "execution_count": null,
   "metadata": {
    "ExecuteTime": {
     "end_time": "2020-09-09T19:36:49.900542Z",
     "start_time": "2020-09-09T19:36:48.824Z"
    }
   },
   "outputs": [],
   "source": [
    "y_train=train_data['SalePrice']"
   ]
  },
  {
   "cell_type": "code",
   "execution_count": null,
   "metadata": {
    "ExecuteTime": {
     "end_time": "2020-09-09T19:36:49.900542Z",
     "start_time": "2020-09-09T19:36:48.828Z"
    }
   },
   "outputs": [],
   "source": [
    "x_train.head(1)"
   ]
  },
  {
   "cell_type": "code",
   "execution_count": null,
   "metadata": {
    "ExecuteTime": {
     "end_time": "2020-09-09T19:36:49.908096Z",
     "start_time": "2020-09-09T19:36:48.833Z"
    }
   },
   "outputs": [],
   "source": [
    "x_test.head(1)"
   ]
  },
  {
   "cell_type": "code",
   "execution_count": null,
   "metadata": {
    "ExecuteTime": {
     "end_time": "2020-09-09T19:36:49.909366Z",
     "start_time": "2020-09-09T19:36:48.838Z"
    }
   },
   "outputs": [],
   "source": [
    "y_train.head(1)"
   ]
  },
  {
   "cell_type": "markdown",
   "metadata": {},
   "source": [
    "##  Feature Selection"
   ]
  },
  {
   "cell_type": "code",
   "execution_count": null,
   "metadata": {
    "ExecuteTime": {
     "end_time": "2020-09-09T19:36:49.911090Z",
     "start_time": "2020-09-09T19:36:48.845Z"
    }
   },
   "outputs": [],
   "source": [
    "from sklearn.feature_selection import SelectKBest, chi2"
   ]
  },
  {
   "cell_type": "code",
   "execution_count": null,
   "metadata": {
    "ExecuteTime": {
     "end_time": "2020-09-09T19:36:49.912088Z",
     "start_time": "2020-09-09T19:36:48.852Z"
    }
   },
   "outputs": [],
   "source": [
    "kbest=SelectKBest(score_func=chi2,k=30)\n",
    "kbestf=kbest.fit(x_train,y_train)"
   ]
  },
  {
   "cell_type": "code",
   "execution_count": null,
   "metadata": {
    "ExecuteTime": {
     "end_time": "2020-09-09T19:36:49.913856Z",
     "start_time": "2020-09-09T19:36:48.857Z"
    }
   },
   "outputs": [],
   "source": [
    "len(kbestf.scores_)"
   ]
  },
  {
   "cell_type": "code",
   "execution_count": null,
   "metadata": {
    "ExecuteTime": {
     "end_time": "2020-09-09T19:36:49.913856Z",
     "start_time": "2020-09-09T19:36:48.862Z"
    }
   },
   "outputs": [],
   "source": [
    "score=pd.DataFrame({'Score':kbestf.scores_,'Features':x_train.columns})"
   ]
  },
  {
   "cell_type": "code",
   "execution_count": null,
   "metadata": {
    "ExecuteTime": {
     "end_time": "2020-09-09T19:36:49.913856Z",
     "start_time": "2020-09-09T19:36:48.868Z"
    }
   },
   "outputs": [],
   "source": [
    "kbest25=list(score.nlargest(246,columns='Score')['Features'])"
   ]
  },
  {
   "cell_type": "code",
   "execution_count": null,
   "metadata": {
    "ExecuteTime": {
     "end_time": "2020-09-09T19:36:49.920071Z",
     "start_time": "2020-09-09T19:36:48.874Z"
    }
   },
   "outputs": [],
   "source": [
    "len(kbest25)"
   ]
  },
  {
   "cell_type": "code",
   "execution_count": null,
   "metadata": {
    "ExecuteTime": {
     "end_time": "2020-09-09T19:36:49.921067Z",
     "start_time": "2020-09-09T19:36:48.880Z"
    }
   },
   "outputs": [],
   "source": [
    "x_train_f=x_train[kbest25]"
   ]
  },
  {
   "cell_type": "code",
   "execution_count": null,
   "metadata": {
    "ExecuteTime": {
     "end_time": "2020-09-09T19:36:49.922385Z",
     "start_time": "2020-09-09T19:36:48.885Z"
    }
   },
   "outputs": [],
   "source": [
    "x_test_f=x_test[kbest25]"
   ]
  },
  {
   "cell_type": "markdown",
   "metadata": {},
   "source": [
    "## Machine Learning"
   ]
  },
  {
   "cell_type": "code",
   "execution_count": null,
   "metadata": {
    "ExecuteTime": {
     "end_time": "2020-09-09T19:36:49.924809Z",
     "start_time": "2020-09-09T19:36:48.891Z"
    }
   },
   "outputs": [],
   "source": [
    "from sklearn.linear_model import LinearRegression,Lasso,LogisticRegression\n",
    "from xgboost import XGBRegressor"
   ]
  },
  {
   "cell_type": "markdown",
   "metadata": {},
   "source": [
    "###  Linear Regression"
   ]
  },
  {
   "cell_type": "code",
   "execution_count": null,
   "metadata": {
    "ExecuteTime": {
     "end_time": "2020-09-09T19:36:49.927439Z",
     "start_time": "2020-09-09T19:36:48.897Z"
    }
   },
   "outputs": [],
   "source": [
    "lr=LinearRegression()"
   ]
  },
  {
   "cell_type": "code",
   "execution_count": null,
   "metadata": {
    "ExecuteTime": {
     "end_time": "2020-09-09T19:36:49.927439Z",
     "start_time": "2020-09-09T19:36:48.902Z"
    }
   },
   "outputs": [],
   "source": [
    "lrf=lr.fit(x_train_f,y_train)"
   ]
  },
  {
   "cell_type": "code",
   "execution_count": null,
   "metadata": {
    "ExecuteTime": {
     "end_time": "2020-09-09T19:36:49.927439Z",
     "start_time": "2020-09-09T19:36:48.907Z"
    }
   },
   "outputs": [],
   "source": [
    "y_predict=lrf.predict(x_test_f)"
   ]
  },
  {
   "cell_type": "code",
   "execution_count": null,
   "metadata": {
    "ExecuteTime": {
     "end_time": "2020-09-09T19:36:49.927439Z",
     "start_time": "2020-09-09T19:36:48.913Z"
    }
   },
   "outputs": [],
   "source": [
    "y_predict"
   ]
  },
  {
   "cell_type": "code",
   "execution_count": null,
   "metadata": {
    "ExecuteTime": {
     "end_time": "2020-09-09T19:36:49.927439Z",
     "start_time": "2020-09-09T19:36:48.918Z"
    }
   },
   "outputs": [],
   "source": [
    "'''Saving the results in Csv'''\n",
    "data={'Id':range(1461,2920),'SalePrice':y_predict}\n",
    "pd.DataFrame(data).set_index('Id').to_csv(r'submission files/submission_NH05.csv')"
   ]
  },
  {
   "cell_type": "code",
   "execution_count": null,
   "metadata": {
    "ExecuteTime": {
     "end_time": "2020-09-09T19:36:49.927439Z",
     "start_time": "2020-09-09T19:36:48.923Z"
    }
   },
   "outputs": [],
   "source": [
    "best_score=pd.read_csv(r'submission files/submission_NH04.csv')"
   ]
  },
  {
   "cell_type": "code",
   "execution_count": null,
   "metadata": {
    "ExecuteTime": {
     "end_time": "2020-09-09T19:36:49.935520Z",
     "start_time": "2020-09-09T19:36:48.929Z"
    }
   },
   "outputs": [],
   "source": [
    "a=best_score['SalePrice']-y_predict"
   ]
  },
  {
   "cell_type": "code",
   "execution_count": null,
   "metadata": {
    "ExecuteTime": {
     "end_time": "2020-09-09T19:36:49.936911Z",
     "start_time": "2020-09-09T19:36:48.934Z"
    }
   },
   "outputs": [],
   "source": [
    "#fig,ax1=plt.subplot(1,1)\n",
    "sns.distplot(a,bins=30)\n"
   ]
  },
  {
   "cell_type": "code",
   "execution_count": null,
   "metadata": {
    "ExecuteTime": {
     "end_time": "2020-09-09T19:36:49.938940Z",
     "start_time": "2020-09-09T19:36:48.939Z"
    }
   },
   "outputs": [],
   "source": [
    "best_score['new']=y_predict"
   ]
  },
  {
   "cell_type": "code",
   "execution_count": null,
   "metadata": {
    "ExecuteTime": {
     "end_time": "2020-09-09T19:36:49.938940Z",
     "start_time": "2020-09-09T19:36:48.944Z"
    },
    "scrolled": true
   },
   "outputs": [],
   "source": [
    "sns.heatmap(best_score[['SalePrice','new']].corr(),annot=True)"
   ]
  },
  {
   "cell_type": "markdown",
   "metadata": {},
   "source": [
    "### Random Forest Regressor"
   ]
  },
  {
   "cell_type": "code",
   "execution_count": null,
   "metadata": {
    "ExecuteTime": {
     "end_time": "2020-09-09T19:36:49.941464Z",
     "start_time": "2020-09-09T19:36:48.952Z"
    }
   },
   "outputs": [],
   "source": [
    "from sklearn.ensemble import RandomForestRegressor"
   ]
  },
  {
   "cell_type": "code",
   "execution_count": null,
   "metadata": {
    "ExecuteTime": {
     "end_time": "2020-09-09T19:36:49.941464Z",
     "start_time": "2020-09-09T19:36:48.958Z"
    }
   },
   "outputs": [],
   "source": [
    "rfs=RandomForestRegressor()"
   ]
  },
  {
   "cell_type": "code",
   "execution_count": null,
   "metadata": {
    "ExecuteTime": {
     "end_time": "2020-09-09T19:36:49.941464Z",
     "start_time": "2020-09-09T19:36:48.963Z"
    }
   },
   "outputs": [],
   "source": [
    "svr=rfs.fit(x_train_f,y_train)"
   ]
  },
  {
   "cell_type": "code",
   "execution_count": null,
   "metadata": {
    "ExecuteTime": {
     "end_time": "2020-09-09T19:36:49.941464Z",
     "start_time": "2020-09-09T19:36:48.969Z"
    }
   },
   "outputs": [],
   "source": [
    "y_predict=svr.predict(x_test_f)"
   ]
  },
  {
   "cell_type": "code",
   "execution_count": null,
   "metadata": {
    "ExecuteTime": {
     "end_time": "2020-09-09T19:36:49.941464Z",
     "start_time": "2020-09-09T19:36:48.974Z"
    }
   },
   "outputs": [],
   "source": [
    "y_predict"
   ]
  },
  {
   "cell_type": "markdown",
   "metadata": {
    "ExecuteTime": {
     "end_time": "2020-09-07T18:05:48.510605Z",
     "start_time": "2020-09-07T18:05:48.476642Z"
    }
   },
   "source": [
    "Saving the results in Csv\n",
    "data={'Id':range(1461,2920),'SalePrice':y_predict}\n",
    "pd.DataFrame(data).set_index('Id').to_csv(r'submission files/submission_mhdLR.csv')"
   ]
  },
  {
   "cell_type": "code",
   "execution_count": null,
   "metadata": {
    "ExecuteTime": {
     "end_time": "2020-09-09T19:36:49.949152Z",
     "start_time": "2020-09-09T19:36:48.981Z"
    }
   },
   "outputs": [],
   "source": [
    "best_score=pd.read_csv(r'submission files/submission_05dlr.csv')"
   ]
  },
  {
   "cell_type": "code",
   "execution_count": null,
   "metadata": {
    "ExecuteTime": {
     "end_time": "2020-09-09T19:36:49.951182Z",
     "start_time": "2020-09-09T19:36:48.986Z"
    }
   },
   "outputs": [],
   "source": [
    "a=best_score['SalePrice']-y_predict"
   ]
  },
  {
   "cell_type": "code",
   "execution_count": null,
   "metadata": {
    "ExecuteTime": {
     "end_time": "2020-09-09T19:36:49.951182Z",
     "start_time": "2020-09-09T19:36:48.992Z"
    }
   },
   "outputs": [],
   "source": [
    "#fig,ax1=plt.subplot(1,1)\n",
    "sns.distplot(a,bins=30)\n"
   ]
  },
  {
   "cell_type": "code",
   "execution_count": null,
   "metadata": {
    "ExecuteTime": {
     "end_time": "2020-09-09T19:36:49.951182Z",
     "start_time": "2020-09-09T19:36:48.998Z"
    }
   },
   "outputs": [],
   "source": [
    "best_score['new']=y_predict"
   ]
  },
  {
   "cell_type": "code",
   "execution_count": null,
   "metadata": {
    "ExecuteTime": {
     "end_time": "2020-09-09T19:36:49.951182Z",
     "start_time": "2020-09-09T19:36:49.003Z"
    },
    "scrolled": true
   },
   "outputs": [],
   "source": [
    "sns.heatmap(best_score[['SalePrice','new']].corr(),annot=True)"
   ]
  },
  {
   "cell_type": "code",
   "execution_count": null,
   "metadata": {},
   "outputs": [],
   "source": []
  },
  {
   "cell_type": "code",
   "execution_count": null,
   "metadata": {},
   "outputs": [],
   "source": []
  },
  {
   "cell_type": "code",
   "execution_count": null,
   "metadata": {},
   "outputs": [],
   "source": []
  },
  {
   "cell_type": "code",
   "execution_count": null,
   "metadata": {},
   "outputs": [],
   "source": []
  },
  {
   "cell_type": "code",
   "execution_count": null,
   "metadata": {},
   "outputs": [],
   "source": []
  },
  {
   "cell_type": "code",
   "execution_count": null,
   "metadata": {},
   "outputs": [],
   "source": []
  },
  {
   "cell_type": "code",
   "execution_count": null,
   "metadata": {},
   "outputs": [],
   "source": []
  },
  {
   "cell_type": "code",
   "execution_count": null,
   "metadata": {},
   "outputs": [],
   "source": []
  },
  {
   "cell_type": "code",
   "execution_count": null,
   "metadata": {},
   "outputs": [],
   "source": []
  },
  {
   "cell_type": "code",
   "execution_count": null,
   "metadata": {},
   "outputs": [],
   "source": []
  },
  {
   "cell_type": "code",
   "execution_count": null,
   "metadata": {},
   "outputs": [],
   "source": []
  },
  {
   "cell_type": "code",
   "execution_count": null,
   "metadata": {},
   "outputs": [],
   "source": []
  },
  {
   "cell_type": "markdown",
   "metadata": {},
   "source": [
    "## Support Vector Regressor"
   ]
  },
  {
   "cell_type": "code",
   "execution_count": null,
   "metadata": {
    "ExecuteTime": {
     "end_time": "2020-09-09T19:36:49.951182Z",
     "start_time": "2020-09-09T19:36:49.047Z"
    }
   },
   "outputs": [],
   "source": [
    "from sklearn.svm import SVR"
   ]
  },
  {
   "cell_type": "code",
   "execution_count": null,
   "metadata": {
    "ExecuteTime": {
     "end_time": "2020-09-09T19:36:49.958103Z",
     "start_time": "2020-09-09T19:36:49.054Z"
    }
   },
   "outputs": [],
   "source": [
    "svr=SVR()"
   ]
  },
  {
   "cell_type": "code",
   "execution_count": null,
   "metadata": {
    "ExecuteTime": {
     "end_time": "2020-09-09T19:36:49.958879Z",
     "start_time": "2020-09-09T19:36:49.059Z"
    }
   },
   "outputs": [],
   "source": [
    "svr=svr.fit(x_train_f,y_train)"
   ]
  },
  {
   "cell_type": "code",
   "execution_count": null,
   "metadata": {
    "ExecuteTime": {
     "end_time": "2020-09-09T19:36:49.960103Z",
     "start_time": "2020-09-09T19:36:49.064Z"
    }
   },
   "outputs": [],
   "source": [
    "y_predict=svr.predict(x_test_f)"
   ]
  },
  {
   "cell_type": "code",
   "execution_count": null,
   "metadata": {
    "ExecuteTime": {
     "end_time": "2020-09-09T19:36:49.962488Z",
     "start_time": "2020-09-09T19:36:49.069Z"
    }
   },
   "outputs": [],
   "source": [
    "y_predict"
   ]
  },
  {
   "cell_type": "code",
   "execution_count": null,
   "metadata": {
    "ExecuteTime": {
     "end_time": "2020-09-09T19:36:49.963474Z",
     "start_time": "2020-09-09T19:36:49.075Z"
    }
   },
   "outputs": [],
   "source": [
    "#  # Saving the results in Csv\n",
    "data={'Id':range(1461,2920),'SalePrice':y_predict}\n",
    "pd.DataFrame(data).set_index('Id').to_csv(r'submission files/submission_mhdLR.csv')"
   ]
  },
  {
   "cell_type": "code",
   "execution_count": null,
   "metadata": {
    "ExecuteTime": {
     "end_time": "2020-09-09T19:36:49.964505Z",
     "start_time": "2020-09-09T19:36:49.080Z"
    }
   },
   "outputs": [],
   "source": [
    "best_score=pd.read_csv(r'submission files/submission_lr.csv')"
   ]
  },
  {
   "cell_type": "code",
   "execution_count": null,
   "metadata": {
    "ExecuteTime": {
     "end_time": "2020-09-09T19:36:49.964505Z",
     "start_time": "2020-09-09T19:36:49.084Z"
    }
   },
   "outputs": [],
   "source": [
    "a=best_score['SalePrice']-y_predict"
   ]
  },
  {
   "cell_type": "code",
   "execution_count": null,
   "metadata": {
    "ExecuteTime": {
     "end_time": "2020-09-09T19:36:49.964505Z",
     "start_time": "2020-09-09T19:36:49.089Z"
    }
   },
   "outputs": [],
   "source": [
    "#fig,ax1=plt.subplot(1,1)\n",
    "sns.distplot(a,bins=30)\n"
   ]
  },
  {
   "cell_type": "code",
   "execution_count": null,
   "metadata": {
    "ExecuteTime": {
     "end_time": "2020-09-09T19:36:49.964505Z",
     "start_time": "2020-09-09T19:36:49.094Z"
    }
   },
   "outputs": [],
   "source": [
    "best_score['new']=y_predict"
   ]
  },
  {
   "cell_type": "code",
   "execution_count": null,
   "metadata": {
    "ExecuteTime": {
     "end_time": "2020-09-09T19:36:49.964505Z",
     "start_time": "2020-09-09T19:36:49.100Z"
    },
    "scrolled": true
   },
   "outputs": [],
   "source": [
    "sns.heatmap(best_score[['SalePrice','new']].corr(),annot=True)"
   ]
  },
  {
   "cell_type": "code",
   "execution_count": null,
   "metadata": {},
   "outputs": [],
   "source": []
  },
  {
   "cell_type": "code",
   "execution_count": null,
   "metadata": {},
   "outputs": [],
   "source": []
  }
 ],
 "metadata": {
  "kernelspec": {
   "display_name": "Python 3",
   "language": "python",
   "name": "python3"
  },
  "language_info": {
   "codemirror_mode": {
    "name": "ipython",
    "version": 3
   },
   "file_extension": ".py",
   "mimetype": "text/x-python",
   "name": "python",
   "nbconvert_exporter": "python",
   "pygments_lexer": "ipython3",
   "version": "3.5.6"
  },
  "toc": {
   "base_numbering": 1,
   "nav_menu": {},
   "number_sections": true,
   "sideBar": true,
   "skip_h1_title": false,
   "title_cell": "Table of Contents",
   "title_sidebar": "Contents",
   "toc_cell": false,
   "toc_position": {
    "height": "calc(100% - 180px)",
    "left": "10px",
    "top": "150px",
    "width": "218.2px"
   },
   "toc_section_display": true,
   "toc_window_display": true
  }
 },
 "nbformat": 4,
 "nbformat_minor": 4
}
