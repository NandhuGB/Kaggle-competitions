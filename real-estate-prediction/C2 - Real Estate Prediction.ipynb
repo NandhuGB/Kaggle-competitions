{
 "cells": [
  {
   "cell_type": "markdown",
   "metadata": {},
   "source": [
    "## Imports"
   ]
  },
  {
   "cell_type": "code",
   "execution_count": 2934,
   "metadata": {
    "ExecuteTime": {
     "end_time": "2020-09-09T00:40:10.756730Z",
     "start_time": "2020-09-09T00:40:10.741115Z"
    }
   },
   "outputs": [],
   "source": [
    "import pandas as pd\n",
    "import numpy as np\n",
    "import matplotlib.pyplot as plt\n",
    "import seaborn as sns\n",
    "%matplotlib inline"
   ]
  },
  {
   "cell_type": "code",
   "execution_count": 2935,
   "metadata": {
    "ExecuteTime": {
     "end_time": "2020-09-09T00:40:10.765910Z",
     "start_time": "2020-09-09T00:40:10.758724Z"
    }
   },
   "outputs": [],
   "source": [
    "#  Import data"
   ]
  },
  {
   "cell_type": "code",
   "execution_count": 2936,
   "metadata": {
    "ExecuteTime": {
     "end_time": "2020-09-09T00:40:10.814692Z",
     "start_time": "2020-09-09T00:40:10.767906Z"
    }
   },
   "outputs": [],
   "source": [
    "train_data=pd.read_csv('train.csv')"
   ]
  },
  {
   "cell_type": "code",
   "execution_count": 2937,
   "metadata": {
    "ExecuteTime": {
     "end_time": "2020-09-09T00:40:10.858791Z",
     "start_time": "2020-09-09T00:40:10.816721Z"
    }
   },
   "outputs": [],
   "source": [
    "test=pd.read_csv('test.csv')"
   ]
  },
  {
   "cell_type": "markdown",
   "metadata": {},
   "source": [
    "## Preprocessing\n"
   ]
  },
  {
   "cell_type": "code",
   "execution_count": 2938,
   "metadata": {
    "ExecuteTime": {
     "end_time": "2020-09-09T00:40:10.872979Z",
     "start_time": "2020-09-09T00:40:10.860822Z"
    }
   },
   "outputs": [
    {
     "data": {
      "text/plain": [
       "Index(['Id', 'MSSubClass', 'MSZoning', 'LotFrontage', 'LotArea', 'Street',\n",
       "       'Alley', 'LotShape', 'LandContour', 'Utilities', 'LotConfig',\n",
       "       'LandSlope', 'Neighborhood', 'Condition1', 'Condition2', 'BldgType',\n",
       "       'HouseStyle', 'OverallQual', 'OverallCond', 'YearBuilt', 'YearRemodAdd',\n",
       "       'RoofStyle', 'RoofMatl', 'Exterior1st', 'Exterior2nd', 'MasVnrType',\n",
       "       'MasVnrArea', 'ExterQual', 'ExterCond', 'Foundation', 'BsmtQual',\n",
       "       'BsmtCond', 'BsmtExposure', 'BsmtFinType1', 'BsmtFinSF1',\n",
       "       'BsmtFinType2', 'BsmtFinSF2', 'BsmtUnfSF', 'TotalBsmtSF', 'Heating',\n",
       "       'HeatingQC', 'CentralAir', 'Electrical', '1stFlrSF', '2ndFlrSF',\n",
       "       'LowQualFinSF', 'GrLivArea', 'BsmtFullBath', 'BsmtHalfBath', 'FullBath',\n",
       "       'HalfBath', 'BedroomAbvGr', 'KitchenAbvGr', 'KitchenQual',\n",
       "       'TotRmsAbvGrd', 'Functional', 'Fireplaces', 'FireplaceQu', 'GarageType',\n",
       "       'GarageYrBlt', 'GarageFinish', 'GarageCars', 'GarageArea', 'GarageQual',\n",
       "       'GarageCond', 'PavedDrive', 'WoodDeckSF', 'OpenPorchSF',\n",
       "       'EnclosedPorch', '3SsnPorch', 'ScreenPorch', 'PoolArea', 'PoolQC',\n",
       "       'Fence', 'MiscFeature', 'MiscVal', 'MoSold', 'YrSold', 'SaleType',\n",
       "       'SaleCondition', 'SalePrice'],\n",
       "      dtype='object')"
      ]
     },
     "execution_count": 2938,
     "metadata": {},
     "output_type": "execute_result"
    }
   ],
   "source": [
    "train_data.columns"
   ]
  },
  {
   "cell_type": "code",
   "execution_count": 2939,
   "metadata": {
    "ExecuteTime": {
     "end_time": "2020-09-09T00:40:10.913691Z",
     "start_time": "2020-09-09T00:40:10.876396Z"
    }
   },
   "outputs": [],
   "source": [
    "train=train_data[['Id', 'MSSubClass', 'MSZoning', 'LotFrontage', 'LotArea', 'Street',\n",
    "       'Alley', 'LotShape', 'LandContour', 'Utilities', 'LotConfig',\n",
    "       'LandSlope', 'Neighborhood', 'Condition1', 'Condition2', 'BldgType',\n",
    "       'HouseStyle', 'OverallQual', 'OverallCond', 'YearBuilt', 'YearRemodAdd',\n",
    "       'RoofStyle', 'RoofMatl', 'Exterior1st', 'Exterior2nd', 'MasVnrType',\n",
    "       'MasVnrArea', 'ExterQual', 'ExterCond', 'Foundation', 'BsmtQual',\n",
    "       'BsmtCond', 'BsmtExposure', 'BsmtFinType1', 'BsmtFinSF1',\n",
    "       'BsmtFinType2', 'BsmtFinSF2', 'BsmtUnfSF', 'TotalBsmtSF', 'Heating',\n",
    "       'HeatingQC', 'CentralAir', 'Electrical', '1stFlrSF', '2ndFlrSF',\n",
    "       'LowQualFinSF', 'GrLivArea', 'BsmtFullBath', 'BsmtHalfBath', 'FullBath',\n",
    "       'HalfBath', 'BedroomAbvGr', 'KitchenAbvGr', 'KitchenQual',\n",
    "       'TotRmsAbvGrd', 'Functional', 'Fireplaces', 'FireplaceQu', 'GarageType',\n",
    "       'GarageYrBlt', 'GarageFinish', 'GarageCars', 'GarageArea', 'GarageQual',\n",
    "       'GarageCond', 'PavedDrive', 'WoodDeckSF', 'OpenPorchSF',\n",
    "       'EnclosedPorch', '3SsnPorch', 'ScreenPorch', 'PoolArea', 'PoolQC',\n",
    "       'Fence', 'MiscFeature', 'MiscVal', 'MoSold', 'YrSold', 'SaleType',\n",
    "       'SaleCondition']]"
   ]
  },
  {
   "cell_type": "code",
   "execution_count": 2940,
   "metadata": {
    "ExecuteTime": {
     "end_time": "2020-09-09T00:40:10.945197Z",
     "start_time": "2020-09-09T00:40:10.915913Z"
    }
   },
   "outputs": [],
   "source": [
    "data=pd.concat([train,test])\n",
    "data['Ind']=range(0,2919)\n",
    "data.set_index('Ind',inplace=True)"
   ]
  },
  {
   "cell_type": "code",
   "execution_count": 2941,
   "metadata": {
    "ExecuteTime": {
     "end_time": "2020-09-09T00:40:10.989268Z",
     "start_time": "2020-09-09T00:40:10.947971Z"
    }
   },
   "outputs": [
    {
     "data": {
      "text/html": [
       "<div>\n",
       "<style scoped>\n",
       "    .dataframe tbody tr th:only-of-type {\n",
       "        vertical-align: middle;\n",
       "    }\n",
       "\n",
       "    .dataframe tbody tr th {\n",
       "        vertical-align: top;\n",
       "    }\n",
       "\n",
       "    .dataframe thead th {\n",
       "        text-align: right;\n",
       "    }\n",
       "</style>\n",
       "<table border=\"1\" class=\"dataframe\">\n",
       "  <thead>\n",
       "    <tr style=\"text-align: right;\">\n",
       "      <th></th>\n",
       "      <th>Id</th>\n",
       "      <th>MSSubClass</th>\n",
       "      <th>MSZoning</th>\n",
       "      <th>LotFrontage</th>\n",
       "      <th>LotArea</th>\n",
       "      <th>Street</th>\n",
       "      <th>Alley</th>\n",
       "      <th>LotShape</th>\n",
       "      <th>LandContour</th>\n",
       "      <th>Utilities</th>\n",
       "      <th>...</th>\n",
       "      <th>ScreenPorch</th>\n",
       "      <th>PoolArea</th>\n",
       "      <th>PoolQC</th>\n",
       "      <th>Fence</th>\n",
       "      <th>MiscFeature</th>\n",
       "      <th>MiscVal</th>\n",
       "      <th>MoSold</th>\n",
       "      <th>YrSold</th>\n",
       "      <th>SaleType</th>\n",
       "      <th>SaleCondition</th>\n",
       "    </tr>\n",
       "    <tr>\n",
       "      <th>Ind</th>\n",
       "      <th></th>\n",
       "      <th></th>\n",
       "      <th></th>\n",
       "      <th></th>\n",
       "      <th></th>\n",
       "      <th></th>\n",
       "      <th></th>\n",
       "      <th></th>\n",
       "      <th></th>\n",
       "      <th></th>\n",
       "      <th></th>\n",
       "      <th></th>\n",
       "      <th></th>\n",
       "      <th></th>\n",
       "      <th></th>\n",
       "      <th></th>\n",
       "      <th></th>\n",
       "      <th></th>\n",
       "      <th></th>\n",
       "      <th></th>\n",
       "      <th></th>\n",
       "    </tr>\n",
       "  </thead>\n",
       "  <tbody>\n",
       "    <tr>\n",
       "      <th>0</th>\n",
       "      <td>1</td>\n",
       "      <td>60</td>\n",
       "      <td>RL</td>\n",
       "      <td>65.0</td>\n",
       "      <td>8450</td>\n",
       "      <td>Pave</td>\n",
       "      <td>NaN</td>\n",
       "      <td>Reg</td>\n",
       "      <td>Lvl</td>\n",
       "      <td>AllPub</td>\n",
       "      <td>...</td>\n",
       "      <td>0</td>\n",
       "      <td>0</td>\n",
       "      <td>NaN</td>\n",
       "      <td>NaN</td>\n",
       "      <td>NaN</td>\n",
       "      <td>0</td>\n",
       "      <td>2</td>\n",
       "      <td>2008</td>\n",
       "      <td>WD</td>\n",
       "      <td>Normal</td>\n",
       "    </tr>\n",
       "    <tr>\n",
       "      <th>1</th>\n",
       "      <td>2</td>\n",
       "      <td>20</td>\n",
       "      <td>RL</td>\n",
       "      <td>80.0</td>\n",
       "      <td>9600</td>\n",
       "      <td>Pave</td>\n",
       "      <td>NaN</td>\n",
       "      <td>Reg</td>\n",
       "      <td>Lvl</td>\n",
       "      <td>AllPub</td>\n",
       "      <td>...</td>\n",
       "      <td>0</td>\n",
       "      <td>0</td>\n",
       "      <td>NaN</td>\n",
       "      <td>NaN</td>\n",
       "      <td>NaN</td>\n",
       "      <td>0</td>\n",
       "      <td>5</td>\n",
       "      <td>2007</td>\n",
       "      <td>WD</td>\n",
       "      <td>Normal</td>\n",
       "    </tr>\n",
       "  </tbody>\n",
       "</table>\n",
       "<p>2 rows × 80 columns</p>\n",
       "</div>"
      ],
      "text/plain": [
       "     Id  MSSubClass MSZoning  LotFrontage  LotArea Street Alley LotShape  \\\n",
       "Ind                                                                        \n",
       "0     1          60       RL         65.0     8450   Pave   NaN      Reg   \n",
       "1     2          20       RL         80.0     9600   Pave   NaN      Reg   \n",
       "\n",
       "    LandContour Utilities      ...       ScreenPorch PoolArea PoolQC Fence  \\\n",
       "Ind                            ...                                           \n",
       "0           Lvl    AllPub      ...                 0        0    NaN   NaN   \n",
       "1           Lvl    AllPub      ...                 0        0    NaN   NaN   \n",
       "\n",
       "    MiscFeature MiscVal MoSold  YrSold  SaleType  SaleCondition  \n",
       "Ind                                                              \n",
       "0           NaN       0      2    2008        WD         Normal  \n",
       "1           NaN       0      5    2007        WD         Normal  \n",
       "\n",
       "[2 rows x 80 columns]"
      ]
     },
     "execution_count": 2941,
     "metadata": {},
     "output_type": "execute_result"
    }
   ],
   "source": [
    "data.head(2)"
   ]
  },
  {
   "cell_type": "code",
   "execution_count": 2942,
   "metadata": {
    "ExecuteTime": {
     "end_time": "2020-09-09T00:40:11.028190Z",
     "start_time": "2020-09-09T00:40:10.991263Z"
    }
   },
   "outputs": [
    {
     "data": {
      "text/html": [
       "<div>\n",
       "<style scoped>\n",
       "    .dataframe tbody tr th:only-of-type {\n",
       "        vertical-align: middle;\n",
       "    }\n",
       "\n",
       "    .dataframe tbody tr th {\n",
       "        vertical-align: top;\n",
       "    }\n",
       "\n",
       "    .dataframe thead th {\n",
       "        text-align: right;\n",
       "    }\n",
       "</style>\n",
       "<table border=\"1\" class=\"dataframe\">\n",
       "  <thead>\n",
       "    <tr style=\"text-align: right;\">\n",
       "      <th></th>\n",
       "      <th>Id</th>\n",
       "      <th>MSSubClass</th>\n",
       "      <th>MSZoning</th>\n",
       "      <th>LotFrontage</th>\n",
       "      <th>LotArea</th>\n",
       "      <th>Street</th>\n",
       "      <th>Alley</th>\n",
       "      <th>LotShape</th>\n",
       "      <th>LandContour</th>\n",
       "      <th>Utilities</th>\n",
       "      <th>...</th>\n",
       "      <th>ScreenPorch</th>\n",
       "      <th>PoolArea</th>\n",
       "      <th>PoolQC</th>\n",
       "      <th>Fence</th>\n",
       "      <th>MiscFeature</th>\n",
       "      <th>MiscVal</th>\n",
       "      <th>MoSold</th>\n",
       "      <th>YrSold</th>\n",
       "      <th>SaleType</th>\n",
       "      <th>SaleCondition</th>\n",
       "    </tr>\n",
       "    <tr>\n",
       "      <th>Ind</th>\n",
       "      <th></th>\n",
       "      <th></th>\n",
       "      <th></th>\n",
       "      <th></th>\n",
       "      <th></th>\n",
       "      <th></th>\n",
       "      <th></th>\n",
       "      <th></th>\n",
       "      <th></th>\n",
       "      <th></th>\n",
       "      <th></th>\n",
       "      <th></th>\n",
       "      <th></th>\n",
       "      <th></th>\n",
       "      <th></th>\n",
       "      <th></th>\n",
       "      <th></th>\n",
       "      <th></th>\n",
       "      <th></th>\n",
       "      <th></th>\n",
       "      <th></th>\n",
       "    </tr>\n",
       "  </thead>\n",
       "  <tbody>\n",
       "    <tr>\n",
       "      <th>2916</th>\n",
       "      <td>2917</td>\n",
       "      <td>20</td>\n",
       "      <td>RL</td>\n",
       "      <td>160.0</td>\n",
       "      <td>20000</td>\n",
       "      <td>Pave</td>\n",
       "      <td>NaN</td>\n",
       "      <td>Reg</td>\n",
       "      <td>Lvl</td>\n",
       "      <td>AllPub</td>\n",
       "      <td>...</td>\n",
       "      <td>0</td>\n",
       "      <td>0</td>\n",
       "      <td>NaN</td>\n",
       "      <td>NaN</td>\n",
       "      <td>NaN</td>\n",
       "      <td>0</td>\n",
       "      <td>9</td>\n",
       "      <td>2006</td>\n",
       "      <td>WD</td>\n",
       "      <td>Abnorml</td>\n",
       "    </tr>\n",
       "    <tr>\n",
       "      <th>2917</th>\n",
       "      <td>2918</td>\n",
       "      <td>85</td>\n",
       "      <td>RL</td>\n",
       "      <td>62.0</td>\n",
       "      <td>10441</td>\n",
       "      <td>Pave</td>\n",
       "      <td>NaN</td>\n",
       "      <td>Reg</td>\n",
       "      <td>Lvl</td>\n",
       "      <td>AllPub</td>\n",
       "      <td>...</td>\n",
       "      <td>0</td>\n",
       "      <td>0</td>\n",
       "      <td>NaN</td>\n",
       "      <td>MnPrv</td>\n",
       "      <td>Shed</td>\n",
       "      <td>700</td>\n",
       "      <td>7</td>\n",
       "      <td>2006</td>\n",
       "      <td>WD</td>\n",
       "      <td>Normal</td>\n",
       "    </tr>\n",
       "    <tr>\n",
       "      <th>2918</th>\n",
       "      <td>2919</td>\n",
       "      <td>60</td>\n",
       "      <td>RL</td>\n",
       "      <td>74.0</td>\n",
       "      <td>9627</td>\n",
       "      <td>Pave</td>\n",
       "      <td>NaN</td>\n",
       "      <td>Reg</td>\n",
       "      <td>Lvl</td>\n",
       "      <td>AllPub</td>\n",
       "      <td>...</td>\n",
       "      <td>0</td>\n",
       "      <td>0</td>\n",
       "      <td>NaN</td>\n",
       "      <td>NaN</td>\n",
       "      <td>NaN</td>\n",
       "      <td>0</td>\n",
       "      <td>11</td>\n",
       "      <td>2006</td>\n",
       "      <td>WD</td>\n",
       "      <td>Normal</td>\n",
       "    </tr>\n",
       "  </tbody>\n",
       "</table>\n",
       "<p>3 rows × 80 columns</p>\n",
       "</div>"
      ],
      "text/plain": [
       "        Id  MSSubClass MSZoning  LotFrontage  LotArea Street Alley LotShape  \\\n",
       "Ind                                                                           \n",
       "2916  2917          20       RL        160.0    20000   Pave   NaN      Reg   \n",
       "2917  2918          85       RL         62.0    10441   Pave   NaN      Reg   \n",
       "2918  2919          60       RL         74.0     9627   Pave   NaN      Reg   \n",
       "\n",
       "     LandContour Utilities      ...       ScreenPorch PoolArea PoolQC  Fence  \\\n",
       "Ind                             ...                                            \n",
       "2916         Lvl    AllPub      ...                 0        0    NaN    NaN   \n",
       "2917         Lvl    AllPub      ...                 0        0    NaN  MnPrv   \n",
       "2918         Lvl    AllPub      ...                 0        0    NaN    NaN   \n",
       "\n",
       "     MiscFeature MiscVal MoSold  YrSold  SaleType  SaleCondition  \n",
       "Ind                                                               \n",
       "2916         NaN       0      9    2006        WD        Abnorml  \n",
       "2917        Shed     700      7    2006        WD         Normal  \n",
       "2918         NaN       0     11    2006        WD         Normal  \n",
       "\n",
       "[3 rows x 80 columns]"
      ]
     },
     "execution_count": 2942,
     "metadata": {},
     "output_type": "execute_result"
    }
   ],
   "source": [
    "data.tail(3)"
   ]
  },
  {
   "cell_type": "markdown",
   "metadata": {},
   "source": [
    "## Missing data handling"
   ]
  },
  {
   "cell_type": "code",
   "execution_count": 2943,
   "metadata": {
    "ExecuteTime": {
     "end_time": "2020-09-09T00:40:11.113135Z",
     "start_time": "2020-09-09T00:40:11.029708Z"
    }
   },
   "outputs": [],
   "source": [
    "# Collecting the features which have missing data\n",
    "\n",
    "miss_cols={}\n",
    "del_cols={}\n",
    "miss_dict=dict(data.isnull().sum()>0) \n",
    "for i in miss_dict:\n",
    "    if ( (miss_dict[i]) & (data[i].isnull().sum()<100) ):\n",
    "        miss_cols.update({i:data[i].isnull().sum()})\n",
    "    elif data[i].isnull().sum()>0:\n",
    "        del_cols.update({i:data[i].isnull().sum()})\n",
    "    "
   ]
  },
  {
   "cell_type": "code",
   "execution_count": 2944,
   "metadata": {
    "ExecuteTime": {
     "end_time": "2020-09-09T00:40:11.132698Z",
     "start_time": "2020-09-09T00:40:11.115129Z"
    }
   },
   "outputs": [
    {
     "data": {
      "text/plain": [
       "{'Alley': 2721,\n",
       " 'Fence': 2348,\n",
       " 'FireplaceQu': 1420,\n",
       " 'GarageCond': 159,\n",
       " 'GarageFinish': 159,\n",
       " 'GarageQual': 159,\n",
       " 'GarageType': 157,\n",
       " 'GarageYrBlt': 159,\n",
       " 'LotFrontage': 486,\n",
       " 'MiscFeature': 2814,\n",
       " 'PoolQC': 2909}"
      ]
     },
     "execution_count": 2944,
     "metadata": {},
     "output_type": "execute_result"
    }
   ],
   "source": [
    "# Columns need to be deleted\n",
    "\n",
    "data.drop(axis=1,columns=del_cols,inplace=True)\n",
    "del_cols"
   ]
  },
  {
   "cell_type": "code",
   "execution_count": 2945,
   "metadata": {
    "ExecuteTime": {
     "end_time": "2020-09-09T00:40:11.145220Z",
     "start_time": "2020-09-09T00:40:11.134725Z"
    }
   },
   "outputs": [
    {
     "data": {
      "text/plain": [
       "{'BsmtCond': 82,\n",
       " 'BsmtExposure': 82,\n",
       " 'BsmtFinSF1': 1,\n",
       " 'BsmtFinSF2': 1,\n",
       " 'BsmtFinType1': 79,\n",
       " 'BsmtFinType2': 80,\n",
       " 'BsmtFullBath': 2,\n",
       " 'BsmtHalfBath': 2,\n",
       " 'BsmtQual': 81,\n",
       " 'BsmtUnfSF': 1,\n",
       " 'Electrical': 1,\n",
       " 'Exterior1st': 1,\n",
       " 'Exterior2nd': 1,\n",
       " 'Functional': 2,\n",
       " 'GarageArea': 1,\n",
       " 'GarageCars': 1,\n",
       " 'KitchenQual': 1,\n",
       " 'MSZoning': 4,\n",
       " 'MasVnrArea': 23,\n",
       " 'MasVnrType': 24,\n",
       " 'SaleType': 1,\n",
       " 'TotalBsmtSF': 1,\n",
       " 'Utilities': 2}"
      ]
     },
     "execution_count": 2945,
     "metadata": {},
     "output_type": "execute_result"
    }
   ],
   "source": [
    "# Missing data columns\n",
    "\n",
    "miss_cols"
   ]
  },
  {
   "cell_type": "markdown",
   "metadata": {},
   "source": [
    "### 'BsmtCond'"
   ]
  },
  {
   "cell_type": "code",
   "execution_count": 2946,
   "metadata": {
    "ExecuteTime": {
     "end_time": "2020-09-09T00:40:11.156235Z",
     "start_time": "2020-09-09T00:40:11.146718Z"
    }
   },
   "outputs": [
    {
     "data": {
      "text/plain": [
       "TA    2606\n",
       "Gd     122\n",
       "Fa     104\n",
       "Po       5\n",
       "Name: BsmtCond, dtype: int64"
      ]
     },
     "execution_count": 2946,
     "metadata": {},
     "output_type": "execute_result"
    }
   ],
   "source": [
    "data['BsmtCond'].value_counts()"
   ]
  },
  {
   "cell_type": "code",
   "execution_count": 2947,
   "metadata": {
    "ExecuteTime": {
     "end_time": "2020-09-09T00:40:11.171538Z",
     "start_time": "2020-09-09T00:40:11.159200Z"
    }
   },
   "outputs": [],
   "source": [
    "data['BsmtCond'].fillna(value='TA',inplace=True)"
   ]
  },
  {
   "cell_type": "code",
   "execution_count": 2948,
   "metadata": {
    "ExecuteTime": {
     "end_time": "2020-09-09T00:40:11.184338Z",
     "start_time": "2020-09-09T00:40:11.173386Z"
    }
   },
   "outputs": [
    {
     "data": {
      "text/plain": [
       "0"
      ]
     },
     "execution_count": 2948,
     "metadata": {},
     "output_type": "execute_result"
    }
   ],
   "source": [
    "data['BsmtCond'].isnull().sum()"
   ]
  },
  {
   "cell_type": "markdown",
   "metadata": {},
   "source": [
    "### 'BsmtExposure'"
   ]
  },
  {
   "cell_type": "code",
   "execution_count": 2949,
   "metadata": {
    "ExecuteTime": {
     "end_time": "2020-09-09T00:40:11.203596Z",
     "start_time": "2020-09-09T00:40:11.187411Z"
    }
   },
   "outputs": [
    {
     "data": {
      "text/plain": [
       "No    1904\n",
       "Av     418\n",
       "Gd     276\n",
       "Mn     239\n",
       "Name: BsmtExposure, dtype: int64"
      ]
     },
     "execution_count": 2949,
     "metadata": {},
     "output_type": "execute_result"
    }
   ],
   "source": [
    "data['BsmtExposure'].value_counts()"
   ]
  },
  {
   "cell_type": "code",
   "execution_count": 2950,
   "metadata": {
    "ExecuteTime": {
     "end_time": "2020-09-09T00:40:11.219698Z",
     "start_time": "2020-09-09T00:40:11.206603Z"
    }
   },
   "outputs": [],
   "source": [
    "data['BsmtExposure'].fillna(value='No',inplace=True)"
   ]
  },
  {
   "cell_type": "code",
   "execution_count": 2951,
   "metadata": {
    "ExecuteTime": {
     "end_time": "2020-09-09T00:40:11.236469Z",
     "start_time": "2020-09-09T00:40:11.221694Z"
    }
   },
   "outputs": [
    {
     "data": {
      "text/plain": [
       "0"
      ]
     },
     "execution_count": 2951,
     "metadata": {},
     "output_type": "execute_result"
    }
   ],
   "source": [
    "data['BsmtExposure'].isnull().sum()"
   ]
  },
  {
   "cell_type": "markdown",
   "metadata": {},
   "source": [
    "### 'BsmtFinSF1' &  'BsmtFinType2'"
   ]
  },
  {
   "cell_type": "code",
   "execution_count": 2952,
   "metadata": {
    "ExecuteTime": {
     "end_time": "2020-09-09T00:40:11.253677Z",
     "start_time": "2020-09-09T00:40:11.238464Z"
    }
   },
   "outputs": [],
   "source": [
    "data['BsmtFinSF2'].fillna(value=0.0,inplace=True)"
   ]
  },
  {
   "cell_type": "code",
   "execution_count": 2953,
   "metadata": {
    "ExecuteTime": {
     "end_time": "2020-09-09T00:40:11.262872Z",
     "start_time": "2020-09-09T00:40:11.255694Z"
    }
   },
   "outputs": [],
   "source": [
    "data['BsmtFinSF1'].fillna(value=0.0,inplace=True)"
   ]
  },
  {
   "cell_type": "code",
   "execution_count": 2954,
   "metadata": {
    "ExecuteTime": {
     "end_time": "2020-09-09T00:40:11.277228Z",
     "start_time": "2020-09-09T00:40:11.265675Z"
    }
   },
   "outputs": [
    {
     "data": {
      "text/plain": [
       "0"
      ]
     },
     "execution_count": 2954,
     "metadata": {},
     "output_type": "execute_result"
    }
   ],
   "source": [
    "data['BsmtFinSF1'].isnull().sum()"
   ]
  },
  {
   "cell_type": "code",
   "execution_count": 2955,
   "metadata": {
    "ExecuteTime": {
     "end_time": "2020-09-09T00:40:11.285730Z",
     "start_time": "2020-09-09T00:40:11.279183Z"
    }
   },
   "outputs": [
    {
     "data": {
      "text/plain": [
       "0"
      ]
     },
     "execution_count": 2955,
     "metadata": {},
     "output_type": "execute_result"
    }
   ],
   "source": [
    "data['BsmtFinSF2'].isnull().sum()"
   ]
  },
  {
   "cell_type": "markdown",
   "metadata": {},
   "source": [
    "### 'BsmtFinType1' & 'BsmtFinType2'"
   ]
  },
  {
   "cell_type": "code",
   "execution_count": 2956,
   "metadata": {
    "ExecuteTime": {
     "end_time": "2020-09-09T00:40:11.299666Z",
     "start_time": "2020-09-09T00:40:11.287885Z"
    }
   },
   "outputs": [
    {
     "data": {
      "text/plain": [
       "Unf    851\n",
       "GLQ    849\n",
       "ALQ    429\n",
       "Rec    288\n",
       "BLQ    269\n",
       "LwQ    154\n",
       "Name: BsmtFinType1, dtype: int64"
      ]
     },
     "execution_count": 2956,
     "metadata": {},
     "output_type": "execute_result"
    }
   ],
   "source": [
    "data['BsmtFinType1'].value_counts()"
   ]
  },
  {
   "cell_type": "code",
   "execution_count": 2957,
   "metadata": {
    "ExecuteTime": {
     "end_time": "2020-09-09T00:40:11.315129Z",
     "start_time": "2020-09-09T00:40:11.302704Z"
    }
   },
   "outputs": [],
   "source": [
    "data['BsmtFinType1'].fillna(value='Unf',inplace=True)"
   ]
  },
  {
   "cell_type": "code",
   "execution_count": 2958,
   "metadata": {
    "ExecuteTime": {
     "end_time": "2020-09-09T00:40:11.331078Z",
     "start_time": "2020-09-09T00:40:11.317087Z"
    }
   },
   "outputs": [
    {
     "data": {
      "text/plain": [
       "Unf    2493\n",
       "Rec     105\n",
       "LwQ      87\n",
       "BLQ      68\n",
       "ALQ      52\n",
       "GLQ      34\n",
       "Name: BsmtFinType2, dtype: int64"
      ]
     },
     "execution_count": 2958,
     "metadata": {},
     "output_type": "execute_result"
    }
   ],
   "source": [
    "data['BsmtFinType2'].value_counts()"
   ]
  },
  {
   "cell_type": "code",
   "execution_count": 2959,
   "metadata": {
    "ExecuteTime": {
     "end_time": "2020-09-09T00:40:11.346237Z",
     "start_time": "2020-09-09T00:40:11.332918Z"
    }
   },
   "outputs": [],
   "source": [
    "data['BsmtFinType2'].fillna(value='Unf',inplace=True)"
   ]
  },
  {
   "cell_type": "markdown",
   "metadata": {},
   "source": [
    "###  'BsmtFullBath' & 'BsmtHalfBath'"
   ]
  },
  {
   "cell_type": "code",
   "execution_count": 2960,
   "metadata": {
    "ExecuteTime": {
     "end_time": "2020-09-09T00:40:11.363455Z",
     "start_time": "2020-09-09T00:40:11.348617Z"
    }
   },
   "outputs": [
    {
     "data": {
      "text/plain": [
       "0.0    1705\n",
       "1.0    1172\n",
       "2.0      38\n",
       "3.0       2\n",
       "Name: BsmtFullBath, dtype: int64"
      ]
     },
     "execution_count": 2960,
     "metadata": {},
     "output_type": "execute_result"
    }
   ],
   "source": [
    "data['BsmtFullBath'].value_counts()"
   ]
  },
  {
   "cell_type": "code",
   "execution_count": 2961,
   "metadata": {
    "ExecuteTime": {
     "end_time": "2020-09-09T00:40:11.380530Z",
     "start_time": "2020-09-09T00:40:11.365442Z"
    }
   },
   "outputs": [
    {
     "data": {
      "text/plain": [
       "Ind\n",
       "2120    TA\n",
       "2188    TA\n",
       "Name: BsmtCond, dtype: object"
      ]
     },
     "execution_count": 2961,
     "metadata": {},
     "output_type": "execute_result"
    }
   ],
   "source": [
    "data[data['BsmtFullBath'].isnull()]['BsmtCond']"
   ]
  },
  {
   "cell_type": "code",
   "execution_count": 2962,
   "metadata": {
    "ExecuteTime": {
     "end_time": "2020-09-09T00:40:11.397008Z",
     "start_time": "2020-09-09T00:40:11.382492Z"
    }
   },
   "outputs": [],
   "source": [
    "data['BsmtFullBath'].fillna(value=0.0,inplace=True)"
   ]
  },
  {
   "cell_type": "code",
   "execution_count": 2963,
   "metadata": {
    "ExecuteTime": {
     "end_time": "2020-09-09T00:40:11.411132Z",
     "start_time": "2020-09-09T00:40:11.399003Z"
    }
   },
   "outputs": [
    {
     "data": {
      "text/plain": [
       "0.0    2742\n",
       "1.0     171\n",
       "2.0       4\n",
       "Name: BsmtHalfBath, dtype: int64"
      ]
     },
     "execution_count": 2963,
     "metadata": {},
     "output_type": "execute_result"
    }
   ],
   "source": [
    "data['BsmtHalfBath'].value_counts()"
   ]
  },
  {
   "cell_type": "code",
   "execution_count": 2964,
   "metadata": {
    "ExecuteTime": {
     "end_time": "2020-09-09T00:40:11.429250Z",
     "start_time": "2020-09-09T00:40:11.413160Z"
    }
   },
   "outputs": [
    {
     "data": {
      "text/plain": [
       "Ind\n",
       "2120    TA\n",
       "2188    TA\n",
       "Name: BsmtCond, dtype: object"
      ]
     },
     "execution_count": 2964,
     "metadata": {},
     "output_type": "execute_result"
    }
   ],
   "source": [
    "data[data['BsmtHalfBath'].isnull()]['BsmtCond']"
   ]
  },
  {
   "cell_type": "code",
   "execution_count": 2965,
   "metadata": {
    "ExecuteTime": {
     "end_time": "2020-09-09T00:40:11.444615Z",
     "start_time": "2020-09-09T00:40:11.430708Z"
    }
   },
   "outputs": [],
   "source": [
    "data['BsmtHalfBath'].fillna(value=0.0,inplace=True)"
   ]
  },
  {
   "cell_type": "markdown",
   "metadata": {},
   "source": [
    "### BsmtQual"
   ]
  },
  {
   "cell_type": "code",
   "execution_count": 2966,
   "metadata": {
    "ExecuteTime": {
     "end_time": "2020-09-09T00:40:11.460542Z",
     "start_time": "2020-09-09T00:40:11.447389Z"
    }
   },
   "outputs": [
    {
     "data": {
      "text/plain": [
       "TA    1283\n",
       "Gd    1209\n",
       "Ex     258\n",
       "Fa      88\n",
       "Name: BsmtQual, dtype: int64"
      ]
     },
     "execution_count": 2966,
     "metadata": {},
     "output_type": "execute_result"
    }
   ],
   "source": [
    "data['BsmtQual'].value_counts()"
   ]
  },
  {
   "cell_type": "code",
   "execution_count": 2967,
   "metadata": {
    "ExecuteTime": {
     "end_time": "2020-09-09T00:40:11.469492Z",
     "start_time": "2020-09-09T00:40:11.462583Z"
    }
   },
   "outputs": [],
   "source": [
    "data['BsmtQual'].fillna('TA',inplace=True)"
   ]
  },
  {
   "cell_type": "code",
   "execution_count": 2968,
   "metadata": {
    "ExecuteTime": {
     "end_time": "2020-09-09T00:40:11.486992Z",
     "start_time": "2020-09-09T00:40:11.472962Z"
    }
   },
   "outputs": [
    {
     "data": {
      "text/plain": [
       "0"
      ]
     },
     "execution_count": 2968,
     "metadata": {},
     "output_type": "execute_result"
    }
   ],
   "source": [
    "data['BsmtQual'].isnull().sum()"
   ]
  },
  {
   "cell_type": "markdown",
   "metadata": {},
   "source": [
    "### 'BsmtUnfSF'"
   ]
  },
  {
   "cell_type": "code",
   "execution_count": 2969,
   "metadata": {
    "ExecuteTime": {
     "end_time": "2020-09-09T00:40:11.507886Z",
     "start_time": "2020-09-09T00:40:11.489060Z"
    }
   },
   "outputs": [
    {
     "data": {
      "text/plain": [
       "0.0       241\n",
       "384.0      19\n",
       "728.0      14\n",
       "672.0      13\n",
       "600.0      12\n",
       "572.0      11\n",
       "216.0      11\n",
       "100.0      11\n",
       "816.0      11\n",
       "624.0      10\n",
       "270.0      10\n",
       "300.0      10\n",
       "264.0       9\n",
       "396.0       9\n",
       "280.0       9\n",
       "186.0       9\n",
       "768.0       9\n",
       "780.0       8\n",
       "546.0       8\n",
       "348.0       8\n",
       "294.0       8\n",
       "440.0       8\n",
       "162.0       8\n",
       "480.0       8\n",
       "832.0       8\n",
       "108.0       8\n",
       "840.0       8\n",
       "784.0       7\n",
       "80.0        7\n",
       "392.0       7\n",
       "         ... \n",
       "127.0       1\n",
       "795.0       1\n",
       "214.0       1\n",
       "1098.0      1\n",
       "584.0       1\n",
       "532.0       1\n",
       "983.0       1\n",
       "79.0        1\n",
       "388.0       1\n",
       "559.0       1\n",
       "1616.0      1\n",
       "889.0       1\n",
       "1078.0      1\n",
       "1411.0      1\n",
       "999.0       1\n",
       "659.0       1\n",
       "709.0       1\n",
       "1214.0      1\n",
       "657.0       1\n",
       "587.0       1\n",
       "1146.0      1\n",
       "2140.0      1\n",
       "579.0       1\n",
       "735.0       1\n",
       "1073.0      1\n",
       "1503.0      1\n",
       "445.0       1\n",
       "958.0       1\n",
       "1559.0      1\n",
       "1369.0      1\n",
       "Name: BsmtUnfSF, Length: 1135, dtype: int64"
      ]
     },
     "execution_count": 2969,
     "metadata": {},
     "output_type": "execute_result"
    }
   ],
   "source": [
    "data['BsmtUnfSF'].value_counts()"
   ]
  },
  {
   "cell_type": "code",
   "execution_count": 2970,
   "metadata": {
    "ExecuteTime": {
     "end_time": "2020-09-09T00:40:11.516013Z",
     "start_time": "2020-09-09T00:40:11.510161Z"
    }
   },
   "outputs": [],
   "source": [
    "data['BsmtUnfSF'].fillna(value=0.0,inplace=True)"
   ]
  },
  {
   "cell_type": "markdown",
   "metadata": {},
   "source": [
    "### 'Electrical'"
   ]
  },
  {
   "cell_type": "code",
   "execution_count": 2971,
   "metadata": {
    "ExecuteTime": {
     "end_time": "2020-09-09T00:40:11.536171Z",
     "start_time": "2020-09-09T00:40:11.519417Z"
    }
   },
   "outputs": [
    {
     "data": {
      "text/plain": [
       "SBrkr    2671\n",
       "FuseA     188\n",
       "FuseF      50\n",
       "FuseP       8\n",
       "Mix         1\n",
       "Name: Electrical, dtype: int64"
      ]
     },
     "execution_count": 2971,
     "metadata": {},
     "output_type": "execute_result"
    }
   ],
   "source": [
    "data['Electrical'].value_counts()"
   ]
  },
  {
   "cell_type": "code",
   "execution_count": 2972,
   "metadata": {
    "ExecuteTime": {
     "end_time": "2020-09-09T00:40:11.545170Z",
     "start_time": "2020-09-09T00:40:11.538268Z"
    }
   },
   "outputs": [],
   "source": [
    "data['Electrical'].fillna(value='SBrkr',inplace=True)"
   ]
  },
  {
   "cell_type": "markdown",
   "metadata": {},
   "source": [
    "### 'Exterior1st'"
   ]
  },
  {
   "cell_type": "code",
   "execution_count": 2973,
   "metadata": {
    "ExecuteTime": {
     "end_time": "2020-09-09T00:40:11.559225Z",
     "start_time": "2020-09-09T00:40:11.548196Z"
    }
   },
   "outputs": [
    {
     "data": {
      "text/plain": [
       "VinylSd    1025\n",
       "MetalSd     450\n",
       "HdBoard     442\n",
       "Wd Sdng     411\n",
       "Plywood     221\n",
       "CemntBd     126\n",
       "BrkFace      87\n",
       "WdShing      56\n",
       "AsbShng      44\n",
       "Stucco       43\n",
       "BrkComm       6\n",
       "AsphShn       2\n",
       "Stone         2\n",
       "CBlock        2\n",
       "ImStucc       1\n",
       "Name: Exterior1st, dtype: int64"
      ]
     },
     "execution_count": 2973,
     "metadata": {},
     "output_type": "execute_result"
    }
   ],
   "source": [
    "data['Exterior1st'].value_counts()"
   ]
  },
  {
   "cell_type": "code",
   "execution_count": 2974,
   "metadata": {
    "ExecuteTime": {
     "end_time": "2020-09-09T00:40:11.573939Z",
     "start_time": "2020-09-09T00:40:11.561220Z"
    }
   },
   "outputs": [],
   "source": [
    "data['Exterior1st'].fillna(value='VinylSd',inplace=True)"
   ]
  },
  {
   "cell_type": "markdown",
   "metadata": {},
   "source": [
    "### 'Exterior2nd'"
   ]
  },
  {
   "cell_type": "code",
   "execution_count": 2975,
   "metadata": {
    "ExecuteTime": {
     "end_time": "2020-09-09T00:40:11.592278Z",
     "start_time": "2020-09-09T00:40:11.575761Z"
    }
   },
   "outputs": [
    {
     "data": {
      "text/plain": [
       "VinylSd    1014\n",
       "MetalSd     447\n",
       "HdBoard     406\n",
       "Wd Sdng     391\n",
       "Plywood     270\n",
       "CmentBd     126\n",
       "Wd Shng      81\n",
       "BrkFace      47\n",
       "Stucco       47\n",
       "AsbShng      38\n",
       "Brk Cmn      22\n",
       "ImStucc      15\n",
       "Stone         6\n",
       "AsphShn       4\n",
       "CBlock        3\n",
       "Other         1\n",
       "Name: Exterior2nd, dtype: int64"
      ]
     },
     "execution_count": 2975,
     "metadata": {},
     "output_type": "execute_result"
    }
   ],
   "source": [
    "data['Exterior2nd'].value_counts()"
   ]
  },
  {
   "cell_type": "code",
   "execution_count": 2976,
   "metadata": {
    "ExecuteTime": {
     "end_time": "2020-09-09T00:40:11.600695Z",
     "start_time": "2020-09-09T00:40:11.594298Z"
    }
   },
   "outputs": [],
   "source": [
    "data['Exterior2nd'].fillna(value='VinylSd',inplace=True)"
   ]
  },
  {
   "cell_type": "markdown",
   "metadata": {},
   "source": [
    "### 'Functional'"
   ]
  },
  {
   "cell_type": "code",
   "execution_count": 2977,
   "metadata": {
    "ExecuteTime": {
     "end_time": "2020-09-09T00:40:11.613162Z",
     "start_time": "2020-09-09T00:40:11.603686Z"
    }
   },
   "outputs": [
    {
     "data": {
      "text/plain": [
       "Typ     2717\n",
       "Min2      70\n",
       "Min1      65\n",
       "Mod       35\n",
       "Maj1      19\n",
       "Maj2       9\n",
       "Sev        2\n",
       "Name: Functional, dtype: int64"
      ]
     },
     "execution_count": 2977,
     "metadata": {},
     "output_type": "execute_result"
    }
   ],
   "source": [
    "data['Functional'].value_counts()"
   ]
  },
  {
   "cell_type": "code",
   "execution_count": 2978,
   "metadata": {
    "ExecuteTime": {
     "end_time": "2020-09-09T00:40:11.623629Z",
     "start_time": "2020-09-09T00:40:11.615165Z"
    }
   },
   "outputs": [],
   "source": [
    "data['Functional'].fillna(value='Typ',inplace=True)"
   ]
  },
  {
   "cell_type": "markdown",
   "metadata": {},
   "source": [
    "### 'GarageArea'"
   ]
  },
  {
   "cell_type": "code",
   "execution_count": 2979,
   "metadata": {
    "ExecuteTime": {
     "end_time": "2020-09-09T00:40:11.639662Z",
     "start_time": "2020-09-09T00:40:11.625456Z"
    }
   },
   "outputs": [
    {
     "data": {
      "text/plain": [
       "Ind\n",
       "2576   NaN\n",
       "Name: GarageCars, dtype: float64"
      ]
     },
     "execution_count": 2979,
     "metadata": {},
     "output_type": "execute_result"
    }
   ],
   "source": [
    "data[data['GarageArea'].isnull()]['GarageCars']"
   ]
  },
  {
   "cell_type": "code",
   "execution_count": 2980,
   "metadata": {
    "ExecuteTime": {
     "end_time": "2020-09-09T00:40:11.656640Z",
     "start_time": "2020-09-09T00:40:11.642365Z"
    }
   },
   "outputs": [],
   "source": [
    "data['GarageArea'].fillna(value=0.0,inplace=True)"
   ]
  },
  {
   "cell_type": "markdown",
   "metadata": {},
   "source": [
    "### 'GarageCars'"
   ]
  },
  {
   "cell_type": "code",
   "execution_count": 2981,
   "metadata": {
    "ExecuteTime": {
     "end_time": "2020-09-09T00:40:11.689318Z",
     "start_time": "2020-09-09T00:40:11.656640Z"
    }
   },
   "outputs": [
    {
     "data": {
      "text/plain": [
       "2.0    1594\n",
       "1.0     776\n",
       "3.0     374\n",
       "0.0     157\n",
       "4.0      16\n",
       "5.0       1\n",
       "Name: GarageCars, dtype: int64"
      ]
     },
     "execution_count": 2981,
     "metadata": {},
     "output_type": "execute_result"
    }
   ],
   "source": [
    "data['GarageCars'].value_counts()"
   ]
  },
  {
   "cell_type": "code",
   "execution_count": 2982,
   "metadata": {
    "ExecuteTime": {
     "end_time": "2020-09-09T00:40:11.705270Z",
     "start_time": "2020-09-09T00:40:11.692312Z"
    }
   },
   "outputs": [
    {
     "data": {
      "text/plain": [
       "Ind\n",
       "2576    0.0\n",
       "Name: GarageArea, dtype: float64"
      ]
     },
     "execution_count": 2982,
     "metadata": {},
     "output_type": "execute_result"
    }
   ],
   "source": [
    "data[data['GarageCars'].isnull()]['GarageArea']"
   ]
  },
  {
   "cell_type": "code",
   "execution_count": 2983,
   "metadata": {
    "ExecuteTime": {
     "end_time": "2020-09-09T00:40:11.714960Z",
     "start_time": "2020-09-09T00:40:11.707263Z"
    }
   },
   "outputs": [],
   "source": [
    "data['GarageCars'].fillna(0.0,inplace=True)"
   ]
  },
  {
   "cell_type": "markdown",
   "metadata": {},
   "source": [
    "### 'KitchenQual'"
   ]
  },
  {
   "cell_type": "code",
   "execution_count": 2984,
   "metadata": {
    "ExecuteTime": {
     "end_time": "2020-09-09T00:40:11.728338Z",
     "start_time": "2020-09-09T00:40:11.717952Z"
    }
   },
   "outputs": [
    {
     "data": {
      "text/plain": [
       "TA    1492\n",
       "Gd    1151\n",
       "Ex     205\n",
       "Fa      70\n",
       "Name: KitchenQual, dtype: int64"
      ]
     },
     "execution_count": 2984,
     "metadata": {},
     "output_type": "execute_result"
    }
   ],
   "source": [
    "data['KitchenQual'].value_counts()"
   ]
  },
  {
   "cell_type": "code",
   "execution_count": 2985,
   "metadata": {
    "ExecuteTime": {
     "end_time": "2020-09-09T00:40:11.746058Z",
     "start_time": "2020-09-09T00:40:11.730476Z"
    }
   },
   "outputs": [
    {
     "data": {
      "text/plain": [
       "Ind\n",
       "1555    1\n",
       "Name: KitchenAbvGr, dtype: int64"
      ]
     },
     "execution_count": 2985,
     "metadata": {},
     "output_type": "execute_result"
    }
   ],
   "source": [
    "data[data['KitchenQual'].isnull()]['KitchenAbvGr']"
   ]
  },
  {
   "cell_type": "code",
   "execution_count": 2986,
   "metadata": {
    "ExecuteTime": {
     "end_time": "2020-09-09T00:40:11.761272Z",
     "start_time": "2020-09-09T00:40:11.749050Z"
    }
   },
   "outputs": [
    {
     "data": {
      "text/plain": [
       "1    2785\n",
       "2     129\n",
       "0       3\n",
       "3       2\n",
       "Name: KitchenAbvGr, dtype: int64"
      ]
     },
     "execution_count": 2986,
     "metadata": {},
     "output_type": "execute_result"
    }
   ],
   "source": [
    "data['KitchenAbvGr'].value_counts()"
   ]
  },
  {
   "cell_type": "code",
   "execution_count": 2987,
   "metadata": {
    "ExecuteTime": {
     "end_time": "2020-09-09T00:40:11.782681Z",
     "start_time": "2020-09-09T00:40:11.763741Z"
    }
   },
   "outputs": [
    {
     "data": {
      "text/plain": [
       "TA    1372\n",
       "Gd    1146\n",
       "Ex     205\n",
       "Fa      61\n",
       "Name: KitchenQual, dtype: int64"
      ]
     },
     "execution_count": 2987,
     "metadata": {},
     "output_type": "execute_result"
    }
   ],
   "source": [
    "data[data['KitchenAbvGr']==1]['KitchenQual'].value_counts()"
   ]
  },
  {
   "cell_type": "code",
   "execution_count": 2988,
   "metadata": {
    "ExecuteTime": {
     "end_time": "2020-09-09T00:40:11.798086Z",
     "start_time": "2020-09-09T00:40:11.785736Z"
    }
   },
   "outputs": [],
   "source": [
    "data['KitchenQual'].fillna(value='TA',inplace=True)"
   ]
  },
  {
   "cell_type": "markdown",
   "metadata": {},
   "source": [
    "### 'MSZoning'"
   ]
  },
  {
   "cell_type": "code",
   "execution_count": 2989,
   "metadata": {
    "ExecuteTime": {
     "end_time": "2020-09-09T00:40:11.819581Z",
     "start_time": "2020-09-09T00:40:11.801227Z"
    }
   },
   "outputs": [
    {
     "data": {
      "text/plain": [
       "RL         2265\n",
       "RM          460\n",
       "FV          139\n",
       "RH           26\n",
       "C (all)      25\n",
       "Name: MSZoning, dtype: int64"
      ]
     },
     "execution_count": 2989,
     "metadata": {},
     "output_type": "execute_result"
    }
   ],
   "source": [
    "data['MSZoning'].value_counts()"
   ]
  },
  {
   "cell_type": "code",
   "execution_count": 2990,
   "metadata": {
    "ExecuteTime": {
     "end_time": "2020-09-09T00:40:11.834789Z",
     "start_time": "2020-09-09T00:40:11.822643Z"
    }
   },
   "outputs": [],
   "source": [
    "data['MSZoning'].fillna(value='RL',inplace=True)"
   ]
  },
  {
   "cell_type": "markdown",
   "metadata": {},
   "source": [
    "### 'MasVnrArea'"
   ]
  },
  {
   "cell_type": "code",
   "execution_count": 2991,
   "metadata": {
    "ExecuteTime": {
     "end_time": "2020-09-09T00:40:11.859943Z",
     "start_time": "2020-09-09T00:40:11.839813Z"
    }
   },
   "outputs": [
    {
     "data": {
      "text/plain": [
       "0.0       1738\n",
       "120.0       15\n",
       "176.0       13\n",
       "200.0       13\n",
       "216.0       12\n",
       "180.0       12\n",
       "144.0       11\n",
       "72.0        11\n",
       "108.0       11\n",
       "16.0        11\n",
       "340.0       10\n",
       "80.0         9\n",
       "210.0        9\n",
       "128.0        9\n",
       "196.0        9\n",
       "256.0        8\n",
       "178.0        8\n",
       "40.0         8\n",
       "302.0        8\n",
       "170.0        8\n",
       "132.0        8\n",
       "260.0        7\n",
       "300.0        7\n",
       "203.0        7\n",
       "186.0        7\n",
       "456.0        7\n",
       "420.0        7\n",
       "50.0         7\n",
       "252.0        7\n",
       "106.0        7\n",
       "          ... \n",
       "81.0         1\n",
       "528.0        1\n",
       "91.0         1\n",
       "87.0         1\n",
       "97.0         1\n",
       "63.0         1\n",
       "408.0        1\n",
       "47.0         1\n",
       "39.0         1\n",
       "118.0        1\n",
       "1170.0       1\n",
       "376.0        1\n",
       "584.0        1\n",
       "322.0        1\n",
       "634.0        1\n",
       "532.0        1\n",
       "1290.0       1\n",
       "519.0        1\n",
       "287.0        1\n",
       "571.0        1\n",
       "435.0        1\n",
       "886.0        1\n",
       "237.0        1\n",
       "738.0        1\n",
       "1050.0       1\n",
       "664.0        1\n",
       "247.0        1\n",
       "550.0        1\n",
       "137.0        1\n",
       "572.0        1\n",
       "Name: MasVnrArea, Length: 444, dtype: int64"
      ]
     },
     "execution_count": 2991,
     "metadata": {},
     "output_type": "execute_result"
    }
   ],
   "source": [
    "data['MasVnrArea'].value_counts()"
   ]
  },
  {
   "cell_type": "code",
   "execution_count": 2992,
   "metadata": {
    "ExecuteTime": {
     "end_time": "2020-09-09T00:40:11.871149Z",
     "start_time": "2020-09-09T00:40:11.862998Z"
    }
   },
   "outputs": [
    {
     "data": {
      "text/plain": [
       "23"
      ]
     },
     "execution_count": 2992,
     "metadata": {},
     "output_type": "execute_result"
    }
   ],
   "source": [
    "len(data[data['MasVnrArea'].isnull()]['MasVnrType']==np.nan)"
   ]
  },
  {
   "cell_type": "code",
   "execution_count": 2993,
   "metadata": {
    "ExecuteTime": {
     "end_time": "2020-09-09T00:40:11.881029Z",
     "start_time": "2020-09-09T00:40:11.875183Z"
    }
   },
   "outputs": [],
   "source": [
    "data['MasVnrArea'].fillna(value=0.0,inplace=True)"
   ]
  },
  {
   "cell_type": "markdown",
   "metadata": {},
   "source": [
    "###  'MasVnrType'"
   ]
  },
  {
   "cell_type": "code",
   "execution_count": 2994,
   "metadata": {
    "ExecuteTime": {
     "end_time": "2020-09-09T00:40:11.900612Z",
     "start_time": "2020-09-09T00:40:11.884239Z"
    }
   },
   "outputs": [
    {
     "data": {
      "text/plain": [
       "None       1742\n",
       "BrkFace     879\n",
       "Stone       249\n",
       "BrkCmn       25\n",
       "Name: MasVnrType, dtype: int64"
      ]
     },
     "execution_count": 2994,
     "metadata": {},
     "output_type": "execute_result"
    }
   ],
   "source": [
    "data['MasVnrType'].value_counts()"
   ]
  },
  {
   "cell_type": "code",
   "execution_count": 2995,
   "metadata": {
    "ExecuteTime": {
     "end_time": "2020-09-09T00:40:11.909945Z",
     "start_time": "2020-09-09T00:40:11.902978Z"
    }
   },
   "outputs": [],
   "source": [
    "data['MasVnrType'].fillna('None',inplace=True)"
   ]
  },
  {
   "cell_type": "markdown",
   "metadata": {},
   "source": [
    "### 'SaleType'"
   ]
  },
  {
   "cell_type": "code",
   "execution_count": 2996,
   "metadata": {
    "ExecuteTime": {
     "end_time": "2020-09-09T00:40:11.923462Z",
     "start_time": "2020-09-09T00:40:11.912962Z"
    }
   },
   "outputs": [
    {
     "data": {
      "text/plain": [
       "WD       2525\n",
       "New       239\n",
       "COD        87\n",
       "ConLD      26\n",
       "CWD        12\n",
       "ConLI       9\n",
       "ConLw       8\n",
       "Oth         7\n",
       "Con         5\n",
       "Name: SaleType, dtype: int64"
      ]
     },
     "execution_count": 2996,
     "metadata": {},
     "output_type": "execute_result"
    }
   ],
   "source": [
    "data['SaleType'].value_counts()"
   ]
  },
  {
   "cell_type": "code",
   "execution_count": 2997,
   "metadata": {
    "ExecuteTime": {
     "end_time": "2020-09-09T00:40:11.935315Z",
     "start_time": "2020-09-09T00:40:11.925421Z"
    }
   },
   "outputs": [],
   "source": [
    "data['SaleType'].fillna('WD',inplace=True)"
   ]
  },
  {
   "cell_type": "markdown",
   "metadata": {},
   "source": [
    "### 'TotalBsmtSF'"
   ]
  },
  {
   "cell_type": "code",
   "execution_count": 2998,
   "metadata": {
    "ExecuteTime": {
     "end_time": "2020-09-09T00:40:11.960352Z",
     "start_time": "2020-09-09T00:40:11.938363Z"
    }
   },
   "outputs": [
    {
     "data": {
      "text/plain": [
       "0.0       78\n",
       "864.0     74\n",
       "672.0     29\n",
       "912.0     26\n",
       "1040.0    25\n",
       "768.0     24\n",
       "816.0     23\n",
       "728.0     20\n",
       "1008.0    19\n",
       "780.0     19\n",
       "384.0     19\n",
       "960.0     18\n",
       "894.0     17\n",
       "756.0     17\n",
       "832.0     17\n",
       "546.0     16\n",
       "936.0     16\n",
       "720.0     16\n",
       "600.0     16\n",
       "848.0     16\n",
       "483.0     14\n",
       "630.0     13\n",
       "952.0     13\n",
       "840.0     13\n",
       "988.0     12\n",
       "624.0     12\n",
       "876.0     11\n",
       "784.0     11\n",
       "796.0     11\n",
       "1056.0    10\n",
       "          ..\n",
       "1967.0     1\n",
       "1905.0     1\n",
       "1679.0     1\n",
       "1533.0     1\n",
       "2140.0     1\n",
       "1994.0     1\n",
       "1378.0     1\n",
       "763.0      1\n",
       "1047.0     1\n",
       "1376.0     1\n",
       "904.0      1\n",
       "370.0      1\n",
       "1570.0     1\n",
       "2033.0     1\n",
       "1709.0     1\n",
       "1519.0     1\n",
       "2077.0     1\n",
       "1550.0     1\n",
       "797.0      1\n",
       "699.0      1\n",
       "559.0      1\n",
       "396.0      1\n",
       "1866.0     1\n",
       "1641.0     1\n",
       "961.0      1\n",
       "1949.0     1\n",
       "1231.0     1\n",
       "1829.0     1\n",
       "1475.0     1\n",
       "1243.0     1\n",
       "Name: TotalBsmtSF, Length: 1058, dtype: int64"
      ]
     },
     "execution_count": 2998,
     "metadata": {},
     "output_type": "execute_result"
    }
   ],
   "source": [
    "data['TotalBsmtSF'].value_counts()"
   ]
  },
  {
   "cell_type": "code",
   "execution_count": 2999,
   "metadata": {
    "ExecuteTime": {
     "end_time": "2020-09-09T00:40:11.974802Z",
     "start_time": "2020-09-09T00:40:11.962166Z"
    }
   },
   "outputs": [
    {
     "data": {
      "text/plain": [
       "Ind\n",
       "2120    TA\n",
       "Name: BsmtCond, dtype: object"
      ]
     },
     "execution_count": 2999,
     "metadata": {},
     "output_type": "execute_result"
    }
   ],
   "source": [
    "data[data['TotalBsmtSF'].isnull()]['BsmtCond']"
   ]
  },
  {
   "cell_type": "code",
   "execution_count": 3000,
   "metadata": {
    "ExecuteTime": {
     "end_time": "2020-09-09T00:40:11.983685Z",
     "start_time": "2020-09-09T00:40:11.976505Z"
    }
   },
   "outputs": [],
   "source": [
    "data['TotalBsmtSF'].fillna(0.0,inplace=True)"
   ]
  },
  {
   "cell_type": "markdown",
   "metadata": {},
   "source": [
    "### 'Utilities'"
   ]
  },
  {
   "cell_type": "code",
   "execution_count": 3001,
   "metadata": {
    "ExecuteTime": {
     "end_time": "2020-09-09T00:40:11.992840Z",
     "start_time": "2020-09-09T00:40:11.985680Z"
    }
   },
   "outputs": [
    {
     "data": {
      "text/plain": [
       "2"
      ]
     },
     "execution_count": 3001,
     "metadata": {},
     "output_type": "execute_result"
    }
   ],
   "source": [
    "data['Utilities'].isnull().sum()"
   ]
  },
  {
   "cell_type": "code",
   "execution_count": 3002,
   "metadata": {
    "ExecuteTime": {
     "end_time": "2020-09-09T00:40:12.010117Z",
     "start_time": "2020-09-09T00:40:11.994837Z"
    }
   },
   "outputs": [
    {
     "data": {
      "text/plain": [
       "AllPub    2916\n",
       "NoSeWa       1\n",
       "Name: Utilities, dtype: int64"
      ]
     },
     "execution_count": 3002,
     "metadata": {},
     "output_type": "execute_result"
    }
   ],
   "source": [
    "data['Utilities'].value_counts()"
   ]
  },
  {
   "cell_type": "code",
   "execution_count": 3003,
   "metadata": {
    "ExecuteTime": {
     "end_time": "2020-09-09T00:40:12.018538Z",
     "start_time": "2020-09-09T00:40:12.012555Z"
    }
   },
   "outputs": [],
   "source": [
    "data['Utilities'].fillna('AllPub',inplace=True)"
   ]
  },
  {
   "cell_type": "markdown",
   "metadata": {},
   "source": [
    "## Categorical to Numerical"
   ]
  },
  {
   "cell_type": "markdown",
   "metadata": {
    "ExecuteTime": {
     "end_time": "2020-09-07T18:36:39.480664Z",
     "start_time": "2020-09-07T18:36:39.444750Z"
    }
   },
   "source": [
    "data.info()"
   ]
  },
  {
   "cell_type": "code",
   "execution_count": 3004,
   "metadata": {
    "ExecuteTime": {
     "end_time": "2020-09-09T00:40:12.036745Z",
     "start_time": "2020-09-09T00:40:12.022875Z"
    }
   },
   "outputs": [
    {
     "data": {
      "text/plain": [
       "numpy.int64"
      ]
     },
     "execution_count": 3004,
     "metadata": {},
     "output_type": "execute_result"
    }
   ],
   "source": [
    "type(data['YrSold'][0])"
   ]
  },
  {
   "cell_type": "code",
   "execution_count": 3005,
   "metadata": {
    "ExecuteTime": {
     "end_time": "2020-09-09T00:40:12.054323Z",
     "start_time": "2020-09-09T00:40:12.039737Z"
    }
   },
   "outputs": [],
   "source": [
    "num_cols=[]\n",
    "for i in data.columns:\n",
    "    if type(data[i][0])==np.int64:\n",
    "        num_cols.append(i)\n",
    "    "
   ]
  },
  {
   "cell_type": "code",
   "execution_count": 3006,
   "metadata": {
    "ExecuteTime": {
     "end_time": "2020-09-09T00:40:12.063503Z",
     "start_time": "2020-09-09T00:40:12.056317Z"
    }
   },
   "outputs": [],
   "source": [
    "from sklearn.preprocessing import LabelEncoder,LabelBinarizer"
   ]
  },
  {
   "cell_type": "code",
   "execution_count": 3007,
   "metadata": {
    "ExecuteTime": {
     "end_time": "2020-09-09T00:40:12.086746Z",
     "start_time": "2020-09-09T00:40:12.066495Z"
    }
   },
   "outputs": [],
   "source": [
    "def cat_num(cat):\n",
    "    global data\n",
    "    if len(data[cat].value_counts())==2:\n",
    "        data[cat]=LabelEncoder().fit_transform(data[cat])\n",
    "    elif len(data[cat].value_counts())>2:\n",
    "        lb=LabelBinarizer()\n",
    "        lbr=lb.fit_transform(data[cat])\n",
    "        lbd=pd.DataFrame(data=lbr,columns=lb.classes_)\n",
    "        data=pd.concat([data,lbd],axis=1)\n",
    "        data.drop(columns=cat,inplace=True)"
   ]
  },
  {
   "cell_type": "code",
   "execution_count": 3008,
   "metadata": {
    "ExecuteTime": {
     "end_time": "2020-09-09T00:40:12.104391Z",
     "start_time": "2020-09-09T00:40:12.089276Z"
    }
   },
   "outputs": [],
   "source": [
    "cat_cols=[]\n",
    "for i in data.columns:\n",
    "    if type(data[i][0])==str:\n",
    "        #cat_num(i)\n",
    "        cat_cols.append(i)\n",
    "        "
   ]
  },
  {
   "cell_type": "markdown",
   "metadata": {},
   "source": [
    "## Category columns handling"
   ]
  },
  {
   "cell_type": "code",
   "execution_count": 3009,
   "metadata": {
    "ExecuteTime": {
     "end_time": "2020-09-09T00:40:12.113131Z",
     "start_time": "2020-09-09T00:40:12.106387Z"
    }
   },
   "outputs": [
    {
     "data": {
      "text/plain": [
       "'MSZoning'"
      ]
     },
     "execution_count": 3009,
     "metadata": {},
     "output_type": "execute_result"
    }
   ],
   "source": [
    "cat_cols[0]"
   ]
  },
  {
   "cell_type": "markdown",
   "metadata": {},
   "source": [
    "### 'MSZoning'"
   ]
  },
  {
   "cell_type": "code",
   "execution_count": 3010,
   "metadata": {
    "ExecuteTime": {
     "end_time": "2020-09-09T00:40:12.135078Z",
     "start_time": "2020-09-09T00:40:12.115072Z"
    }
   },
   "outputs": [
    {
     "data": {
      "text/plain": [
       "RL         2269\n",
       "RM          460\n",
       "FV          139\n",
       "RH           26\n",
       "C (all)      25\n",
       "Name: MSZoning, dtype: int64"
      ]
     },
     "execution_count": 3010,
     "metadata": {},
     "output_type": "execute_result"
    }
   ],
   "source": [
    "data['MSZoning'].value_counts()"
   ]
  },
  {
   "cell_type": "markdown",
   "metadata": {},
   "source": [
    "Density of population increases the house prices.so \n",
    "\n",
    "       C\tCommercial--->10\n",
    "       RH\tResidential High Density--->8\n",
    "       RM\tResidential Medium Density--->6\n",
    "       RL\tResidential Low Density--->4\n",
    "       FV\tFloating Village Residential--->2\n",
    "       \n",
    "       "
   ]
  },
  {
   "cell_type": "code",
   "execution_count": 3011,
   "metadata": {
    "ExecuteTime": {
     "end_time": "2020-09-09T00:40:12.145078Z",
     "start_time": "2020-09-09T00:40:12.137070Z"
    }
   },
   "outputs": [],
   "source": [
    "replace_map={'MSZoning': {'C (all)': 10, 'RH': 8, 'RM': 6, 'RL': 4, 'FV':2}}"
   ]
  },
  {
   "cell_type": "code",
   "execution_count": 3012,
   "metadata": {
    "ExecuteTime": {
     "end_time": "2020-09-09T00:40:12.160031Z",
     "start_time": "2020-09-09T00:40:12.147359Z"
    }
   },
   "outputs": [],
   "source": [
    "data.replace(replace_map,inplace=True)"
   ]
  },
  {
   "cell_type": "code",
   "execution_count": 3013,
   "metadata": {
    "ExecuteTime": {
     "end_time": "2020-09-09T00:40:12.180036Z",
     "start_time": "2020-09-09T00:40:12.162025Z"
    }
   },
   "outputs": [
    {
     "data": {
      "text/plain": [
       "4     2269\n",
       "6      460\n",
       "2      139\n",
       "8       26\n",
       "10      25\n",
       "Name: MSZoning, dtype: int64"
      ]
     },
     "execution_count": 3013,
     "metadata": {},
     "output_type": "execute_result"
    }
   ],
   "source": [
    "data['MSZoning'].value_counts()"
   ]
  },
  {
   "cell_type": "markdown",
   "metadata": {},
   "source": [
    "### "
   ]
  },
  {
   "cell_type": "code",
   "execution_count": 3014,
   "metadata": {
    "ExecuteTime": {
     "end_time": "2020-09-09T00:40:12.200039Z",
     "start_time": "2020-09-09T00:40:12.182124Z"
    }
   },
   "outputs": [
    {
     "data": {
      "text/plain": [
       "Inside     2133\n",
       "Corner      511\n",
       "CulDSac     176\n",
       "FR2          85\n",
       "FR3          14\n",
       "Name: LotConfig, dtype: int64"
      ]
     },
     "execution_count": 3014,
     "metadata": {},
     "output_type": "execute_result"
    }
   ],
   "source": [
    "data[cat_cols[5]].value_counts()"
   ]
  },
  {
   "cell_type": "code",
   "execution_count": 3015,
   "metadata": {
    "ExecuteTime": {
     "end_time": "2020-09-09T00:40:12.219080Z",
     "start_time": "2020-09-09T00:40:12.202278Z"
    }
   },
   "outputs": [],
   "source": [
    "replace_map={'LotConfig': {'FR3': 10, 'FR2': 8, 'Corner': 6, 'Inside': 4,'CulDSac':2}}"
   ]
  },
  {
   "cell_type": "code",
   "execution_count": 3016,
   "metadata": {
    "ExecuteTime": {
     "end_time": "2020-09-09T00:40:12.236743Z",
     "start_time": "2020-09-09T00:40:12.221074Z"
    }
   },
   "outputs": [],
   "source": [
    "data.replace(replace_map,inplace=True)"
   ]
  },
  {
   "cell_type": "code",
   "execution_count": 3017,
   "metadata": {
    "ExecuteTime": {
     "end_time": "2020-09-09T00:40:12.250024Z",
     "start_time": "2020-09-09T00:40:12.238738Z"
    }
   },
   "outputs": [
    {
     "data": {
      "text/plain": [
       "Gtl    2778\n",
       "Mod     125\n",
       "Sev      16\n",
       "Name: LandSlope, dtype: int64"
      ]
     },
     "execution_count": 3017,
     "metadata": {},
     "output_type": "execute_result"
    }
   ],
   "source": [
    "data[cat_cols[6]].value_counts()"
   ]
  },
  {
   "cell_type": "code",
   "execution_count": 3018,
   "metadata": {
    "ExecuteTime": {
     "end_time": "2020-09-09T00:40:12.259872Z",
     "start_time": "2020-09-09T00:40:12.252052Z"
    }
   },
   "outputs": [],
   "source": [
    "replace_map={'LandSlope': {'Gtl': 10, 'Mod': 5, 'Sev': 0}}"
   ]
  },
  {
   "cell_type": "code",
   "execution_count": 3019,
   "metadata": {
    "ExecuteTime": {
     "end_time": "2020-09-09T00:40:12.277948Z",
     "start_time": "2020-09-09T00:40:12.262056Z"
    }
   },
   "outputs": [],
   "source": [
    "data.replace(replace_map,inplace=True)"
   ]
  },
  {
   "cell_type": "code",
   "execution_count": 3020,
   "metadata": {
    "ExecuteTime": {
     "end_time": "2020-09-09T00:40:12.300057Z",
     "start_time": "2020-09-09T00:40:12.280417Z"
    }
   },
   "outputs": [
    {
     "data": {
      "text/plain": [
       "Norm      2511\n",
       "Feedr      164\n",
       "Artery      92\n",
       "RRAn        50\n",
       "PosN        39\n",
       "RRAe        28\n",
       "PosA        20\n",
       "RRNn         9\n",
       "RRNe         6\n",
       "Name: Condition1, dtype: int64"
      ]
     },
     "execution_count": 3020,
     "metadata": {},
     "output_type": "execute_result"
    }
   ],
   "source": [
    "data[cat_cols[8]].value_counts()"
   ]
  },
  {
   "cell_type": "markdown",
   "metadata": {},
   "source": [
    "Condition1: Proximity to various conditions\n",
    "\n",
    "\t   PosN\t  Near positive off-site feature--park, greenbelt, etc. --->10\n",
    "       PosA\t  Adjacent to postive off-site feature  --->8\n",
    "       Artery\tAdjacent to arterial street--->7\n",
    "       Feedr\tAdjacent to feeder street-->6\t\n",
    "       Norm\tNormal-->5\t\n",
    "       RRAn\tAdjacent to North-South Railroad--->3\n",
    "       RRAe\tAdjacent to East-West Railroad--->3\n",
    "       RRNn\tWithin 200 of North-South Railroad--->1\n",
    "       RRNe\tWithin 200 of East-West Railroad--->1\n",
    "       "
   ]
  },
  {
   "cell_type": "code",
   "execution_count": 3021,
   "metadata": {
    "ExecuteTime": {
     "end_time": "2020-09-09T00:40:12.314885Z",
     "start_time": "2020-09-09T00:40:12.302216Z"
    }
   },
   "outputs": [],
   "source": [
    "replace_map={'Condition1':{'PosN':10, 'PosA':8,'Artery':5,'Feedr':6,'Norm':7,'RRAn':3,'RRAe':3,'RRNn':1,'RRNe':1},\n",
    "            'Condition2':{'PosN':10, 'PosA':8,'Artery':5,'Feedr':6,'Norm':7,'RRAn':3,'RRAe':3,'RRNn':1,'RRNe':1}}"
   ]
  },
  {
   "cell_type": "code",
   "execution_count": 3022,
   "metadata": {
    "ExecuteTime": {
     "end_time": "2020-09-09T00:40:12.348764Z",
     "start_time": "2020-09-09T00:40:12.318106Z"
    }
   },
   "outputs": [],
   "source": [
    "data.replace(replace_map,inplace=True)"
   ]
  },
  {
   "cell_type": "code",
   "execution_count": 3023,
   "metadata": {
    "ExecuteTime": {
     "end_time": "2020-09-09T00:40:12.357861Z",
     "start_time": "2020-09-09T00:40:12.350760Z"
    }
   },
   "outputs": [],
   "source": [
    "data['Conditions']=data['Condition1']+data['Condition2']"
   ]
  },
  {
   "cell_type": "code",
   "execution_count": 3024,
   "metadata": {
    "ExecuteTime": {
     "end_time": "2020-09-09T00:40:12.377483Z",
     "start_time": "2020-09-09T00:40:12.359872Z"
    }
   },
   "outputs": [],
   "source": [
    "data.drop(columns=['Condition1'],inplace=True)\n",
    "data.drop(columns=['Condition2'],inplace=True)"
   ]
  },
  {
   "cell_type": "code",
   "execution_count": 3025,
   "metadata": {
    "ExecuteTime": {
     "end_time": "2020-09-09T00:40:12.388316Z",
     "start_time": "2020-09-09T00:40:12.379477Z"
    }
   },
   "outputs": [
    {
     "data": {
      "text/plain": [
       "1Fam      2425\n",
       "TwnhsE     227\n",
       "Duplex     109\n",
       "Twnhs       96\n",
       "2fmCon      62\n",
       "Name: BldgType, dtype: int64"
      ]
     },
     "execution_count": 3025,
     "metadata": {},
     "output_type": "execute_result"
    }
   ],
   "source": [
    "data['BldgType'].value_counts()"
   ]
  },
  {
   "cell_type": "markdown",
   "metadata": {},
   "source": [
    "BldgType: Type of dwelling\n",
    "\t\t\n",
    "       Duplx\tDuplex  --->10\n",
    "       TwnhsE\tTownhouse End Unit --->8  \n",
    "       TwnhsI\tTownhouse Inside Unit --->6\n",
    "       2FmCon\tTwo-family Conversion; originally built as one-family dwelling--->4\n",
    "       1Fam\tSingle-family Detached--->2"
   ]
  },
  {
   "cell_type": "code",
   "execution_count": 3026,
   "metadata": {
    "ExecuteTime": {
     "end_time": "2020-09-09T00:40:12.403309Z",
     "start_time": "2020-09-09T00:40:12.391345Z"
    }
   },
   "outputs": [],
   "source": [
    "replace_map={'BldgType':{'Duplex':10,'TwnhsE':8,'Twnhs':6,'2fmCon':4,'1Fam':2}}"
   ]
  },
  {
   "cell_type": "code",
   "execution_count": 3027,
   "metadata": {
    "ExecuteTime": {
     "end_time": "2020-09-09T00:40:12.416386Z",
     "start_time": "2020-09-09T00:40:12.405303Z"
    }
   },
   "outputs": [],
   "source": [
    "data.replace(replace_map,inplace=True)"
   ]
  },
  {
   "cell_type": "markdown",
   "metadata": {
    "ExecuteTime": {
     "end_time": "2020-09-08T21:43:24.346924Z",
     "start_time": "2020-09-08T21:43:24.327599Z"
    }
   },
   "source": [
    "data[cat_cols[11]].value_counts()"
   ]
  },
  {
   "cell_type": "markdown",
   "metadata": {},
   "source": [
    "HouseStyle: Style of dwelling\n",
    "\n",
    "\t   SFoyer\tSplit Foyer--->10\n",
    "       SLvl\t  Split Level--->9\n",
    "       2.5Fin\tTwo and one-half story: 2nd level finished--->8\n",
    "       2Story\tTwo story--->7\n",
    "       2.5Unf\tTwo and one-half story: 2nd level unfinished--->6\n",
    "       1.5Fin\tOne and one-half story: 2nd level finished--->5\n",
    "       1.5Unf\tOne and one-half story: 2nd level unfinished--->4\n",
    "       1Story\tOne story--->3\n",
    "\n",
    "       \n",
    "\n",
    "       \n"
   ]
  },
  {
   "cell_type": "code",
   "execution_count": null,
   "metadata": {
    "ExecuteTime": {
     "end_time": "2020-09-08T21:43:24.362865Z",
     "start_time": "2020-09-08T21:43:24.350148Z"
    }
   },
   "outputs": [],
   "source": [
    "replace_map={'HouseStyle'{'SFoyer':4,'SLvl':7,'2.5Fin':10,'2Story':9,'2.5Unf':8,'1.5Fin':6,'1.5Unf':5,'1Story':3}}m"
   ]
  },
  {
   "cell_type": "code",
   "execution_count": null,
   "metadata": {
    "ExecuteTime": {
     "end_time": "2020-09-08T21:43:24.390516Z",
     "start_time": "2020-09-08T21:43:24.366126Z"
    }
   },
   "outputs": [],
   "source": [
    "data.replace(replace_map,inplace=True)"
   ]
  },
  {
   "cell_type": "markdown",
   "metadata": {
    "ExecuteTime": {
     "end_time": "2020-09-08T22:13:00.824387Z",
     "start_time": "2020-09-08T22:13:00.805392Z"
    }
   },
   "source": [
    "data['Foundation'].value_counts()"
   ]
  },
  {
   "cell_type": "markdown",
   "metadata": {},
   "source": [
    "Foundation: Type of foundation\n",
    "\n",
    "       PConc\tPoured Contrete--->10\n",
    "\t   Stone\tStone--->8\n",
    "       Slab\tSlab--->9\n",
    "       BrkTil\tBrick & Tile--->7\n",
    "       CBlock\tCinder Block--->6\n",
    "       Wood\tWood--->5"
   ]
  },
  {
   "cell_type": "markdown",
   "metadata": {
    "ExecuteTime": {
     "end_time": "2020-09-08T22:13:00.837203Z",
     "start_time": "2020-09-08T22:13:00.826416Z"
    }
   },
   "source": [
    "replace_map={'Foundation':{'PConc':9,'Slab':10,'Stone':8,'BrkTil':7,'CBlock':6,'Wood':5}}"
   ]
  },
  {
   "cell_type": "markdown",
   "metadata": {
    "ExecuteTime": {
     "end_time": "2020-09-08T22:13:00.864196Z",
     "start_time": "2020-09-08T22:13:00.839486Z"
    }
   },
   "source": [
    "data.replace(replace_map,inplace=True)"
   ]
  },
  {
   "cell_type": "code",
   "execution_count": 3028,
   "metadata": {
    "ExecuteTime": {
     "end_time": "2020-09-09T00:40:12.436680Z",
     "start_time": "2020-09-09T00:40:12.418304Z"
    }
   },
   "outputs": [
    {
     "data": {
      "text/plain": [
       "TA    1798\n",
       "Gd     979\n",
       "Ex     107\n",
       "Fa      35\n",
       "Name: ExterQual, dtype: int64"
      ]
     },
     "execution_count": 3028,
     "metadata": {},
     "output_type": "execute_result"
    }
   ],
   "source": [
    "data[cat_cols[17]].value_counts()"
   ]
  },
  {
   "cell_type": "markdown",
   "metadata": {
    "ExecuteTime": {
     "end_time": "2020-09-08T23:07:14.508366Z",
     "start_time": "2020-09-08T23:07:14.498694Z"
    }
   },
   "source": [
    "ExterQual: Evaluates the quality of the material on the exterior \n",
    "\t\t\n",
    "       Ex\tExcellent -->10\n",
    "       Gd\tGood-->8\n",
    "       TA\tAverage/Typical-->6\n",
    "       Fa\tFair-->4\n",
    "       Po\tPoor-->2"
   ]
  },
  {
   "cell_type": "code",
   "execution_count": 3029,
   "metadata": {
    "ExecuteTime": {
     "end_time": "2020-09-09T00:40:12.444685Z",
     "start_time": "2020-09-09T00:40:12.438675Z"
    }
   },
   "outputs": [],
   "source": [
    "replace_map={'ExterQual':{'Ex':10,'Gd':8,'TA':6,'Fa':4,'Po':2}}"
   ]
  },
  {
   "cell_type": "code",
   "execution_count": 3030,
   "metadata": {
    "ExecuteTime": {
     "end_time": "2020-09-09T00:40:12.469514Z",
     "start_time": "2020-09-09T00:40:12.447818Z"
    }
   },
   "outputs": [],
   "source": [
    "data.replace(replace_map,inplace=True)"
   ]
  },
  {
   "cell_type": "code",
   "execution_count": 3031,
   "metadata": {
    "ExecuteTime": {
     "end_time": "2020-09-09T00:40:12.486688Z",
     "start_time": "2020-09-09T00:40:12.471508Z"
    }
   },
   "outputs": [
    {
     "data": {
      "text/plain": [
       "TA    2538\n",
       "Gd     299\n",
       "Fa      67\n",
       "Ex      12\n",
       "Po       3\n",
       "Name: ExterCond, dtype: int64"
      ]
     },
     "execution_count": 3031,
     "metadata": {},
     "output_type": "execute_result"
    }
   ],
   "source": [
    "data[cat_cols[18]].value_counts()"
   ]
  },
  {
   "cell_type": "code",
   "execution_count": 3032,
   "metadata": {
    "ExecuteTime": {
     "end_time": "2020-09-09T00:40:12.497809Z",
     "start_time": "2020-09-09T00:40:12.488683Z"
    }
   },
   "outputs": [],
   "source": [
    "replace_map={'ExterCond':{'Ex':10,'Gd':8,'TA':6,'Fa':4,'Po':2}}"
   ]
  },
  {
   "cell_type": "code",
   "execution_count": 3033,
   "metadata": {
    "ExecuteTime": {
     "end_time": "2020-09-09T00:40:12.518691Z",
     "start_time": "2020-09-09T00:40:12.499785Z"
    }
   },
   "outputs": [],
   "source": [
    "data.replace(replace_map,inplace=True)"
   ]
  },
  {
   "cell_type": "code",
   "execution_count": 3034,
   "metadata": {
    "ExecuteTime": {
     "end_time": "2020-09-09T00:40:12.536685Z",
     "start_time": "2020-09-09T00:40:12.521608Z"
    }
   },
   "outputs": [
    {
     "data": {
      "text/plain": [
       "TA    1364\n",
       "Gd    1209\n",
       "Ex     258\n",
       "Fa      88\n",
       "Name: BsmtQual, dtype: int64"
      ]
     },
     "execution_count": 3034,
     "metadata": {},
     "output_type": "execute_result"
    }
   ],
   "source": [
    "data[cat_cols[20]].value_counts()"
   ]
  },
  {
   "cell_type": "code",
   "execution_count": 3035,
   "metadata": {
    "ExecuteTime": {
     "end_time": "2020-09-09T00:40:12.545021Z",
     "start_time": "2020-09-09T00:40:12.540001Z"
    }
   },
   "outputs": [],
   "source": [
    "replace_map={'BsmtQual':{'Ex':10,'Gd':8,'TA':6,'Fa':4,'Po':2}}"
   ]
  },
  {
   "cell_type": "code",
   "execution_count": 3036,
   "metadata": {
    "ExecuteTime": {
     "end_time": "2020-09-09T00:40:12.559470Z",
     "start_time": "2020-09-09T00:40:12.547003Z"
    }
   },
   "outputs": [],
   "source": [
    "replace_map={'BsmtQual':{'Ex':10,'Gd':8,'TA':6,'Fa':4,'Po':2}}"
   ]
  },
  {
   "cell_type": "code",
   "execution_count": 3037,
   "metadata": {
    "ExecuteTime": {
     "end_time": "2020-09-09T00:40:12.579416Z",
     "start_time": "2020-09-09T00:40:12.561933Z"
    }
   },
   "outputs": [
    {
     "data": {
      "text/plain": [
       "TA    2688\n",
       "Gd     122\n",
       "Fa     104\n",
       "Po       5\n",
       "Name: BsmtCond, dtype: int64"
      ]
     },
     "execution_count": 3037,
     "metadata": {},
     "output_type": "execute_result"
    }
   ],
   "source": [
    "data[cat_cols[21]].value_counts()"
   ]
  },
  {
   "cell_type": "code",
   "execution_count": 3038,
   "metadata": {
    "ExecuteTime": {
     "end_time": "2020-09-09T00:40:12.588982Z",
     "start_time": "2020-09-09T00:40:12.581764Z"
    }
   },
   "outputs": [],
   "source": [
    "replace_map={'BsmtCond':{'Ex':10,'Gd':8,'TA':6,'Fa':4,'Po':2}}"
   ]
  },
  {
   "cell_type": "code",
   "execution_count": 3039,
   "metadata": {
    "ExecuteTime": {
     "end_time": "2020-09-09T00:40:12.609465Z",
     "start_time": "2020-09-09T00:40:12.591561Z"
    }
   },
   "outputs": [],
   "source": [
    "data.replace(replace_map,inplace=True)"
   ]
  },
  {
   "cell_type": "code",
   "execution_count": 3040,
   "metadata": {
    "ExecuteTime": {
     "end_time": "2020-09-09T00:40:12.624817Z",
     "start_time": "2020-09-09T00:40:12.611516Z"
    }
   },
   "outputs": [
    {
     "data": {
      "text/plain": [
       "No    1986\n",
       "Av     418\n",
       "Gd     276\n",
       "Mn     239\n",
       "Name: BsmtExposure, dtype: int64"
      ]
     },
     "execution_count": 3040,
     "metadata": {},
     "output_type": "execute_result"
    }
   ],
   "source": [
    "data[cat_cols[22]].value_counts()"
   ]
  },
  {
   "cell_type": "markdown",
   "metadata": {},
   "source": [
    "BsmtExposure: Refers to walkout or garden level walls\n",
    "\n",
    "       Gd\tGood Exposure --->10\n",
    "       Av\tAverage Exposure (split levels or foyers typically score average or above)--->8\n",
    "       Mn\tMimimum Exposure--->6\n",
    "       No\tNo Exposure--->4\n",
    "       NA\tNo Basement--->2\n",
    "\t"
   ]
  },
  {
   "cell_type": "code",
   "execution_count": 3041,
   "metadata": {
    "ExecuteTime": {
     "end_time": "2020-09-09T00:40:12.634708Z",
     "start_time": "2020-09-09T00:40:12.626874Z"
    }
   },
   "outputs": [],
   "source": [
    "replace_map={'BsmtExposure':{'Gd':10,'Av':8,'Mn':6,'No':4,'Na':2}}"
   ]
  },
  {
   "cell_type": "code",
   "execution_count": 3042,
   "metadata": {
    "ExecuteTime": {
     "end_time": "2020-09-09T00:40:12.660061Z",
     "start_time": "2020-09-09T00:40:12.636670Z"
    }
   },
   "outputs": [],
   "source": [
    "data.replace(replace_map,inplace=True)"
   ]
  },
  {
   "cell_type": "code",
   "execution_count": 3043,
   "metadata": {
    "ExecuteTime": {
     "end_time": "2020-09-09T00:40:12.677933Z",
     "start_time": "2020-09-09T00:40:12.662206Z"
    }
   },
   "outputs": [
    {
     "data": {
      "text/plain": [
       "Unf    930\n",
       "GLQ    849\n",
       "ALQ    429\n",
       "Rec    288\n",
       "BLQ    269\n",
       "LwQ    154\n",
       "Name: BsmtFinType1, dtype: int64"
      ]
     },
     "execution_count": 3043,
     "metadata": {},
     "output_type": "execute_result"
    }
   ],
   "source": [
    "data[cat_cols[23]].value_counts()"
   ]
  },
  {
   "cell_type": "markdown",
   "metadata": {
    "ExecuteTime": {
     "end_time": "2020-09-08T23:43:57.524522Z",
     "start_time": "2020-09-08T23:43:57.516334Z"
    }
   },
   "source": [
    "BsmtFinType1: Rating of basement finished area\n",
    "\n",
    "       GLQ\tGood Living Quarters-->10\n",
    "       ALQ\tAverage Living Quarters-->5\n",
    "       BLQ\tBelow Average Living Quarters-->4\t\n",
    "       Rec\tAverage Rec Room-->3\n",
    "       LwQ\tLow Quality-->2\n",
    "       Unf\tUnfinshed-->1\n",
    "       NA\tNo Basement-->0"
   ]
  },
  {
   "cell_type": "code",
   "execution_count": 3044,
   "metadata": {
    "ExecuteTime": {
     "end_time": "2020-09-09T00:40:12.693357Z",
     "start_time": "2020-09-09T00:40:12.680963Z"
    }
   },
   "outputs": [],
   "source": [
    "replace_map={'BsmtFinType1':{'GLQ':10,'ALQ':6,'BLQ':5,'Rec':4,'LwQ':3,'Unf':2,'NA':1}}"
   ]
  },
  {
   "cell_type": "code",
   "execution_count": 3045,
   "metadata": {
    "ExecuteTime": {
     "end_time": "2020-09-09T00:40:12.708681Z",
     "start_time": "2020-09-09T00:40:12.695757Z"
    }
   },
   "outputs": [],
   "source": [
    "data.replace(replace_map,inplace=True)"
   ]
  },
  {
   "cell_type": "code",
   "execution_count": null,
   "metadata": {},
   "outputs": [],
   "source": []
  },
  {
   "cell_type": "code",
   "execution_count": null,
   "metadata": {},
   "outputs": [],
   "source": []
  },
  {
   "cell_type": "code",
   "execution_count": null,
   "metadata": {},
   "outputs": [],
   "source": []
  },
  {
   "cell_type": "code",
   "execution_count": 3046,
   "metadata": {
    "ExecuteTime": {
     "end_time": "2020-09-09T00:40:13.301329Z",
     "start_time": "2020-09-09T00:40:12.711637Z"
    }
   },
   "outputs": [],
   "source": [
    "cat_cols=[]\n",
    "for i in data.columns:\n",
    "    if type(data[i][0])==str:\n",
    "        cat_num(i)\n",
    "        cat_cols.append(i)\n",
    "        "
   ]
  },
  {
   "cell_type": "code",
   "execution_count": null,
   "metadata": {},
   "outputs": [],
   "source": []
  },
  {
   "cell_type": "code",
   "execution_count": null,
   "metadata": {},
   "outputs": [],
   "source": []
  },
  {
   "cell_type": "code",
   "execution_count": 3047,
   "metadata": {
    "ExecuteTime": {
     "end_time": "2020-09-09T00:40:13.326991Z",
     "start_time": "2020-09-09T00:40:13.304038Z"
    }
   },
   "outputs": [
    {
     "data": {
      "text/html": [
       "<div>\n",
       "<style scoped>\n",
       "    .dataframe tbody tr th:only-of-type {\n",
       "        vertical-align: middle;\n",
       "    }\n",
       "\n",
       "    .dataframe tbody tr th {\n",
       "        vertical-align: top;\n",
       "    }\n",
       "\n",
       "    .dataframe thead th {\n",
       "        text-align: right;\n",
       "    }\n",
       "</style>\n",
       "<table border=\"1\" class=\"dataframe\">\n",
       "  <thead>\n",
       "    <tr style=\"text-align: right;\">\n",
       "      <th></th>\n",
       "      <th>Id</th>\n",
       "      <th>MSSubClass</th>\n",
       "      <th>MSZoning</th>\n",
       "      <th>LotArea</th>\n",
       "      <th>Street</th>\n",
       "      <th>Utilities</th>\n",
       "      <th>LotConfig</th>\n",
       "      <th>LandSlope</th>\n",
       "      <th>BldgType</th>\n",
       "      <th>OverallQual</th>\n",
       "      <th>...</th>\n",
       "      <th>ConLw</th>\n",
       "      <th>New</th>\n",
       "      <th>Oth</th>\n",
       "      <th>WD</th>\n",
       "      <th>Abnorml</th>\n",
       "      <th>AdjLand</th>\n",
       "      <th>Alloca</th>\n",
       "      <th>Family</th>\n",
       "      <th>Normal</th>\n",
       "      <th>Partial</th>\n",
       "    </tr>\n",
       "    <tr>\n",
       "      <th>Ind</th>\n",
       "      <th></th>\n",
       "      <th></th>\n",
       "      <th></th>\n",
       "      <th></th>\n",
       "      <th></th>\n",
       "      <th></th>\n",
       "      <th></th>\n",
       "      <th></th>\n",
       "      <th></th>\n",
       "      <th></th>\n",
       "      <th></th>\n",
       "      <th></th>\n",
       "      <th></th>\n",
       "      <th></th>\n",
       "      <th></th>\n",
       "      <th></th>\n",
       "      <th></th>\n",
       "      <th></th>\n",
       "      <th></th>\n",
       "      <th></th>\n",
       "      <th></th>\n",
       "    </tr>\n",
       "  </thead>\n",
       "  <tbody>\n",
       "    <tr>\n",
       "      <th>0</th>\n",
       "      <td>1</td>\n",
       "      <td>60</td>\n",
       "      <td>4</td>\n",
       "      <td>8450</td>\n",
       "      <td>1</td>\n",
       "      <td>0</td>\n",
       "      <td>4</td>\n",
       "      <td>10</td>\n",
       "      <td>2</td>\n",
       "      <td>7</td>\n",
       "      <td>...</td>\n",
       "      <td>0</td>\n",
       "      <td>0</td>\n",
       "      <td>0</td>\n",
       "      <td>1</td>\n",
       "      <td>0</td>\n",
       "      <td>0</td>\n",
       "      <td>0</td>\n",
       "      <td>0</td>\n",
       "      <td>1</td>\n",
       "      <td>0</td>\n",
       "    </tr>\n",
       "  </tbody>\n",
       "</table>\n",
       "<p>1 rows × 199 columns</p>\n",
       "</div>"
      ],
      "text/plain": [
       "     Id  MSSubClass  MSZoning  LotArea  Street  Utilities  LotConfig  \\\n",
       "Ind                                                                    \n",
       "0     1          60         4     8450       1          0          4   \n",
       "\n",
       "     LandSlope  BldgType  OverallQual   ...     ConLw  New  Oth  WD  Abnorml  \\\n",
       "Ind                                     ...                                    \n",
       "0           10         2            7   ...         0    0    0   1        0   \n",
       "\n",
       "     AdjLand  Alloca  Family  Normal  Partial  \n",
       "Ind                                            \n",
       "0          0       0       0       1        0  \n",
       "\n",
       "[1 rows x 199 columns]"
      ]
     },
     "execution_count": 3047,
     "metadata": {},
     "output_type": "execute_result"
    }
   ],
   "source": [
    "data.head(1)"
   ]
  },
  {
   "cell_type": "markdown",
   "metadata": {},
   "source": [
    "##  Outlier Detection"
   ]
  },
  {
   "cell_type": "code",
   "execution_count": 3048,
   "metadata": {
    "ExecuteTime": {
     "end_time": "2020-09-09T00:40:13.344408Z",
     "start_time": "2020-09-09T00:40:13.330002Z"
    }
   },
   "outputs": [],
   "source": [
    "def Outlier_Detecter(data,feature):\n",
    "    Q1=data[feature].quantile(0.25)\n",
    "    Q3=data[feature].quantile(0.75)\n",
    "    IQR=Q3-Q1\n",
    "    Lower_lim=Q1-1.5*IQR\n",
    "    Upper_lim=Q3+1.5*IQR\n",
    "    return len(data[(data[feature] < Lower_lim ) & (data[feature] > Upper_lim)])"
   ]
  },
  {
   "cell_type": "code",
   "execution_count": 3049,
   "metadata": {
    "ExecuteTime": {
     "end_time": "2020-09-09T00:40:13.536317Z",
     "start_time": "2020-09-09T00:40:13.346876Z"
    }
   },
   "outputs": [],
   "source": [
    "outliers=[]\n",
    "for i in num_cols:\n",
    "    len_out=Outlier_Detecter(data,i)\n",
    "    if len_out >0:\n",
    "        outliers.append(i)"
   ]
  },
  {
   "cell_type": "code",
   "execution_count": 3050,
   "metadata": {
    "ExecuteTime": {
     "end_time": "2020-09-09T00:40:13.551969Z",
     "start_time": "2020-09-09T00:40:13.539309Z"
    }
   },
   "outputs": [
    {
     "data": {
      "text/plain": [
       "[]"
      ]
     },
     "execution_count": 3050,
     "metadata": {},
     "output_type": "execute_result"
    }
   ],
   "source": [
    "outliers"
   ]
  },
  {
   "cell_type": "markdown",
   "metadata": {
    "ExecuteTime": {
     "end_time": "2020-09-05T04:23:24.442177Z",
     "start_time": "2020-09-05T04:23:24.433888Z"
    }
   },
   "source": [
    "**There is no outliers found**"
   ]
  },
  {
   "cell_type": "markdown",
   "metadata": {},
   "source": [
    "###  Train Test Split"
   ]
  },
  {
   "cell_type": "code",
   "execution_count": 3051,
   "metadata": {
    "ExecuteTime": {
     "end_time": "2020-09-09T00:40:13.589620Z",
     "start_time": "2020-09-09T00:40:13.554961Z"
    }
   },
   "outputs": [
    {
     "data": {
      "text/html": [
       "<div>\n",
       "<style scoped>\n",
       "    .dataframe tbody tr th:only-of-type {\n",
       "        vertical-align: middle;\n",
       "    }\n",
       "\n",
       "    .dataframe tbody tr th {\n",
       "        vertical-align: top;\n",
       "    }\n",
       "\n",
       "    .dataframe thead th {\n",
       "        text-align: right;\n",
       "    }\n",
       "</style>\n",
       "<table border=\"1\" class=\"dataframe\">\n",
       "  <thead>\n",
       "    <tr style=\"text-align: right;\">\n",
       "      <th></th>\n",
       "      <th>Id</th>\n",
       "      <th>MSSubClass</th>\n",
       "      <th>MSZoning</th>\n",
       "      <th>LotArea</th>\n",
       "      <th>Street</th>\n",
       "      <th>Utilities</th>\n",
       "      <th>LotConfig</th>\n",
       "      <th>LandSlope</th>\n",
       "      <th>BldgType</th>\n",
       "      <th>OverallQual</th>\n",
       "      <th>...</th>\n",
       "      <th>ConLw</th>\n",
       "      <th>New</th>\n",
       "      <th>Oth</th>\n",
       "      <th>WD</th>\n",
       "      <th>Abnorml</th>\n",
       "      <th>AdjLand</th>\n",
       "      <th>Alloca</th>\n",
       "      <th>Family</th>\n",
       "      <th>Normal</th>\n",
       "      <th>Partial</th>\n",
       "    </tr>\n",
       "    <tr>\n",
       "      <th>Ind</th>\n",
       "      <th></th>\n",
       "      <th></th>\n",
       "      <th></th>\n",
       "      <th></th>\n",
       "      <th></th>\n",
       "      <th></th>\n",
       "      <th></th>\n",
       "      <th></th>\n",
       "      <th></th>\n",
       "      <th></th>\n",
       "      <th></th>\n",
       "      <th></th>\n",
       "      <th></th>\n",
       "      <th></th>\n",
       "      <th></th>\n",
       "      <th></th>\n",
       "      <th></th>\n",
       "      <th></th>\n",
       "      <th></th>\n",
       "      <th></th>\n",
       "      <th></th>\n",
       "    </tr>\n",
       "  </thead>\n",
       "  <tbody>\n",
       "    <tr>\n",
       "      <th>0</th>\n",
       "      <td>1</td>\n",
       "      <td>60</td>\n",
       "      <td>4</td>\n",
       "      <td>8450</td>\n",
       "      <td>1</td>\n",
       "      <td>0</td>\n",
       "      <td>4</td>\n",
       "      <td>10</td>\n",
       "      <td>2</td>\n",
       "      <td>7</td>\n",
       "      <td>...</td>\n",
       "      <td>0</td>\n",
       "      <td>0</td>\n",
       "      <td>0</td>\n",
       "      <td>1</td>\n",
       "      <td>0</td>\n",
       "      <td>0</td>\n",
       "      <td>0</td>\n",
       "      <td>0</td>\n",
       "      <td>1</td>\n",
       "      <td>0</td>\n",
       "    </tr>\n",
       "    <tr>\n",
       "      <th>1</th>\n",
       "      <td>2</td>\n",
       "      <td>20</td>\n",
       "      <td>4</td>\n",
       "      <td>9600</td>\n",
       "      <td>1</td>\n",
       "      <td>0</td>\n",
       "      <td>8</td>\n",
       "      <td>10</td>\n",
       "      <td>2</td>\n",
       "      <td>6</td>\n",
       "      <td>...</td>\n",
       "      <td>0</td>\n",
       "      <td>0</td>\n",
       "      <td>0</td>\n",
       "      <td>1</td>\n",
       "      <td>0</td>\n",
       "      <td>0</td>\n",
       "      <td>0</td>\n",
       "      <td>0</td>\n",
       "      <td>1</td>\n",
       "      <td>0</td>\n",
       "    </tr>\n",
       "    <tr>\n",
       "      <th>2</th>\n",
       "      <td>3</td>\n",
       "      <td>60</td>\n",
       "      <td>4</td>\n",
       "      <td>11250</td>\n",
       "      <td>1</td>\n",
       "      <td>0</td>\n",
       "      <td>4</td>\n",
       "      <td>10</td>\n",
       "      <td>2</td>\n",
       "      <td>7</td>\n",
       "      <td>...</td>\n",
       "      <td>0</td>\n",
       "      <td>0</td>\n",
       "      <td>0</td>\n",
       "      <td>1</td>\n",
       "      <td>0</td>\n",
       "      <td>0</td>\n",
       "      <td>0</td>\n",
       "      <td>0</td>\n",
       "      <td>1</td>\n",
       "      <td>0</td>\n",
       "    </tr>\n",
       "    <tr>\n",
       "      <th>3</th>\n",
       "      <td>4</td>\n",
       "      <td>70</td>\n",
       "      <td>4</td>\n",
       "      <td>9550</td>\n",
       "      <td>1</td>\n",
       "      <td>0</td>\n",
       "      <td>6</td>\n",
       "      <td>10</td>\n",
       "      <td>2</td>\n",
       "      <td>7</td>\n",
       "      <td>...</td>\n",
       "      <td>0</td>\n",
       "      <td>0</td>\n",
       "      <td>0</td>\n",
       "      <td>1</td>\n",
       "      <td>1</td>\n",
       "      <td>0</td>\n",
       "      <td>0</td>\n",
       "      <td>0</td>\n",
       "      <td>0</td>\n",
       "      <td>0</td>\n",
       "    </tr>\n",
       "    <tr>\n",
       "      <th>4</th>\n",
       "      <td>5</td>\n",
       "      <td>60</td>\n",
       "      <td>4</td>\n",
       "      <td>14260</td>\n",
       "      <td>1</td>\n",
       "      <td>0</td>\n",
       "      <td>8</td>\n",
       "      <td>10</td>\n",
       "      <td>2</td>\n",
       "      <td>8</td>\n",
       "      <td>...</td>\n",
       "      <td>0</td>\n",
       "      <td>0</td>\n",
       "      <td>0</td>\n",
       "      <td>1</td>\n",
       "      <td>0</td>\n",
       "      <td>0</td>\n",
       "      <td>0</td>\n",
       "      <td>0</td>\n",
       "      <td>1</td>\n",
       "      <td>0</td>\n",
       "    </tr>\n",
       "  </tbody>\n",
       "</table>\n",
       "<p>5 rows × 199 columns</p>\n",
       "</div>"
      ],
      "text/plain": [
       "     Id  MSSubClass  MSZoning  LotArea  Street  Utilities  LotConfig  \\\n",
       "Ind                                                                    \n",
       "0     1          60         4     8450       1          0          4   \n",
       "1     2          20         4     9600       1          0          8   \n",
       "2     3          60         4    11250       1          0          4   \n",
       "3     4          70         4     9550       1          0          6   \n",
       "4     5          60         4    14260       1          0          8   \n",
       "\n",
       "     LandSlope  BldgType  OverallQual   ...     ConLw  New  Oth  WD  Abnorml  \\\n",
       "Ind                                     ...                                    \n",
       "0           10         2            7   ...         0    0    0   1        0   \n",
       "1           10         2            6   ...         0    0    0   1        0   \n",
       "2           10         2            7   ...         0    0    0   1        0   \n",
       "3           10         2            7   ...         0    0    0   1        1   \n",
       "4           10         2            8   ...         0    0    0   1        0   \n",
       "\n",
       "     AdjLand  Alloca  Family  Normal  Partial  \n",
       "Ind                                            \n",
       "0          0       0       0       1        0  \n",
       "1          0       0       0       1        0  \n",
       "2          0       0       0       1        0  \n",
       "3          0       0       0       0        0  \n",
       "4          0       0       0       1        0  \n",
       "\n",
       "[5 rows x 199 columns]"
      ]
     },
     "execution_count": 3051,
     "metadata": {},
     "output_type": "execute_result"
    }
   ],
   "source": [
    "data.head()"
   ]
  },
  {
   "cell_type": "code",
   "execution_count": 3052,
   "metadata": {
    "ExecuteTime": {
     "end_time": "2020-09-09T00:40:13.599778Z",
     "start_time": "2020-09-09T00:40:13.591615Z"
    }
   },
   "outputs": [
    {
     "name": "stdout",
     "output_type": "stream",
     "text": [
      "Train dataset shape:(1460, 80), \n",
      "Test dataset shape:(1459, 80)\n"
     ]
    }
   ],
   "source": [
    "print('Train dataset shape:{0}, \\nTest dataset shape:{1}'.format(train.shape,test.shape))"
   ]
  },
  {
   "cell_type": "code",
   "execution_count": 3053,
   "metadata": {
    "ExecuteTime": {
     "end_time": "2020-09-09T00:40:13.608989Z",
     "start_time": "2020-09-09T00:40:13.602242Z"
    }
   },
   "outputs": [],
   "source": [
    "data_copy=data.copy()"
   ]
  },
  {
   "cell_type": "code",
   "execution_count": 3054,
   "metadata": {
    "ExecuteTime": {
     "end_time": "2020-09-09T00:40:13.626408Z",
     "start_time": "2020-09-09T00:40:13.610982Z"
    }
   },
   "outputs": [],
   "source": [
    "data=data_copy.copy()"
   ]
  },
  {
   "cell_type": "code",
   "execution_count": 3055,
   "metadata": {
    "ExecuteTime": {
     "end_time": "2020-09-09T00:40:13.635496Z",
     "start_time": "2020-09-09T00:40:13.628402Z"
    }
   },
   "outputs": [
    {
     "data": {
      "text/plain": [
       "RangeIndex(start=0, stop=1460, step=1)"
      ]
     },
     "execution_count": 3055,
     "metadata": {},
     "output_type": "execute_result"
    }
   ],
   "source": [
    "train.index"
   ]
  },
  {
   "cell_type": "code",
   "execution_count": 3056,
   "metadata": {
    "ExecuteTime": {
     "end_time": "2020-09-09T00:40:13.644825Z",
     "start_time": "2020-09-09T00:40:13.638490Z"
    }
   },
   "outputs": [],
   "source": [
    "x_train=data[:1460]"
   ]
  },
  {
   "cell_type": "markdown",
   "metadata": {
    "ExecuteTime": {
     "end_time": "2020-09-06T16:50:33.797379Z",
     "start_time": "2020-09-06T16:50:33.782417Z"
    }
   },
   "source": [
    "x_train=x_train[num_cols]"
   ]
  },
  {
   "cell_type": "code",
   "execution_count": 3057,
   "metadata": {
    "ExecuteTime": {
     "end_time": "2020-09-09T00:40:13.897882Z",
     "start_time": "2020-09-09T00:40:13.646819Z"
    }
   },
   "outputs": [
    {
     "name": "stderr",
     "output_type": "stream",
     "text": [
      "C:\\Users\\Nandhu\\miniconda3\\envs\\study\\lib\\site-packages\\pandas\\core\\frame.py:3697: SettingWithCopyWarning: \n",
      "A value is trying to be set on a copy of a slice from a DataFrame\n",
      "\n",
      "See the caveats in the documentation: http://pandas.pydata.org/pandas-docs/stable/indexing.html#indexing-view-versus-copy\n",
      "  errors=errors)\n"
     ]
    }
   ],
   "source": [
    "x_train.drop(columns='Id',inplace=True)"
   ]
  },
  {
   "cell_type": "code",
   "execution_count": 3058,
   "metadata": {
    "ExecuteTime": {
     "end_time": "2020-09-09T00:40:13.908772Z",
     "start_time": "2020-09-09T00:40:13.900903Z"
    }
   },
   "outputs": [],
   "source": [
    "x_test=data[1460:]"
   ]
  },
  {
   "cell_type": "markdown",
   "metadata": {
    "ExecuteTime": {
     "end_time": "2020-09-06T16:50:34.460032Z",
     "start_time": "2020-09-06T16:50:34.445085Z"
    }
   },
   "source": [
    "x_test=x_test[num_cols]"
   ]
  },
  {
   "cell_type": "code",
   "execution_count": 3059,
   "metadata": {
    "ExecuteTime": {
     "end_time": "2020-09-09T00:40:14.102949Z",
     "start_time": "2020-09-09T00:40:13.911150Z"
    }
   },
   "outputs": [
    {
     "name": "stderr",
     "output_type": "stream",
     "text": [
      "C:\\Users\\Nandhu\\miniconda3\\envs\\study\\lib\\site-packages\\pandas\\core\\frame.py:3697: SettingWithCopyWarning: \n",
      "A value is trying to be set on a copy of a slice from a DataFrame\n",
      "\n",
      "See the caveats in the documentation: http://pandas.pydata.org/pandas-docs/stable/indexing.html#indexing-view-versus-copy\n",
      "  errors=errors)\n"
     ]
    }
   ],
   "source": [
    "x_test.drop(columns='Id',inplace=True)"
   ]
  },
  {
   "cell_type": "code",
   "execution_count": 3060,
   "metadata": {
    "ExecuteTime": {
     "end_time": "2020-09-09T00:40:14.112028Z",
     "start_time": "2020-09-09T00:40:14.105958Z"
    }
   },
   "outputs": [
    {
     "name": "stdout",
     "output_type": "stream",
     "text": [
      "Train dataset shape:(1460, 198), \n",
      "Test dataset shape:(1459, 198)\n"
     ]
    }
   ],
   "source": [
    "print('Train dataset shape:{0}, \\nTest dataset shape:{1}'.format(x_train.shape,x_test.shape))"
   ]
  },
  {
   "cell_type": "code",
   "execution_count": 3061,
   "metadata": {
    "ExecuteTime": {
     "end_time": "2020-09-09T00:40:14.121074Z",
     "start_time": "2020-09-09T00:40:14.115443Z"
    }
   },
   "outputs": [],
   "source": [
    "y_train=train_data['SalePrice']"
   ]
  },
  {
   "cell_type": "code",
   "execution_count": 3062,
   "metadata": {
    "ExecuteTime": {
     "end_time": "2020-09-09T00:40:14.149721Z",
     "start_time": "2020-09-09T00:40:14.124032Z"
    }
   },
   "outputs": [
    {
     "data": {
      "text/html": [
       "<div>\n",
       "<style scoped>\n",
       "    .dataframe tbody tr th:only-of-type {\n",
       "        vertical-align: middle;\n",
       "    }\n",
       "\n",
       "    .dataframe tbody tr th {\n",
       "        vertical-align: top;\n",
       "    }\n",
       "\n",
       "    .dataframe thead th {\n",
       "        text-align: right;\n",
       "    }\n",
       "</style>\n",
       "<table border=\"1\" class=\"dataframe\">\n",
       "  <thead>\n",
       "    <tr style=\"text-align: right;\">\n",
       "      <th></th>\n",
       "      <th>MSSubClass</th>\n",
       "      <th>MSZoning</th>\n",
       "      <th>LotArea</th>\n",
       "      <th>Street</th>\n",
       "      <th>Utilities</th>\n",
       "      <th>LotConfig</th>\n",
       "      <th>LandSlope</th>\n",
       "      <th>BldgType</th>\n",
       "      <th>OverallQual</th>\n",
       "      <th>OverallCond</th>\n",
       "      <th>...</th>\n",
       "      <th>ConLw</th>\n",
       "      <th>New</th>\n",
       "      <th>Oth</th>\n",
       "      <th>WD</th>\n",
       "      <th>Abnorml</th>\n",
       "      <th>AdjLand</th>\n",
       "      <th>Alloca</th>\n",
       "      <th>Family</th>\n",
       "      <th>Normal</th>\n",
       "      <th>Partial</th>\n",
       "    </tr>\n",
       "    <tr>\n",
       "      <th>Ind</th>\n",
       "      <th></th>\n",
       "      <th></th>\n",
       "      <th></th>\n",
       "      <th></th>\n",
       "      <th></th>\n",
       "      <th></th>\n",
       "      <th></th>\n",
       "      <th></th>\n",
       "      <th></th>\n",
       "      <th></th>\n",
       "      <th></th>\n",
       "      <th></th>\n",
       "      <th></th>\n",
       "      <th></th>\n",
       "      <th></th>\n",
       "      <th></th>\n",
       "      <th></th>\n",
       "      <th></th>\n",
       "      <th></th>\n",
       "      <th></th>\n",
       "      <th></th>\n",
       "    </tr>\n",
       "  </thead>\n",
       "  <tbody>\n",
       "    <tr>\n",
       "      <th>0</th>\n",
       "      <td>60</td>\n",
       "      <td>4</td>\n",
       "      <td>8450</td>\n",
       "      <td>1</td>\n",
       "      <td>0</td>\n",
       "      <td>4</td>\n",
       "      <td>10</td>\n",
       "      <td>2</td>\n",
       "      <td>7</td>\n",
       "      <td>5</td>\n",
       "      <td>...</td>\n",
       "      <td>0</td>\n",
       "      <td>0</td>\n",
       "      <td>0</td>\n",
       "      <td>1</td>\n",
       "      <td>0</td>\n",
       "      <td>0</td>\n",
       "      <td>0</td>\n",
       "      <td>0</td>\n",
       "      <td>1</td>\n",
       "      <td>0</td>\n",
       "    </tr>\n",
       "  </tbody>\n",
       "</table>\n",
       "<p>1 rows × 198 columns</p>\n",
       "</div>"
      ],
      "text/plain": [
       "     MSSubClass  MSZoning  LotArea  Street  Utilities  LotConfig  LandSlope  \\\n",
       "Ind                                                                           \n",
       "0            60         4     8450       1          0          4         10   \n",
       "\n",
       "     BldgType  OverallQual  OverallCond   ...     ConLw  New  Oth  WD  \\\n",
       "Ind                                       ...                           \n",
       "0           2            7            5   ...         0    0    0   1   \n",
       "\n",
       "     Abnorml  AdjLand  Alloca  Family  Normal  Partial  \n",
       "Ind                                                     \n",
       "0          0        0       0       0       1        0  \n",
       "\n",
       "[1 rows x 198 columns]"
      ]
     },
     "execution_count": 3062,
     "metadata": {},
     "output_type": "execute_result"
    }
   ],
   "source": [
    "x_train.head(1)"
   ]
  },
  {
   "cell_type": "code",
   "execution_count": 3063,
   "metadata": {
    "ExecuteTime": {
     "end_time": "2020-09-09T00:40:14.180071Z",
     "start_time": "2020-09-09T00:40:14.152161Z"
    }
   },
   "outputs": [
    {
     "data": {
      "text/html": [
       "<div>\n",
       "<style scoped>\n",
       "    .dataframe tbody tr th:only-of-type {\n",
       "        vertical-align: middle;\n",
       "    }\n",
       "\n",
       "    .dataframe tbody tr th {\n",
       "        vertical-align: top;\n",
       "    }\n",
       "\n",
       "    .dataframe thead th {\n",
       "        text-align: right;\n",
       "    }\n",
       "</style>\n",
       "<table border=\"1\" class=\"dataframe\">\n",
       "  <thead>\n",
       "    <tr style=\"text-align: right;\">\n",
       "      <th></th>\n",
       "      <th>MSSubClass</th>\n",
       "      <th>MSZoning</th>\n",
       "      <th>LotArea</th>\n",
       "      <th>Street</th>\n",
       "      <th>Utilities</th>\n",
       "      <th>LotConfig</th>\n",
       "      <th>LandSlope</th>\n",
       "      <th>BldgType</th>\n",
       "      <th>OverallQual</th>\n",
       "      <th>OverallCond</th>\n",
       "      <th>...</th>\n",
       "      <th>ConLw</th>\n",
       "      <th>New</th>\n",
       "      <th>Oth</th>\n",
       "      <th>WD</th>\n",
       "      <th>Abnorml</th>\n",
       "      <th>AdjLand</th>\n",
       "      <th>Alloca</th>\n",
       "      <th>Family</th>\n",
       "      <th>Normal</th>\n",
       "      <th>Partial</th>\n",
       "    </tr>\n",
       "    <tr>\n",
       "      <th>Ind</th>\n",
       "      <th></th>\n",
       "      <th></th>\n",
       "      <th></th>\n",
       "      <th></th>\n",
       "      <th></th>\n",
       "      <th></th>\n",
       "      <th></th>\n",
       "      <th></th>\n",
       "      <th></th>\n",
       "      <th></th>\n",
       "      <th></th>\n",
       "      <th></th>\n",
       "      <th></th>\n",
       "      <th></th>\n",
       "      <th></th>\n",
       "      <th></th>\n",
       "      <th></th>\n",
       "      <th></th>\n",
       "      <th></th>\n",
       "      <th></th>\n",
       "      <th></th>\n",
       "    </tr>\n",
       "  </thead>\n",
       "  <tbody>\n",
       "    <tr>\n",
       "      <th>1460</th>\n",
       "      <td>20</td>\n",
       "      <td>8</td>\n",
       "      <td>11622</td>\n",
       "      <td>1</td>\n",
       "      <td>0</td>\n",
       "      <td>4</td>\n",
       "      <td>10</td>\n",
       "      <td>2</td>\n",
       "      <td>5</td>\n",
       "      <td>6</td>\n",
       "      <td>...</td>\n",
       "      <td>0</td>\n",
       "      <td>0</td>\n",
       "      <td>0</td>\n",
       "      <td>1</td>\n",
       "      <td>0</td>\n",
       "      <td>0</td>\n",
       "      <td>0</td>\n",
       "      <td>0</td>\n",
       "      <td>1</td>\n",
       "      <td>0</td>\n",
       "    </tr>\n",
       "  </tbody>\n",
       "</table>\n",
       "<p>1 rows × 198 columns</p>\n",
       "</div>"
      ],
      "text/plain": [
       "      MSSubClass  MSZoning  LotArea  Street  Utilities  LotConfig  LandSlope  \\\n",
       "Ind                                                                            \n",
       "1460          20         8    11622       1          0          4         10   \n",
       "\n",
       "      BldgType  OverallQual  OverallCond   ...     ConLw  New  Oth  WD  \\\n",
       "Ind                                        ...                           \n",
       "1460         2            5            6   ...         0    0    0   1   \n",
       "\n",
       "      Abnorml  AdjLand  Alloca  Family  Normal  Partial  \n",
       "Ind                                                      \n",
       "1460        0        0       0       0       1        0  \n",
       "\n",
       "[1 rows x 198 columns]"
      ]
     },
     "execution_count": 3063,
     "metadata": {},
     "output_type": "execute_result"
    }
   ],
   "source": [
    "x_test.head(1)"
   ]
  },
  {
   "cell_type": "code",
   "execution_count": 3064,
   "metadata": {
    "ExecuteTime": {
     "end_time": "2020-09-09T00:40:14.199699Z",
     "start_time": "2020-09-09T00:40:14.182199Z"
    }
   },
   "outputs": [
    {
     "data": {
      "text/plain": [
       "0    208500\n",
       "Name: SalePrice, dtype: int64"
      ]
     },
     "execution_count": 3064,
     "metadata": {},
     "output_type": "execute_result"
    }
   ],
   "source": [
    "y_train.head(1)"
   ]
  },
  {
   "cell_type": "markdown",
   "metadata": {},
   "source": [
    "##  Feature Selection"
   ]
  },
  {
   "cell_type": "code",
   "execution_count": 3065,
   "metadata": {
    "ExecuteTime": {
     "end_time": "2020-09-09T00:40:14.208496Z",
     "start_time": "2020-09-09T00:40:14.201832Z"
    }
   },
   "outputs": [],
   "source": [
    "from sklearn.feature_selection import SelectKBest, chi2"
   ]
  },
  {
   "cell_type": "code",
   "execution_count": 3066,
   "metadata": {
    "ExecuteTime": {
     "end_time": "2020-09-09T00:40:14.252873Z",
     "start_time": "2020-09-09T00:40:14.210489Z"
    }
   },
   "outputs": [],
   "source": [
    "kbest=SelectKBest(score_func=chi2,k=30)\n",
    "kbestf=kbest.fit(x_train,y_train)"
   ]
  },
  {
   "cell_type": "code",
   "execution_count": 3067,
   "metadata": {
    "ExecuteTime": {
     "end_time": "2020-09-09T00:40:14.263758Z",
     "start_time": "2020-09-09T00:40:14.254867Z"
    }
   },
   "outputs": [
    {
     "data": {
      "text/plain": [
       "198"
      ]
     },
     "execution_count": 3067,
     "metadata": {},
     "output_type": "execute_result"
    }
   ],
   "source": [
    "len(kbestf.scores_)"
   ]
  },
  {
   "cell_type": "code",
   "execution_count": 3068,
   "metadata": {
    "ExecuteTime": {
     "end_time": "2020-09-09T00:40:14.280137Z",
     "start_time": "2020-09-09T00:40:14.265746Z"
    }
   },
   "outputs": [],
   "source": [
    "score=pd.DataFrame({'Score':kbestf.scores_,'Features':x_train.columns})"
   ]
  },
  {
   "cell_type": "code",
   "execution_count": 3069,
   "metadata": {
    "ExecuteTime": {
     "end_time": "2020-09-09T00:40:14.299467Z",
     "start_time": "2020-09-09T00:40:14.282130Z"
    }
   },
   "outputs": [],
   "source": [
    "kbest25=list(score.nlargest(246,columns='Score')['Features'])"
   ]
  },
  {
   "cell_type": "code",
   "execution_count": 3070,
   "metadata": {
    "ExecuteTime": {
     "end_time": "2020-09-09T00:40:14.309263Z",
     "start_time": "2020-09-09T00:40:14.301462Z"
    }
   },
   "outputs": [
    {
     "data": {
      "text/plain": [
       "198"
      ]
     },
     "execution_count": 3070,
     "metadata": {},
     "output_type": "execute_result"
    }
   ],
   "source": [
    "len(kbest25)"
   ]
  },
  {
   "cell_type": "code",
   "execution_count": 3071,
   "metadata": {
    "ExecuteTime": {
     "end_time": "2020-09-09T00:40:14.323306Z",
     "start_time": "2020-09-09T00:40:14.312355Z"
    }
   },
   "outputs": [],
   "source": [
    "x_train_f=x_train[kbest25]"
   ]
  },
  {
   "cell_type": "code",
   "execution_count": 3072,
   "metadata": {
    "ExecuteTime": {
     "end_time": "2020-09-09T00:40:14.339654Z",
     "start_time": "2020-09-09T00:40:14.324942Z"
    }
   },
   "outputs": [],
   "source": [
    "x_test_f=x_test[kbest25]"
   ]
  },
  {
   "cell_type": "markdown",
   "metadata": {},
   "source": [
    "## Machine Learning"
   ]
  },
  {
   "cell_type": "code",
   "execution_count": 3073,
   "metadata": {
    "ExecuteTime": {
     "end_time": "2020-09-09T00:40:14.349069Z",
     "start_time": "2020-09-09T00:40:14.341649Z"
    }
   },
   "outputs": [],
   "source": [
    "from sklearn.linear_model import LinearRegression,Lasso,LogisticRegression\n",
    "from xgboost import XGBRegressor"
   ]
  },
  {
   "cell_type": "markdown",
   "metadata": {},
   "source": [
    "###  Linear Regression"
   ]
  },
  {
   "cell_type": "code",
   "execution_count": 3074,
   "metadata": {
    "ExecuteTime": {
     "end_time": "2020-09-09T00:40:14.366636Z",
     "start_time": "2020-09-09T00:40:14.351489Z"
    }
   },
   "outputs": [],
   "source": [
    "lr=LinearRegression()"
   ]
  },
  {
   "cell_type": "code",
   "execution_count": 3075,
   "metadata": {
    "ExecuteTime": {
     "end_time": "2020-09-09T00:40:14.410208Z",
     "start_time": "2020-09-09T00:40:14.369436Z"
    }
   },
   "outputs": [],
   "source": [
    "lrf=lr.fit(x_train_f,y_train)"
   ]
  },
  {
   "cell_type": "code",
   "execution_count": 3076,
   "metadata": {
    "ExecuteTime": {
     "end_time": "2020-09-09T00:40:14.430112Z",
     "start_time": "2020-09-09T00:40:14.413322Z"
    }
   },
   "outputs": [],
   "source": [
    "y_predict=lrf.predict(x_test_f)"
   ]
  },
  {
   "cell_type": "code",
   "execution_count": 3077,
   "metadata": {
    "ExecuteTime": {
     "end_time": "2020-09-09T00:40:14.444946Z",
     "start_time": "2020-09-09T00:40:14.433589Z"
    }
   },
   "outputs": [
    {
     "data": {
      "text/plain": [
       "array([111423.76780478, 144571.64460255, 182673.73520097, ...,\n",
       "       167818.91473725, 102095.3107291 , 221412.30918921])"
      ]
     },
     "execution_count": 3077,
     "metadata": {},
     "output_type": "execute_result"
    }
   ],
   "source": [
    "y_predict"
   ]
  },
  {
   "cell_type": "code",
   "execution_count": 3078,
   "metadata": {
    "ExecuteTime": {
     "end_time": "2020-09-09T00:40:14.469074Z",
     "start_time": "2020-09-09T00:40:14.446941Z"
    }
   },
   "outputs": [],
   "source": [
    "'''Saving the results in Csv'''\n",
    "data={'Id':range(1461,2920),'SalePrice':y_predict}\n",
    "pd.DataFrame(data).set_index('Id').to_csv(r'submission files/submission_NH05.csv')"
   ]
  },
  {
   "cell_type": "code",
   "execution_count": 3105,
   "metadata": {
    "ExecuteTime": {
     "end_time": "2020-09-09T00:40:44.328985Z",
     "start_time": "2020-09-09T00:40:44.303881Z"
    }
   },
   "outputs": [],
   "source": [
    "best_score=pd.read_csv(r'submission files/submission_NH04.csv')"
   ]
  },
  {
   "cell_type": "code",
   "execution_count": 3106,
   "metadata": {
    "ExecuteTime": {
     "end_time": "2020-09-09T00:40:44.907440Z",
     "start_time": "2020-09-09T00:40:44.895491Z"
    }
   },
   "outputs": [],
   "source": [
    "a=best_score['SalePrice']-y_predict"
   ]
  },
  {
   "cell_type": "code",
   "execution_count": 3107,
   "metadata": {
    "ExecuteTime": {
     "end_time": "2020-09-09T00:40:45.469821Z",
     "start_time": "2020-09-09T00:40:45.142448Z"
    }
   },
   "outputs": [
    {
     "name": "stderr",
     "output_type": "stream",
     "text": [
      "C:\\Users\\Nandhu\\miniconda3\\envs\\study\\lib\\site-packages\\scipy\\stats\\stats.py:1713: FutureWarning: Using a non-tuple sequence for multidimensional indexing is deprecated; use `arr[tuple(seq)]` instead of `arr[seq]`. In the future this will be interpreted as an array index, `arr[np.array(seq)]`, which will result either in an error or a different result.\n",
      "  return np.add.reduce(sorted[indexer] * weights, axis=axis) / sumval\n"
     ]
    },
    {
     "data": {
      "text/plain": [
       "<matplotlib.axes._subplots.AxesSubplot at 0x1b158d84b00>"
      ]
     },
     "execution_count": 3107,
     "metadata": {},
     "output_type": "execute_result"
    },
    {
     "data": {
      "image/png": "[encoded data removed]",
      "text/plain": [
       "<Figure size 432x288 with 1 Axes>"
      ]
     },
     "metadata": {
      "needs_background": "light"
     },
     "output_type": "display_data"
    }
   ],
   "source": [
    "#fig,ax1=plt.subplot(1,1)\n",
    "sns.distplot(a,bins=30)\n"
   ]
  },
  {
   "cell_type": "code",
   "execution_count": 3108,
   "metadata": {
    "ExecuteTime": {
     "end_time": "2020-09-09T00:40:45.860442Z",
     "start_time": "2020-09-09T00:40:45.850999Z"
    }
   },
   "outputs": [],
   "source": [
    "best_score['new']=y_predict"
   ]
  },
  {
   "cell_type": "code",
   "execution_count": 3109,
   "metadata": {
    "ExecuteTime": {
     "end_time": "2020-09-09T00:40:46.566395Z",
     "start_time": "2020-09-09T00:40:46.340009Z"
    },
    "scrolled": true
   },
   "outputs": [
    {
     "data": {
      "text/plain": [
       "<matplotlib.axes._subplots.AxesSubplot at 0x1b158c892b0>"
      ]
     },
     "execution_count": 3109,
     "metadata": {},
     "output_type": "execute_result"
    },
    {
     "data": {
      "image/png": "[encoded data removed]",
      "text/plain": [
       "<Figure size 432x288 with 2 Axes>"
      ]
     },
     "metadata": {
      "needs_background": "light"
     },
     "output_type": "display_data"
    }
   ],
   "source": [
    "sns.heatmap(best_score[['SalePrice','new']].corr(),annot=True)"
   ]
  },
  {
   "cell_type": "markdown",
   "metadata": {},
   "source": [
    "### Random Forest Regressor"
   ]
  },
  {
   "cell_type": "code",
   "execution_count": 3084,
   "metadata": {
    "ExecuteTime": {
     "end_time": "2020-09-09T00:40:15.051245Z",
     "start_time": "2020-09-09T00:40:15.038079Z"
    }
   },
   "outputs": [],
   "source": [
    "from sklearn.ensemble import RandomForestRegressor"
   ]
  },
  {
   "cell_type": "code",
   "execution_count": 3085,
   "metadata": {
    "ExecuteTime": {
     "end_time": "2020-09-09T00:40:15.069278Z",
     "start_time": "2020-09-09T00:40:15.053203Z"
    }
   },
   "outputs": [],
   "source": [
    "rfs=RandomForestRegressor()"
   ]
  },
  {
   "cell_type": "code",
   "execution_count": 3086,
   "metadata": {
    "ExecuteTime": {
     "end_time": "2020-09-09T00:40:18.959727Z",
     "start_time": "2020-09-09T00:40:15.071273Z"
    }
   },
   "outputs": [],
   "source": [
    "svr=rfs.fit(x_train_f,y_train)"
   ]
  },
  {
   "cell_type": "code",
   "execution_count": 3087,
   "metadata": {
    "ExecuteTime": {
     "end_time": "2020-09-09T00:40:19.009668Z",
     "start_time": "2020-09-09T00:40:18.961722Z"
    }
   },
   "outputs": [],
   "source": [
    "y_predict=svr.predict(x_test_f)"
   ]
  },
  {
   "cell_type": "code",
   "execution_count": 3088,
   "metadata": {
    "ExecuteTime": {
     "end_time": "2020-09-09T00:40:19.020130Z",
     "start_time": "2020-09-09T00:40:19.011688Z"
    }
   },
   "outputs": [
    {
     "data": {
      "text/plain": [
       "array([126466.58, 157324.34, 179731.97, ..., 152990.96, 117139.34,\n",
       "       223310.54])"
      ]
     },
     "execution_count": 3088,
     "metadata": {},
     "output_type": "execute_result"
    }
   ],
   "source": [
    "y_predict"
   ]
  },
  {
   "cell_type": "markdown",
   "metadata": {
    "ExecuteTime": {
     "end_time": "2020-09-07T18:05:48.510605Z",
     "start_time": "2020-09-07T18:05:48.476642Z"
    }
   },
   "source": [
    "Saving the results in Csv\n",
    "data={'Id':range(1461,2920),'SalePrice':y_predict}\n",
    "pd.DataFrame(data).set_index('Id').to_csv(r'submission files/submission_mhdLR.csv')"
   ]
  },
  {
   "cell_type": "code",
   "execution_count": 3089,
   "metadata": {
    "ExecuteTime": {
     "end_time": "2020-09-09T00:40:19.034004Z",
     "start_time": "2020-09-09T00:40:19.023511Z"
    }
   },
   "outputs": [],
   "source": [
    "best_score=pd.read_csv(r'submission files/submission_05dlr.csv')"
   ]
  },
  {
   "cell_type": "code",
   "execution_count": 3090,
   "metadata": {
    "ExecuteTime": {
     "end_time": "2020-09-09T00:40:19.049211Z",
     "start_time": "2020-09-09T00:40:19.035689Z"
    }
   },
   "outputs": [],
   "source": [
    "a=best_score['SalePrice']-y_predict"
   ]
  },
  {
   "cell_type": "code",
   "execution_count": 3091,
   "metadata": {
    "ExecuteTime": {
     "end_time": "2020-09-09T00:40:19.332082Z",
     "start_time": "2020-09-09T00:40:19.051487Z"
    }
   },
   "outputs": [
    {
     "name": "stderr",
     "output_type": "stream",
     "text": [
      "C:\\Users\\Nandhu\\miniconda3\\envs\\study\\lib\\site-packages\\scipy\\stats\\stats.py:1713: FutureWarning: Using a non-tuple sequence for multidimensional indexing is deprecated; use `arr[tuple(seq)]` instead of `arr[seq]`. In the future this will be interpreted as an array index, `arr[np.array(seq)]`, which will result either in an error or a different result.\n",
      "  return np.add.reduce(sorted[indexer] * weights, axis=axis) / sumval\n"
     ]
    },
    {
     "data": {
      "text/plain": [
       "<matplotlib.axes._subplots.AxesSubplot at 0x1b159165160>"
      ]
     },
     "execution_count": 3091,
     "metadata": {},
     "output_type": "execute_result"
    },
    {
     "data": {
      "image/png": "[encoded data removed]",
      "text/plain": [
       "<Figure size 432x288 with 1 Axes>"
      ]
     },
     "metadata": {
      "needs_background": "light"
     },
     "output_type": "display_data"
    }
   ],
   "source": [
    "#fig,ax1=plt.subplot(1,1)\n",
    "sns.distplot(a,bins=30)\n"
   ]
  },
  {
   "cell_type": "code",
   "execution_count": 3092,
   "metadata": {
    "ExecuteTime": {
     "end_time": "2020-09-09T00:40:19.341553Z",
     "start_time": "2020-09-09T00:40:19.334067Z"
    }
   },
   "outputs": [],
   "source": [
    "best_score['new']=y_predict"
   ]
  },
  {
   "cell_type": "code",
   "execution_count": 3093,
   "metadata": {
    "ExecuteTime": {
     "end_time": "2020-09-09T00:40:19.580916Z",
     "start_time": "2020-09-09T00:40:19.344684Z"
    },
    "scrolled": true
   },
   "outputs": [
    {
     "data": {
      "text/plain": [
       "<matplotlib.axes._subplots.AxesSubplot at 0x1b159177400>"
      ]
     },
     "execution_count": 3093,
     "metadata": {},
     "output_type": "execute_result"
    },
    {
     "data": {
      "image/png": "[encoded data removed]",
      "text/plain": [
       "<Figure size 432x288 with 2 Axes>"
      ]
     },
     "metadata": {
      "needs_background": "light"
     },
     "output_type": "display_data"
    }
   ],
   "source": [
    "sns.heatmap(best_score[['SalePrice','new']].corr(),annot=True)"
   ]
  },
  {
   "cell_type": "code",
   "execution_count": null,
   "metadata": {},
   "outputs": [],
   "source": []
  },
  {
   "cell_type": "code",
   "execution_count": null,
   "metadata": {},
   "outputs": [],
   "source": []
  },
  {
   "cell_type": "code",
   "execution_count": null,
   "metadata": {},
   "outputs": [],
   "source": []
  },
  {
   "cell_type": "code",
   "execution_count": null,
   "metadata": {},
   "outputs": [],
   "source": []
  },
  {
   "cell_type": "code",
   "execution_count": null,
   "metadata": {},
   "outputs": [],
   "source": []
  },
  {
   "cell_type": "code",
   "execution_count": null,
   "metadata": {},
   "outputs": [],
   "source": []
  },
  {
   "cell_type": "code",
   "execution_count": null,
   "metadata": {},
   "outputs": [],
   "source": []
  },
  {
   "cell_type": "code",
   "execution_count": null,
   "metadata": {},
   "outputs": [],
   "source": []
  },
  {
   "cell_type": "code",
   "execution_count": null,
   "metadata": {},
   "outputs": [],
   "source": []
  },
  {
   "cell_type": "code",
   "execution_count": null,
   "metadata": {},
   "outputs": [],
   "source": []
  },
  {
   "cell_type": "code",
   "execution_count": null,
   "metadata": {},
   "outputs": [],
   "source": []
  },
  {
   "cell_type": "code",
   "execution_count": null,
   "metadata": {},
   "outputs": [],
   "source": []
  },
  {
   "cell_type": "markdown",
   "metadata": {},
   "source": [
    "## Support Vector Regressor"
   ]
  },
  {
   "cell_type": "code",
   "execution_count": 3094,
   "metadata": {
    "ExecuteTime": {
     "end_time": "2020-09-09T00:40:19.592378Z",
     "start_time": "2020-09-09T00:40:19.582903Z"
    }
   },
   "outputs": [],
   "source": [
    "from sklearn.svm import SVR"
   ]
  },
  {
   "cell_type": "code",
   "execution_count": 3095,
   "metadata": {
    "ExecuteTime": {
     "end_time": "2020-09-09T00:40:19.609517Z",
     "start_time": "2020-09-09T00:40:19.595394Z"
    }
   },
   "outputs": [],
   "source": [
    "svr=SVR()"
   ]
  },
  {
   "cell_type": "code",
   "execution_count": 3096,
   "metadata": {
    "ExecuteTime": {
     "end_time": "2020-09-09T00:40:20.649857Z",
     "start_time": "2020-09-09T00:40:19.612944Z"
    }
   },
   "outputs": [],
   "source": [
    "svr=svr.fit(x_train_f,y_train)"
   ]
  },
  {
   "cell_type": "code",
   "execution_count": 3097,
   "metadata": {
    "ExecuteTime": {
     "end_time": "2020-09-09T00:40:21.629971Z",
     "start_time": "2020-09-09T00:40:20.652226Z"
    }
   },
   "outputs": [],
   "source": [
    "y_predict=svr.predict(x_test_f)"
   ]
  },
  {
   "cell_type": "code",
   "execution_count": 3098,
   "metadata": {
    "ExecuteTime": {
     "end_time": "2020-09-09T00:40:21.654238Z",
     "start_time": "2020-09-09T00:40:21.632962Z"
    }
   },
   "outputs": [
    {
     "data": {
      "text/plain": [
       "array([163010.72817155, 163029.1792373 , 163041.6692038 , ...,\n",
       "       163088.85927277, 162995.12277047, 162990.89023389])"
      ]
     },
     "execution_count": 3098,
     "metadata": {},
     "output_type": "execute_result"
    }
   ],
   "source": [
    "y_predict"
   ]
  },
  {
   "cell_type": "code",
   "execution_count": 3099,
   "metadata": {
    "ExecuteTime": {
     "end_time": "2020-09-09T00:40:21.684483Z",
     "start_time": "2020-09-09T00:40:21.656142Z"
    }
   },
   "outputs": [],
   "source": [
    "#  # Saving the results in Csv\n",
    "data={'Id':range(1461,2920),'SalePrice':y_predict}\n",
    "pd.DataFrame(data).set_index('Id').to_csv(r'submission files/submission_mhdLR.csv')"
   ]
  },
  {
   "cell_type": "code",
   "execution_count": 3100,
   "metadata": {
    "ExecuteTime": {
     "end_time": "2020-09-09T00:40:21.705179Z",
     "start_time": "2020-09-09T00:40:21.686992Z"
    }
   },
   "outputs": [],
   "source": [
    "best_score=pd.read_csv(r'submission files/submission_lr.csv')"
   ]
  },
  {
   "cell_type": "code",
   "execution_count": 3101,
   "metadata": {
    "ExecuteTime": {
     "end_time": "2020-09-09T00:40:21.715580Z",
     "start_time": "2020-09-09T00:40:21.707046Z"
    }
   },
   "outputs": [],
   "source": [
    "a=best_score['SalePrice']-y_predict"
   ]
  },
  {
   "cell_type": "code",
   "execution_count": 3102,
   "metadata": {
    "ExecuteTime": {
     "end_time": "2020-09-09T00:40:22.045367Z",
     "start_time": "2020-09-09T00:40:21.717573Z"
    }
   },
   "outputs": [
    {
     "name": "stderr",
     "output_type": "stream",
     "text": [
      "C:\\Users\\Nandhu\\miniconda3\\envs\\study\\lib\\site-packages\\scipy\\stats\\stats.py:1713: FutureWarning: Using a non-tuple sequence for multidimensional indexing is deprecated; use `arr[tuple(seq)]` instead of `arr[seq]`. In the future this will be interpreted as an array index, `arr[np.array(seq)]`, which will result either in an error or a different result.\n",
      "  return np.add.reduce(sorted[indexer] * weights, axis=axis) / sumval\n"
     ]
    },
    {
     "data": {
      "text/plain": [
       "<matplotlib.axes._subplots.AxesSubplot at 0x1b158cc1a20>"
      ]
     },
     "execution_count": 3102,
     "metadata": {},
     "output_type": "execute_result"
    },
    {
     "data": {
      "image/png": "[encoded data removed]",
      "text/plain": [
       "<Figure size 432x288 with 1 Axes>"
      ]
     },
     "metadata": {
      "needs_background": "light"
     },
     "output_type": "display_data"
    }
   ],
   "source": [
    "#fig,ax1=plt.subplot(1,1)\n",
    "sns.distplot(a,bins=30)\n"
   ]
  },
  {
   "cell_type": "code",
   "execution_count": 3103,
   "metadata": {
    "ExecuteTime": {
     "end_time": "2020-09-09T00:40:22.054393Z",
     "start_time": "2020-09-09T00:40:22.047214Z"
    }
   },
   "outputs": [],
   "source": [
    "best_score['new']=y_predict"
   ]
  },
  {
   "cell_type": "code",
   "execution_count": 3104,
   "metadata": {
    "ExecuteTime": {
     "end_time": "2020-09-09T00:40:22.274013Z",
     "start_time": "2020-09-09T00:40:22.056551Z"
    },
    "scrolled": true
   },
   "outputs": [
    {
     "data": {
      "text/plain": [
       "<matplotlib.axes._subplots.AxesSubplot at 0x1b158d2ec50>"
      ]
     },
     "execution_count": 3104,
     "metadata": {},
     "output_type": "execute_result"
    },
    {
     "data": {
      "image/png": "[encoded data removed]",
      "text/plain": [
       "<Figure size 432x288 with 2 Axes>"
      ]
     },
     "metadata": {
      "needs_background": "light"
     },
     "output_type": "display_data"
    }
   ],
   "source": [
    "sns.heatmap(best_score[['SalePrice','new']].corr(),annot=True)"
   ]
  },
  {
   "cell_type": "code",
   "execution_count": null,
   "metadata": {},
   "outputs": [],
   "source": []
  },
  {
   "cell_type": "code",
   "execution_count": null,
   "metadata": {},
   "outputs": [],
   "source": []
  }
 ],
 "metadata": {
  "kernelspec": {
   "display_name": "Python 3",
   "language": "python",
   "name": "python3"
  },
  "language_info": {
   "codemirror_mode": {
    "name": "ipython",
    "version": 3
   },
   "file_extension": ".py",
   "mimetype": "text/x-python",
   "name": "python",
   "nbconvert_exporter": "python",
   "pygments_lexer": "ipython3",
   "version": "3.5.6"
  },
  "toc": {
   "base_numbering": 1,
   "nav_menu": {},
   "number_sections": true,
   "sideBar": true,
   "skip_h1_title": false,
   "title_cell": "Table of Contents",
   "title_sidebar": "Contents",
   "toc_cell": false,
   "toc_position": {
    "height": "calc(100% - 180px)",
    "left": "10px",
    "top": "150px",
    "width": "218.2px"
   },
   "toc_section_display": true,
   "toc_window_display": true
  }
 },
 "nbformat": 4,
 "nbformat_minor": 4
}
