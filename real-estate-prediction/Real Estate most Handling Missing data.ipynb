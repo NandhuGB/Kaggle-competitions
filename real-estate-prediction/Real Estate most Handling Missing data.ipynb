{
 "cells": [
  {
   "cell_type": "markdown",
   "metadata": {},
   "source": [
    "## Imports"
   ]
  },
  {
   "cell_type": "code",
   "execution_count": 178,
   "metadata": {
    "ExecuteTime": {
     "end_time": "2020-09-07T17:45:42.392830Z",
     "start_time": "2020-09-07T17:45:42.378803Z"
    }
   },
   "outputs": [],
   "source": [
    "import pandas as pd\n",
    "import numpy as np\n",
    "import matplotlib.pyplot as plt\n",
    "import seaborn as sns\n",
    "%matplotlib inline"
   ]
  },
  {
   "cell_type": "code",
   "execution_count": 179,
   "metadata": {
    "ExecuteTime": {
     "end_time": "2020-09-07T17:45:42.401101Z",
     "start_time": "2020-09-07T17:45:42.395101Z"
    }
   },
   "outputs": [],
   "source": [
    "#  Import data"
   ]
  },
  {
   "cell_type": "code",
   "execution_count": 180,
   "metadata": {
    "ExecuteTime": {
     "end_time": "2020-09-07T17:45:42.447798Z",
     "start_time": "2020-09-07T17:45:42.403181Z"
    }
   },
   "outputs": [],
   "source": [
    "train_data=pd.read_csv('train.csv')"
   ]
  },
  {
   "cell_type": "code",
   "execution_count": 181,
   "metadata": {
    "ExecuteTime": {
     "end_time": "2020-09-07T17:45:42.487205Z",
     "start_time": "2020-09-07T17:45:42.449793Z"
    }
   },
   "outputs": [],
   "source": [
    "test=pd.read_csv('test.csv')"
   ]
  },
  {
   "cell_type": "markdown",
   "metadata": {},
   "source": [
    "## Preprocessing\n"
   ]
  },
  {
   "cell_type": "code",
   "execution_count": 182,
   "metadata": {
    "ExecuteTime": {
     "end_time": "2020-09-07T17:45:42.495712Z",
     "start_time": "2020-09-07T17:45:42.489541Z"
    }
   },
   "outputs": [
    {
     "data": {
      "text/plain": [
       "Index(['Id', 'MSSubClass', 'MSZoning', 'LotFrontage', 'LotArea', 'Street',\n",
       "       'Alley', 'LotShape', 'LandContour', 'Utilities', 'LotConfig',\n",
       "       'LandSlope', 'Neighborhood', 'Condition1', 'Condition2', 'BldgType',\n",
       "       'HouseStyle', 'OverallQual', 'OverallCond', 'YearBuilt', 'YearRemodAdd',\n",
       "       'RoofStyle', 'RoofMatl', 'Exterior1st', 'Exterior2nd', 'MasVnrType',\n",
       "       'MasVnrArea', 'ExterQual', 'ExterCond', 'Foundation', 'BsmtQual',\n",
       "       'BsmtCond', 'BsmtExposure', 'BsmtFinType1', 'BsmtFinSF1',\n",
       "       'BsmtFinType2', 'BsmtFinSF2', 'BsmtUnfSF', 'TotalBsmtSF', 'Heating',\n",
       "       'HeatingQC', 'CentralAir', 'Electrical', '1stFlrSF', '2ndFlrSF',\n",
       "       'LowQualFinSF', 'GrLivArea', 'BsmtFullBath', 'BsmtHalfBath', 'FullBath',\n",
       "       'HalfBath', 'BedroomAbvGr', 'KitchenAbvGr', 'KitchenQual',\n",
       "       'TotRmsAbvGrd', 'Functional', 'Fireplaces', 'FireplaceQu', 'GarageType',\n",
       "       'GarageYrBlt', 'GarageFinish', 'GarageCars', 'GarageArea', 'GarageQual',\n",
       "       'GarageCond', 'PavedDrive', 'WoodDeckSF', 'OpenPorchSF',\n",
       "       'EnclosedPorch', '3SsnPorch', 'ScreenPorch', 'PoolArea', 'PoolQC',\n",
       "       'Fence', 'MiscFeature', 'MiscVal', 'MoSold', 'YrSold', 'SaleType',\n",
       "       'SaleCondition', 'SalePrice'],\n",
       "      dtype='object')"
      ]
     },
     "execution_count": 182,
     "metadata": {},
     "output_type": "execute_result"
    }
   ],
   "source": [
    "train_data.columns"
   ]
  },
  {
   "cell_type": "code",
   "execution_count": 183,
   "metadata": {
    "ExecuteTime": {
     "end_time": "2020-09-07T17:45:42.519892Z",
     "start_time": "2020-09-07T17:45:42.497417Z"
    }
   },
   "outputs": [],
   "source": [
    "train=train_data[['Id', 'MSSubClass', 'MSZoning', 'LotFrontage', 'LotArea', 'Street',\n",
    "       'Alley', 'LotShape', 'LandContour', 'Utilities', 'LotConfig',\n",
    "       'LandSlope', 'Neighborhood', 'Condition1', 'Condition2', 'BldgType',\n",
    "       'HouseStyle', 'OverallQual', 'OverallCond', 'YearBuilt', 'YearRemodAdd',\n",
    "       'RoofStyle', 'RoofMatl', 'Exterior1st', 'Exterior2nd', 'MasVnrType',\n",
    "       'MasVnrArea', 'ExterQual', 'ExterCond', 'Foundation', 'BsmtQual',\n",
    "       'BsmtCond', 'BsmtExposure', 'BsmtFinType1', 'BsmtFinSF1',\n",
    "       'BsmtFinType2', 'BsmtFinSF2', 'BsmtUnfSF', 'TotalBsmtSF', 'Heating',\n",
    "       'HeatingQC', 'CentralAir', 'Electrical', '1stFlrSF', '2ndFlrSF',\n",
    "       'LowQualFinSF', 'GrLivArea', 'BsmtFullBath', 'BsmtHalfBath', 'FullBath',\n",
    "       'HalfBath', 'BedroomAbvGr', 'KitchenAbvGr', 'KitchenQual',\n",
    "       'TotRmsAbvGrd', 'Functional', 'Fireplaces', 'FireplaceQu', 'GarageType',\n",
    "       'GarageYrBlt', 'GarageFinish', 'GarageCars', 'GarageArea', 'GarageQual',\n",
    "       'GarageCond', 'PavedDrive', 'WoodDeckSF', 'OpenPorchSF',\n",
    "       'EnclosedPorch', '3SsnPorch', 'ScreenPorch', 'PoolArea', 'PoolQC',\n",
    "       'Fence', 'MiscFeature', 'MiscVal', 'MoSold', 'YrSold', 'SaleType',\n",
    "       'SaleCondition']]"
   ]
  },
  {
   "cell_type": "code",
   "execution_count": 184,
   "metadata": {
    "ExecuteTime": {
     "end_time": "2020-09-07T17:45:42.547257Z",
     "start_time": "2020-09-07T17:45:42.521701Z"
    }
   },
   "outputs": [],
   "source": [
    "data=pd.concat([train,test])\n",
    "data['Ind']=range(0,2919)\n",
    "data.set_index('Ind',inplace=True)"
   ]
  },
  {
   "cell_type": "code",
   "execution_count": 185,
   "metadata": {
    "ExecuteTime": {
     "end_time": "2020-09-07T17:45:42.588460Z",
     "start_time": "2020-09-07T17:45:42.549223Z"
    }
   },
   "outputs": [
    {
     "data": {
      "text/html": [
       "<div>\n",
       "<style scoped>\n",
       "    .dataframe tbody tr th:only-of-type {\n",
       "        vertical-align: middle;\n",
       "    }\n",
       "\n",
       "    .dataframe tbody tr th {\n",
       "        vertical-align: top;\n",
       "    }\n",
       "\n",
       "    .dataframe thead th {\n",
       "        text-align: right;\n",
       "    }\n",
       "</style>\n",
       "<table border=\"1\" class=\"dataframe\">\n",
       "  <thead>\n",
       "    <tr style=\"text-align: right;\">\n",
       "      <th></th>\n",
       "      <th>Id</th>\n",
       "      <th>MSSubClass</th>\n",
       "      <th>MSZoning</th>\n",
       "      <th>LotFrontage</th>\n",
       "      <th>LotArea</th>\n",
       "      <th>Street</th>\n",
       "      <th>Alley</th>\n",
       "      <th>LotShape</th>\n",
       "      <th>LandContour</th>\n",
       "      <th>Utilities</th>\n",
       "      <th>...</th>\n",
       "      <th>ScreenPorch</th>\n",
       "      <th>PoolArea</th>\n",
       "      <th>PoolQC</th>\n",
       "      <th>Fence</th>\n",
       "      <th>MiscFeature</th>\n",
       "      <th>MiscVal</th>\n",
       "      <th>MoSold</th>\n",
       "      <th>YrSold</th>\n",
       "      <th>SaleType</th>\n",
       "      <th>SaleCondition</th>\n",
       "    </tr>\n",
       "    <tr>\n",
       "      <th>Ind</th>\n",
       "      <th></th>\n",
       "      <th></th>\n",
       "      <th></th>\n",
       "      <th></th>\n",
       "      <th></th>\n",
       "      <th></th>\n",
       "      <th></th>\n",
       "      <th></th>\n",
       "      <th></th>\n",
       "      <th></th>\n",
       "      <th></th>\n",
       "      <th></th>\n",
       "      <th></th>\n",
       "      <th></th>\n",
       "      <th></th>\n",
       "      <th></th>\n",
       "      <th></th>\n",
       "      <th></th>\n",
       "      <th></th>\n",
       "      <th></th>\n",
       "      <th></th>\n",
       "    </tr>\n",
       "  </thead>\n",
       "  <tbody>\n",
       "    <tr>\n",
       "      <th>0</th>\n",
       "      <td>1</td>\n",
       "      <td>60</td>\n",
       "      <td>RL</td>\n",
       "      <td>65.0</td>\n",
       "      <td>8450</td>\n",
       "      <td>Pave</td>\n",
       "      <td>NaN</td>\n",
       "      <td>Reg</td>\n",
       "      <td>Lvl</td>\n",
       "      <td>AllPub</td>\n",
       "      <td>...</td>\n",
       "      <td>0</td>\n",
       "      <td>0</td>\n",
       "      <td>NaN</td>\n",
       "      <td>NaN</td>\n",
       "      <td>NaN</td>\n",
       "      <td>0</td>\n",
       "      <td>2</td>\n",
       "      <td>2008</td>\n",
       "      <td>WD</td>\n",
       "      <td>Normal</td>\n",
       "    </tr>\n",
       "    <tr>\n",
       "      <th>1</th>\n",
       "      <td>2</td>\n",
       "      <td>20</td>\n",
       "      <td>RL</td>\n",
       "      <td>80.0</td>\n",
       "      <td>9600</td>\n",
       "      <td>Pave</td>\n",
       "      <td>NaN</td>\n",
       "      <td>Reg</td>\n",
       "      <td>Lvl</td>\n",
       "      <td>AllPub</td>\n",
       "      <td>...</td>\n",
       "      <td>0</td>\n",
       "      <td>0</td>\n",
       "      <td>NaN</td>\n",
       "      <td>NaN</td>\n",
       "      <td>NaN</td>\n",
       "      <td>0</td>\n",
       "      <td>5</td>\n",
       "      <td>2007</td>\n",
       "      <td>WD</td>\n",
       "      <td>Normal</td>\n",
       "    </tr>\n",
       "  </tbody>\n",
       "</table>\n",
       "<p>2 rows × 80 columns</p>\n",
       "</div>"
      ],
      "text/plain": [
       "     Id  MSSubClass MSZoning  LotFrontage  LotArea Street Alley LotShape  \\\n",
       "Ind                                                                        \n",
       "0     1          60       RL         65.0     8450   Pave   NaN      Reg   \n",
       "1     2          20       RL         80.0     9600   Pave   NaN      Reg   \n",
       "\n",
       "    LandContour Utilities      ...       ScreenPorch PoolArea PoolQC Fence  \\\n",
       "Ind                            ...                                           \n",
       "0           Lvl    AllPub      ...                 0        0    NaN   NaN   \n",
       "1           Lvl    AllPub      ...                 0        0    NaN   NaN   \n",
       "\n",
       "    MiscFeature MiscVal MoSold  YrSold  SaleType  SaleCondition  \n",
       "Ind                                                              \n",
       "0           NaN       0      2    2008        WD         Normal  \n",
       "1           NaN       0      5    2007        WD         Normal  \n",
       "\n",
       "[2 rows x 80 columns]"
      ]
     },
     "execution_count": 185,
     "metadata": {},
     "output_type": "execute_result"
    }
   ],
   "source": [
    "data.head(2)"
   ]
  },
  {
   "cell_type": "code",
   "execution_count": 186,
   "metadata": {
    "ExecuteTime": {
     "end_time": "2020-09-07T17:45:42.631411Z",
     "start_time": "2020-09-07T17:45:42.590630Z"
    }
   },
   "outputs": [
    {
     "data": {
      "text/html": [
       "<div>\n",
       "<style scoped>\n",
       "    .dataframe tbody tr th:only-of-type {\n",
       "        vertical-align: middle;\n",
       "    }\n",
       "\n",
       "    .dataframe tbody tr th {\n",
       "        vertical-align: top;\n",
       "    }\n",
       "\n",
       "    .dataframe thead th {\n",
       "        text-align: right;\n",
       "    }\n",
       "</style>\n",
       "<table border=\"1\" class=\"dataframe\">\n",
       "  <thead>\n",
       "    <tr style=\"text-align: right;\">\n",
       "      <th></th>\n",
       "      <th>Id</th>\n",
       "      <th>MSSubClass</th>\n",
       "      <th>MSZoning</th>\n",
       "      <th>LotFrontage</th>\n",
       "      <th>LotArea</th>\n",
       "      <th>Street</th>\n",
       "      <th>Alley</th>\n",
       "      <th>LotShape</th>\n",
       "      <th>LandContour</th>\n",
       "      <th>Utilities</th>\n",
       "      <th>...</th>\n",
       "      <th>ScreenPorch</th>\n",
       "      <th>PoolArea</th>\n",
       "      <th>PoolQC</th>\n",
       "      <th>Fence</th>\n",
       "      <th>MiscFeature</th>\n",
       "      <th>MiscVal</th>\n",
       "      <th>MoSold</th>\n",
       "      <th>YrSold</th>\n",
       "      <th>SaleType</th>\n",
       "      <th>SaleCondition</th>\n",
       "    </tr>\n",
       "    <tr>\n",
       "      <th>Ind</th>\n",
       "      <th></th>\n",
       "      <th></th>\n",
       "      <th></th>\n",
       "      <th></th>\n",
       "      <th></th>\n",
       "      <th></th>\n",
       "      <th></th>\n",
       "      <th></th>\n",
       "      <th></th>\n",
       "      <th></th>\n",
       "      <th></th>\n",
       "      <th></th>\n",
       "      <th></th>\n",
       "      <th></th>\n",
       "      <th></th>\n",
       "      <th></th>\n",
       "      <th></th>\n",
       "      <th></th>\n",
       "      <th></th>\n",
       "      <th></th>\n",
       "      <th></th>\n",
       "    </tr>\n",
       "  </thead>\n",
       "  <tbody>\n",
       "    <tr>\n",
       "      <th>2916</th>\n",
       "      <td>2917</td>\n",
       "      <td>20</td>\n",
       "      <td>RL</td>\n",
       "      <td>160.0</td>\n",
       "      <td>20000</td>\n",
       "      <td>Pave</td>\n",
       "      <td>NaN</td>\n",
       "      <td>Reg</td>\n",
       "      <td>Lvl</td>\n",
       "      <td>AllPub</td>\n",
       "      <td>...</td>\n",
       "      <td>0</td>\n",
       "      <td>0</td>\n",
       "      <td>NaN</td>\n",
       "      <td>NaN</td>\n",
       "      <td>NaN</td>\n",
       "      <td>0</td>\n",
       "      <td>9</td>\n",
       "      <td>2006</td>\n",
       "      <td>WD</td>\n",
       "      <td>Abnorml</td>\n",
       "    </tr>\n",
       "    <tr>\n",
       "      <th>2917</th>\n",
       "      <td>2918</td>\n",
       "      <td>85</td>\n",
       "      <td>RL</td>\n",
       "      <td>62.0</td>\n",
       "      <td>10441</td>\n",
       "      <td>Pave</td>\n",
       "      <td>NaN</td>\n",
       "      <td>Reg</td>\n",
       "      <td>Lvl</td>\n",
       "      <td>AllPub</td>\n",
       "      <td>...</td>\n",
       "      <td>0</td>\n",
       "      <td>0</td>\n",
       "      <td>NaN</td>\n",
       "      <td>MnPrv</td>\n",
       "      <td>Shed</td>\n",
       "      <td>700</td>\n",
       "      <td>7</td>\n",
       "      <td>2006</td>\n",
       "      <td>WD</td>\n",
       "      <td>Normal</td>\n",
       "    </tr>\n",
       "    <tr>\n",
       "      <th>2918</th>\n",
       "      <td>2919</td>\n",
       "      <td>60</td>\n",
       "      <td>RL</td>\n",
       "      <td>74.0</td>\n",
       "      <td>9627</td>\n",
       "      <td>Pave</td>\n",
       "      <td>NaN</td>\n",
       "      <td>Reg</td>\n",
       "      <td>Lvl</td>\n",
       "      <td>AllPub</td>\n",
       "      <td>...</td>\n",
       "      <td>0</td>\n",
       "      <td>0</td>\n",
       "      <td>NaN</td>\n",
       "      <td>NaN</td>\n",
       "      <td>NaN</td>\n",
       "      <td>0</td>\n",
       "      <td>11</td>\n",
       "      <td>2006</td>\n",
       "      <td>WD</td>\n",
       "      <td>Normal</td>\n",
       "    </tr>\n",
       "  </tbody>\n",
       "</table>\n",
       "<p>3 rows × 80 columns</p>\n",
       "</div>"
      ],
      "text/plain": [
       "        Id  MSSubClass MSZoning  LotFrontage  LotArea Street Alley LotShape  \\\n",
       "Ind                                                                           \n",
       "2916  2917          20       RL        160.0    20000   Pave   NaN      Reg   \n",
       "2917  2918          85       RL         62.0    10441   Pave   NaN      Reg   \n",
       "2918  2919          60       RL         74.0     9627   Pave   NaN      Reg   \n",
       "\n",
       "     LandContour Utilities      ...       ScreenPorch PoolArea PoolQC  Fence  \\\n",
       "Ind                             ...                                            \n",
       "2916         Lvl    AllPub      ...                 0        0    NaN    NaN   \n",
       "2917         Lvl    AllPub      ...                 0        0    NaN  MnPrv   \n",
       "2918         Lvl    AllPub      ...                 0        0    NaN    NaN   \n",
       "\n",
       "     MiscFeature MiscVal MoSold  YrSold  SaleType  SaleCondition  \n",
       "Ind                                                               \n",
       "2916         NaN       0      9    2006        WD        Abnorml  \n",
       "2917        Shed     700      7    2006        WD         Normal  \n",
       "2918         NaN       0     11    2006        WD         Normal  \n",
       "\n",
       "[3 rows x 80 columns]"
      ]
     },
     "execution_count": 186,
     "metadata": {},
     "output_type": "execute_result"
    }
   ],
   "source": [
    "data.tail(3)"
   ]
  },
  {
   "cell_type": "markdown",
   "metadata": {},
   "source": [
    "## Missing data handling"
   ]
  },
  {
   "cell_type": "code",
   "execution_count": 187,
   "metadata": {
    "ExecuteTime": {
     "end_time": "2020-09-07T17:45:42.672149Z",
     "start_time": "2020-09-07T17:45:42.633772Z"
    }
   },
   "outputs": [],
   "source": [
    "# Collecting the features which have missing data\n",
    "\n",
    "miss_cols={}\n",
    "miss_dict=dict(data.isnull().sum()>0) \n",
    "for i in miss_dict:\n",
    "    if miss_dict[i]:\n",
    "        miss_cols.update({i:data[i].isnull().sum()})\n",
    "    "
   ]
  },
  {
   "cell_type": "code",
   "execution_count": 188,
   "metadata": {
    "ExecuteTime": {
     "end_time": "2020-09-07T17:45:42.683692Z",
     "start_time": "2020-09-07T17:45:42.674144Z"
    },
    "scrolled": true
   },
   "outputs": [
    {
     "data": {
      "text/plain": [
       "{'Alley': 2721,\n",
       " 'BsmtCond': 82,\n",
       " 'BsmtExposure': 82,\n",
       " 'BsmtFinSF1': 1,\n",
       " 'BsmtFinSF2': 1,\n",
       " 'BsmtFinType1': 79,\n",
       " 'BsmtFinType2': 80,\n",
       " 'BsmtFullBath': 2,\n",
       " 'BsmtHalfBath': 2,\n",
       " 'BsmtQual': 81,\n",
       " 'BsmtUnfSF': 1,\n",
       " 'Electrical': 1,\n",
       " 'Exterior1st': 1,\n",
       " 'Exterior2nd': 1,\n",
       " 'Fence': 2348,\n",
       " 'FireplaceQu': 1420,\n",
       " 'Functional': 2,\n",
       " 'GarageArea': 1,\n",
       " 'GarageCars': 1,\n",
       " 'GarageCond': 159,\n",
       " 'GarageFinish': 159,\n",
       " 'GarageQual': 159,\n",
       " 'GarageType': 157,\n",
       " 'GarageYrBlt': 159,\n",
       " 'KitchenQual': 1,\n",
       " 'LotFrontage': 486,\n",
       " 'MSZoning': 4,\n",
       " 'MasVnrArea': 23,\n",
       " 'MasVnrType': 24,\n",
       " 'MiscFeature': 2814,\n",
       " 'PoolQC': 2909,\n",
       " 'SaleType': 1,\n",
       " 'TotalBsmtSF': 1,\n",
       " 'Utilities': 2}"
      ]
     },
     "execution_count": 188,
     "metadata": {},
     "output_type": "execute_result"
    }
   ],
   "source": [
    "# Missing data columns\n",
    "\n",
    "miss_cols"
   ]
  },
  {
   "cell_type": "markdown",
   "metadata": {},
   "source": [
    "### 'Alley'"
   ]
  },
  {
   "cell_type": "code",
   "execution_count": 189,
   "metadata": {
    "ExecuteTime": {
     "end_time": "2020-09-07T17:45:42.701815Z",
     "start_time": "2020-09-07T17:45:42.685688Z"
    }
   },
   "outputs": [
    {
     "data": {
      "text/plain": [
       "Grvl    120\n",
       "Pave     78\n",
       "Name: Alley, dtype: int64"
      ]
     },
     "execution_count": 189,
     "metadata": {},
     "output_type": "execute_result"
    }
   ],
   "source": [
    "data['Alley'].value_counts()"
   ]
  },
  {
   "cell_type": "code",
   "execution_count": 190,
   "metadata": {
    "ExecuteTime": {
     "end_time": "2020-09-07T17:45:42.712808Z",
     "start_time": "2020-09-07T17:45:42.703809Z"
    }
   },
   "outputs": [],
   "source": [
    "data.drop(columns='Alley',inplace=True)"
   ]
  },
  {
   "cell_type": "markdown",
   "metadata": {
    "ExecuteTime": {
     "end_time": "2020-09-07T16:31:50.339668Z",
     "start_time": "2020-09-07T16:31:50.319297Z"
    }
   },
   "source": [
    "data['Alley'].fillna(value='NoAlley',inplace=True)\n"
   ]
  },
  {
   "cell_type": "markdown",
   "metadata": {},
   "source": [
    "### 'BsmtCond'"
   ]
  },
  {
   "cell_type": "code",
   "execution_count": 191,
   "metadata": {
    "ExecuteTime": {
     "end_time": "2020-09-07T17:45:42.729161Z",
     "start_time": "2020-09-07T17:45:42.714265Z"
    }
   },
   "outputs": [
    {
     "data": {
      "text/plain": [
       "TA    2606\n",
       "Gd     122\n",
       "Fa     104\n",
       "Po       5\n",
       "Name: BsmtCond, dtype: int64"
      ]
     },
     "execution_count": 191,
     "metadata": {},
     "output_type": "execute_result"
    }
   ],
   "source": [
    "data['BsmtCond'].value_counts()"
   ]
  },
  {
   "cell_type": "code",
   "execution_count": 192,
   "metadata": {
    "ExecuteTime": {
     "end_time": "2020-09-07T17:45:42.742145Z",
     "start_time": "2020-09-07T17:45:42.731172Z"
    }
   },
   "outputs": [],
   "source": [
    "data['BsmtCond'].fillna(value='TA',inplace=True)"
   ]
  },
  {
   "cell_type": "code",
   "execution_count": 193,
   "metadata": {
    "ExecuteTime": {
     "end_time": "2020-09-07T17:45:42.752328Z",
     "start_time": "2020-09-07T17:45:42.744896Z"
    }
   },
   "outputs": [
    {
     "data": {
      "text/plain": [
       "0"
      ]
     },
     "execution_count": 193,
     "metadata": {},
     "output_type": "execute_result"
    }
   ],
   "source": [
    "data['BsmtCond'].isnull().sum()"
   ]
  },
  {
   "cell_type": "markdown",
   "metadata": {},
   "source": [
    "### 'BsmtExposure'"
   ]
  },
  {
   "cell_type": "code",
   "execution_count": 194,
   "metadata": {
    "ExecuteTime": {
     "end_time": "2020-09-07T17:45:42.763960Z",
     "start_time": "2020-09-07T17:45:42.755384Z"
    }
   },
   "outputs": [
    {
     "data": {
      "text/plain": [
       "No    1904\n",
       "Av     418\n",
       "Gd     276\n",
       "Mn     239\n",
       "Name: BsmtExposure, dtype: int64"
      ]
     },
     "execution_count": 194,
     "metadata": {},
     "output_type": "execute_result"
    }
   ],
   "source": [
    "data['BsmtExposure'].value_counts()"
   ]
  },
  {
   "cell_type": "markdown",
   "metadata": {
    "ExecuteTime": {
     "end_time": "2020-09-07T17:28:05.035763Z",
     "start_time": "2020-09-07T17:28:05.028888Z"
    }
   },
   "source": [
    "data['BsmtExposure'].fillna(value='No',inplace=True)"
   ]
  },
  {
   "cell_type": "markdown",
   "metadata": {
    "ExecuteTime": {
     "end_time": "2020-09-07T17:28:05.054941Z",
     "start_time": "2020-09-07T17:28:05.037767Z"
    }
   },
   "source": [
    "data['BsmtExposure'].isnull().sum()"
   ]
  },
  {
   "cell_type": "code",
   "execution_count": 195,
   "metadata": {
    "ExecuteTime": {
     "end_time": "2020-09-07T17:45:42.775819Z",
     "start_time": "2020-09-07T17:45:42.767004Z"
    }
   },
   "outputs": [],
   "source": [
    "data.drop(columns='BsmtExposure',inplace=True)"
   ]
  },
  {
   "cell_type": "markdown",
   "metadata": {},
   "source": [
    "### 'BsmtFinSF1' &  'BsmtFinType2'"
   ]
  },
  {
   "cell_type": "code",
   "execution_count": 196,
   "metadata": {
    "ExecuteTime": {
     "end_time": "2020-09-07T17:45:42.792953Z",
     "start_time": "2020-09-07T17:45:42.777869Z"
    }
   },
   "outputs": [],
   "source": [
    "data['BsmtFinSF2'].fillna(value=0.0,inplace=True)"
   ]
  },
  {
   "cell_type": "code",
   "execution_count": 197,
   "metadata": {
    "ExecuteTime": {
     "end_time": "2020-09-07T17:45:42.801722Z",
     "start_time": "2020-09-07T17:45:42.795947Z"
    }
   },
   "outputs": [],
   "source": [
    "data['BsmtFinSF1'].fillna(value=0.0,inplace=True)"
   ]
  },
  {
   "cell_type": "code",
   "execution_count": 198,
   "metadata": {
    "ExecuteTime": {
     "end_time": "2020-09-07T17:45:42.811348Z",
     "start_time": "2020-09-07T17:45:42.804845Z"
    }
   },
   "outputs": [
    {
     "data": {
      "text/plain": [
       "0"
      ]
     },
     "execution_count": 198,
     "metadata": {},
     "output_type": "execute_result"
    }
   ],
   "source": [
    "data['BsmtFinSF1'].isnull().sum()"
   ]
  },
  {
   "cell_type": "code",
   "execution_count": 199,
   "metadata": {
    "ExecuteTime": {
     "end_time": "2020-09-07T17:45:42.820849Z",
     "start_time": "2020-09-07T17:45:42.814341Z"
    }
   },
   "outputs": [
    {
     "data": {
      "text/plain": [
       "0"
      ]
     },
     "execution_count": 199,
     "metadata": {},
     "output_type": "execute_result"
    }
   ],
   "source": [
    "data['BsmtFinSF2'].isnull().sum()"
   ]
  },
  {
   "cell_type": "markdown",
   "metadata": {},
   "source": [
    "### 'BsmtFinType1' & 'BsmtFinType2'"
   ]
  },
  {
   "cell_type": "code",
   "execution_count": 200,
   "metadata": {
    "ExecuteTime": {
     "end_time": "2020-09-07T17:45:42.840237Z",
     "start_time": "2020-09-07T17:45:42.822841Z"
    }
   },
   "outputs": [
    {
     "data": {
      "text/plain": [
       "Unf    851\n",
       "GLQ    849\n",
       "ALQ    429\n",
       "Rec    288\n",
       "BLQ    269\n",
       "LwQ    154\n",
       "Name: BsmtFinType1, dtype: int64"
      ]
     },
     "execution_count": 200,
     "metadata": {},
     "output_type": "execute_result"
    }
   ],
   "source": [
    "data['BsmtFinType1'].value_counts()"
   ]
  },
  {
   "cell_type": "markdown",
   "metadata": {
    "ExecuteTime": {
     "end_time": "2020-09-07T17:28:05.136183Z",
     "start_time": "2020-09-07T17:28:05.129073Z"
    }
   },
   "source": [
    "data['BsmtFinType1'].fillna(value='Unf',inplace=True)"
   ]
  },
  {
   "cell_type": "markdown",
   "metadata": {
    "ExecuteTime": {
     "end_time": "2020-09-07T17:28:05.150266Z",
     "start_time": "2020-09-07T17:28:05.139174Z"
    }
   },
   "source": [
    "data['BsmtFinType2'].value_counts()"
   ]
  },
  {
   "cell_type": "markdown",
   "metadata": {
    "ExecuteTime": {
     "end_time": "2020-09-07T17:28:05.159356Z",
     "start_time": "2020-09-07T17:28:05.153259Z"
    }
   },
   "source": [
    "data['BsmtFinType2'].fillna(value='Unf',inplace=True)"
   ]
  },
  {
   "cell_type": "code",
   "execution_count": 201,
   "metadata": {
    "ExecuteTime": {
     "end_time": "2020-09-07T17:45:42.861578Z",
     "start_time": "2020-09-07T17:45:42.843231Z"
    }
   },
   "outputs": [],
   "source": [
    "data.drop(columns='BsmtFinType1',inplace=True)\n",
    "data.drop(columns='BsmtFinType2',inplace=True)"
   ]
  },
  {
   "cell_type": "markdown",
   "metadata": {},
   "source": [
    "###  'BsmtFullBath' & 'BsmtHalfBath'"
   ]
  },
  {
   "cell_type": "code",
   "execution_count": 202,
   "metadata": {
    "ExecuteTime": {
     "end_time": "2020-09-07T17:45:42.879757Z",
     "start_time": "2020-09-07T17:45:42.864610Z"
    }
   },
   "outputs": [
    {
     "data": {
      "text/plain": [
       "0.0    1705\n",
       "1.0    1172\n",
       "2.0      38\n",
       "3.0       2\n",
       "Name: BsmtFullBath, dtype: int64"
      ]
     },
     "execution_count": 202,
     "metadata": {},
     "output_type": "execute_result"
    }
   ],
   "source": [
    "data['BsmtFullBath'].value_counts()"
   ]
  },
  {
   "cell_type": "markdown",
   "metadata": {
    "ExecuteTime": {
     "end_time": "2020-09-07T17:40:50.486411Z",
     "start_time": "2020-09-07T17:40:50.381219Z"
    }
   },
   "source": [
    "data[data['BsmtFullBath'].isnull()]['BsmtCond']"
   ]
  },
  {
   "cell_type": "code",
   "execution_count": 203,
   "metadata": {
    "ExecuteTime": {
     "end_time": "2020-09-07T17:45:42.895054Z",
     "start_time": "2020-09-07T17:45:42.881567Z"
    }
   },
   "outputs": [],
   "source": [
    "data['BsmtFullBath'].fillna(value=0.0,inplace=True)"
   ]
  },
  {
   "cell_type": "code",
   "execution_count": 204,
   "metadata": {
    "ExecuteTime": {
     "end_time": "2020-09-07T17:45:42.910217Z",
     "start_time": "2020-09-07T17:45:42.897411Z"
    }
   },
   "outputs": [
    {
     "data": {
      "text/plain": [
       "0.0    2742\n",
       "1.0     171\n",
       "2.0       4\n",
       "Name: BsmtHalfBath, dtype: int64"
      ]
     },
     "execution_count": 204,
     "metadata": {},
     "output_type": "execute_result"
    }
   ],
   "source": [
    "data['BsmtHalfBath'].value_counts()"
   ]
  },
  {
   "cell_type": "markdown",
   "metadata": {
    "ExecuteTime": {
     "end_time": "2020-09-07T17:41:13.632388Z",
     "start_time": "2020-09-07T17:41:13.568273Z"
    }
   },
   "source": [
    "data[data['BsmtHalfBath'].isnull()]['BsmtCond']"
   ]
  },
  {
   "cell_type": "code",
   "execution_count": 205,
   "metadata": {
    "ExecuteTime": {
     "end_time": "2020-09-07T17:45:42.919833Z",
     "start_time": "2020-09-07T17:45:42.912353Z"
    }
   },
   "outputs": [],
   "source": [
    "data['BsmtHalfBath'].fillna(value=0.0,inplace=True)"
   ]
  },
  {
   "cell_type": "markdown",
   "metadata": {},
   "source": [
    "### BsmtQual"
   ]
  },
  {
   "cell_type": "code",
   "execution_count": 206,
   "metadata": {
    "ExecuteTime": {
     "end_time": "2020-09-07T17:45:42.933105Z",
     "start_time": "2020-09-07T17:45:42.921961Z"
    }
   },
   "outputs": [
    {
     "data": {
      "text/plain": [
       "TA    1283\n",
       "Gd    1209\n",
       "Ex     258\n",
       "Fa      88\n",
       "Name: BsmtQual, dtype: int64"
      ]
     },
     "execution_count": 206,
     "metadata": {},
     "output_type": "execute_result"
    }
   ],
   "source": [
    "data['BsmtQual'].value_counts()"
   ]
  },
  {
   "cell_type": "markdown",
   "metadata": {
    "ExecuteTime": {
     "end_time": "2020-09-07T17:28:05.303436Z",
     "start_time": "2020-09-07T17:28:05.287957Z"
    }
   },
   "source": [
    "data['BsmtQual'].fillna('TA',inplace=True)"
   ]
  },
  {
   "cell_type": "code",
   "execution_count": 207,
   "metadata": {
    "ExecuteTime": {
     "end_time": "2020-09-07T17:45:42.950086Z",
     "start_time": "2020-09-07T17:45:42.935100Z"
    }
   },
   "outputs": [],
   "source": [
    "data.drop(columns='BsmtQual',inplace=True)"
   ]
  },
  {
   "cell_type": "markdown",
   "metadata": {
    "ExecuteTime": {
     "end_time": "2020-09-07T17:41:51.036708Z",
     "start_time": "2020-09-07T17:41:50.982764Z"
    }
   },
   "source": [
    "data['BsmtQual'].isnull().sum()"
   ]
  },
  {
   "cell_type": "markdown",
   "metadata": {},
   "source": [
    "### 'BsmtUnfSF'"
   ]
  },
  {
   "cell_type": "code",
   "execution_count": 208,
   "metadata": {
    "ExecuteTime": {
     "end_time": "2020-09-07T17:45:42.972160Z",
     "start_time": "2020-09-07T17:45:42.952147Z"
    }
   },
   "outputs": [
    {
     "data": {
      "text/plain": [
       "0.0       241\n",
       "384.0      19\n",
       "728.0      14\n",
       "672.0      13\n",
       "600.0      12\n",
       "572.0      11\n",
       "216.0      11\n",
       "100.0      11\n",
       "816.0      11\n",
       "624.0      10\n",
       "270.0      10\n",
       "300.0      10\n",
       "264.0       9\n",
       "396.0       9\n",
       "280.0       9\n",
       "186.0       9\n",
       "768.0       9\n",
       "780.0       8\n",
       "546.0       8\n",
       "348.0       8\n",
       "294.0       8\n",
       "440.0       8\n",
       "162.0       8\n",
       "480.0       8\n",
       "832.0       8\n",
       "108.0       8\n",
       "840.0       8\n",
       "784.0       7\n",
       "80.0        7\n",
       "392.0       7\n",
       "         ... \n",
       "127.0       1\n",
       "795.0       1\n",
       "214.0       1\n",
       "1098.0      1\n",
       "584.0       1\n",
       "532.0       1\n",
       "983.0       1\n",
       "79.0        1\n",
       "388.0       1\n",
       "559.0       1\n",
       "1616.0      1\n",
       "889.0       1\n",
       "1078.0      1\n",
       "1411.0      1\n",
       "999.0       1\n",
       "659.0       1\n",
       "709.0       1\n",
       "1214.0      1\n",
       "657.0       1\n",
       "587.0       1\n",
       "1146.0      1\n",
       "2140.0      1\n",
       "579.0       1\n",
       "735.0       1\n",
       "1073.0      1\n",
       "1503.0      1\n",
       "445.0       1\n",
       "958.0       1\n",
       "1559.0      1\n",
       "1369.0      1\n",
       "Name: BsmtUnfSF, Length: 1135, dtype: int64"
      ]
     },
     "execution_count": 208,
     "metadata": {},
     "output_type": "execute_result"
    }
   ],
   "source": [
    "data['BsmtUnfSF'].value_counts()"
   ]
  },
  {
   "cell_type": "code",
   "execution_count": 209,
   "metadata": {
    "ExecuteTime": {
     "end_time": "2020-09-07T17:45:42.987187Z",
     "start_time": "2020-09-07T17:45:42.974158Z"
    }
   },
   "outputs": [],
   "source": [
    "data['BsmtUnfSF'].fillna(value=0.0,inplace=True)"
   ]
  },
  {
   "cell_type": "markdown",
   "metadata": {},
   "source": [
    "### 'Electrical'"
   ]
  },
  {
   "cell_type": "code",
   "execution_count": 210,
   "metadata": {
    "ExecuteTime": {
     "end_time": "2020-09-07T17:45:43.003495Z",
     "start_time": "2020-09-07T17:45:42.989396Z"
    }
   },
   "outputs": [
    {
     "data": {
      "text/plain": [
       "SBrkr    2671\n",
       "FuseA     188\n",
       "FuseF      50\n",
       "FuseP       8\n",
       "Mix         1\n",
       "Name: Electrical, dtype: int64"
      ]
     },
     "execution_count": 210,
     "metadata": {},
     "output_type": "execute_result"
    }
   ],
   "source": [
    "data['Electrical'].value_counts()"
   ]
  },
  {
   "cell_type": "code",
   "execution_count": 211,
   "metadata": {
    "ExecuteTime": {
     "end_time": "2020-09-07T17:45:43.011805Z",
     "start_time": "2020-09-07T17:45:43.005497Z"
    }
   },
   "outputs": [],
   "source": [
    "data['Electrical'].fillna(value='SBrkr',inplace=True)"
   ]
  },
  {
   "cell_type": "markdown",
   "metadata": {},
   "source": [
    "### 'Exterior1st'"
   ]
  },
  {
   "cell_type": "code",
   "execution_count": 212,
   "metadata": {
    "ExecuteTime": {
     "end_time": "2020-09-07T17:45:43.030486Z",
     "start_time": "2020-09-07T17:45:43.014794Z"
    }
   },
   "outputs": [
    {
     "data": {
      "text/plain": [
       "VinylSd    1025\n",
       "MetalSd     450\n",
       "HdBoard     442\n",
       "Wd Sdng     411\n",
       "Plywood     221\n",
       "CemntBd     126\n",
       "BrkFace      87\n",
       "WdShing      56\n",
       "AsbShng      44\n",
       "Stucco       43\n",
       "BrkComm       6\n",
       "AsphShn       2\n",
       "Stone         2\n",
       "CBlock        2\n",
       "ImStucc       1\n",
       "Name: Exterior1st, dtype: int64"
      ]
     },
     "execution_count": 212,
     "metadata": {},
     "output_type": "execute_result"
    }
   ],
   "source": [
    "data['Exterior1st'].value_counts()"
   ]
  },
  {
   "cell_type": "code",
   "execution_count": 213,
   "metadata": {
    "ExecuteTime": {
     "end_time": "2020-09-07T17:45:43.039644Z",
     "start_time": "2020-09-07T17:45:43.032835Z"
    }
   },
   "outputs": [],
   "source": [
    "data['Exterior1st'].fillna(value='VinylSd',inplace=True)"
   ]
  },
  {
   "cell_type": "markdown",
   "metadata": {},
   "source": [
    "### 'Exterior2nd'"
   ]
  },
  {
   "cell_type": "code",
   "execution_count": 214,
   "metadata": {
    "ExecuteTime": {
     "end_time": "2020-09-07T17:45:43.052485Z",
     "start_time": "2020-09-07T17:45:43.042814Z"
    }
   },
   "outputs": [
    {
     "data": {
      "text/plain": [
       "VinylSd    1014\n",
       "MetalSd     447\n",
       "HdBoard     406\n",
       "Wd Sdng     391\n",
       "Plywood     270\n",
       "CmentBd     126\n",
       "Wd Shng      81\n",
       "BrkFace      47\n",
       "Stucco       47\n",
       "AsbShng      38\n",
       "Brk Cmn      22\n",
       "ImStucc      15\n",
       "Stone         6\n",
       "AsphShn       4\n",
       "CBlock        3\n",
       "Other         1\n",
       "Name: Exterior2nd, dtype: int64"
      ]
     },
     "execution_count": 214,
     "metadata": {},
     "output_type": "execute_result"
    }
   ],
   "source": [
    "data['Exterior2nd'].value_counts()"
   ]
  },
  {
   "cell_type": "code",
   "execution_count": 215,
   "metadata": {
    "ExecuteTime": {
     "end_time": "2020-09-07T17:45:43.066948Z",
     "start_time": "2020-09-07T17:45:43.054478Z"
    }
   },
   "outputs": [],
   "source": [
    "data['Exterior2nd'].fillna(value='VinylSd',inplace=True)"
   ]
  },
  {
   "cell_type": "markdown",
   "metadata": {},
   "source": [
    "### 'Fence'"
   ]
  },
  {
   "cell_type": "code",
   "execution_count": 216,
   "metadata": {
    "ExecuteTime": {
     "end_time": "2020-09-07T17:45:43.085230Z",
     "start_time": "2020-09-07T17:45:43.068906Z"
    }
   },
   "outputs": [
    {
     "data": {
      "text/plain": [
       "MnPrv    329\n",
       "GdPrv    118\n",
       "GdWo     112\n",
       "MnWw      12\n",
       "Name: Fence, dtype: int64"
      ]
     },
     "execution_count": 216,
     "metadata": {},
     "output_type": "execute_result"
    }
   ],
   "source": [
    "data['Fence'].value_counts()"
   ]
  },
  {
   "cell_type": "markdown",
   "metadata": {
    "ExecuteTime": {
     "end_time": "2020-09-07T16:33:56.653953Z",
     "start_time": "2020-09-07T16:33:56.635897Z"
    }
   },
   "source": [
    "data['Fence'].fillna(value='MnPrv',inplace=True)"
   ]
  },
  {
   "cell_type": "code",
   "execution_count": 217,
   "metadata": {
    "ExecuteTime": {
     "end_time": "2020-09-07T17:45:43.098285Z",
     "start_time": "2020-09-07T17:45:43.086700Z"
    }
   },
   "outputs": [],
   "source": [
    "data.drop(columns='Fence',inplace=True)"
   ]
  },
  {
   "cell_type": "markdown",
   "metadata": {},
   "source": [
    "### 'FireplaceQu'"
   ]
  },
  {
   "cell_type": "code",
   "execution_count": 218,
   "metadata": {
    "ExecuteTime": {
     "end_time": "2020-09-07T17:45:43.114024Z",
     "start_time": "2020-09-07T17:45:43.100538Z"
    }
   },
   "outputs": [
    {
     "data": {
      "text/plain": [
       "Gd    744\n",
       "TA    592\n",
       "Fa     74\n",
       "Po     46\n",
       "Ex     43\n",
       "Name: FireplaceQu, dtype: int64"
      ]
     },
     "execution_count": 218,
     "metadata": {},
     "output_type": "execute_result"
    }
   ],
   "source": [
    "data['FireplaceQu'].value_counts()"
   ]
  },
  {
   "cell_type": "code",
   "execution_count": 219,
   "metadata": {
    "ExecuteTime": {
     "end_time": "2020-09-07T17:45:43.140347Z",
     "start_time": "2020-09-07T17:45:43.115983Z"
    }
   },
   "outputs": [
    {
     "data": {
      "text/plain": [
       "1420"
      ]
     },
     "execution_count": 219,
     "metadata": {},
     "output_type": "execute_result"
    }
   ],
   "source": [
    "(data[data['FireplaceQu'].isnull()]['Fireplaces']==0).sum()"
   ]
  },
  {
   "cell_type": "code",
   "execution_count": 220,
   "metadata": {
    "ExecuteTime": {
     "end_time": "2020-09-07T17:45:43.156292Z",
     "start_time": "2020-09-07T17:45:43.142730Z"
    }
   },
   "outputs": [
    {
     "data": {
      "text/plain": [
       "1420"
      ]
     },
     "execution_count": 220,
     "metadata": {},
     "output_type": "execute_result"
    }
   ],
   "source": [
    "data['FireplaceQu'].isnull().sum()"
   ]
  },
  {
   "cell_type": "markdown",
   "metadata": {
    "ExecuteTime": {
     "end_time": "2020-09-07T16:34:17.343962Z",
     "start_time": "2020-09-07T16:34:17.335547Z"
    }
   },
   "source": [
    "data['FireplaceQu'].fillna(value='Gd',inplace=True)"
   ]
  },
  {
   "cell_type": "code",
   "execution_count": 221,
   "metadata": {
    "ExecuteTime": {
     "end_time": "2020-09-07T17:45:43.172088Z",
     "start_time": "2020-09-07T17:45:43.159090Z"
    }
   },
   "outputs": [],
   "source": [
    "data.drop(columns='FireplaceQu',inplace=True)"
   ]
  },
  {
   "cell_type": "markdown",
   "metadata": {},
   "source": [
    "### 'Functional'"
   ]
  },
  {
   "cell_type": "code",
   "execution_count": 222,
   "metadata": {
    "ExecuteTime": {
     "end_time": "2020-09-07T17:45:43.187816Z",
     "start_time": "2020-09-07T17:45:43.174083Z"
    }
   },
   "outputs": [
    {
     "data": {
      "text/plain": [
       "Typ     2717\n",
       "Min2      70\n",
       "Min1      65\n",
       "Mod       35\n",
       "Maj1      19\n",
       "Maj2       9\n",
       "Sev        2\n",
       "Name: Functional, dtype: int64"
      ]
     },
     "execution_count": 222,
     "metadata": {},
     "output_type": "execute_result"
    }
   ],
   "source": [
    "data['Functional'].value_counts()"
   ]
  },
  {
   "cell_type": "code",
   "execution_count": 223,
   "metadata": {
    "ExecuteTime": {
     "end_time": "2020-09-07T17:45:43.198585Z",
     "start_time": "2020-09-07T17:45:43.189887Z"
    }
   },
   "outputs": [],
   "source": [
    "data['Functional'].fillna(value='Typ',inplace=True)"
   ]
  },
  {
   "cell_type": "markdown",
   "metadata": {},
   "source": [
    "### 'GarageArea'"
   ]
  },
  {
   "cell_type": "code",
   "execution_count": 224,
   "metadata": {
    "ExecuteTime": {
     "end_time": "2020-09-07T17:45:43.216035Z",
     "start_time": "2020-09-07T17:45:43.200543Z"
    }
   },
   "outputs": [
    {
     "data": {
      "text/plain": [
       "Ind\n",
       "2576   NaN\n",
       "Name: GarageCars, dtype: float64"
      ]
     },
     "execution_count": 224,
     "metadata": {},
     "output_type": "execute_result"
    }
   ],
   "source": [
    "data[data['GarageArea'].isnull()]['GarageCars']"
   ]
  },
  {
   "cell_type": "code",
   "execution_count": 225,
   "metadata": {
    "ExecuteTime": {
     "end_time": "2020-09-07T17:45:43.226905Z",
     "start_time": "2020-09-07T17:45:43.218289Z"
    }
   },
   "outputs": [],
   "source": [
    "data['GarageArea'].fillna(value=0.0,inplace=True)"
   ]
  },
  {
   "cell_type": "markdown",
   "metadata": {},
   "source": [
    "### 'GarageCars'"
   ]
  },
  {
   "cell_type": "code",
   "execution_count": 226,
   "metadata": {
    "ExecuteTime": {
     "end_time": "2020-09-07T17:45:43.242473Z",
     "start_time": "2020-09-07T17:45:43.228900Z"
    }
   },
   "outputs": [
    {
     "data": {
      "text/plain": [
       "2.0    1594\n",
       "1.0     776\n",
       "3.0     374\n",
       "0.0     157\n",
       "4.0      16\n",
       "5.0       1\n",
       "Name: GarageCars, dtype: int64"
      ]
     },
     "execution_count": 226,
     "metadata": {},
     "output_type": "execute_result"
    }
   ],
   "source": [
    "data['GarageCars'].value_counts()"
   ]
  },
  {
   "cell_type": "code",
   "execution_count": 227,
   "metadata": {
    "ExecuteTime": {
     "end_time": "2020-09-07T17:45:43.262562Z",
     "start_time": "2020-09-07T17:45:43.244753Z"
    }
   },
   "outputs": [
    {
     "data": {
      "text/plain": [
       "Ind\n",
       "2576    0.0\n",
       "Name: GarageArea, dtype: float64"
      ]
     },
     "execution_count": 227,
     "metadata": {},
     "output_type": "execute_result"
    }
   ],
   "source": [
    "data[data['GarageCars'].isnull()]['GarageArea']"
   ]
  },
  {
   "cell_type": "code",
   "execution_count": 228,
   "metadata": {
    "ExecuteTime": {
     "end_time": "2020-09-07T17:45:43.281870Z",
     "start_time": "2020-09-07T17:45:43.264557Z"
    }
   },
   "outputs": [],
   "source": [
    "data['GarageCars'].fillna(0.0,inplace=True)"
   ]
  },
  {
   "cell_type": "markdown",
   "metadata": {},
   "source": [
    "### 'GarageCond'"
   ]
  },
  {
   "cell_type": "code",
   "execution_count": 229,
   "metadata": {
    "ExecuteTime": {
     "end_time": "2020-09-07T17:45:43.291811Z",
     "start_time": "2020-09-07T17:45:43.283909Z"
    }
   },
   "outputs": [
    {
     "data": {
      "text/plain": [
       "TA    2654\n",
       "Fa      74\n",
       "Gd      15\n",
       "Po      14\n",
       "Ex       3\n",
       "Name: GarageCond, dtype: int64"
      ]
     },
     "execution_count": 229,
     "metadata": {},
     "output_type": "execute_result"
    }
   ],
   "source": [
    "data['GarageCond'].value_counts()"
   ]
  },
  {
   "cell_type": "markdown",
   "metadata": {
    "ExecuteTime": {
     "end_time": "2020-09-07T17:23:57.802676Z",
     "start_time": "2020-09-07T17:23:57.790671Z"
    }
   },
   "source": [
    "data['GarageCond'].fillna(value='TA',inplace=True)"
   ]
  },
  {
   "cell_type": "code",
   "execution_count": 230,
   "metadata": {
    "ExecuteTime": {
     "end_time": "2020-09-07T17:45:43.312925Z",
     "start_time": "2020-09-07T17:45:43.294639Z"
    }
   },
   "outputs": [],
   "source": [
    "data.drop(columns='GarageCond',inplace=True)"
   ]
  },
  {
   "cell_type": "markdown",
   "metadata": {},
   "source": [
    "###  'GarageFinish'"
   ]
  },
  {
   "cell_type": "code",
   "execution_count": 231,
   "metadata": {
    "ExecuteTime": {
     "end_time": "2020-09-07T17:45:43.332392Z",
     "start_time": "2020-09-07T17:45:43.315154Z"
    }
   },
   "outputs": [
    {
     "data": {
      "text/plain": [
       "Unf    1230\n",
       "RFn     811\n",
       "Fin     719\n",
       "Name: GarageFinish, dtype: int64"
      ]
     },
     "execution_count": 231,
     "metadata": {},
     "output_type": "execute_result"
    }
   ],
   "source": [
    "data['GarageFinish'].value_counts()"
   ]
  },
  {
   "cell_type": "markdown",
   "metadata": {
    "ExecuteTime": {
     "end_time": "2020-09-07T17:23:57.991821Z",
     "start_time": "2020-09-07T17:23:57.984459Z"
    }
   },
   "source": [
    "data['GarageFinish'].fillna(value='Unf',inplace=True)"
   ]
  },
  {
   "cell_type": "code",
   "execution_count": 232,
   "metadata": {
    "ExecuteTime": {
     "end_time": "2020-09-07T17:45:43.353124Z",
     "start_time": "2020-09-07T17:45:43.334387Z"
    }
   },
   "outputs": [],
   "source": [
    "data.drop(columns='GarageFinish',inplace=True)"
   ]
  },
  {
   "cell_type": "markdown",
   "metadata": {},
   "source": [
    "### 'GarageQual'"
   ]
  },
  {
   "cell_type": "code",
   "execution_count": 233,
   "metadata": {
    "ExecuteTime": {
     "end_time": "2020-09-07T17:45:43.372038Z",
     "start_time": "2020-09-07T17:45:43.355121Z"
    }
   },
   "outputs": [
    {
     "data": {
      "text/plain": [
       "TA    2604\n",
       "Fa     124\n",
       "Gd      24\n",
       "Po       5\n",
       "Ex       3\n",
       "Name: GarageQual, dtype: int64"
      ]
     },
     "execution_count": 233,
     "metadata": {},
     "output_type": "execute_result"
    }
   ],
   "source": [
    "data['GarageQual'].value_counts()"
   ]
  },
  {
   "cell_type": "markdown",
   "metadata": {
    "ExecuteTime": {
     "end_time": "2020-09-07T17:23:58.190824Z",
     "start_time": "2020-09-07T17:23:58.179988Z"
    }
   },
   "source": [
    "len(data[data['GarageQual'].isnull()]['GarageArea']==0.0)"
   ]
  },
  {
   "cell_type": "markdown",
   "metadata": {
    "ExecuteTime": {
     "end_time": "2020-09-07T17:23:58.315439Z",
     "start_time": "2020-09-07T17:23:58.293353Z"
    }
   },
   "source": [
    "data['GarageQual'].isnull().sum()"
   ]
  },
  {
   "cell_type": "code",
   "execution_count": 234,
   "metadata": {
    "ExecuteTime": {
     "end_time": "2020-09-07T17:45:43.380190Z",
     "start_time": "2020-09-07T17:45:43.374071Z"
    }
   },
   "outputs": [],
   "source": [
    "data.drop(columns='GarageQual',inplace=True)"
   ]
  },
  {
   "cell_type": "markdown",
   "metadata": {
    "ExecuteTime": {
     "end_time": "2020-09-07T17:23:58.491397Z",
     "start_time": "2020-09-07T17:23:58.479288Z"
    }
   },
   "source": [
    "data['GarageQual'].fillna(value='TA',inplace=True)"
   ]
  },
  {
   "cell_type": "markdown",
   "metadata": {},
   "source": [
    "### 'GarageType'"
   ]
  },
  {
   "cell_type": "code",
   "execution_count": 235,
   "metadata": {
    "ExecuteTime": {
     "end_time": "2020-09-07T17:45:43.400038Z",
     "start_time": "2020-09-07T17:45:43.382556Z"
    }
   },
   "outputs": [
    {
     "data": {
      "text/plain": [
       "Attchd     1723\n",
       "Detchd      779\n",
       "BuiltIn     186\n",
       "Basment      36\n",
       "2Types       23\n",
       "CarPort      15\n",
       "Name: GarageType, dtype: int64"
      ]
     },
     "execution_count": 235,
     "metadata": {},
     "output_type": "execute_result"
    }
   ],
   "source": [
    "data['GarageType'].value_counts()"
   ]
  },
  {
   "cell_type": "markdown",
   "metadata": {
    "ExecuteTime": {
     "end_time": "2020-09-07T17:23:59.086258Z",
     "start_time": "2020-09-07T17:23:59.071939Z"
    }
   },
   "source": [
    "len(data[data['GarageType'].isnull()]['GarageArea']==0.0)"
   ]
  },
  {
   "cell_type": "markdown",
   "metadata": {
    "ExecuteTime": {
     "end_time": "2020-09-07T17:23:59.286763Z",
     "start_time": "2020-09-07T17:23:59.275089Z"
    }
   },
   "source": [
    "data['GarageType'].isnull().sum()"
   ]
  },
  {
   "cell_type": "markdown",
   "metadata": {
    "ExecuteTime": {
     "end_time": "2020-09-07T17:23:59.488458Z",
     "start_time": "2020-09-07T17:23:59.477592Z"
    }
   },
   "source": [
    "data['GarageType'].fillna(value='Attchd',inplace=True)"
   ]
  },
  {
   "cell_type": "code",
   "execution_count": 236,
   "metadata": {
    "ExecuteTime": {
     "end_time": "2020-09-07T17:45:43.412195Z",
     "start_time": "2020-09-07T17:45:43.401991Z"
    }
   },
   "outputs": [],
   "source": [
    "data.drop(columns='GarageType',inplace=True)"
   ]
  },
  {
   "cell_type": "markdown",
   "metadata": {},
   "source": [
    "### 'GarageYrBlt'"
   ]
  },
  {
   "cell_type": "code",
   "execution_count": 237,
   "metadata": {
    "ExecuteTime": {
     "end_time": "2020-09-07T17:45:43.434698Z",
     "start_time": "2020-09-07T17:45:43.414190Z"
    }
   },
   "outputs": [
    {
     "data": {
      "text/plain": [
       "2005.0    142\n",
       "2006.0    115\n",
       "2007.0    115\n",
       "2004.0     99\n",
       "2003.0     92\n",
       "1977.0     66\n",
       "2008.0     61\n",
       "1998.0     58\n",
       "2000.0     55\n",
       "1999.0     54\n",
       "2002.0     53\n",
       "1950.0     51\n",
       "1976.0     50\n",
       "1993.0     49\n",
       "1968.0     48\n",
       "1997.0     44\n",
       "1958.0     42\n",
       "1978.0     41\n",
       "2001.0     41\n",
       "1956.0     41\n",
       "1996.0     40\n",
       "1966.0     39\n",
       "1994.0     39\n",
       "1960.0     37\n",
       "1954.0     37\n",
       "1967.0     36\n",
       "1959.0     36\n",
       "1979.0     35\n",
       "1964.0     35\n",
       "1962.0     35\n",
       "         ... \n",
       "1922.0      8\n",
       "1924.0      8\n",
       "1935.0      8\n",
       "1915.0      7\n",
       "1928.0      7\n",
       "1936.0      7\n",
       "1937.0      6\n",
       "1916.0      6\n",
       "1923.0      6\n",
       "1942.0      6\n",
       "1900.0      6\n",
       "1927.0      5\n",
       "1921.0      5\n",
       "2010.0      5\n",
       "1947.0      5\n",
       "1932.0      4\n",
       "1931.0      4\n",
       "1934.0      4\n",
       "1918.0      3\n",
       "1917.0      2\n",
       "1914.0      2\n",
       "1929.0      2\n",
       "1908.0      1\n",
       "2207.0      1\n",
       "1895.0      1\n",
       "1933.0      1\n",
       "1943.0      1\n",
       "1906.0      1\n",
       "1919.0      1\n",
       "1896.0      1\n",
       "Name: GarageYrBlt, Length: 103, dtype: int64"
      ]
     },
     "execution_count": 237,
     "metadata": {},
     "output_type": "execute_result"
    }
   ],
   "source": [
    "data['GarageYrBlt'].value_counts()"
   ]
  },
  {
   "cell_type": "markdown",
   "metadata": {
    "ExecuteTime": {
     "end_time": "2020-09-07T17:24:00.263356Z",
     "start_time": "2020-09-07T17:24:00.248371Z"
    }
   },
   "source": [
    "\n",
    "len(data[data['GarageYrBlt'].isnull()]['GarageCars']==0.0)"
   ]
  },
  {
   "cell_type": "markdown",
   "metadata": {
    "ExecuteTime": {
     "end_time": "2020-09-07T17:24:00.405309Z",
     "start_time": "2020-09-07T17:24:00.398774Z"
    }
   },
   "source": [
    "data['GarageYrBlt'].fillna(0000.0,inplace=True)"
   ]
  },
  {
   "cell_type": "code",
   "execution_count": 238,
   "metadata": {
    "ExecuteTime": {
     "end_time": "2020-09-07T17:45:43.443578Z",
     "start_time": "2020-09-07T17:45:43.436045Z"
    }
   },
   "outputs": [],
   "source": [
    "data.drop(columns='GarageYrBlt',inplace=True)"
   ]
  },
  {
   "cell_type": "markdown",
   "metadata": {},
   "source": [
    "### 'KitchenQual'"
   ]
  },
  {
   "cell_type": "code",
   "execution_count": 239,
   "metadata": {
    "ExecuteTime": {
     "end_time": "2020-09-07T17:45:43.457420Z",
     "start_time": "2020-09-07T17:45:43.445568Z"
    }
   },
   "outputs": [
    {
     "data": {
      "text/plain": [
       "TA    1492\n",
       "Gd    1151\n",
       "Ex     205\n",
       "Fa      70\n",
       "Name: KitchenQual, dtype: int64"
      ]
     },
     "execution_count": 239,
     "metadata": {},
     "output_type": "execute_result"
    }
   ],
   "source": [
    "data['KitchenQual'].value_counts()"
   ]
  },
  {
   "cell_type": "code",
   "execution_count": 240,
   "metadata": {
    "ExecuteTime": {
     "end_time": "2020-09-07T17:45:43.466877Z",
     "start_time": "2020-09-07T17:45:43.459268Z"
    }
   },
   "outputs": [
    {
     "data": {
      "text/plain": [
       "Ind\n",
       "1555    1\n",
       "Name: KitchenAbvGr, dtype: int64"
      ]
     },
     "execution_count": 240,
     "metadata": {},
     "output_type": "execute_result"
    }
   ],
   "source": [
    "data[data['KitchenQual'].isnull()]['KitchenAbvGr']"
   ]
  },
  {
   "cell_type": "code",
   "execution_count": 241,
   "metadata": {
    "ExecuteTime": {
     "end_time": "2020-09-07T17:45:43.483907Z",
     "start_time": "2020-09-07T17:45:43.469885Z"
    }
   },
   "outputs": [
    {
     "data": {
      "text/plain": [
       "1    2785\n",
       "2     129\n",
       "0       3\n",
       "3       2\n",
       "Name: KitchenAbvGr, dtype: int64"
      ]
     },
     "execution_count": 241,
     "metadata": {},
     "output_type": "execute_result"
    }
   ],
   "source": [
    "data['KitchenAbvGr'].value_counts()"
   ]
  },
  {
   "cell_type": "code",
   "execution_count": 242,
   "metadata": {
    "ExecuteTime": {
     "end_time": "2020-09-07T17:45:43.506307Z",
     "start_time": "2020-09-07T17:45:43.485716Z"
    }
   },
   "outputs": [
    {
     "data": {
      "text/plain": [
       "TA    1372\n",
       "Gd    1146\n",
       "Ex     205\n",
       "Fa      61\n",
       "Name: KitchenQual, dtype: int64"
      ]
     },
     "execution_count": 242,
     "metadata": {},
     "output_type": "execute_result"
    }
   ],
   "source": [
    "data[data['KitchenAbvGr']==1]['KitchenQual'].value_counts()"
   ]
  },
  {
   "cell_type": "code",
   "execution_count": 243,
   "metadata": {
    "ExecuteTime": {
     "end_time": "2020-09-07T17:45:43.514918Z",
     "start_time": "2020-09-07T17:45:43.508261Z"
    }
   },
   "outputs": [],
   "source": [
    "data['KitchenQual'].fillna(value='TA',inplace=True)"
   ]
  },
  {
   "cell_type": "markdown",
   "metadata": {},
   "source": [
    "### 'LotFrontage'"
   ]
  },
  {
   "cell_type": "code",
   "execution_count": 244,
   "metadata": {
    "ExecuteTime": {
     "end_time": "2020-09-07T17:45:43.529624Z",
     "start_time": "2020-09-07T17:45:43.517032Z"
    }
   },
   "outputs": [],
   "source": [
    "lfdata=data[data['LotArea'].notnull() & data['LotFrontage'].notnull()]"
   ]
  },
  {
   "cell_type": "code",
   "execution_count": 245,
   "metadata": {
    "ExecuteTime": {
     "end_time": "2020-09-07T17:45:43.549455Z",
     "start_time": "2020-09-07T17:45:43.532616Z"
    }
   },
   "outputs": [],
   "source": [
    "data.drop(columns='LotFrontage',inplace=True)"
   ]
  },
  {
   "cell_type": "markdown",
   "metadata": {
    "ExecuteTime": {
     "end_time": "2020-09-07T16:36:02.652472Z",
     "start_time": "2020-09-07T16:36:02.114352Z"
    }
   },
   "source": [
    "sns.distplot(a=lfdata['LotArea']/lfdata['LotFrontage'])"
   ]
  },
  {
   "cell_type": "markdown",
   "metadata": {
    "ExecuteTime": {
     "end_time": "2020-09-07T16:36:02.667956Z",
     "start_time": "2020-09-07T16:36:02.654470Z"
    }
   },
   "source": [
    "(lfdata['LotArea']/lfdata['LotFrontage']).value_counts()"
   ]
  },
  {
   "cell_type": "markdown",
   "metadata": {
    "ExecuteTime": {
     "end_time": "2020-09-07T16:36:35.492553Z",
     "start_time": "2020-09-07T16:36:03.060678Z"
    }
   },
   "source": [
    "for i in data[data['LotFrontage'].isnull()].index:\n",
    "    data['LotFrontage'][i]=data['LotArea'][i]/120.0"
   ]
  },
  {
   "cell_type": "markdown",
   "metadata": {
    "ExecuteTime": {
     "end_time": "2020-09-07T16:36:35.509353Z",
     "start_time": "2020-09-07T16:36:35.497303Z"
    }
   },
   "source": [
    "data['LotFrontage'].isnull().sum()"
   ]
  },
  {
   "cell_type": "markdown",
   "metadata": {},
   "source": [
    "### 'MSZoning'"
   ]
  },
  {
   "cell_type": "code",
   "execution_count": 246,
   "metadata": {
    "ExecuteTime": {
     "end_time": "2020-09-07T17:45:43.566446Z",
     "start_time": "2020-09-07T17:45:43.552448Z"
    }
   },
   "outputs": [
    {
     "data": {
      "text/plain": [
       "RL         2265\n",
       "RM          460\n",
       "FV          139\n",
       "RH           26\n",
       "C (all)      25\n",
       "Name: MSZoning, dtype: int64"
      ]
     },
     "execution_count": 246,
     "metadata": {},
     "output_type": "execute_result"
    }
   ],
   "source": [
    "data['MSZoning'].value_counts()"
   ]
  },
  {
   "cell_type": "code",
   "execution_count": 247,
   "metadata": {
    "ExecuteTime": {
     "end_time": "2020-09-07T17:45:43.589585Z",
     "start_time": "2020-09-07T17:45:43.569437Z"
    }
   },
   "outputs": [],
   "source": [
    "data['MSZoning'].fillna(value='RL',inplace=True)"
   ]
  },
  {
   "cell_type": "markdown",
   "metadata": {},
   "source": [
    "### 'MasVnrArea'"
   ]
  },
  {
   "cell_type": "code",
   "execution_count": 248,
   "metadata": {
    "ExecuteTime": {
     "end_time": "2020-09-07T17:45:43.630071Z",
     "start_time": "2020-09-07T17:45:43.597585Z"
    }
   },
   "outputs": [
    {
     "data": {
      "text/plain": [
       "0.0       1738\n",
       "120.0       15\n",
       "176.0       13\n",
       "200.0       13\n",
       "216.0       12\n",
       "180.0       12\n",
       "144.0       11\n",
       "72.0        11\n",
       "108.0       11\n",
       "16.0        11\n",
       "340.0       10\n",
       "80.0         9\n",
       "210.0        9\n",
       "128.0        9\n",
       "196.0        9\n",
       "256.0        8\n",
       "178.0        8\n",
       "40.0         8\n",
       "302.0        8\n",
       "170.0        8\n",
       "132.0        8\n",
       "260.0        7\n",
       "300.0        7\n",
       "203.0        7\n",
       "186.0        7\n",
       "456.0        7\n",
       "420.0        7\n",
       "50.0         7\n",
       "252.0        7\n",
       "106.0        7\n",
       "          ... \n",
       "81.0         1\n",
       "528.0        1\n",
       "91.0         1\n",
       "87.0         1\n",
       "97.0         1\n",
       "63.0         1\n",
       "408.0        1\n",
       "47.0         1\n",
       "39.0         1\n",
       "118.0        1\n",
       "1170.0       1\n",
       "376.0        1\n",
       "584.0        1\n",
       "322.0        1\n",
       "634.0        1\n",
       "532.0        1\n",
       "1290.0       1\n",
       "519.0        1\n",
       "287.0        1\n",
       "571.0        1\n",
       "435.0        1\n",
       "886.0        1\n",
       "237.0        1\n",
       "738.0        1\n",
       "1050.0       1\n",
       "664.0        1\n",
       "247.0        1\n",
       "550.0        1\n",
       "137.0        1\n",
       "572.0        1\n",
       "Name: MasVnrArea, Length: 444, dtype: int64"
      ]
     },
     "execution_count": 248,
     "metadata": {},
     "output_type": "execute_result"
    }
   ],
   "source": [
    "data['MasVnrArea'].value_counts()"
   ]
  },
  {
   "cell_type": "code",
   "execution_count": 249,
   "metadata": {
    "ExecuteTime": {
     "end_time": "2020-09-07T17:45:43.647466Z",
     "start_time": "2020-09-07T17:45:43.632080Z"
    }
   },
   "outputs": [
    {
     "data": {
      "text/plain": [
       "23"
      ]
     },
     "execution_count": 249,
     "metadata": {},
     "output_type": "execute_result"
    }
   ],
   "source": [
    "len(data[data['MasVnrArea'].isnull()]['MasVnrType']==np.nan)"
   ]
  },
  {
   "cell_type": "code",
   "execution_count": 250,
   "metadata": {
    "ExecuteTime": {
     "end_time": "2020-09-07T17:45:43.662793Z",
     "start_time": "2020-09-07T17:45:43.649632Z"
    }
   },
   "outputs": [],
   "source": [
    "data['MasVnrArea'].fillna(value=0.0,inplace=True)"
   ]
  },
  {
   "cell_type": "markdown",
   "metadata": {},
   "source": [
    "###  'MasVnrType'"
   ]
  },
  {
   "cell_type": "code",
   "execution_count": 251,
   "metadata": {
    "ExecuteTime": {
     "end_time": "2020-09-07T17:45:43.678638Z",
     "start_time": "2020-09-07T17:45:43.664788Z"
    }
   },
   "outputs": [
    {
     "data": {
      "text/plain": [
       "None       1742\n",
       "BrkFace     879\n",
       "Stone       249\n",
       "BrkCmn       25\n",
       "Name: MasVnrType, dtype: int64"
      ]
     },
     "execution_count": 251,
     "metadata": {},
     "output_type": "execute_result"
    }
   ],
   "source": [
    "data['MasVnrType'].value_counts()"
   ]
  },
  {
   "cell_type": "code",
   "execution_count": 252,
   "metadata": {
    "ExecuteTime": {
     "end_time": "2020-09-07T17:45:43.694205Z",
     "start_time": "2020-09-07T17:45:43.680316Z"
    }
   },
   "outputs": [],
   "source": [
    "data['MasVnrType'].fillna('None',inplace=True)"
   ]
  },
  {
   "cell_type": "markdown",
   "metadata": {},
   "source": [
    "### 'MiscFeature'"
   ]
  },
  {
   "cell_type": "code",
   "execution_count": 253,
   "metadata": {
    "ExecuteTime": {
     "end_time": "2020-09-07T17:45:43.711581Z",
     "start_time": "2020-09-07T17:45:43.696414Z"
    }
   },
   "outputs": [
    {
     "data": {
      "text/plain": [
       "Shed    95\n",
       "Gar2     5\n",
       "Othr     4\n",
       "TenC     1\n",
       "Name: MiscFeature, dtype: int64"
      ]
     },
     "execution_count": 253,
     "metadata": {},
     "output_type": "execute_result"
    }
   ],
   "source": [
    "data['MiscFeature'].value_counts()"
   ]
  },
  {
   "cell_type": "markdown",
   "metadata": {
    "ExecuteTime": {
     "end_time": "2020-09-07T16:37:13.001592Z",
     "start_time": "2020-09-07T16:37:12.988018Z"
    }
   },
   "source": [
    "data['MiscFeature'].fillna('Shed',inplace=True)"
   ]
  },
  {
   "cell_type": "code",
   "execution_count": 254,
   "metadata": {
    "ExecuteTime": {
     "end_time": "2020-09-07T17:45:43.721232Z",
     "start_time": "2020-09-07T17:45:43.713609Z"
    }
   },
   "outputs": [],
   "source": [
    "data.drop(columns='MiscFeature',inplace=True)"
   ]
  },
  {
   "cell_type": "markdown",
   "metadata": {},
   "source": [
    "### 'PoolQC'"
   ]
  },
  {
   "cell_type": "code",
   "execution_count": 255,
   "metadata": {
    "ExecuteTime": {
     "end_time": "2020-09-07T17:45:43.739669Z",
     "start_time": "2020-09-07T17:45:43.725309Z"
    }
   },
   "outputs": [
    {
     "data": {
      "text/plain": [
       "Ex    4\n",
       "Gd    4\n",
       "Fa    2\n",
       "Name: PoolQC, dtype: int64"
      ]
     },
     "execution_count": 255,
     "metadata": {},
     "output_type": "execute_result"
    }
   ],
   "source": [
    "data['PoolQC'].value_counts()"
   ]
  },
  {
   "cell_type": "code",
   "execution_count": 256,
   "metadata": {
    "ExecuteTime": {
     "end_time": "2020-09-07T17:45:43.762708Z",
     "start_time": "2020-09-07T17:45:43.741664Z"
    }
   },
   "outputs": [
    {
     "data": {
      "text/html": [
       "<div>\n",
       "<style scoped>\n",
       "    .dataframe tbody tr th:only-of-type {\n",
       "        vertical-align: middle;\n",
       "    }\n",
       "\n",
       "    .dataframe tbody tr th {\n",
       "        vertical-align: top;\n",
       "    }\n",
       "\n",
       "    .dataframe thead th {\n",
       "        text-align: right;\n",
       "    }\n",
       "</style>\n",
       "<table border=\"1\" class=\"dataframe\">\n",
       "  <thead>\n",
       "    <tr style=\"text-align: right;\">\n",
       "      <th></th>\n",
       "      <th>PoolArea</th>\n",
       "      <th>PoolQC</th>\n",
       "    </tr>\n",
       "    <tr>\n",
       "      <th>Ind</th>\n",
       "      <th></th>\n",
       "      <th></th>\n",
       "    </tr>\n",
       "  </thead>\n",
       "  <tbody>\n",
       "    <tr>\n",
       "      <th>197</th>\n",
       "      <td>512</td>\n",
       "      <td>Ex</td>\n",
       "    </tr>\n",
       "    <tr>\n",
       "      <th>810</th>\n",
       "      <td>648</td>\n",
       "      <td>Fa</td>\n",
       "    </tr>\n",
       "    <tr>\n",
       "      <th>1170</th>\n",
       "      <td>576</td>\n",
       "      <td>Gd</td>\n",
       "    </tr>\n",
       "    <tr>\n",
       "      <th>1182</th>\n",
       "      <td>555</td>\n",
       "      <td>Ex</td>\n",
       "    </tr>\n",
       "    <tr>\n",
       "      <th>1298</th>\n",
       "      <td>480</td>\n",
       "      <td>Gd</td>\n",
       "    </tr>\n",
       "    <tr>\n",
       "      <th>1386</th>\n",
       "      <td>519</td>\n",
       "      <td>Fa</td>\n",
       "    </tr>\n",
       "    <tr>\n",
       "      <th>1423</th>\n",
       "      <td>738</td>\n",
       "      <td>Gd</td>\n",
       "    </tr>\n",
       "    <tr>\n",
       "      <th>1974</th>\n",
       "      <td>144</td>\n",
       "      <td>Ex</td>\n",
       "    </tr>\n",
       "    <tr>\n",
       "      <th>2420</th>\n",
       "      <td>368</td>\n",
       "      <td>NaN</td>\n",
       "    </tr>\n",
       "    <tr>\n",
       "      <th>2503</th>\n",
       "      <td>444</td>\n",
       "      <td>NaN</td>\n",
       "    </tr>\n",
       "    <tr>\n",
       "      <th>2573</th>\n",
       "      <td>228</td>\n",
       "      <td>Ex</td>\n",
       "    </tr>\n",
       "    <tr>\n",
       "      <th>2599</th>\n",
       "      <td>561</td>\n",
       "      <td>NaN</td>\n",
       "    </tr>\n",
       "    <tr>\n",
       "      <th>2710</th>\n",
       "      <td>800</td>\n",
       "      <td>Gd</td>\n",
       "    </tr>\n",
       "  </tbody>\n",
       "</table>\n",
       "</div>"
      ],
      "text/plain": [
       "      PoolArea PoolQC\n",
       "Ind                  \n",
       "197        512     Ex\n",
       "810        648     Fa\n",
       "1170       576     Gd\n",
       "1182       555     Ex\n",
       "1298       480     Gd\n",
       "1386       519     Fa\n",
       "1423       738     Gd\n",
       "1974       144     Ex\n",
       "2420       368    NaN\n",
       "2503       444    NaN\n",
       "2573       228     Ex\n",
       "2599       561    NaN\n",
       "2710       800     Gd"
      ]
     },
     "execution_count": 256,
     "metadata": {},
     "output_type": "execute_result"
    }
   ],
   "source": [
    "data[data['PoolArea']!=0][['PoolArea','PoolQC']]"
   ]
  },
  {
   "cell_type": "markdown",
   "metadata": {
    "ExecuteTime": {
     "end_time": "2020-09-07T16:37:18.140232Z",
     "start_time": "2020-09-07T16:37:17.989321Z"
    }
   },
   "source": [
    "data['PoolQC'][2420]='Gd'\n",
    "data['PoolQC'][2503]='Fa'\n",
    "data['PoolQC'][2599]='Ex'"
   ]
  },
  {
   "cell_type": "code",
   "execution_count": 257,
   "metadata": {
    "ExecuteTime": {
     "end_time": "2020-09-07T17:45:43.782795Z",
     "start_time": "2020-09-07T17:45:43.764787Z"
    }
   },
   "outputs": [],
   "source": [
    "data.drop(columns='PoolQC',inplace=True)"
   ]
  },
  {
   "cell_type": "markdown",
   "metadata": {
    "ExecuteTime": {
     "end_time": "2020-09-07T16:37:19.600878Z",
     "start_time": "2020-09-07T16:37:19.587078Z"
    }
   },
   "source": [
    "data['PoolQC'].fillna(value='NoPoolQC',inplace=True)"
   ]
  },
  {
   "cell_type": "markdown",
   "metadata": {},
   "source": [
    "### 'SaleType'"
   ]
  },
  {
   "cell_type": "code",
   "execution_count": 258,
   "metadata": {
    "ExecuteTime": {
     "end_time": "2020-09-07T17:45:43.802982Z",
     "start_time": "2020-09-07T17:45:43.784811Z"
    }
   },
   "outputs": [
    {
     "data": {
      "text/plain": [
       "WD       2525\n",
       "New       239\n",
       "COD        87\n",
       "ConLD      26\n",
       "CWD        12\n",
       "ConLI       9\n",
       "ConLw       8\n",
       "Oth         7\n",
       "Con         5\n",
       "Name: SaleType, dtype: int64"
      ]
     },
     "execution_count": 258,
     "metadata": {},
     "output_type": "execute_result"
    }
   ],
   "source": [
    "data['SaleType'].value_counts()"
   ]
  },
  {
   "cell_type": "code",
   "execution_count": 259,
   "metadata": {
    "ExecuteTime": {
     "end_time": "2020-09-07T17:45:43.818223Z",
     "start_time": "2020-09-07T17:45:43.805975Z"
    }
   },
   "outputs": [],
   "source": [
    "data['SaleType'].fillna('WD',inplace=True)"
   ]
  },
  {
   "cell_type": "markdown",
   "metadata": {},
   "source": [
    "### 'TotalBsmtSF'"
   ]
  },
  {
   "cell_type": "code",
   "execution_count": 260,
   "metadata": {
    "ExecuteTime": {
     "end_time": "2020-09-07T17:45:43.834151Z",
     "start_time": "2020-09-07T17:45:43.820219Z"
    }
   },
   "outputs": [
    {
     "data": {
      "text/plain": [
       "0.0       78\n",
       "864.0     74\n",
       "672.0     29\n",
       "912.0     26\n",
       "1040.0    25\n",
       "768.0     24\n",
       "816.0     23\n",
       "728.0     20\n",
       "1008.0    19\n",
       "780.0     19\n",
       "384.0     19\n",
       "960.0     18\n",
       "894.0     17\n",
       "756.0     17\n",
       "832.0     17\n",
       "546.0     16\n",
       "936.0     16\n",
       "720.0     16\n",
       "600.0     16\n",
       "848.0     16\n",
       "483.0     14\n",
       "630.0     13\n",
       "952.0     13\n",
       "840.0     13\n",
       "988.0     12\n",
       "624.0     12\n",
       "876.0     11\n",
       "784.0     11\n",
       "796.0     11\n",
       "1056.0    10\n",
       "          ..\n",
       "1967.0     1\n",
       "1905.0     1\n",
       "1679.0     1\n",
       "1533.0     1\n",
       "2140.0     1\n",
       "1994.0     1\n",
       "1378.0     1\n",
       "763.0      1\n",
       "1047.0     1\n",
       "1376.0     1\n",
       "904.0      1\n",
       "370.0      1\n",
       "1570.0     1\n",
       "2033.0     1\n",
       "1709.0     1\n",
       "1519.0     1\n",
       "2077.0     1\n",
       "1550.0     1\n",
       "797.0      1\n",
       "699.0      1\n",
       "559.0      1\n",
       "396.0      1\n",
       "1866.0     1\n",
       "1641.0     1\n",
       "961.0      1\n",
       "1949.0     1\n",
       "1231.0     1\n",
       "1829.0     1\n",
       "1475.0     1\n",
       "1243.0     1\n",
       "Name: TotalBsmtSF, Length: 1058, dtype: int64"
      ]
     },
     "execution_count": 260,
     "metadata": {},
     "output_type": "execute_result"
    }
   ],
   "source": [
    "data['TotalBsmtSF'].value_counts()"
   ]
  },
  {
   "cell_type": "markdown",
   "metadata": {
    "ExecuteTime": {
     "end_time": "2020-09-07T17:42:33.932778Z",
     "start_time": "2020-09-07T17:42:33.875718Z"
    }
   },
   "source": [
    "data[data['TotalBsmtSF'].isnull()]['BsmtCond']"
   ]
  },
  {
   "cell_type": "code",
   "execution_count": 261,
   "metadata": {
    "ExecuteTime": {
     "end_time": "2020-09-07T17:45:43.852583Z",
     "start_time": "2020-09-07T17:45:43.836061Z"
    }
   },
   "outputs": [],
   "source": [
    "data['TotalBsmtSF'].fillna(0.0,inplace=True)"
   ]
  },
  {
   "cell_type": "markdown",
   "metadata": {},
   "source": [
    "### 'Utilities'"
   ]
  },
  {
   "cell_type": "code",
   "execution_count": 262,
   "metadata": {
    "ExecuteTime": {
     "end_time": "2020-09-07T17:45:43.867313Z",
     "start_time": "2020-09-07T17:45:43.854707Z"
    }
   },
   "outputs": [
    {
     "data": {
      "text/plain": [
       "2"
      ]
     },
     "execution_count": 262,
     "metadata": {},
     "output_type": "execute_result"
    }
   ],
   "source": [
    "data['Utilities'].isnull().sum()"
   ]
  },
  {
   "cell_type": "code",
   "execution_count": 263,
   "metadata": {
    "ExecuteTime": {
     "end_time": "2020-09-07T17:45:43.884777Z",
     "start_time": "2020-09-07T17:45:43.869139Z"
    }
   },
   "outputs": [
    {
     "data": {
      "text/plain": [
       "AllPub    2916\n",
       "NoSeWa       1\n",
       "Name: Utilities, dtype: int64"
      ]
     },
     "execution_count": 263,
     "metadata": {},
     "output_type": "execute_result"
    }
   ],
   "source": [
    "data['Utilities'].value_counts()"
   ]
  },
  {
   "cell_type": "code",
   "execution_count": 264,
   "metadata": {
    "ExecuteTime": {
     "end_time": "2020-09-07T17:45:43.903278Z",
     "start_time": "2020-09-07T17:45:43.887273Z"
    }
   },
   "outputs": [],
   "source": [
    "data['Utilities'].fillna('AllPub',inplace=True)"
   ]
  },
  {
   "cell_type": "markdown",
   "metadata": {},
   "source": [
    "## Categorical to Numerical"
   ]
  },
  {
   "cell_type": "code",
   "execution_count": 265,
   "metadata": {
    "ExecuteTime": {
     "end_time": "2020-09-07T17:45:43.935752Z",
     "start_time": "2020-09-07T17:45:43.906271Z"
    }
   },
   "outputs": [
    {
     "name": "stdout",
     "output_type": "stream",
     "text": [
      "<class 'pandas.core.frame.DataFrame'>\n",
      "Int64Index: 2919 entries, 0 to 2918\n",
      "Data columns (total 65 columns):\n",
      "Id               2919 non-null int64\n",
      "MSSubClass       2919 non-null int64\n",
      "MSZoning         2919 non-null object\n",
      "LotArea          2919 non-null int64\n",
      "Street           2919 non-null object\n",
      "LotShape         2919 non-null object\n",
      "LandContour      2919 non-null object\n",
      "Utilities        2919 non-null object\n",
      "LotConfig        2919 non-null object\n",
      "LandSlope        2919 non-null object\n",
      "Neighborhood     2919 non-null object\n",
      "Condition1       2919 non-null object\n",
      "Condition2       2919 non-null object\n",
      "BldgType         2919 non-null object\n",
      "HouseStyle       2919 non-null object\n",
      "OverallQual      2919 non-null int64\n",
      "OverallCond      2919 non-null int64\n",
      "YearBuilt        2919 non-null int64\n",
      "YearRemodAdd     2919 non-null int64\n",
      "RoofStyle        2919 non-null object\n",
      "RoofMatl         2919 non-null object\n",
      "Exterior1st      2919 non-null object\n",
      "Exterior2nd      2919 non-null object\n",
      "MasVnrType       2919 non-null object\n",
      "MasVnrArea       2919 non-null float64\n",
      "ExterQual        2919 non-null object\n",
      "ExterCond        2919 non-null object\n",
      "Foundation       2919 non-null object\n",
      "BsmtCond         2919 non-null object\n",
      "BsmtFinSF1       2919 non-null float64\n",
      "BsmtFinSF2       2919 non-null float64\n",
      "BsmtUnfSF        2919 non-null float64\n",
      "TotalBsmtSF      2919 non-null float64\n",
      "Heating          2919 non-null object\n",
      "HeatingQC        2919 non-null object\n",
      "CentralAir       2919 non-null object\n",
      "Electrical       2919 non-null object\n",
      "1stFlrSF         2919 non-null int64\n",
      "2ndFlrSF         2919 non-null int64\n",
      "LowQualFinSF     2919 non-null int64\n",
      "GrLivArea        2919 non-null int64\n",
      "BsmtFullBath     2919 non-null float64\n",
      "BsmtHalfBath     2919 non-null float64\n",
      "FullBath         2919 non-null int64\n",
      "HalfBath         2919 non-null int64\n",
      "BedroomAbvGr     2919 non-null int64\n",
      "KitchenAbvGr     2919 non-null int64\n",
      "KitchenQual      2919 non-null object\n",
      "TotRmsAbvGrd     2919 non-null int64\n",
      "Functional       2919 non-null object\n",
      "Fireplaces       2919 non-null int64\n",
      "GarageCars       2919 non-null float64\n",
      "GarageArea       2919 non-null float64\n",
      "PavedDrive       2919 non-null object\n",
      "WoodDeckSF       2919 non-null int64\n",
      "OpenPorchSF      2919 non-null int64\n",
      "EnclosedPorch    2919 non-null int64\n",
      "3SsnPorch        2919 non-null int64\n",
      "ScreenPorch      2919 non-null int64\n",
      "PoolArea         2919 non-null int64\n",
      "MiscVal          2919 non-null int64\n",
      "MoSold           2919 non-null int64\n",
      "YrSold           2919 non-null int64\n",
      "SaleType         2919 non-null object\n",
      "SaleCondition    2919 non-null object\n",
      "dtypes: float64(9), int64(26), object(30)\n",
      "memory usage: 1.5+ MB\n"
     ]
    }
   ],
   "source": [
    "data.info()"
   ]
  },
  {
   "cell_type": "code",
   "execution_count": 266,
   "metadata": {
    "ExecuteTime": {
     "end_time": "2020-09-07T17:45:43.945669Z",
     "start_time": "2020-09-07T17:45:43.938645Z"
    }
   },
   "outputs": [
    {
     "data": {
      "text/plain": [
       "numpy.int64"
      ]
     },
     "execution_count": 266,
     "metadata": {},
     "output_type": "execute_result"
    }
   ],
   "source": [
    "type(data['YrSold'][0])"
   ]
  },
  {
   "cell_type": "code",
   "execution_count": 267,
   "metadata": {
    "ExecuteTime": {
     "end_time": "2020-09-07T17:45:43.962654Z",
     "start_time": "2020-09-07T17:45:43.948713Z"
    }
   },
   "outputs": [],
   "source": [
    "num_cols=[]\n",
    "for i in data.columns:\n",
    "    if type(data[i][0])==np.int64:\n",
    "        num_cols.append(i)\n",
    "    "
   ]
  },
  {
   "cell_type": "code",
   "execution_count": 268,
   "metadata": {
    "ExecuteTime": {
     "end_time": "2020-09-07T17:45:43.982296Z",
     "start_time": "2020-09-07T17:45:43.965157Z"
    }
   },
   "outputs": [],
   "source": [
    "from sklearn.preprocessing import LabelEncoder,LabelBinarizer"
   ]
  },
  {
   "cell_type": "code",
   "execution_count": 269,
   "metadata": {
    "ExecuteTime": {
     "end_time": "2020-09-07T17:45:44.002915Z",
     "start_time": "2020-09-07T17:45:43.985181Z"
    }
   },
   "outputs": [],
   "source": [
    "def cat_num(cat):\n",
    "    global data\n",
    "    if len(data[cat].value_counts())==2:\n",
    "        data[cat]=LabelEncoder().fit_transform(data[cat]) \n",
    "    elif len(data[cat].value_counts())>2:\n",
    "        lb=LabelBinarizer()\n",
    "        lbr=lb.fit_transform(data[cat])\n",
    "        lbd=pd.DataFrame(data=lbr,columns=lb.classes_)\n",
    "        data=pd.concat([data,lbd],axis=1)\n",
    "        data.drop(columns=cat,inplace=True)"
   ]
  },
  {
   "cell_type": "code",
   "execution_count": 270,
   "metadata": {
    "ExecuteTime": {
     "end_time": "2020-09-07T17:45:44.780643Z",
     "start_time": "2020-09-07T17:45:44.006580Z"
    }
   },
   "outputs": [],
   "source": [
    "cat_cols=[]\n",
    "for i in data.columns:\n",
    "    if type(data[i][0])==str:\n",
    "        cat_num(i)\n",
    "        cat_cols.append(i)\n",
    "        "
   ]
  },
  {
   "cell_type": "code",
   "execution_count": 271,
   "metadata": {
    "ExecuteTime": {
     "end_time": "2020-09-07T17:45:44.812684Z",
     "start_time": "2020-09-07T17:45:44.783027Z"
    }
   },
   "outputs": [
    {
     "data": {
      "text/html": [
       "<div>\n",
       "<style scoped>\n",
       "    .dataframe tbody tr th:only-of-type {\n",
       "        vertical-align: middle;\n",
       "    }\n",
       "\n",
       "    .dataframe tbody tr th {\n",
       "        vertical-align: top;\n",
       "    }\n",
       "\n",
       "    .dataframe thead th {\n",
       "        text-align: right;\n",
       "    }\n",
       "</style>\n",
       "<table border=\"1\" class=\"dataframe\">\n",
       "  <thead>\n",
       "    <tr style=\"text-align: right;\">\n",
       "      <th></th>\n",
       "      <th>Id</th>\n",
       "      <th>MSSubClass</th>\n",
       "      <th>LotArea</th>\n",
       "      <th>Street</th>\n",
       "      <th>Utilities</th>\n",
       "      <th>OverallQual</th>\n",
       "      <th>OverallCond</th>\n",
       "      <th>YearBuilt</th>\n",
       "      <th>YearRemodAdd</th>\n",
       "      <th>MasVnrArea</th>\n",
       "      <th>...</th>\n",
       "      <th>ConLw</th>\n",
       "      <th>New</th>\n",
       "      <th>Oth</th>\n",
       "      <th>WD</th>\n",
       "      <th>Abnorml</th>\n",
       "      <th>AdjLand</th>\n",
       "      <th>Alloca</th>\n",
       "      <th>Family</th>\n",
       "      <th>Normal</th>\n",
       "      <th>Partial</th>\n",
       "    </tr>\n",
       "    <tr>\n",
       "      <th>Ind</th>\n",
       "      <th></th>\n",
       "      <th></th>\n",
       "      <th></th>\n",
       "      <th></th>\n",
       "      <th></th>\n",
       "      <th></th>\n",
       "      <th></th>\n",
       "      <th></th>\n",
       "      <th></th>\n",
       "      <th></th>\n",
       "      <th></th>\n",
       "      <th></th>\n",
       "      <th></th>\n",
       "      <th></th>\n",
       "      <th></th>\n",
       "      <th></th>\n",
       "      <th></th>\n",
       "      <th></th>\n",
       "      <th></th>\n",
       "      <th></th>\n",
       "      <th></th>\n",
       "    </tr>\n",
       "  </thead>\n",
       "  <tbody>\n",
       "    <tr>\n",
       "      <th>0</th>\n",
       "      <td>1</td>\n",
       "      <td>60</td>\n",
       "      <td>8450</td>\n",
       "      <td>1</td>\n",
       "      <td>0</td>\n",
       "      <td>7</td>\n",
       "      <td>5</td>\n",
       "      <td>2003</td>\n",
       "      <td>2003</td>\n",
       "      <td>196.0</td>\n",
       "      <td>...</td>\n",
       "      <td>0</td>\n",
       "      <td>0</td>\n",
       "      <td>0</td>\n",
       "      <td>1</td>\n",
       "      <td>0</td>\n",
       "      <td>0</td>\n",
       "      <td>0</td>\n",
       "      <td>0</td>\n",
       "      <td>1</td>\n",
       "      <td>0</td>\n",
       "    </tr>\n",
       "  </tbody>\n",
       "</table>\n",
       "<p>1 rows × 227 columns</p>\n",
       "</div>"
      ],
      "text/plain": [
       "     Id  MSSubClass  LotArea  Street  Utilities  OverallQual  OverallCond  \\\n",
       "Ind                                                                         \n",
       "0     1          60     8450       1          0            7            5   \n",
       "\n",
       "     YearBuilt  YearRemodAdd  MasVnrArea   ...     ConLw  New  Oth  WD  \\\n",
       "Ind                                        ...                           \n",
       "0         2003          2003       196.0   ...         0    0    0   1   \n",
       "\n",
       "     Abnorml  AdjLand  Alloca  Family  Normal  Partial  \n",
       "Ind                                                     \n",
       "0          0        0       0       0       1        0  \n",
       "\n",
       "[1 rows x 227 columns]"
      ]
     },
     "execution_count": 271,
     "metadata": {},
     "output_type": "execute_result"
    }
   ],
   "source": [
    "data.head(1)"
   ]
  },
  {
   "cell_type": "markdown",
   "metadata": {},
   "source": [
    "##  Outlier Detection"
   ]
  },
  {
   "cell_type": "code",
   "execution_count": 272,
   "metadata": {
    "ExecuteTime": {
     "end_time": "2020-09-07T17:45:44.830073Z",
     "start_time": "2020-09-07T17:45:44.815846Z"
    }
   },
   "outputs": [],
   "source": [
    "def Outlier_Detecter(data,feature):\n",
    "    Q1=data[feature].quantile(0.25)\n",
    "    Q3=data[feature].quantile(0.75)\n",
    "    IQR=Q3-Q1\n",
    "    Lower_lim=Q1-1.5*IQR\n",
    "    Upper_lim=Q3+1.5*IQR\n",
    "    return len(data[(data[feature] < Lower_lim ) & (data[feature] > Upper_lim)])"
   ]
  },
  {
   "cell_type": "code",
   "execution_count": 273,
   "metadata": {
    "ExecuteTime": {
     "end_time": "2020-09-07T17:45:45.012809Z",
     "start_time": "2020-09-07T17:45:44.833033Z"
    }
   },
   "outputs": [],
   "source": [
    "outliers=[]\n",
    "for i in num_cols:\n",
    "    len_out=Outlier_Detecter(data,i)\n",
    "    if len_out >0:\n",
    "        outliers.append(i)"
   ]
  },
  {
   "cell_type": "code",
   "execution_count": 274,
   "metadata": {
    "ExecuteTime": {
     "end_time": "2020-09-07T17:45:45.026843Z",
     "start_time": "2020-09-07T17:45:45.014837Z"
    }
   },
   "outputs": [
    {
     "data": {
      "text/plain": [
       "[]"
      ]
     },
     "execution_count": 274,
     "metadata": {},
     "output_type": "execute_result"
    }
   ],
   "source": [
    "outliers"
   ]
  },
  {
   "cell_type": "markdown",
   "metadata": {
    "ExecuteTime": {
     "end_time": "2020-09-05T04:23:24.442177Z",
     "start_time": "2020-09-05T04:23:24.433888Z"
    }
   },
   "source": [
    "**There is no outliers found**"
   ]
  },
  {
   "cell_type": "markdown",
   "metadata": {},
   "source": [
    "###  Train Test Split"
   ]
  },
  {
   "cell_type": "code",
   "execution_count": 275,
   "metadata": {
    "ExecuteTime": {
     "end_time": "2020-09-07T17:45:45.058040Z",
     "start_time": "2020-09-07T17:45:45.028839Z"
    }
   },
   "outputs": [
    {
     "data": {
      "text/html": [
       "<div>\n",
       "<style scoped>\n",
       "    .dataframe tbody tr th:only-of-type {\n",
       "        vertical-align: middle;\n",
       "    }\n",
       "\n",
       "    .dataframe tbody tr th {\n",
       "        vertical-align: top;\n",
       "    }\n",
       "\n",
       "    .dataframe thead th {\n",
       "        text-align: right;\n",
       "    }\n",
       "</style>\n",
       "<table border=\"1\" class=\"dataframe\">\n",
       "  <thead>\n",
       "    <tr style=\"text-align: right;\">\n",
       "      <th></th>\n",
       "      <th>Id</th>\n",
       "      <th>MSSubClass</th>\n",
       "      <th>LotArea</th>\n",
       "      <th>Street</th>\n",
       "      <th>Utilities</th>\n",
       "      <th>OverallQual</th>\n",
       "      <th>OverallCond</th>\n",
       "      <th>YearBuilt</th>\n",
       "      <th>YearRemodAdd</th>\n",
       "      <th>MasVnrArea</th>\n",
       "      <th>...</th>\n",
       "      <th>ConLw</th>\n",
       "      <th>New</th>\n",
       "      <th>Oth</th>\n",
       "      <th>WD</th>\n",
       "      <th>Abnorml</th>\n",
       "      <th>AdjLand</th>\n",
       "      <th>Alloca</th>\n",
       "      <th>Family</th>\n",
       "      <th>Normal</th>\n",
       "      <th>Partial</th>\n",
       "    </tr>\n",
       "    <tr>\n",
       "      <th>Ind</th>\n",
       "      <th></th>\n",
       "      <th></th>\n",
       "      <th></th>\n",
       "      <th></th>\n",
       "      <th></th>\n",
       "      <th></th>\n",
       "      <th></th>\n",
       "      <th></th>\n",
       "      <th></th>\n",
       "      <th></th>\n",
       "      <th></th>\n",
       "      <th></th>\n",
       "      <th></th>\n",
       "      <th></th>\n",
       "      <th></th>\n",
       "      <th></th>\n",
       "      <th></th>\n",
       "      <th></th>\n",
       "      <th></th>\n",
       "      <th></th>\n",
       "      <th></th>\n",
       "    </tr>\n",
       "  </thead>\n",
       "  <tbody>\n",
       "    <tr>\n",
       "      <th>0</th>\n",
       "      <td>1</td>\n",
       "      <td>60</td>\n",
       "      <td>8450</td>\n",
       "      <td>1</td>\n",
       "      <td>0</td>\n",
       "      <td>7</td>\n",
       "      <td>5</td>\n",
       "      <td>2003</td>\n",
       "      <td>2003</td>\n",
       "      <td>196.0</td>\n",
       "      <td>...</td>\n",
       "      <td>0</td>\n",
       "      <td>0</td>\n",
       "      <td>0</td>\n",
       "      <td>1</td>\n",
       "      <td>0</td>\n",
       "      <td>0</td>\n",
       "      <td>0</td>\n",
       "      <td>0</td>\n",
       "      <td>1</td>\n",
       "      <td>0</td>\n",
       "    </tr>\n",
       "    <tr>\n",
       "      <th>1</th>\n",
       "      <td>2</td>\n",
       "      <td>20</td>\n",
       "      <td>9600</td>\n",
       "      <td>1</td>\n",
       "      <td>0</td>\n",
       "      <td>6</td>\n",
       "      <td>8</td>\n",
       "      <td>1976</td>\n",
       "      <td>1976</td>\n",
       "      <td>0.0</td>\n",
       "      <td>...</td>\n",
       "      <td>0</td>\n",
       "      <td>0</td>\n",
       "      <td>0</td>\n",
       "      <td>1</td>\n",
       "      <td>0</td>\n",
       "      <td>0</td>\n",
       "      <td>0</td>\n",
       "      <td>0</td>\n",
       "      <td>1</td>\n",
       "      <td>0</td>\n",
       "    </tr>\n",
       "    <tr>\n",
       "      <th>2</th>\n",
       "      <td>3</td>\n",
       "      <td>60</td>\n",
       "      <td>11250</td>\n",
       "      <td>1</td>\n",
       "      <td>0</td>\n",
       "      <td>7</td>\n",
       "      <td>5</td>\n",
       "      <td>2001</td>\n",
       "      <td>2002</td>\n",
       "      <td>162.0</td>\n",
       "      <td>...</td>\n",
       "      <td>0</td>\n",
       "      <td>0</td>\n",
       "      <td>0</td>\n",
       "      <td>1</td>\n",
       "      <td>0</td>\n",
       "      <td>0</td>\n",
       "      <td>0</td>\n",
       "      <td>0</td>\n",
       "      <td>1</td>\n",
       "      <td>0</td>\n",
       "    </tr>\n",
       "    <tr>\n",
       "      <th>3</th>\n",
       "      <td>4</td>\n",
       "      <td>70</td>\n",
       "      <td>9550</td>\n",
       "      <td>1</td>\n",
       "      <td>0</td>\n",
       "      <td>7</td>\n",
       "      <td>5</td>\n",
       "      <td>1915</td>\n",
       "      <td>1970</td>\n",
       "      <td>0.0</td>\n",
       "      <td>...</td>\n",
       "      <td>0</td>\n",
       "      <td>0</td>\n",
       "      <td>0</td>\n",
       "      <td>1</td>\n",
       "      <td>1</td>\n",
       "      <td>0</td>\n",
       "      <td>0</td>\n",
       "      <td>0</td>\n",
       "      <td>0</td>\n",
       "      <td>0</td>\n",
       "    </tr>\n",
       "    <tr>\n",
       "      <th>4</th>\n",
       "      <td>5</td>\n",
       "      <td>60</td>\n",
       "      <td>14260</td>\n",
       "      <td>1</td>\n",
       "      <td>0</td>\n",
       "      <td>8</td>\n",
       "      <td>5</td>\n",
       "      <td>2000</td>\n",
       "      <td>2000</td>\n",
       "      <td>350.0</td>\n",
       "      <td>...</td>\n",
       "      <td>0</td>\n",
       "      <td>0</td>\n",
       "      <td>0</td>\n",
       "      <td>1</td>\n",
       "      <td>0</td>\n",
       "      <td>0</td>\n",
       "      <td>0</td>\n",
       "      <td>0</td>\n",
       "      <td>1</td>\n",
       "      <td>0</td>\n",
       "    </tr>\n",
       "  </tbody>\n",
       "</table>\n",
       "<p>5 rows × 227 columns</p>\n",
       "</div>"
      ],
      "text/plain": [
       "     Id  MSSubClass  LotArea  Street  Utilities  OverallQual  OverallCond  \\\n",
       "Ind                                                                         \n",
       "0     1          60     8450       1          0            7            5   \n",
       "1     2          20     9600       1          0            6            8   \n",
       "2     3          60    11250       1          0            7            5   \n",
       "3     4          70     9550       1          0            7            5   \n",
       "4     5          60    14260       1          0            8            5   \n",
       "\n",
       "     YearBuilt  YearRemodAdd  MasVnrArea   ...     ConLw  New  Oth  WD  \\\n",
       "Ind                                        ...                           \n",
       "0         2003          2003       196.0   ...         0    0    0   1   \n",
       "1         1976          1976         0.0   ...         0    0    0   1   \n",
       "2         2001          2002       162.0   ...         0    0    0   1   \n",
       "3         1915          1970         0.0   ...         0    0    0   1   \n",
       "4         2000          2000       350.0   ...         0    0    0   1   \n",
       "\n",
       "     Abnorml  AdjLand  Alloca  Family  Normal  Partial  \n",
       "Ind                                                     \n",
       "0          0        0       0       0       1        0  \n",
       "1          0        0       0       0       1        0  \n",
       "2          0        0       0       0       1        0  \n",
       "3          1        0       0       0       0        0  \n",
       "4          0        0       0       0       1        0  \n",
       "\n",
       "[5 rows x 227 columns]"
      ]
     },
     "execution_count": 275,
     "metadata": {},
     "output_type": "execute_result"
    }
   ],
   "source": [
    "data.head()"
   ]
  },
  {
   "cell_type": "code",
   "execution_count": 276,
   "metadata": {
    "ExecuteTime": {
     "end_time": "2020-09-07T17:45:45.074130Z",
     "start_time": "2020-09-07T17:45:45.059880Z"
    }
   },
   "outputs": [
    {
     "name": "stdout",
     "output_type": "stream",
     "text": [
      "Train dataset shape:(1460, 80), \n",
      "Test dataset shape:(1459, 80)\n"
     ]
    }
   ],
   "source": [
    "print('Train dataset shape:{0}, \\nTest dataset shape:{1}'.format(train.shape,test.shape))"
   ]
  },
  {
   "cell_type": "code",
   "execution_count": 277,
   "metadata": {
    "ExecuteTime": {
     "end_time": "2020-09-07T17:45:45.084401Z",
     "start_time": "2020-09-07T17:45:45.076164Z"
    }
   },
   "outputs": [],
   "source": [
    "data_copy=data.copy()"
   ]
  },
  {
   "cell_type": "code",
   "execution_count": 278,
   "metadata": {
    "ExecuteTime": {
     "end_time": "2020-09-07T17:45:45.093281Z",
     "start_time": "2020-09-07T17:45:45.086362Z"
    }
   },
   "outputs": [],
   "source": [
    "data=data_copy.copy()"
   ]
  },
  {
   "cell_type": "code",
   "execution_count": 279,
   "metadata": {
    "ExecuteTime": {
     "end_time": "2020-09-07T17:45:45.102694Z",
     "start_time": "2020-09-07T17:45:45.095275Z"
    }
   },
   "outputs": [
    {
     "data": {
      "text/plain": [
       "RangeIndex(start=0, stop=1460, step=1)"
      ]
     },
     "execution_count": 279,
     "metadata": {},
     "output_type": "execute_result"
    }
   ],
   "source": [
    "train.index"
   ]
  },
  {
   "cell_type": "code",
   "execution_count": 280,
   "metadata": {
    "ExecuteTime": {
     "end_time": "2020-09-07T17:45:45.116805Z",
     "start_time": "2020-09-07T17:45:45.104905Z"
    }
   },
   "outputs": [],
   "source": [
    "x_train=data[:1460]"
   ]
  },
  {
   "cell_type": "markdown",
   "metadata": {
    "ExecuteTime": {
     "end_time": "2020-09-06T16:50:33.797379Z",
     "start_time": "2020-09-06T16:50:33.782417Z"
    }
   },
   "source": [
    "x_train=x_train[num_cols]"
   ]
  },
  {
   "cell_type": "code",
   "execution_count": 281,
   "metadata": {
    "ExecuteTime": {
     "end_time": "2020-09-07T17:45:45.185749Z",
     "start_time": "2020-09-07T17:45:45.118740Z"
    }
   },
   "outputs": [
    {
     "name": "stderr",
     "output_type": "stream",
     "text": [
      "C:\\Users\\Nandhu\\miniconda3\\envs\\study\\lib\\site-packages\\pandas\\core\\frame.py:3697: SettingWithCopyWarning: \n",
      "A value is trying to be set on a copy of a slice from a DataFrame\n",
      "\n",
      "See the caveats in the documentation: http://pandas.pydata.org/pandas-docs/stable/indexing.html#indexing-view-versus-copy\n",
      "  errors=errors)\n"
     ]
    }
   ],
   "source": [
    "x_train.drop(columns='Id',inplace=True)"
   ]
  },
  {
   "cell_type": "code",
   "execution_count": 282,
   "metadata": {
    "ExecuteTime": {
     "end_time": "2020-09-07T17:45:45.195421Z",
     "start_time": "2020-09-07T17:45:45.187744Z"
    }
   },
   "outputs": [],
   "source": [
    "x_test=data[1460:]"
   ]
  },
  {
   "cell_type": "markdown",
   "metadata": {
    "ExecuteTime": {
     "end_time": "2020-09-06T16:50:34.460032Z",
     "start_time": "2020-09-06T16:50:34.445085Z"
    }
   },
   "source": [
    "x_test=x_test[num_cols]"
   ]
  },
  {
   "cell_type": "code",
   "execution_count": 283,
   "metadata": {
    "ExecuteTime": {
     "end_time": "2020-09-07T17:45:45.267422Z",
     "start_time": "2020-09-07T17:45:45.197526Z"
    }
   },
   "outputs": [
    {
     "name": "stderr",
     "output_type": "stream",
     "text": [
      "C:\\Users\\Nandhu\\miniconda3\\envs\\study\\lib\\site-packages\\pandas\\core\\frame.py:3697: SettingWithCopyWarning: \n",
      "A value is trying to be set on a copy of a slice from a DataFrame\n",
      "\n",
      "See the caveats in the documentation: http://pandas.pydata.org/pandas-docs/stable/indexing.html#indexing-view-versus-copy\n",
      "  errors=errors)\n"
     ]
    }
   ],
   "source": [
    "x_test.drop(columns='Id',inplace=True)"
   ]
  },
  {
   "cell_type": "code",
   "execution_count": 284,
   "metadata": {
    "ExecuteTime": {
     "end_time": "2020-09-07T17:45:45.275719Z",
     "start_time": "2020-09-07T17:45:45.270453Z"
    }
   },
   "outputs": [
    {
     "name": "stdout",
     "output_type": "stream",
     "text": [
      "Train dataset shape:(1460, 226), \n",
      "Test dataset shape:(1459, 226)\n"
     ]
    }
   ],
   "source": [
    "print('Train dataset shape:{0}, \\nTest dataset shape:{1}'.format(x_train.shape,x_test.shape))"
   ]
  },
  {
   "cell_type": "code",
   "execution_count": 285,
   "metadata": {
    "ExecuteTime": {
     "end_time": "2020-09-07T17:45:45.292599Z",
     "start_time": "2020-09-07T17:45:45.279323Z"
    }
   },
   "outputs": [],
   "source": [
    "y_train=train_data['SalePrice']"
   ]
  },
  {
   "cell_type": "code",
   "execution_count": 286,
   "metadata": {
    "ExecuteTime": {
     "end_time": "2020-09-07T17:45:45.330953Z",
     "start_time": "2020-09-07T17:45:45.295049Z"
    }
   },
   "outputs": [
    {
     "data": {
      "text/html": [
       "<div>\n",
       "<style scoped>\n",
       "    .dataframe tbody tr th:only-of-type {\n",
       "        vertical-align: middle;\n",
       "    }\n",
       "\n",
       "    .dataframe tbody tr th {\n",
       "        vertical-align: top;\n",
       "    }\n",
       "\n",
       "    .dataframe thead th {\n",
       "        text-align: right;\n",
       "    }\n",
       "</style>\n",
       "<table border=\"1\" class=\"dataframe\">\n",
       "  <thead>\n",
       "    <tr style=\"text-align: right;\">\n",
       "      <th></th>\n",
       "      <th>MSSubClass</th>\n",
       "      <th>LotArea</th>\n",
       "      <th>Street</th>\n",
       "      <th>Utilities</th>\n",
       "      <th>OverallQual</th>\n",
       "      <th>OverallCond</th>\n",
       "      <th>YearBuilt</th>\n",
       "      <th>YearRemodAdd</th>\n",
       "      <th>MasVnrArea</th>\n",
       "      <th>BsmtFinSF1</th>\n",
       "      <th>...</th>\n",
       "      <th>ConLw</th>\n",
       "      <th>New</th>\n",
       "      <th>Oth</th>\n",
       "      <th>WD</th>\n",
       "      <th>Abnorml</th>\n",
       "      <th>AdjLand</th>\n",
       "      <th>Alloca</th>\n",
       "      <th>Family</th>\n",
       "      <th>Normal</th>\n",
       "      <th>Partial</th>\n",
       "    </tr>\n",
       "    <tr>\n",
       "      <th>Ind</th>\n",
       "      <th></th>\n",
       "      <th></th>\n",
       "      <th></th>\n",
       "      <th></th>\n",
       "      <th></th>\n",
       "      <th></th>\n",
       "      <th></th>\n",
       "      <th></th>\n",
       "      <th></th>\n",
       "      <th></th>\n",
       "      <th></th>\n",
       "      <th></th>\n",
       "      <th></th>\n",
       "      <th></th>\n",
       "      <th></th>\n",
       "      <th></th>\n",
       "      <th></th>\n",
       "      <th></th>\n",
       "      <th></th>\n",
       "      <th></th>\n",
       "      <th></th>\n",
       "    </tr>\n",
       "  </thead>\n",
       "  <tbody>\n",
       "    <tr>\n",
       "      <th>0</th>\n",
       "      <td>60</td>\n",
       "      <td>8450</td>\n",
       "      <td>1</td>\n",
       "      <td>0</td>\n",
       "      <td>7</td>\n",
       "      <td>5</td>\n",
       "      <td>2003</td>\n",
       "      <td>2003</td>\n",
       "      <td>196.0</td>\n",
       "      <td>706.0</td>\n",
       "      <td>...</td>\n",
       "      <td>0</td>\n",
       "      <td>0</td>\n",
       "      <td>0</td>\n",
       "      <td>1</td>\n",
       "      <td>0</td>\n",
       "      <td>0</td>\n",
       "      <td>0</td>\n",
       "      <td>0</td>\n",
       "      <td>1</td>\n",
       "      <td>0</td>\n",
       "    </tr>\n",
       "  </tbody>\n",
       "</table>\n",
       "<p>1 rows × 226 columns</p>\n",
       "</div>"
      ],
      "text/plain": [
       "     MSSubClass  LotArea  Street  Utilities  OverallQual  OverallCond  \\\n",
       "Ind                                                                     \n",
       "0            60     8450       1          0            7            5   \n",
       "\n",
       "     YearBuilt  YearRemodAdd  MasVnrArea  BsmtFinSF1   ...     ConLw  New  \\\n",
       "Ind                                                    ...                  \n",
       "0         2003          2003       196.0       706.0   ...         0    0   \n",
       "\n",
       "     Oth  WD  Abnorml  AdjLand  Alloca  Family  Normal  Partial  \n",
       "Ind                                                              \n",
       "0      0   1        0        0       0       0       1        0  \n",
       "\n",
       "[1 rows x 226 columns]"
      ]
     },
     "execution_count": 286,
     "metadata": {},
     "output_type": "execute_result"
    }
   ],
   "source": [
    "x_train.head(1)"
   ]
  },
  {
   "cell_type": "code",
   "execution_count": 287,
   "metadata": {
    "ExecuteTime": {
     "end_time": "2020-09-07T17:45:45.359497Z",
     "start_time": "2020-09-07T17:45:45.334211Z"
    }
   },
   "outputs": [
    {
     "data": {
      "text/html": [
       "<div>\n",
       "<style scoped>\n",
       "    .dataframe tbody tr th:only-of-type {\n",
       "        vertical-align: middle;\n",
       "    }\n",
       "\n",
       "    .dataframe tbody tr th {\n",
       "        vertical-align: top;\n",
       "    }\n",
       "\n",
       "    .dataframe thead th {\n",
       "        text-align: right;\n",
       "    }\n",
       "</style>\n",
       "<table border=\"1\" class=\"dataframe\">\n",
       "  <thead>\n",
       "    <tr style=\"text-align: right;\">\n",
       "      <th></th>\n",
       "      <th>MSSubClass</th>\n",
       "      <th>LotArea</th>\n",
       "      <th>Street</th>\n",
       "      <th>Utilities</th>\n",
       "      <th>OverallQual</th>\n",
       "      <th>OverallCond</th>\n",
       "      <th>YearBuilt</th>\n",
       "      <th>YearRemodAdd</th>\n",
       "      <th>MasVnrArea</th>\n",
       "      <th>BsmtFinSF1</th>\n",
       "      <th>...</th>\n",
       "      <th>ConLw</th>\n",
       "      <th>New</th>\n",
       "      <th>Oth</th>\n",
       "      <th>WD</th>\n",
       "      <th>Abnorml</th>\n",
       "      <th>AdjLand</th>\n",
       "      <th>Alloca</th>\n",
       "      <th>Family</th>\n",
       "      <th>Normal</th>\n",
       "      <th>Partial</th>\n",
       "    </tr>\n",
       "    <tr>\n",
       "      <th>Ind</th>\n",
       "      <th></th>\n",
       "      <th></th>\n",
       "      <th></th>\n",
       "      <th></th>\n",
       "      <th></th>\n",
       "      <th></th>\n",
       "      <th></th>\n",
       "      <th></th>\n",
       "      <th></th>\n",
       "      <th></th>\n",
       "      <th></th>\n",
       "      <th></th>\n",
       "      <th></th>\n",
       "      <th></th>\n",
       "      <th></th>\n",
       "      <th></th>\n",
       "      <th></th>\n",
       "      <th></th>\n",
       "      <th></th>\n",
       "      <th></th>\n",
       "      <th></th>\n",
       "    </tr>\n",
       "  </thead>\n",
       "  <tbody>\n",
       "    <tr>\n",
       "      <th>1460</th>\n",
       "      <td>20</td>\n",
       "      <td>11622</td>\n",
       "      <td>1</td>\n",
       "      <td>0</td>\n",
       "      <td>5</td>\n",
       "      <td>6</td>\n",
       "      <td>1961</td>\n",
       "      <td>1961</td>\n",
       "      <td>0.0</td>\n",
       "      <td>468.0</td>\n",
       "      <td>...</td>\n",
       "      <td>0</td>\n",
       "      <td>0</td>\n",
       "      <td>0</td>\n",
       "      <td>1</td>\n",
       "      <td>0</td>\n",
       "      <td>0</td>\n",
       "      <td>0</td>\n",
       "      <td>0</td>\n",
       "      <td>1</td>\n",
       "      <td>0</td>\n",
       "    </tr>\n",
       "  </tbody>\n",
       "</table>\n",
       "<p>1 rows × 226 columns</p>\n",
       "</div>"
      ],
      "text/plain": [
       "      MSSubClass  LotArea  Street  Utilities  OverallQual  OverallCond  \\\n",
       "Ind                                                                      \n",
       "1460          20    11622       1          0            5            6   \n",
       "\n",
       "      YearBuilt  YearRemodAdd  MasVnrArea  BsmtFinSF1   ...     ConLw  New  \\\n",
       "Ind                                                     ...                  \n",
       "1460       1961          1961         0.0       468.0   ...         0    0   \n",
       "\n",
       "      Oth  WD  Abnorml  AdjLand  Alloca  Family  Normal  Partial  \n",
       "Ind                                                               \n",
       "1460    0   1        0        0       0       0       1        0  \n",
       "\n",
       "[1 rows x 226 columns]"
      ]
     },
     "execution_count": 287,
     "metadata": {},
     "output_type": "execute_result"
    }
   ],
   "source": [
    "x_test.head(1)"
   ]
  },
  {
   "cell_type": "code",
   "execution_count": 288,
   "metadata": {
    "ExecuteTime": {
     "end_time": "2020-09-07T17:45:45.381984Z",
     "start_time": "2020-09-07T17:45:45.362509Z"
    }
   },
   "outputs": [
    {
     "data": {
      "text/plain": [
       "0    208500\n",
       "Name: SalePrice, dtype: int64"
      ]
     },
     "execution_count": 288,
     "metadata": {},
     "output_type": "execute_result"
    }
   ],
   "source": [
    "y_train.head(1)"
   ]
  },
  {
   "cell_type": "markdown",
   "metadata": {},
   "source": [
    "##  Feature Selection"
   ]
  },
  {
   "cell_type": "code",
   "execution_count": 289,
   "metadata": {
    "ExecuteTime": {
     "end_time": "2020-09-07T17:45:45.402222Z",
     "start_time": "2020-09-07T17:45:45.383899Z"
    }
   },
   "outputs": [],
   "source": [
    "from sklearn.feature_selection import SelectKBest, chi2"
   ]
  },
  {
   "cell_type": "code",
   "execution_count": 290,
   "metadata": {
    "ExecuteTime": {
     "end_time": "2020-09-07T17:45:45.442460Z",
     "start_time": "2020-09-07T17:45:45.404910Z"
    }
   },
   "outputs": [],
   "source": [
    "kbest=SelectKBest(score_func=chi2,k=30)\n",
    "kbestf=kbest.fit(x_train,y_train)"
   ]
  },
  {
   "cell_type": "code",
   "execution_count": 291,
   "metadata": {
    "ExecuteTime": {
     "end_time": "2020-09-07T17:45:45.460718Z",
     "start_time": "2020-09-07T17:45:45.444614Z"
    }
   },
   "outputs": [
    {
     "data": {
      "text/plain": [
       "226"
      ]
     },
     "execution_count": 291,
     "metadata": {},
     "output_type": "execute_result"
    }
   ],
   "source": [
    "len(kbestf.scores_)"
   ]
  },
  {
   "cell_type": "code",
   "execution_count": 292,
   "metadata": {
    "ExecuteTime": {
     "end_time": "2020-09-07T17:45:45.482262Z",
     "start_time": "2020-09-07T17:45:45.462809Z"
    }
   },
   "outputs": [],
   "source": [
    "score=pd.DataFrame({'Score':kbestf.scores_,'Features':x_train.columns})"
   ]
  },
  {
   "cell_type": "code",
   "execution_count": 319,
   "metadata": {
    "ExecuteTime": {
     "end_time": "2020-09-07T17:47:27.976281Z",
     "start_time": "2020-09-07T17:47:27.962918Z"
    }
   },
   "outputs": [],
   "source": [
    "kbest25=list(score.nlargest(226,columns='Score')['Features'])"
   ]
  },
  {
   "cell_type": "code",
   "execution_count": 320,
   "metadata": {
    "ExecuteTime": {
     "end_time": "2020-09-07T17:47:28.484439Z",
     "start_time": "2020-09-07T17:47:28.471270Z"
    }
   },
   "outputs": [
    {
     "data": {
      "text/plain": [
       "226"
      ]
     },
     "execution_count": 320,
     "metadata": {},
     "output_type": "execute_result"
    }
   ],
   "source": [
    "len(kbest25)"
   ]
  },
  {
   "cell_type": "code",
   "execution_count": 321,
   "metadata": {
    "ExecuteTime": {
     "end_time": "2020-09-07T17:47:28.947464Z",
     "start_time": "2020-09-07T17:47:28.936432Z"
    }
   },
   "outputs": [],
   "source": [
    "x_train_f=x_train[kbest25]"
   ]
  },
  {
   "cell_type": "code",
   "execution_count": 322,
   "metadata": {
    "ExecuteTime": {
     "end_time": "2020-09-07T17:47:29.194142Z",
     "start_time": "2020-09-07T17:47:29.185571Z"
    }
   },
   "outputs": [],
   "source": [
    "x_test_f=x_test[kbest25]"
   ]
  },
  {
   "cell_type": "markdown",
   "metadata": {},
   "source": [
    "## Machine Learning"
   ]
  },
  {
   "cell_type": "code",
   "execution_count": 323,
   "metadata": {
    "ExecuteTime": {
     "end_time": "2020-09-07T17:47:30.052596Z",
     "start_time": "2020-09-07T17:47:30.040008Z"
    }
   },
   "outputs": [],
   "source": [
    "from sklearn.linear_model import LinearRegression,Lasso,LogisticRegression\n",
    "from xgboost import XGBRegressor"
   ]
  },
  {
   "cell_type": "markdown",
   "metadata": {},
   "source": [
    "###  Linear Regression"
   ]
  },
  {
   "cell_type": "code",
   "execution_count": 324,
   "metadata": {
    "ExecuteTime": {
     "end_time": "2020-09-07T17:47:30.424021Z",
     "start_time": "2020-09-07T17:47:30.412244Z"
    }
   },
   "outputs": [],
   "source": [
    "lr=LinearRegression()"
   ]
  },
  {
   "cell_type": "code",
   "execution_count": 325,
   "metadata": {
    "ExecuteTime": {
     "end_time": "2020-09-07T17:47:30.797067Z",
     "start_time": "2020-09-07T17:47:30.740867Z"
    }
   },
   "outputs": [],
   "source": [
    "lrf=lr.fit(x_train_f,y_train)"
   ]
  },
  {
   "cell_type": "code",
   "execution_count": 326,
   "metadata": {
    "ExecuteTime": {
     "end_time": "2020-09-07T17:47:30.980180Z",
     "start_time": "2020-09-07T17:47:30.966192Z"
    }
   },
   "outputs": [],
   "source": [
    "y_predict=lrf.predict(x_test_f)"
   ]
  },
  {
   "cell_type": "code",
   "execution_count": 327,
   "metadata": {
    "ExecuteTime": {
     "end_time": "2020-09-07T17:47:31.396258Z",
     "start_time": "2020-09-07T17:47:31.383843Z"
    }
   },
   "outputs": [
    {
     "data": {
      "text/plain": [
       "array([117856.09135229, 156245.7725877 , 186685.72119209, ...,\n",
       "       172830.51016716, 102438.3291783 , 229422.61239102])"
      ]
     },
     "execution_count": 327,
     "metadata": {},
     "output_type": "execute_result"
    }
   ],
   "source": [
    "y_predict"
   ]
  },
  {
   "cell_type": "code",
   "execution_count": 328,
   "metadata": {
    "ExecuteTime": {
     "end_time": "2020-09-07T17:47:31.641847Z",
     "start_time": "2020-09-07T17:47:31.602805Z"
    }
   },
   "outputs": [],
   "source": [
    "#  # Saving the results in Csv\n",
    "data={'Id':range(1461,2920),'SalePrice':y_predict}\n",
    "pd.DataFrame(data).set_index('Id').to_csv(r'submission files/submission_06dlr.csv')"
   ]
  },
  {
   "cell_type": "code",
   "execution_count": 329,
   "metadata": {
    "ExecuteTime": {
     "end_time": "2020-09-07T17:47:31.822383Z",
     "start_time": "2020-09-07T17:47:31.799968Z"
    }
   },
   "outputs": [],
   "source": [
    "best_score=pd.read_csv(r'submission files/submission_05dlr.csv')"
   ]
  },
  {
   "cell_type": "code",
   "execution_count": 330,
   "metadata": {
    "ExecuteTime": {
     "end_time": "2020-09-07T17:47:31.999713Z",
     "start_time": "2020-09-07T17:47:31.993418Z"
    }
   },
   "outputs": [],
   "source": [
    "a=best_score['SalePrice']-y_predict"
   ]
  },
  {
   "cell_type": "code",
   "execution_count": 331,
   "metadata": {
    "ExecuteTime": {
     "end_time": "2020-09-07T17:47:32.534697Z",
     "start_time": "2020-09-07T17:47:32.197615Z"
    }
   },
   "outputs": [
    {
     "name": "stderr",
     "output_type": "stream",
     "text": [
      "C:\\Users\\Nandhu\\miniconda3\\envs\\study\\lib\\site-packages\\scipy\\stats\\stats.py:1713: FutureWarning: Using a non-tuple sequence for multidimensional indexing is deprecated; use `arr[tuple(seq)]` instead of `arr[seq]`. In the future this will be interpreted as an array index, `arr[np.array(seq)]`, which will result either in an error or a different result.\n",
      "  return np.add.reduce(sorted[indexer] * weights, axis=axis) / sumval\n"
     ]
    },
    {
     "data": {
      "text/plain": [
       "<matplotlib.axes._subplots.AxesSubplot at 0x16f5c0ff860>"
      ]
     },
     "execution_count": 331,
     "metadata": {},
     "output_type": "execute_result"
    },
    {
     "data": {
      "image/png": "[encoded data removed]",
      "text/plain": [
       "<Figure size 432x288 with 1 Axes>"
      ]
     },
     "metadata": {
      "needs_background": "light"
     },
     "output_type": "display_data"
    }
   ],
   "source": [
    "#fig,ax1=plt.subplot(1,1)\n",
    "sns.distplot(a,bins=30)\n"
   ]
  },
  {
   "cell_type": "code",
   "execution_count": 332,
   "metadata": {
    "ExecuteTime": {
     "end_time": "2020-09-07T17:47:32.543312Z",
     "start_time": "2020-09-07T17:47:32.537893Z"
    }
   },
   "outputs": [],
   "source": [
    "best_score['new']=y_predict"
   ]
  },
  {
   "cell_type": "code",
   "execution_count": 333,
   "metadata": {
    "ExecuteTime": {
     "end_time": "2020-09-07T17:47:32.929356Z",
     "start_time": "2020-09-07T17:47:32.669324Z"
    },
    "scrolled": true
   },
   "outputs": [
    {
     "data": {
      "text/plain": [
       "<matplotlib.axes._subplots.AxesSubplot at 0x16f5c337198>"
      ]
     },
     "execution_count": 333,
     "metadata": {},
     "output_type": "execute_result"
    },
    {
     "data": {
      "image/png": "[encoded data removed]",
      "text/plain": [
       "<Figure size 432x288 with 2 Axes>"
      ]
     },
     "metadata": {
      "needs_background": "light"
     },
     "output_type": "display_data"
    }
   ],
   "source": [
    "sns.heatmap(best_score[['SalePrice','new']].corr(),annot=True)"
   ]
  },
  {
   "cell_type": "markdown",
   "metadata": {},
   "source": [
    "## Random Forest Regressor"
   ]
  },
  {
   "cell_type": "code",
   "execution_count": 335,
   "metadata": {
    "ExecuteTime": {
     "end_time": "2020-09-07T18:05:15.081721Z",
     "start_time": "2020-09-07T18:05:15.068454Z"
    }
   },
   "outputs": [],
   "source": [
    "from sklearn.ensemble import RandomForestRegressor"
   ]
  },
  {
   "cell_type": "code",
   "execution_count": 336,
   "metadata": {
    "ExecuteTime": {
     "end_time": "2020-09-07T18:05:33.564199Z",
     "start_time": "2020-09-07T18:05:33.558465Z"
    }
   },
   "outputs": [],
   "source": [
    "rfs=RandomForestRegressor()"
   ]
  },
  {
   "cell_type": "code",
   "execution_count": 337,
   "metadata": {
    "ExecuteTime": {
     "end_time": "2020-09-07T18:05:46.540763Z",
     "start_time": "2020-09-07T18:05:42.802540Z"
    }
   },
   "outputs": [],
   "source": [
    "svr=rfs.fit(x_train_f,y_train)"
   ]
  },
  {
   "cell_type": "code",
   "execution_count": 338,
   "metadata": {
    "ExecuteTime": {
     "end_time": "2020-09-07T18:05:47.396770Z",
     "start_time": "2020-09-07T18:05:47.338761Z"
    }
   },
   "outputs": [],
   "source": [
    "y_predict=svr.predict(x_test_f)"
   ]
  },
  {
   "cell_type": "code",
   "execution_count": 339,
   "metadata": {
    "ExecuteTime": {
     "end_time": "2020-09-07T18:05:47.781423Z",
     "start_time": "2020-09-07T18:05:47.773454Z"
    }
   },
   "outputs": [
    {
     "data": {
      "text/plain": [
       "array([130305.5 , 157140.75, 179595.18, ..., 161202.04, 112173.5 ,\n",
       "       225794.36])"
      ]
     },
     "execution_count": 339,
     "metadata": {},
     "output_type": "execute_result"
    }
   ],
   "source": [
    "y_predict"
   ]
  },
  {
   "cell_type": "code",
   "execution_count": 340,
   "metadata": {
    "ExecuteTime": {
     "end_time": "2020-09-07T18:05:48.510605Z",
     "start_time": "2020-09-07T18:05:48.476642Z"
    }
   },
   "outputs": [],
   "source": [
    "#  # Saving the results in Csv\n",
    "data={'Id':range(1461,2920),'SalePrice':y_predict}\n",
    "pd.DataFrame(data).set_index('Id').to_csv(r'submission files/submission_mhdLR.csv')"
   ]
  },
  {
   "cell_type": "code",
   "execution_count": 341,
   "metadata": {
    "ExecuteTime": {
     "end_time": "2020-09-07T18:05:48.748953Z",
     "start_time": "2020-09-07T18:05:48.736974Z"
    }
   },
   "outputs": [],
   "source": [
    "best_score=pd.read_csv(r'submission files/submission_lr.csv')"
   ]
  },
  {
   "cell_type": "code",
   "execution_count": 342,
   "metadata": {
    "ExecuteTime": {
     "end_time": "2020-09-07T18:05:48.952300Z",
     "start_time": "2020-09-07T18:05:48.941536Z"
    }
   },
   "outputs": [],
   "source": [
    "a=best_score['SalePrice']-y_predict"
   ]
  },
  {
   "cell_type": "code",
   "execution_count": 343,
   "metadata": {
    "ExecuteTime": {
     "end_time": "2020-09-07T18:05:49.555571Z",
     "start_time": "2020-09-07T18:05:49.241542Z"
    }
   },
   "outputs": [
    {
     "name": "stderr",
     "output_type": "stream",
     "text": [
      "C:\\Users\\Nandhu\\miniconda3\\envs\\study\\lib\\site-packages\\scipy\\stats\\stats.py:1713: FutureWarning: Using a non-tuple sequence for multidimensional indexing is deprecated; use `arr[tuple(seq)]` instead of `arr[seq]`. In the future this will be interpreted as an array index, `arr[np.array(seq)]`, which will result either in an error or a different result.\n",
      "  return np.add.reduce(sorted[indexer] * weights, axis=axis) / sumval\n"
     ]
    },
    {
     "data": {
      "text/plain": [
       "<matplotlib.axes._subplots.AxesSubplot at 0x16f5cef47f0>"
      ]
     },
     "execution_count": 343,
     "metadata": {},
     "output_type": "execute_result"
    },
    {
     "data": {
      "image/png": "[encoded data removed]",
      "text/plain": [
       "<Figure size 432x288 with 1 Axes>"
      ]
     },
     "metadata": {
      "needs_background": "light"
     },
     "output_type": "display_data"
    }
   ],
   "source": [
    "#fig,ax1=plt.subplot(1,1)\n",
    "sns.distplot(a,bins=30)\n"
   ]
  },
  {
   "cell_type": "code",
   "execution_count": 344,
   "metadata": {
    "ExecuteTime": {
     "end_time": "2020-09-07T18:05:49.789901Z",
     "start_time": "2020-09-07T18:05:49.778046Z"
    }
   },
   "outputs": [],
   "source": [
    "best_score['new']=y_predict"
   ]
  },
  {
   "cell_type": "code",
   "execution_count": 345,
   "metadata": {
    "ExecuteTime": {
     "end_time": "2020-09-07T18:05:50.517549Z",
     "start_time": "2020-09-07T18:05:50.291428Z"
    },
    "scrolled": false
   },
   "outputs": [
    {
     "data": {
      "text/plain": [
       "<matplotlib.axes._subplots.AxesSubplot at 0x16f5cf1f278>"
      ]
     },
     "execution_count": 345,
     "metadata": {},
     "output_type": "execute_result"
    },
    {
     "data": {
      "image/png": "[encoded data removed]",
      "text/plain": [
       "<Figure size 432x288 with 2 Axes>"
      ]
     },
     "metadata": {
      "needs_background": "light"
     },
     "output_type": "display_data"
    }
   ],
   "source": [
    "sns.heatmap(best_score[['SalePrice','new']].corr(),annot=True)"
   ]
  },
  {
   "cell_type": "code",
   "execution_count": null,
   "metadata": {},
   "outputs": [],
   "source": []
  },
  {
   "cell_type": "code",
   "execution_count": null,
   "metadata": {},
   "outputs": [],
   "source": []
  },
  {
   "cell_type": "code",
   "execution_count": null,
   "metadata": {},
   "outputs": [],
   "source": []
  }
 ],
 "metadata": {
  "kernelspec": {
   "display_name": "Python 3",
   "language": "python",
   "name": "python3"
  },
  "language_info": {
   "codemirror_mode": {
    "name": "ipython",
    "version": 3
   },
   "file_extension": ".py",
   "mimetype": "text/x-python",
   "name": "python",
   "nbconvert_exporter": "python",
   "pygments_lexer": "ipython3",
   "version": "3.5.6"
  },
  "toc": {
   "base_numbering": 1,
   "nav_menu": {},
   "number_sections": true,
   "sideBar": true,
   "skip_h1_title": false,
   "title_cell": "Table of Contents",
   "title_sidebar": "Contents",
   "toc_cell": false,
   "toc_position": {
    "height": "calc(100% - 180px)",
    "left": "10px",
    "top": "150px",
    "width": "218.2px"
   },
   "toc_section_display": true,
   "toc_window_display": true
  }
 },
 "nbformat": 4,
 "nbformat_minor": 4
}
