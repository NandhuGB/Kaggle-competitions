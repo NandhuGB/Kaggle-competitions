{
 "cells": [
  {
   "cell_type": "markdown",
   "metadata": {},
   "source": [
    "# Airbnb Price Prediction"
   ]
  },
  {
   "cell_type": "code",
   "execution_count": 6,
   "metadata": {
    "ExecuteTime": {
     "end_time": "2020-09-22T18:47:18.115741Z",
     "start_time": "2020-09-22T18:47:18.104033Z"
    }
   },
   "outputs": [],
   "source": [
    "# Import necessary libraries\n",
    "import pandas as pd\n",
    "import numpy as np\n",
    "import seaborn as sns\n",
    "import datetime\n",
    "import matplotlib.pyplot as plt\n",
    "%matplotlib inline"
   ]
  },
  {
   "cell_type": "code",
   "execution_count": 7,
   "metadata": {},
   "outputs": [
    {
     "data": {
      "text/plain": [
       "<module 'src.preproccessing' from '/home/nandhu/Documents/kaggle-competitions/src/preproccessing/__init__.py'>"
      ]
     },
     "execution_count": 7,
     "metadata": {},
     "output_type": "execute_result"
    }
   ],
   "source": [
    "# Removing cached imports\n",
    "import src.preproccessing\n",
    "from importlib import reload\n",
    "reload(src.preproccessing)"
   ]
  },
  {
   "cell_type": "code",
   "execution_count": 8,
   "metadata": {},
   "outputs": [],
   "source": [
    "# Define a function to load data/missing_value import DroppingMissingValueStrategy \n",
    "def load_data(filepath):\n",
    "    \"\"\"\n",
    "    Loading dataset from a specified filepath.\n",
    "    \"\"\"\n",
    "\n",
    "    return pd.read_csv(filepath)"
   ]
  },
  {
   "cell_type": "code",
   "execution_count": 9,
   "metadata": {
    "ExecuteTime": {
     "end_time": "2020-09-22T18:47:18.984418Z",
     "start_time": "2020-09-22T18:47:18.469381Z"
    }
   },
   "outputs": [],
   "source": [
    "df= load_data(\"./dataset/AB_NYC_2019.csv\")"
   ]
  },
  {
   "cell_type": "markdown",
   "metadata": {
    "jp-MarkdownHeadingCollapsed": true
   },
   "source": [
    "## Dataset Properties"
   ]
  },
  {
   "cell_type": "code",
   "execution_count": 10,
   "metadata": {},
   "outputs": [
    {
     "name": "stdout",
     "output_type": "stream",
     "text": [
      "<class 'pandas.core.frame.DataFrame'>\n",
      "RangeIndex: 48895 entries, 0 to 48894\n",
      "Data columns (total 16 columns):\n",
      " #   Column                          Non-Null Count  Dtype  \n",
      "---  ------                          --------------  -----  \n",
      " 0   id                              48895 non-null  int64  \n",
      " 1   name                            48879 non-null  object \n",
      " 2   host_id                         48895 non-null  int64  \n",
      " 3   host_name                       48874 non-null  object \n",
      " 4   neighbourhood_group             48895 non-null  object \n",
      " 5   neighbourhood                   48895 non-null  object \n",
      " 6   latitude                        48895 non-null  float64\n",
      " 7   longitude                       48895 non-null  float64\n",
      " 8   room_type                       48895 non-null  object \n",
      " 9   price                           48895 non-null  int64  \n",
      " 10  minimum_nights                  48895 non-null  int64  \n",
      " 11  number_of_reviews               48895 non-null  int64  \n",
      " 12  last_review                     38843 non-null  object \n",
      " 13  reviews_per_month               38843 non-null  float64\n",
      " 14  calculated_host_listings_count  48895 non-null  int64  \n",
      " 15  availability_365                48895 non-null  int64  \n",
      "dtypes: float64(3), int64(7), object(6)\n",
      "memory usage: 6.0+ MB\n"
     ]
    }
   ],
   "source": [
    "# Properties of the dataset\n",
    "\n",
    "df.info()"
   ]
  },
  {
   "cell_type": "code",
   "execution_count": 11,
   "metadata": {},
   "outputs": [
    {
     "data": {
      "text/html": [
       "<div>\n",
       "<style scoped>\n",
       "    .dataframe tbody tr th:only-of-type {\n",
       "        vertical-align: middle;\n",
       "    }\n",
       "\n",
       "    .dataframe tbody tr th {\n",
       "        vertical-align: top;\n",
       "    }\n",
       "\n",
       "    .dataframe thead th {\n",
       "        text-align: right;\n",
       "    }\n",
       "</style>\n",
       "<table border=\"1\" class=\"dataframe\">\n",
       "  <thead>\n",
       "    <tr style=\"text-align: right;\">\n",
       "      <th></th>\n",
       "      <th>id</th>\n",
       "      <th>name</th>\n",
       "      <th>host_id</th>\n",
       "      <th>host_name</th>\n",
       "      <th>neighbourhood_group</th>\n",
       "      <th>neighbourhood</th>\n",
       "      <th>latitude</th>\n",
       "      <th>longitude</th>\n",
       "      <th>room_type</th>\n",
       "      <th>price</th>\n",
       "      <th>minimum_nights</th>\n",
       "      <th>number_of_reviews</th>\n",
       "      <th>last_review</th>\n",
       "      <th>reviews_per_month</th>\n",
       "      <th>calculated_host_listings_count</th>\n",
       "      <th>availability_365</th>\n",
       "    </tr>\n",
       "  </thead>\n",
       "  <tbody>\n",
       "    <tr>\n",
       "      <th>0</th>\n",
       "      <td>2539</td>\n",
       "      <td>Clean &amp; quiet apt home by the park</td>\n",
       "      <td>2787</td>\n",
       "      <td>John</td>\n",
       "      <td>Brooklyn</td>\n",
       "      <td>Kensington</td>\n",
       "      <td>40.64749</td>\n",
       "      <td>-73.97237</td>\n",
       "      <td>Private room</td>\n",
       "      <td>149</td>\n",
       "      <td>1</td>\n",
       "      <td>9</td>\n",
       "      <td>2018-10-19</td>\n",
       "      <td>0.21</td>\n",
       "      <td>6</td>\n",
       "      <td>365</td>\n",
       "    </tr>\n",
       "    <tr>\n",
       "      <th>1</th>\n",
       "      <td>2595</td>\n",
       "      <td>Skylit Midtown Castle</td>\n",
       "      <td>2845</td>\n",
       "      <td>Jennifer</td>\n",
       "      <td>Manhattan</td>\n",
       "      <td>Midtown</td>\n",
       "      <td>40.75362</td>\n",
       "      <td>-73.98377</td>\n",
       "      <td>Entire home/apt</td>\n",
       "      <td>225</td>\n",
       "      <td>1</td>\n",
       "      <td>45</td>\n",
       "      <td>2019-05-21</td>\n",
       "      <td>0.38</td>\n",
       "      <td>2</td>\n",
       "      <td>355</td>\n",
       "    </tr>\n",
       "    <tr>\n",
       "      <th>2</th>\n",
       "      <td>3647</td>\n",
       "      <td>THE VILLAGE OF HARLEM....NEW YORK !</td>\n",
       "      <td>4632</td>\n",
       "      <td>Elisabeth</td>\n",
       "      <td>Manhattan</td>\n",
       "      <td>Harlem</td>\n",
       "      <td>40.80902</td>\n",
       "      <td>-73.94190</td>\n",
       "      <td>Private room</td>\n",
       "      <td>150</td>\n",
       "      <td>3</td>\n",
       "      <td>0</td>\n",
       "      <td>NaN</td>\n",
       "      <td>NaN</td>\n",
       "      <td>1</td>\n",
       "      <td>365</td>\n",
       "    </tr>\n",
       "    <tr>\n",
       "      <th>3</th>\n",
       "      <td>3831</td>\n",
       "      <td>Cozy Entire Floor of Brownstone</td>\n",
       "      <td>4869</td>\n",
       "      <td>LisaRoxanne</td>\n",
       "      <td>Brooklyn</td>\n",
       "      <td>Clinton Hill</td>\n",
       "      <td>40.68514</td>\n",
       "      <td>-73.95976</td>\n",
       "      <td>Entire home/apt</td>\n",
       "      <td>89</td>\n",
       "      <td>1</td>\n",
       "      <td>270</td>\n",
       "      <td>2019-07-05</td>\n",
       "      <td>4.64</td>\n",
       "      <td>1</td>\n",
       "      <td>194</td>\n",
       "    </tr>\n",
       "    <tr>\n",
       "      <th>4</th>\n",
       "      <td>5022</td>\n",
       "      <td>Entire Apt: Spacious Studio/Loft by central park</td>\n",
       "      <td>7192</td>\n",
       "      <td>Laura</td>\n",
       "      <td>Manhattan</td>\n",
       "      <td>East Harlem</td>\n",
       "      <td>40.79851</td>\n",
       "      <td>-73.94399</td>\n",
       "      <td>Entire home/apt</td>\n",
       "      <td>80</td>\n",
       "      <td>10</td>\n",
       "      <td>9</td>\n",
       "      <td>2018-11-19</td>\n",
       "      <td>0.10</td>\n",
       "      <td>1</td>\n",
       "      <td>0</td>\n",
       "    </tr>\n",
       "  </tbody>\n",
       "</table>\n",
       "</div>"
      ],
      "text/plain": [
       "     id                                              name  host_id  \\\n",
       "0  2539                Clean & quiet apt home by the park     2787   \n",
       "1  2595                             Skylit Midtown Castle     2845   \n",
       "2  3647               THE VILLAGE OF HARLEM....NEW YORK !     4632   \n",
       "3  3831                   Cozy Entire Floor of Brownstone     4869   \n",
       "4  5022  Entire Apt: Spacious Studio/Loft by central park     7192   \n",
       "\n",
       "     host_name neighbourhood_group neighbourhood  latitude  longitude  \\\n",
       "0         John            Brooklyn    Kensington  40.64749  -73.97237   \n",
       "1     Jennifer           Manhattan       Midtown  40.75362  -73.98377   \n",
       "2    Elisabeth           Manhattan        Harlem  40.80902  -73.94190   \n",
       "3  LisaRoxanne            Brooklyn  Clinton Hill  40.68514  -73.95976   \n",
       "4        Laura           Manhattan   East Harlem  40.79851  -73.94399   \n",
       "\n",
       "         room_type  price  minimum_nights  number_of_reviews last_review  \\\n",
       "0     Private room    149               1                  9  2018-10-19   \n",
       "1  Entire home/apt    225               1                 45  2019-05-21   \n",
       "2     Private room    150               3                  0         NaN   \n",
       "3  Entire home/apt     89               1                270  2019-07-05   \n",
       "4  Entire home/apt     80              10                  9  2018-11-19   \n",
       "\n",
       "   reviews_per_month  calculated_host_listings_count  availability_365  \n",
       "0               0.21                               6               365  \n",
       "1               0.38                               2               355  \n",
       "2                NaN                               1               365  \n",
       "3               4.64                               1               194  \n",
       "4               0.10                               1                 0  "
      ]
     },
     "execution_count": 11,
     "metadata": {},
     "output_type": "execute_result"
    }
   ],
   "source": [
    "df.head(5)"
   ]
  },
  {
   "cell_type": "code",
   "execution_count": 12,
   "metadata": {},
   "outputs": [
    {
     "data": {
      "text/html": [
       "<div>\n",
       "<style scoped>\n",
       "    .dataframe tbody tr th:only-of-type {\n",
       "        vertical-align: middle;\n",
       "    }\n",
       "\n",
       "    .dataframe tbody tr th {\n",
       "        vertical-align: top;\n",
       "    }\n",
       "\n",
       "    .dataframe thead th {\n",
       "        text-align: right;\n",
       "    }\n",
       "</style>\n",
       "<table border=\"1\" class=\"dataframe\">\n",
       "  <thead>\n",
       "    <tr style=\"text-align: right;\">\n",
       "      <th></th>\n",
       "      <th>id</th>\n",
       "      <th>host_id</th>\n",
       "      <th>latitude</th>\n",
       "      <th>longitude</th>\n",
       "      <th>price</th>\n",
       "      <th>minimum_nights</th>\n",
       "      <th>number_of_reviews</th>\n",
       "      <th>reviews_per_month</th>\n",
       "      <th>calculated_host_listings_count</th>\n",
       "      <th>availability_365</th>\n",
       "    </tr>\n",
       "  </thead>\n",
       "  <tbody>\n",
       "    <tr>\n",
       "      <th>count</th>\n",
       "      <td>4.889500e+04</td>\n",
       "      <td>4.889500e+04</td>\n",
       "      <td>48895.000000</td>\n",
       "      <td>48895.000000</td>\n",
       "      <td>48895.000000</td>\n",
       "      <td>48895.000000</td>\n",
       "      <td>48895.000000</td>\n",
       "      <td>38843.000000</td>\n",
       "      <td>48895.000000</td>\n",
       "      <td>48895.000000</td>\n",
       "    </tr>\n",
       "    <tr>\n",
       "      <th>mean</th>\n",
       "      <td>1.901714e+07</td>\n",
       "      <td>6.762001e+07</td>\n",
       "      <td>40.728949</td>\n",
       "      <td>-73.952170</td>\n",
       "      <td>152.720687</td>\n",
       "      <td>7.029962</td>\n",
       "      <td>23.274466</td>\n",
       "      <td>1.373221</td>\n",
       "      <td>7.143982</td>\n",
       "      <td>112.781327</td>\n",
       "    </tr>\n",
       "    <tr>\n",
       "      <th>std</th>\n",
       "      <td>1.098311e+07</td>\n",
       "      <td>7.861097e+07</td>\n",
       "      <td>0.054530</td>\n",
       "      <td>0.046157</td>\n",
       "      <td>240.154170</td>\n",
       "      <td>20.510550</td>\n",
       "      <td>44.550582</td>\n",
       "      <td>1.680442</td>\n",
       "      <td>32.952519</td>\n",
       "      <td>131.622289</td>\n",
       "    </tr>\n",
       "    <tr>\n",
       "      <th>min</th>\n",
       "      <td>2.539000e+03</td>\n",
       "      <td>2.438000e+03</td>\n",
       "      <td>40.499790</td>\n",
       "      <td>-74.244420</td>\n",
       "      <td>0.000000</td>\n",
       "      <td>1.000000</td>\n",
       "      <td>0.000000</td>\n",
       "      <td>0.010000</td>\n",
       "      <td>1.000000</td>\n",
       "      <td>0.000000</td>\n",
       "    </tr>\n",
       "    <tr>\n",
       "      <th>25%</th>\n",
       "      <td>9.471945e+06</td>\n",
       "      <td>7.822033e+06</td>\n",
       "      <td>40.690100</td>\n",
       "      <td>-73.983070</td>\n",
       "      <td>69.000000</td>\n",
       "      <td>1.000000</td>\n",
       "      <td>1.000000</td>\n",
       "      <td>0.190000</td>\n",
       "      <td>1.000000</td>\n",
       "      <td>0.000000</td>\n",
       "    </tr>\n",
       "    <tr>\n",
       "      <th>50%</th>\n",
       "      <td>1.967728e+07</td>\n",
       "      <td>3.079382e+07</td>\n",
       "      <td>40.723070</td>\n",
       "      <td>-73.955680</td>\n",
       "      <td>106.000000</td>\n",
       "      <td>3.000000</td>\n",
       "      <td>5.000000</td>\n",
       "      <td>0.720000</td>\n",
       "      <td>1.000000</td>\n",
       "      <td>45.000000</td>\n",
       "    </tr>\n",
       "    <tr>\n",
       "      <th>75%</th>\n",
       "      <td>2.915218e+07</td>\n",
       "      <td>1.074344e+08</td>\n",
       "      <td>40.763115</td>\n",
       "      <td>-73.936275</td>\n",
       "      <td>175.000000</td>\n",
       "      <td>5.000000</td>\n",
       "      <td>24.000000</td>\n",
       "      <td>2.020000</td>\n",
       "      <td>2.000000</td>\n",
       "      <td>227.000000</td>\n",
       "    </tr>\n",
       "    <tr>\n",
       "      <th>max</th>\n",
       "      <td>3.648724e+07</td>\n",
       "      <td>2.743213e+08</td>\n",
       "      <td>40.913060</td>\n",
       "      <td>-73.712990</td>\n",
       "      <td>10000.000000</td>\n",
       "      <td>1250.000000</td>\n",
       "      <td>629.000000</td>\n",
       "      <td>58.500000</td>\n",
       "      <td>327.000000</td>\n",
       "      <td>365.000000</td>\n",
       "    </tr>\n",
       "  </tbody>\n",
       "</table>\n",
       "</div>"
      ],
      "text/plain": [
       "                 id       host_id      latitude     longitude         price  \\\n",
       "count  4.889500e+04  4.889500e+04  48895.000000  48895.000000  48895.000000   \n",
       "mean   1.901714e+07  6.762001e+07     40.728949    -73.952170    152.720687   \n",
       "std    1.098311e+07  7.861097e+07      0.054530      0.046157    240.154170   \n",
       "min    2.539000e+03  2.438000e+03     40.499790    -74.244420      0.000000   \n",
       "25%    9.471945e+06  7.822033e+06     40.690100    -73.983070     69.000000   \n",
       "50%    1.967728e+07  3.079382e+07     40.723070    -73.955680    106.000000   \n",
       "75%    2.915218e+07  1.074344e+08     40.763115    -73.936275    175.000000   \n",
       "max    3.648724e+07  2.743213e+08     40.913060    -73.712990  10000.000000   \n",
       "\n",
       "       minimum_nights  number_of_reviews  reviews_per_month  \\\n",
       "count    48895.000000       48895.000000       38843.000000   \n",
       "mean         7.029962          23.274466           1.373221   \n",
       "std         20.510550          44.550582           1.680442   \n",
       "min          1.000000           0.000000           0.010000   \n",
       "25%          1.000000           1.000000           0.190000   \n",
       "50%          3.000000           5.000000           0.720000   \n",
       "75%          5.000000          24.000000           2.020000   \n",
       "max       1250.000000         629.000000          58.500000   \n",
       "\n",
       "       calculated_host_listings_count  availability_365  \n",
       "count                    48895.000000      48895.000000  \n",
       "mean                         7.143982        112.781327  \n",
       "std                         32.952519        131.622289  \n",
       "min                          1.000000          0.000000  \n",
       "25%                          1.000000          0.000000  \n",
       "50%                          1.000000         45.000000  \n",
       "75%                          2.000000        227.000000  \n",
       "max                        327.000000        365.000000  "
      ]
     },
     "execution_count": 12,
     "metadata": {},
     "output_type": "execute_result"
    }
   ],
   "source": [
    "df.describe()"
   ]
  },
  {
   "cell_type": "markdown",
   "metadata": {},
   "source": [
    "## Data cleaning"
   ]
  },
  {
   "cell_type": "markdown",
   "metadata": {},
   "source": [
    "### Handling Missing Values"
   ]
  },
  {
   "cell_type": "code",
   "execution_count": 13,
   "metadata": {},
   "outputs": [
    {
     "name": "stdout",
     "output_type": "stream",
     "text": [
      "name                    16\n",
      "host_name               21\n",
      "last_review          10052\n",
      "reviews_per_month    10052\n",
      "dtype: int64\n"
     ]
    }
   ],
   "source": [
    "# List of columns with missing values\n",
    "\n",
    "missing = df.isnull().sum()\n",
    "missing = missing[missing>0]\n",
    "print(missing)"
   ]
  },
  {
   "cell_type": "code",
   "execution_count": 14,
   "metadata": {},
   "outputs": [],
   "source": [
    "# Handling Name\n",
    "\n",
    "df_name_missed = df[df[\"name\"].isnull()]"
   ]
  },
  {
   "cell_type": "code",
   "execution_count": 15,
   "metadata": {},
   "outputs": [
    {
     "name": "stdout",
     "output_type": "stream",
     "text": [
      "every id is unique\n"
     ]
    }
   ],
   "source": [
    "if len(df[\"id\"].unique()) == len(df[\"id\"]):\n",
    "    print(\"every id is unique\")"
   ]
  },
  {
   "cell_type": "markdown",
   "metadata": {},
   "source": [
    " <p>The `name` and `host name` columns are nominal values. I dont want to consider these columns for out model.\n",
    " `name` might be useful on SEO basis. but i dont think it might make any difference on prices. i am dropping both columns</p>"
   ]
  },
  {
   "cell_type": "code",
   "execution_count": 16,
   "metadata": {},
   "outputs": [],
   "source": [
    "df = df.drop([\"name\", \"host_name\"], axis=1)"
   ]
  },
  {
   "cell_type": "code",
   "execution_count": 17,
   "metadata": {},
   "outputs": [],
   "source": [
    "# Handling last_review and reviews_per_month page\n",
    "\n",
    "df_last_review_missed = df[df[\"last_review\"].isnull()]\n",
    "df_review_per_month_missed = df[df[\"reviews_per_month\"].isnull()]"
   ]
  },
  {
   "cell_type": "markdown",
   "metadata": {},
   "source": [
    "<p>If last_review and review_per_month missing row are same. I am considering i dont have any review so far. I am repalcing null with 'zero'\n",
    "\n",
    "\n",
    "\n",
    "</p>"
   ]
  },
  {
   "cell_type": "code",
   "execution_count": 18,
   "metadata": {},
   "outputs": [],
   "source": [
    "# Importing Missing Value strategies\n",
    "\n",
    "from src.preproccessing import missing_values\n",
    "missing_const = missing_values.FillConstMissingValuesStrategy(const = 0)"
   ]
  },
  {
   "cell_type": "code",
   "execution_count": 19,
   "metadata": {},
   "outputs": [],
   "source": [
    "df = missing_const.handle(df =df, column=\"last_review\")\n",
    "df = missing_const.handle(df=df, column = \"reviews_per_month\")"
   ]
  },
  {
   "cell_type": "code",
   "execution_count": 20,
   "metadata": {},
   "outputs": [
    {
     "data": {
      "text/plain": [
       "id                                0\n",
       "host_id                           0\n",
       "neighbourhood_group               0\n",
       "neighbourhood                     0\n",
       "latitude                          0\n",
       "longitude                         0\n",
       "room_type                         0\n",
       "price                             0\n",
       "minimum_nights                    0\n",
       "number_of_reviews                 0\n",
       "last_review                       0\n",
       "reviews_per_month                 0\n",
       "calculated_host_listings_count    0\n",
       "availability_365                  0\n",
       "dtype: int64"
      ]
     },
     "execution_count": 20,
     "metadata": {},
     "output_type": "execute_result"
    }
   ],
   "source": [
    "df.isnull().sum()"
   ]
  },
  {
   "cell_type": "markdown",
   "metadata": {},
   "source": [
    "### Removing Duplicate values"
   ]
  },
  {
   "cell_type": "code",
   "execution_count": 21,
   "metadata": {},
   "outputs": [
    {
     "name": "stdout",
     "output_type": "stream",
     "text": [
      "0\n"
     ]
    }
   ],
   "source": [
    "# Finding suplicate data\n",
    "\n",
    "duplicates = df.duplicated().sum()\n",
    "print(duplicates)"
   ]
  },
  {
   "cell_type": "code",
   "execution_count": 22,
   "metadata": {
    "ExecuteTime": {
     "end_time": "2020-09-22T18:47:28.695452Z",
     "start_time": "2020-09-22T18:47:28.417434Z"
    }
   },
   "outputs": [
    {
     "name": "stdout",
     "output_type": "stream",
     "text": [
      "NO duplicates found!\n"
     ]
    }
   ],
   "source": [
    "print(\"NO duplicates found!\")"
   ]
  },
  {
   "cell_type": "markdown",
   "metadata": {},
   "source": [
    "## Data Transformation"
   ]
  },
  {
   "cell_type": "code",
   "execution_count": 23,
   "metadata": {},
   "outputs": [
    {
     "name": "stdout",
     "output_type": "stream",
     "text": [
      "Index(['neighbourhood_group', 'neighbourhood', 'room_type', 'last_review'], dtype='object')\n"
     ]
    }
   ],
   "source": [
    "# Filtering categorical variables\n",
    "\n",
    "categories = df.select_dtypes(include=[\"object\", \"category\"]).columns\n",
    "print(categories)"
   ]
  },
  {
   "cell_type": "code",
   "execution_count": 24,
   "metadata": {},
   "outputs": [
    {
     "name": "stdout",
     "output_type": "stream",
     "text": [
      "Unique categories in neighbourhood_group has 5 unique values\n",
      "['Brooklyn' 'Manhattan' 'Queens' 'Staten Island' 'Bronx']\n",
      "Unique categories in neighbourhood has 221 unique values\n",
      "Unique categories in room_type has 3 unique values\n",
      "['Private room' 'Entire home/apt' 'Shared room']\n",
      "Unique categories in last_review has 1765 unique values\n"
     ]
    }
   ],
   "source": [
    "for category in categories:\n",
    "    unique = df[category].unique()\n",
    "    length  = len(unique)\n",
    "    print(f\"Unique categories in {category} has {len(unique)} unique values\")\n",
    "    if length< 10:\n",
    "        print(unique)\n",
    "    "
   ]
  },
  {
   "cell_type": "code",
   "execution_count": 25,
   "metadata": {},
   "outputs": [],
   "source": [
    "brooklyn_neighbourhoods = df[df['neighbourhood_group'] == \"Brooklyn\"]['neighbourhood'].unique().tolist()\n",
    "manhattan_neighbourhoods = df[df['neighbourhood_group'] == \"Manhattan\"]['neighbourhood'].unique().tolist()\n",
    "queens_neighbourhoods = df[df['neighbourhood_group'] == \"Queens\"]['neighbourhood'].unique().tolist()\n",
    "staten_neighbourhoods = df[df['neighbourhood_group'] == \"Staten Island\"]['neighbourhood'].unique().tolist()\n",
    "bronx_neighbourhoods = df[df['neighbourhood_group'] == \"Bronx\"]['neighbourhood'].unique().tolist()\n",
    "neighbourhoods = df[\"neighbourhood_group\"].unique()"
   ]
  },
  {
   "cell_type": "markdown",
   "metadata": {},
   "source": [
    "<p>We have very few features. so i am going to use one hot encoding for `neighbourhood_group` and `room_type`</p>"
   ]
  },
  {
   "cell_type": "markdown",
   "metadata": {},
   "source": [
    "### Encoding"
   ]
  },
  {
   "cell_type": "code",
   "execution_count": 26,
   "metadata": {},
   "outputs": [],
   "source": [
    "# Importing Onehot encoding\n",
    "\n",
    "from src.preproccessing import encoding\n",
    "onehot_encoder = encoding.OneHotEncoding()"
   ]
  },
  {
   "cell_type": "code",
   "execution_count": 27,
   "metadata": {},
   "outputs": [
    {
     "name": "stdout",
     "output_type": "stream",
     "text": [
      "neighbourhood_group\n"
     ]
    }
   ],
   "source": [
    "# neighbourhood_group feature encoding\n",
    "print(categories[0])\n",
    "encoded_df = onehot_encoder.encode(df=df, column=categories[0])\n",
    "df.drop(labels=[categories[0]], axis=1, inplace =True)\n",
    "df = pd.concat([df, encoded_df], axis =1)"
   ]
  },
  {
   "cell_type": "code",
   "execution_count": 28,
   "metadata": {},
   "outputs": [
    {
     "data": {
      "text/plain": [
       "Index(['id', 'host_id', 'neighbourhood', 'latitude', 'longitude', 'room_type',\n",
       "       'price', 'minimum_nights', 'number_of_reviews', 'last_review',\n",
       "       'reviews_per_month', 'calculated_host_listings_count',\n",
       "       'availability_365', 'neighbourhood_group_Bronx',\n",
       "       'neighbourhood_group_Brooklyn', 'neighbourhood_group_Manhattan',\n",
       "       'neighbourhood_group_Queens', 'neighbourhood_group_Staten Island'],\n",
       "      dtype='object')"
      ]
     },
     "execution_count": 28,
     "metadata": {},
     "output_type": "execute_result"
    }
   ],
   "source": [
    "df.columns"
   ]
  },
  {
   "cell_type": "code",
   "execution_count": 29,
   "metadata": {},
   "outputs": [
    {
     "name": "stdout",
     "output_type": "stream",
     "text": [
      "room_type\n"
     ]
    }
   ],
   "source": [
    "# room_type onehot encoding\n",
    "\n",
    "print(categories[2])\n",
    "encoded_df = onehot_encoder.encode(df=df, column=categories[2])\n",
    "df.drop(labels=[categories[2]],axis=1)\n",
    "df = pd.concat([df,encoded_df],axis=1)"
   ]
  },
  {
   "cell_type": "markdown",
   "metadata": {},
   "source": [
    "### Feature Engineering"
   ]
  },
  {
   "cell_type": "markdown",
   "metadata": {},
   "source": [
    "<p>`neighbourhood` is have 221 unique value which comes under neighbourhood_groups. Distance to the neighbourhood going to be a new feature using `google maps distance matric api`</p>"
   ]
  },
  {
   "cell_type": "code",
   "execution_count": 30,
   "metadata": {},
   "outputs": [],
   "source": [
    "# Importing Geocoding api keys\n",
    "\n",
    "df_api = pd.read_csv(\"geocoding_api.csv\")"
   ]
  },
  {
   "cell_type": "code",
   "execution_count": 31,
   "metadata": {},
   "outputs": [],
   "source": [
    "# # getting langtitude and latitude for neighbourhoods using openweathermap api\n",
    "# import requests\n",
    "\n",
    "# def get_lat_long(city):\n",
    "#     api_key = df_api[df_api[\"api\"]==\"openweather_map\"][\"api_key\"][0]\n",
    "#     limit = 1\n",
    "#     url = f\"http://api.openweathermap.org/geo/1.0/direct?q={city}, NY,US&limit={limit}&appid={api_key}\"\n",
    "#     response = requests.get(url)\n",
    "#     if response.status_code ==200:\n",
    "#         data =  response.json()\n",
    "#         print(f\"Geographical data for {city}:\")\n",
    "#         for entry in data:\n",
    "#             print(f\"Name: {entry['name']}, Latitude: {entry['lat']}, Longitude: {entry['lon']}\")\n",
    "#             return [city,(entry[\"lat\"], entry[\"lon\"])]\n",
    "#     else:\n",
    "#         print(f\"Error: Unable to fetch data (status code:{response.status_code})\")\n",
    "    "
   ]
  },
  {
   "cell_type": "code",
   "execution_count": 32,
   "metadata": {
    "scrolled": true
   },
   "outputs": [],
   "source": [
    "# #Getting geocodes for all neighbourhood\n",
    "\n",
    "# unique_neighbourhood = df[\"neighbourhood\"].unique()\n",
    "# geo_code = {}\n",
    "# count = 1\n",
    "# for city in unique_neighbourhood:\n",
    "    \n",
    "#     print(f\"getting city {count}: {city}\")\n",
    "#     result = get_lat_long(city)\n",
    "#     if result != None:\n",
    "#         geo_code[city] = result[1]\n",
    "#     else:\n",
    "#         geo_code[city] = None\n",
    "#     count +=1\n",
    "\n",
    "# # storing collected data into csv file\n",
    "# df_geocode = pd.DataFrame(list(geo_code.items()), columns=['neighbourhood', 'geocode'])\n",
    "# df_geocode.to_csv('geo_codes.csv', index=False)"
   ]
  },
  {
   "cell_type": "markdown",
   "metadata": {},
   "source": [
    "##### Opencage forward geocoding api"
   ]
  },
  {
   "cell_type": "code",
   "execution_count": 33,
   "metadata": {},
   "outputs": [],
   "source": [
    "# getting geocodes for remaining neighbourhoods using opencagedata api\n",
    "# from opencage.geocoder import OpenCageGeocode\n",
    "\n",
    "# from pprint import pprint\n",
    "# api_key = df_api[df_api[\"api\"]==\"opencagedata\"][\"api_key\"][1]\n",
    "# geocoder = OpenCageGeocode(api_key)\n",
    "\n",
    "# def opencage(city, county):\n",
    "#     query = f\"{city}, {county}, New York, United states of America\"\n",
    "#     results = geocoder.geocode(query, countrycode=\"us\",limit =4)\n",
    "#     current = {}\n",
    "#     count = 1\n",
    "#     for result in results:\n",
    "#         if count ==1:\n",
    "#             current[\"best\"] = [result[\"formatted\"], result[\"geometry\"], result[\"confidence\"]]\n",
    "#         else:\n",
    "#             if current[\"best\"][2] < result[\"confidence\"]:\n",
    "#                 current[\"best\"] = [result[\"formatted\"], result[\"geometry\"], result[\"confidence\"]]\n",
    "#         count+=1\n",
    "\n",
    "#     return current[\"best\"]"
   ]
  },
  {
   "cell_type": "code",
   "execution_count": 34,
   "metadata": {
    "scrolled": true
   },
   "outputs": [],
   "source": [
    "# geocode = {}\n",
    "# for neighbourhood in neighbourhoods:\n",
    "#     if neighbourhood ==\"Brooklyn\":\n",
    "#         current_group = brooklyn_neighbourhoods\n",
    "#     elif neighbourhood ==\"Manhattan\":\n",
    "#         current_group = manhattan_neighbourhoods\n",
    "#     elif neighbourhood ==\"Queens\":\n",
    "#         current_group = queens_neighbourhoods\n",
    "#     elif neighbourhood ==\"Staten Island\":\n",
    "#         current_group = staten_neighbourhoods\n",
    "#     else:\n",
    "#         current_group = bronx_neighbourhoods\n",
    "   \n",
    "#     for city in current_group:\n",
    "#         print(f\"current city: {city}\")\n",
    "#         result = opencage(city, neighbourhood)\n",
    "#         geocode[city] = {\"lat\":result[1][\"lat\"], \"lng\":result[1][\"lng\"]}\n",
    "#         print(f\"geocoded: {result[1]}\")\n"
   ]
  },
  {
   "cell_type": "code",
   "execution_count": 35,
   "metadata": {},
   "outputs": [],
   "source": [
    "# import json\n",
    "# with open(\"neighbourhood_geocode.json\", \"w\") as outfile: \n",
    "#     json.dump(geocode,outfile)"
   ]
  },
  {
   "cell_type": "markdown",
   "metadata": {},
   "source": [
    "##### Feature Engineering - Feature `distance bw unit and neighbourhood`"
   ]
  },
  {
   "cell_type": "code",
   "execution_count": 36,
   "metadata": {},
   "outputs": [],
   "source": [
    "df_feature = df[[\"id\", \"neighbourhood\", \"latitude\", \"longitude\"]]"
   ]
  },
  {
   "cell_type": "code",
   "execution_count": 37,
   "metadata": {},
   "outputs": [
    {
     "data": {
      "text/html": [
       "<div>\n",
       "<style scoped>\n",
       "    .dataframe tbody tr th:only-of-type {\n",
       "        vertical-align: middle;\n",
       "    }\n",
       "\n",
       "    .dataframe tbody tr th {\n",
       "        vertical-align: top;\n",
       "    }\n",
       "\n",
       "    .dataframe thead th {\n",
       "        text-align: right;\n",
       "    }\n",
       "</style>\n",
       "<table border=\"1\" class=\"dataframe\">\n",
       "  <thead>\n",
       "    <tr style=\"text-align: right;\">\n",
       "      <th></th>\n",
       "      <th>id</th>\n",
       "      <th>neighbourhood</th>\n",
       "      <th>latitude</th>\n",
       "      <th>longitude</th>\n",
       "    </tr>\n",
       "  </thead>\n",
       "  <tbody>\n",
       "    <tr>\n",
       "      <th>0</th>\n",
       "      <td>2539</td>\n",
       "      <td>Kensington</td>\n",
       "      <td>40.64749</td>\n",
       "      <td>-73.97237</td>\n",
       "    </tr>\n",
       "    <tr>\n",
       "      <th>1</th>\n",
       "      <td>2595</td>\n",
       "      <td>Midtown</td>\n",
       "      <td>40.75362</td>\n",
       "      <td>-73.98377</td>\n",
       "    </tr>\n",
       "    <tr>\n",
       "      <th>2</th>\n",
       "      <td>3647</td>\n",
       "      <td>Harlem</td>\n",
       "      <td>40.80902</td>\n",
       "      <td>-73.94190</td>\n",
       "    </tr>\n",
       "    <tr>\n",
       "      <th>3</th>\n",
       "      <td>3831</td>\n",
       "      <td>Clinton Hill</td>\n",
       "      <td>40.68514</td>\n",
       "      <td>-73.95976</td>\n",
       "    </tr>\n",
       "    <tr>\n",
       "      <th>4</th>\n",
       "      <td>5022</td>\n",
       "      <td>East Harlem</td>\n",
       "      <td>40.79851</td>\n",
       "      <td>-73.94399</td>\n",
       "    </tr>\n",
       "  </tbody>\n",
       "</table>\n",
       "</div>"
      ],
      "text/plain": [
       "     id neighbourhood  latitude  longitude\n",
       "0  2539    Kensington  40.64749  -73.97237\n",
       "1  2595       Midtown  40.75362  -73.98377\n",
       "2  3647        Harlem  40.80902  -73.94190\n",
       "3  3831  Clinton Hill  40.68514  -73.95976\n",
       "4  5022   East Harlem  40.79851  -73.94399"
      ]
     },
     "execution_count": 37,
     "metadata": {},
     "output_type": "execute_result"
    }
   ],
   "source": [
    "df_feature.head()"
   ]
  },
  {
   "cell_type": "code",
   "execution_count": 38,
   "metadata": {},
   "outputs": [],
   "source": [
    "import json\n",
    "\n",
    "with open(\"neighbourhood_geocode.json\", \"r\") as json_file:\n",
    "    neighbourhood = json.load(json_file)"
   ]
  },
  {
   "cell_type": "code",
   "execution_count": 40,
   "metadata": {},
   "outputs": [],
   "source": [
    "neighbourhoods = df_feature[\"neighbourhood\"].unique()"
   ]
  },
  {
   "cell_type": "code",
   "execution_count": 41,
   "metadata": {},
   "outputs": [
    {
     "name": "stdout",
     "output_type": "stream",
     "text": [
      "Kensington - id               175\n",
      "neighbourhood    175\n",
      "latitude         175\n",
      "longitude        175\n",
      "dtype: int64\n",
      "Midtown - id               1545\n",
      "neighbourhood    1545\n",
      "latitude         1545\n",
      "longitude        1545\n",
      "dtype: int64\n",
      "Harlem - id               2658\n",
      "neighbourhood    2658\n",
      "latitude         2658\n",
      "longitude        2658\n",
      "dtype: int64\n",
      "Clinton Hill - id               572\n",
      "neighbourhood    572\n",
      "latitude         572\n",
      "longitude        572\n",
      "dtype: int64\n",
      "East Harlem - id               1117\n",
      "neighbourhood    1117\n",
      "latitude         1117\n",
      "longitude        1117\n",
      "dtype: int64\n",
      "Murray Hill - id               485\n",
      "neighbourhood    485\n",
      "latitude         485\n",
      "longitude        485\n",
      "dtype: int64\n",
      "Bedford-Stuyvesant - id               3714\n",
      "neighbourhood    3714\n",
      "latitude         3714\n",
      "longitude        3714\n",
      "dtype: int64\n",
      "Hell's Kitchen - id               1958\n",
      "neighbourhood    1958\n",
      "latitude         1958\n",
      "longitude        1958\n",
      "dtype: int64\n",
      "Upper West Side - id               1971\n",
      "neighbourhood    1971\n",
      "latitude         1971\n",
      "longitude        1971\n",
      "dtype: int64\n",
      "Chinatown - id               368\n",
      "neighbourhood    368\n",
      "latitude         368\n",
      "longitude        368\n",
      "dtype: int64\n",
      "South Slope - id               284\n",
      "neighbourhood    284\n",
      "latitude         284\n",
      "longitude        284\n",
      "dtype: int64\n",
      "West Village - id               768\n",
      "neighbourhood    768\n",
      "latitude         768\n",
      "longitude        768\n",
      "dtype: int64\n",
      "Williamsburg - id               3920\n",
      "neighbourhood    3920\n",
      "latitude         3920\n",
      "longitude        3920\n",
      "dtype: int64\n",
      "Fort Greene - id               489\n",
      "neighbourhood    489\n",
      "latitude         489\n",
      "longitude        489\n",
      "dtype: int64\n",
      "Chelsea - id               1113\n",
      "neighbourhood    1113\n",
      "latitude         1113\n",
      "longitude        1113\n",
      "dtype: int64\n",
      "Crown Heights - id               1564\n",
      "neighbourhood    1564\n",
      "latitude         1564\n",
      "longitude        1564\n",
      "dtype: int64\n",
      "Park Slope - id               506\n",
      "neighbourhood    506\n",
      "latitude         506\n",
      "longitude        506\n",
      "dtype: int64\n",
      "Windsor Terrace - id               157\n",
      "neighbourhood    157\n",
      "latitude         157\n",
      "longitude        157\n",
      "dtype: int64\n",
      "Inwood - id               252\n",
      "neighbourhood    252\n",
      "latitude         252\n",
      "longitude        252\n",
      "dtype: int64\n",
      "East Village - id               1853\n",
      "neighbourhood    1853\n",
      "latitude         1853\n",
      "longitude        1853\n",
      "dtype: int64\n",
      "Greenpoint - id               1115\n",
      "neighbourhood    1115\n",
      "latitude         1115\n",
      "longitude        1115\n",
      "dtype: int64\n",
      "Bushwick - id               2465\n",
      "neighbourhood    2465\n",
      "latitude         2465\n",
      "longitude        2465\n",
      "dtype: int64\n",
      "Flatbush - id               621\n",
      "neighbourhood    621\n",
      "latitude         621\n",
      "longitude        621\n",
      "dtype: int64\n",
      "Lower East Side - id               911\n",
      "neighbourhood    911\n",
      "latitude         911\n",
      "longitude        911\n",
      "dtype: int64\n",
      "Prospect-Lefferts Gardens - id               535\n",
      "neighbourhood    535\n",
      "latitude         535\n",
      "longitude        535\n",
      "dtype: int64\n",
      "Long Island City - id               537\n",
      "neighbourhood    537\n",
      "latitude         537\n",
      "longitude        537\n",
      "dtype: int64\n",
      "Kips Bay - id               470\n",
      "neighbourhood    470\n",
      "latitude         470\n",
      "longitude        470\n",
      "dtype: int64\n",
      "SoHo - id               358\n",
      "neighbourhood    358\n",
      "latitude         358\n",
      "longitude        358\n",
      "dtype: int64\n",
      "Upper East Side - id               1798\n",
      "neighbourhood    1798\n",
      "latitude         1798\n",
      "longitude        1798\n",
      "dtype: int64\n",
      "Prospect Heights - id               357\n",
      "neighbourhood    357\n",
      "latitude         357\n",
      "longitude        357\n",
      "dtype: int64\n",
      "Washington Heights - id               899\n",
      "neighbourhood    899\n",
      "latitude         899\n",
      "longitude        899\n",
      "dtype: int64\n",
      "Woodside - id               235\n",
      "neighbourhood    235\n",
      "latitude         235\n",
      "longitude        235\n",
      "dtype: int64\n",
      "Brooklyn Heights - id               154\n",
      "neighbourhood    154\n",
      "latitude         154\n",
      "longitude        154\n",
      "dtype: int64\n",
      "Carroll Gardens - id               233\n",
      "neighbourhood    233\n",
      "latitude         233\n",
      "longitude        233\n",
      "dtype: int64\n",
      "Gowanus - id               247\n",
      "neighbourhood    247\n",
      "latitude         247\n",
      "longitude        247\n",
      "dtype: int64\n",
      "Flatlands - id               83\n",
      "neighbourhood    83\n",
      "latitude         83\n",
      "longitude        83\n",
      "dtype: int64\n",
      "Cobble Hill - id               99\n",
      "neighbourhood    99\n",
      "latitude         99\n",
      "longitude        99\n",
      "dtype: int64\n",
      "Flushing - id               426\n",
      "neighbourhood    426\n",
      "latitude         426\n",
      "longitude        426\n",
      "dtype: int64\n",
      "Boerum Hill - id               177\n",
      "neighbourhood    177\n",
      "latitude         177\n",
      "longitude        177\n",
      "dtype: int64\n",
      "Sunnyside - id               363\n",
      "neighbourhood    363\n",
      "latitude         363\n",
      "longitude        363\n",
      "dtype: int64\n",
      "DUMBO - id               36\n",
      "neighbourhood    36\n",
      "latitude         36\n",
      "longitude        36\n",
      "dtype: int64\n",
      "St. George - id               48\n",
      "neighbourhood    48\n",
      "latitude         48\n",
      "longitude        48\n",
      "dtype: int64\n",
      "Highbridge - id               27\n",
      "neighbourhood    27\n",
      "latitude         27\n",
      "longitude        27\n",
      "dtype: int64\n",
      "Financial District - id               744\n",
      "neighbourhood    744\n",
      "latitude         744\n",
      "longitude        744\n",
      "dtype: int64\n",
      "Ridgewood - id               423\n",
      "neighbourhood    423\n",
      "latitude         423\n",
      "longitude        423\n",
      "dtype: int64\n",
      "Morningside Heights - id               346\n",
      "neighbourhood    346\n",
      "latitude         346\n",
      "longitude        346\n",
      "dtype: int64\n",
      "Jamaica - id               231\n",
      "neighbourhood    231\n",
      "latitude         231\n",
      "longitude        231\n",
      "dtype: int64\n",
      "Middle Village - id               31\n",
      "neighbourhood    31\n",
      "latitude         31\n",
      "longitude        31\n",
      "dtype: int64\n",
      "NoHo - id               78\n",
      "neighbourhood    78\n",
      "latitude         78\n",
      "longitude        78\n",
      "dtype: int64\n",
      "Ditmars Steinway - id               309\n",
      "neighbourhood    309\n",
      "latitude         309\n",
      "longitude        309\n",
      "dtype: int64\n",
      "Flatiron District - id               80\n",
      "neighbourhood    80\n",
      "latitude         80\n",
      "longitude        80\n",
      "dtype: int64\n",
      "Roosevelt Island - id               77\n",
      "neighbourhood    77\n",
      "latitude         77\n",
      "longitude        77\n",
      "dtype: int64\n",
      "Greenwich Village - id               392\n",
      "neighbourhood    392\n",
      "latitude         392\n",
      "longitude        392\n",
      "dtype: int64\n",
      "Little Italy - id               121\n",
      "neighbourhood    121\n",
      "latitude         121\n",
      "longitude        121\n",
      "dtype: int64\n",
      "East Flatbush - id               500\n",
      "neighbourhood    500\n",
      "latitude         500\n",
      "longitude        500\n",
      "dtype: int64\n",
      "Tompkinsville - id               42\n",
      "neighbourhood    42\n",
      "latitude         42\n",
      "longitude        42\n",
      "dtype: int64\n",
      "Astoria - id               900\n",
      "neighbourhood    900\n",
      "latitude         900\n",
      "longitude        900\n",
      "dtype: int64\n",
      "Clason Point - id               21\n",
      "neighbourhood    21\n",
      "latitude         21\n",
      "longitude        21\n",
      "dtype: int64\n",
      "Eastchester - id               13\n",
      "neighbourhood    13\n",
      "latitude         13\n",
      "longitude        13\n",
      "dtype: int64\n",
      "Kingsbridge - id               70\n",
      "neighbourhood    70\n",
      "latitude         70\n",
      "longitude        70\n",
      "dtype: int64\n",
      "Two Bridges - id               72\n",
      "neighbourhood    72\n",
      "latitude         72\n",
      "longitude        72\n",
      "dtype: int64\n",
      "Queens Village - id               60\n",
      "neighbourhood    60\n",
      "latitude         60\n",
      "longitude        60\n",
      "dtype: int64\n",
      "Rockaway Beach - id               56\n",
      "neighbourhood    56\n",
      "latitude         56\n",
      "longitude        56\n",
      "dtype: int64\n",
      "Forest Hills - id               144\n",
      "neighbourhood    144\n",
      "latitude         144\n",
      "longitude        144\n",
      "dtype: int64\n",
      "Nolita - id               253\n",
      "neighbourhood    253\n",
      "latitude         253\n",
      "longitude        253\n",
      "dtype: int64\n",
      "Woodlawn - id               11\n",
      "neighbourhood    11\n",
      "latitude         11\n",
      "longitude        11\n",
      "dtype: int64\n",
      "University Heights - id               21\n",
      "neighbourhood    21\n",
      "latitude         21\n",
      "longitude        21\n",
      "dtype: int64\n",
      "Gravesend - id               68\n",
      "neighbourhood    68\n",
      "latitude         68\n",
      "longitude        68\n",
      "dtype: int64\n",
      "Gramercy - id               338\n",
      "neighbourhood    338\n",
      "latitude         338\n",
      "longitude        338\n",
      "dtype: int64\n",
      "Allerton - id               42\n",
      "neighbourhood    42\n",
      "latitude         42\n",
      "longitude        42\n",
      "dtype: int64\n",
      "East New York - id               218\n",
      "neighbourhood    218\n",
      "latitude         218\n",
      "longitude        218\n",
      "dtype: int64\n",
      "Theater District - id               288\n",
      "neighbourhood    288\n",
      "latitude         288\n",
      "longitude        288\n",
      "dtype: int64\n",
      "Concourse Village - id               32\n",
      "neighbourhood    32\n",
      "latitude         32\n",
      "longitude        32\n",
      "dtype: int64\n",
      "Sheepshead Bay - id               164\n",
      "neighbourhood    164\n",
      "latitude         164\n",
      "longitude        164\n",
      "dtype: int64\n",
      "Emerson Hill - id               5\n",
      "neighbourhood    5\n",
      "latitude         5\n",
      "longitude        5\n",
      "dtype: int64\n",
      "Fort Hamilton - id               55\n",
      "neighbourhood    55\n",
      "latitude         55\n",
      "longitude        55\n",
      "dtype: int64\n",
      "Bensonhurst - id               75\n",
      "neighbourhood    75\n",
      "latitude         75\n",
      "longitude        75\n",
      "dtype: int64\n",
      "Tribeca - id               177\n",
      "neighbourhood    177\n",
      "latitude         177\n",
      "longitude        177\n",
      "dtype: int64\n",
      "Shore Acres - id               7\n",
      "neighbourhood    7\n",
      "latitude         7\n",
      "longitude        7\n",
      "dtype: int64\n",
      "Sunset Park - id               390\n",
      "neighbourhood    390\n",
      "latitude         390\n",
      "longitude        390\n",
      "dtype: int64\n",
      "Concourse - id               50\n",
      "neighbourhood    50\n",
      "latitude         50\n",
      "longitude        50\n",
      "dtype: int64\n",
      "Elmhurst - id               237\n",
      "neighbourhood    237\n",
      "latitude         237\n",
      "longitude        237\n",
      "dtype: int64\n",
      "Brighton Beach - id               75\n",
      "neighbourhood    75\n",
      "latitude         75\n",
      "longitude        75\n",
      "dtype: int64\n",
      "Jackson Heights - id               186\n",
      "neighbourhood    186\n",
      "latitude         186\n",
      "longitude        186\n",
      "dtype: int64\n",
      "Cypress Hills - id               135\n",
      "neighbourhood    135\n",
      "latitude         135\n",
      "longitude        135\n",
      "dtype: int64\n",
      "St. Albans - id               76\n",
      "neighbourhood    76\n",
      "latitude         76\n",
      "longitude        76\n",
      "dtype: int64\n",
      "Arrochar - id               21\n",
      "neighbourhood    21\n",
      "latitude         21\n",
      "longitude        21\n",
      "dtype: int64\n",
      "Rego Park - id               106\n",
      "neighbourhood    106\n",
      "latitude         106\n",
      "longitude        106\n",
      "dtype: int64\n",
      "Wakefield - id               50\n",
      "neighbourhood    50\n",
      "latitude         50\n",
      "longitude        50\n",
      "dtype: int64\n",
      "Clifton - id               15\n",
      "neighbourhood    15\n",
      "latitude         15\n",
      "longitude        15\n",
      "dtype: int64\n",
      "Bay Ridge - id               141\n",
      "neighbourhood    141\n",
      "latitude         141\n",
      "longitude        141\n",
      "dtype: int64\n",
      "Graniteville - id               3\n",
      "neighbourhood    3\n",
      "latitude         3\n",
      "longitude        3\n",
      "dtype: int64\n",
      "Spuyten Duyvil - id               4\n",
      "neighbourhood    4\n",
      "latitude         4\n",
      "longitude        4\n",
      "dtype: int64\n",
      "Stapleton - id               27\n",
      "neighbourhood    27\n",
      "latitude         27\n",
      "longitude        27\n",
      "dtype: int64\n",
      "Briarwood - id               56\n",
      "neighbourhood    56\n",
      "latitude         56\n",
      "longitude        56\n",
      "dtype: int64\n",
      "Ozone Park - id               62\n",
      "neighbourhood    62\n",
      "latitude         62\n",
      "longitude        62\n",
      "dtype: int64\n",
      "Columbia St - id               42\n",
      "neighbourhood    42\n",
      "latitude         42\n",
      "longitude        42\n",
      "dtype: int64\n",
      "Vinegar Hill - id               34\n",
      "neighbourhood    34\n",
      "latitude         34\n",
      "longitude        34\n",
      "dtype: int64\n",
      "Mott Haven - id               60\n",
      "neighbourhood    60\n",
      "latitude         60\n",
      "longitude        60\n",
      "dtype: int64\n",
      "Longwood - id               62\n",
      "neighbourhood    62\n",
      "latitude         62\n",
      "longitude        62\n",
      "dtype: int64\n",
      "Canarsie - id               147\n",
      "neighbourhood    147\n",
      "latitude         147\n",
      "longitude        147\n",
      "dtype: int64\n",
      "Battery Park City - id               70\n",
      "neighbourhood    70\n",
      "latitude         70\n",
      "longitude        70\n",
      "dtype: int64\n",
      "Civic Center - id               52\n",
      "neighbourhood    52\n",
      "latitude         52\n",
      "longitude        52\n",
      "dtype: int64\n",
      "East Elmhurst - id               185\n",
      "neighbourhood    185\n",
      "latitude         185\n",
      "longitude        185\n",
      "dtype: int64\n",
      "New Springville - id               8\n",
      "neighbourhood    8\n",
      "latitude         8\n",
      "longitude        8\n",
      "dtype: int64\n",
      "Morris Heights - id               17\n",
      "neighbourhood    17\n",
      "latitude         17\n",
      "longitude        17\n",
      "dtype: int64\n",
      "Arverne - id               77\n",
      "neighbourhood    77\n",
      "latitude         77\n",
      "longitude        77\n",
      "dtype: int64\n",
      "Cambria Heights - id               26\n",
      "neighbourhood    26\n",
      "latitude         26\n",
      "longitude        26\n",
      "dtype: int64\n",
      "Tottenville - id               7\n",
      "neighbourhood    7\n",
      "latitude         7\n",
      "longitude        7\n",
      "dtype: int64\n",
      "Mariners Harbor - id               8\n",
      "neighbourhood    8\n",
      "latitude         8\n",
      "longitude        8\n",
      "dtype: int64\n",
      "Concord - id               26\n",
      "neighbourhood    26\n",
      "latitude         26\n",
      "longitude        26\n",
      "dtype: int64\n",
      "Borough Park - id               136\n",
      "neighbourhood    136\n",
      "latitude         136\n",
      "longitude        136\n",
      "dtype: int64\n",
      "Bayside - id               39\n",
      "neighbourhood    39\n",
      "latitude         39\n",
      "longitude        39\n",
      "dtype: int64\n",
      "Downtown Brooklyn - id               83\n",
      "neighbourhood    83\n",
      "latitude         83\n",
      "longitude        83\n",
      "dtype: int64\n",
      "Port Morris - id               46\n",
      "neighbourhood    46\n",
      "latitude         46\n",
      "longitude        46\n",
      "dtype: int64\n",
      "Fieldston - id               12\n",
      "neighbourhood    12\n",
      "latitude         12\n",
      "longitude        12\n",
      "dtype: int64\n",
      "Kew Gardens - id               32\n",
      "neighbourhood    32\n",
      "latitude         32\n",
      "longitude        32\n",
      "dtype: int64\n",
      "Midwood - id               109\n",
      "neighbourhood    109\n",
      "latitude         109\n",
      "longitude        109\n",
      "dtype: int64\n",
      "College Point - id               19\n",
      "neighbourhood    19\n",
      "latitude         19\n",
      "longitude        19\n",
      "dtype: int64\n",
      "Mount Eden - id               6\n",
      "neighbourhood    6\n",
      "latitude         6\n",
      "longitude        6\n",
      "dtype: int64\n",
      "City Island - id               18\n",
      "neighbourhood    18\n",
      "latitude         18\n",
      "longitude        18\n",
      "dtype: int64\n",
      "Glendale - id               54\n",
      "neighbourhood    54\n",
      "latitude         54\n",
      "longitude        54\n",
      "dtype: int64\n",
      "Port Richmond - id               9\n",
      "neighbourhood    9\n",
      "latitude         9\n",
      "longitude        9\n",
      "dtype: int64\n",
      "Red Hook - id               79\n",
      "neighbourhood    79\n",
      "latitude         79\n",
      "longitude        79\n",
      "dtype: int64\n",
      "Richmond Hill - id               94\n",
      "neighbourhood    94\n",
      "latitude         94\n",
      "longitude        94\n",
      "dtype: int64\n",
      "Bellerose - id               14\n",
      "neighbourhood    14\n",
      "latitude         14\n",
      "longitude        14\n",
      "dtype: int64\n",
      "Maspeth - id               110\n",
      "neighbourhood    110\n",
      "latitude         110\n",
      "longitude        110\n",
      "dtype: int64\n",
      "Williamsbridge - id               40\n",
      "neighbourhood    40\n",
      "latitude         40\n",
      "longitude        40\n",
      "dtype: int64\n",
      "Soundview - id               15\n",
      "neighbourhood    15\n",
      "latitude         15\n",
      "longitude        15\n",
      "dtype: int64\n",
      "Woodhaven - id               88\n",
      "neighbourhood    88\n",
      "latitude         88\n",
      "longitude        88\n",
      "dtype: int64\n",
      "Woodrow - id               1\n",
      "neighbourhood    1\n",
      "latitude         1\n",
      "longitude        1\n",
      "dtype: int64\n",
      "Co-op City - id               2\n",
      "neighbourhood    2\n",
      "latitude         2\n",
      "longitude        2\n",
      "dtype: int64\n",
      "Stuyvesant Town - id               37\n",
      "neighbourhood    37\n",
      "latitude         37\n",
      "longitude        37\n",
      "dtype: int64\n",
      "Parkchester - id               39\n",
      "neighbourhood    39\n",
      "latitude         39\n",
      "longitude        39\n",
      "dtype: int64\n",
      "North Riverdale - id               10\n",
      "neighbourhood    10\n",
      "latitude         10\n",
      "longitude        10\n",
      "dtype: int64\n",
      "Dyker Heights - id               12\n",
      "neighbourhood    12\n",
      "latitude         12\n",
      "longitude        12\n",
      "dtype: int64\n",
      "Bronxdale - id               19\n",
      "neighbourhood    19\n",
      "latitude         19\n",
      "longitude        19\n",
      "dtype: int64\n",
      "Sea Gate - id               7\n",
      "neighbourhood    7\n",
      "latitude         7\n",
      "longitude        7\n",
      "dtype: int64\n",
      "Riverdale - id               11\n",
      "neighbourhood    11\n",
      "latitude         11\n",
      "longitude        11\n",
      "dtype: int64\n",
      "Kew Gardens Hills - id               26\n",
      "neighbourhood    26\n",
      "latitude         26\n",
      "longitude        26\n",
      "dtype: int64\n",
      "Bay Terrace - id               6\n",
      "neighbourhood    6\n",
      "latitude         6\n",
      "longitude        6\n",
      "dtype: int64\n",
      "Norwood - id               31\n",
      "neighbourhood    31\n",
      "latitude         31\n",
      "longitude        31\n",
      "dtype: int64\n",
      "Claremont Village - id               28\n",
      "neighbourhood    28\n",
      "latitude         28\n",
      "longitude        28\n",
      "dtype: int64\n",
      "Whitestone - id               11\n",
      "neighbourhood    11\n",
      "latitude         11\n",
      "longitude        11\n",
      "dtype: int64\n",
      "Fordham - id               63\n",
      "neighbourhood    63\n",
      "latitude         63\n",
      "longitude        63\n",
      "dtype: int64\n",
      "Bayswater - id               17\n",
      "neighbourhood    17\n",
      "latitude         17\n",
      "longitude        17\n",
      "dtype: int64\n",
      "Navy Yard - id               14\n",
      "neighbourhood    14\n",
      "latitude         14\n",
      "longitude        14\n",
      "dtype: int64\n",
      "Brownsville - id               61\n",
      "neighbourhood    61\n",
      "latitude         61\n",
      "longitude        61\n",
      "dtype: int64\n",
      "Eltingville - id               3\n",
      "neighbourhood    3\n",
      "latitude         3\n",
      "longitude        3\n",
      "dtype: int64\n",
      "Fresh Meadows - id               32\n",
      "neighbourhood    32\n",
      "latitude         32\n",
      "longitude        32\n",
      "dtype: int64\n",
      "Mount Hope - id               20\n",
      "neighbourhood    20\n",
      "latitude         20\n",
      "longitude        20\n",
      "dtype: int64\n",
      "Lighthouse Hill - id               2\n",
      "neighbourhood    2\n",
      "latitude         2\n",
      "longitude        2\n",
      "dtype: int64\n",
      "Springfield Gardens - id               85\n",
      "neighbourhood    85\n",
      "latitude         85\n",
      "longitude        85\n",
      "dtype: int64\n",
      "Howard Beach - id               20\n",
      "neighbourhood    20\n",
      "latitude         20\n",
      "longitude        20\n",
      "dtype: int64\n",
      "Belle Harbor - id               8\n",
      "neighbourhood    8\n",
      "latitude         8\n",
      "longitude        8\n",
      "dtype: int64\n",
      "Jamaica Estates - id               19\n",
      "neighbourhood    19\n",
      "latitude         19\n",
      "longitude        19\n",
      "dtype: int64\n",
      "Van Nest - id               11\n",
      "neighbourhood    11\n",
      "latitude         11\n",
      "longitude        11\n",
      "dtype: int64\n",
      "Morris Park - id               15\n",
      "neighbourhood    15\n",
      "latitude         15\n",
      "longitude        15\n",
      "dtype: int64\n",
      "West Brighton - id               18\n",
      "neighbourhood    18\n",
      "latitude         18\n",
      "longitude        18\n",
      "dtype: int64\n",
      "Far Rockaway - id               29\n",
      "neighbourhood    29\n",
      "latitude         29\n",
      "longitude        29\n",
      "dtype: int64\n",
      "South Ozone Park - id               40\n",
      "neighbourhood    40\n",
      "latitude         40\n",
      "longitude        40\n",
      "dtype: int64\n",
      "Tremont - id               11\n",
      "neighbourhood    11\n",
      "latitude         11\n",
      "longitude        11\n",
      "dtype: int64\n",
      "Corona - id               64\n",
      "neighbourhood    64\n",
      "latitude         64\n",
      "longitude        64\n",
      "dtype: int64\n",
      "Great Kills - id               10\n",
      "neighbourhood    10\n",
      "latitude         10\n",
      "longitude        10\n",
      "dtype: int64\n",
      "Manhattan Beach - id               8\n",
      "neighbourhood    8\n",
      "latitude         8\n",
      "longitude        8\n",
      "dtype: int64\n",
      "Marble Hill - id               12\n",
      "neighbourhood    12\n",
      "latitude         12\n",
      "longitude        12\n",
      "dtype: int64\n",
      "Dongan Hills - id               7\n",
      "neighbourhood    7\n",
      "latitude         7\n",
      "longitude        7\n",
      "dtype: int64\n",
      "Castleton Corners - id               4\n",
      "neighbourhood    4\n",
      "latitude         4\n",
      "longitude        4\n",
      "dtype: int64\n",
      "East Morrisania - id               10\n",
      "neighbourhood    10\n",
      "latitude         10\n",
      "longitude        10\n",
      "dtype: int64\n",
      "Hunts Point - id               18\n",
      "neighbourhood    18\n",
      "latitude         18\n",
      "longitude        18\n",
      "dtype: int64\n",
      "Neponsit - id               3\n",
      "neighbourhood    3\n",
      "latitude         3\n",
      "longitude        3\n",
      "dtype: int64\n",
      "Pelham Bay - id               17\n",
      "neighbourhood    17\n",
      "latitude         17\n",
      "longitude        17\n",
      "dtype: int64\n",
      "Randall Manor - id               19\n",
      "neighbourhood    19\n",
      "latitude         19\n",
      "longitude        19\n",
      "dtype: int64\n",
      "Throgs Neck - id               24\n",
      "neighbourhood    24\n",
      "latitude         24\n",
      "longitude        24\n",
      "dtype: int64\n",
      "Todt Hill - id               4\n",
      "neighbourhood    4\n",
      "latitude         4\n",
      "longitude        4\n",
      "dtype: int64\n",
      "West Farms - id               2\n",
      "neighbourhood    2\n",
      "latitude         2\n",
      "longitude        2\n",
      "dtype: int64\n",
      "Silver Lake - id               2\n",
      "neighbourhood    2\n",
      "latitude         2\n",
      "longitude        2\n",
      "dtype: int64\n",
      "Morrisania - id               18\n",
      "neighbourhood    18\n",
      "latitude         18\n",
      "longitude        18\n",
      "dtype: int64\n",
      "Laurelton - id               18\n",
      "neighbourhood    18\n",
      "latitude         18\n",
      "longitude        18\n",
      "dtype: int64\n",
      "Grymes Hill - id               7\n",
      "neighbourhood    7\n",
      "latitude         7\n",
      "longitude        7\n",
      "dtype: int64\n",
      "Holliswood - id               4\n",
      "neighbourhood    4\n",
      "latitude         4\n",
      "longitude        4\n",
      "dtype: int64\n",
      "Pelham Gardens - id               28\n",
      "neighbourhood    28\n",
      "latitude         28\n",
      "longitude        28\n",
      "dtype: int64\n",
      "Belmont - id               24\n",
      "neighbourhood    24\n",
      "latitude         24\n",
      "longitude        24\n",
      "dtype: int64\n",
      "Rosedale - id               59\n",
      "neighbourhood    59\n",
      "latitude         59\n",
      "longitude        59\n",
      "dtype: int64\n",
      "Edgemere - id               11\n",
      "neighbourhood    11\n",
      "latitude         11\n",
      "longitude        11\n",
      "dtype: int64\n",
      "New Brighton - id               5\n",
      "neighbourhood    5\n",
      "latitude         5\n",
      "longitude        5\n",
      "dtype: int64\n",
      "Midland Beach - id               6\n",
      "neighbourhood    6\n",
      "latitude         6\n",
      "longitude        6\n",
      "dtype: int64\n",
      "Baychester - id               7\n",
      "neighbourhood    7\n",
      "latitude         7\n",
      "longitude        7\n",
      "dtype: int64\n",
      "Melrose - id               10\n",
      "neighbourhood    10\n",
      "latitude         10\n",
      "longitude        10\n",
      "dtype: int64\n",
      "Bergen Beach - id               10\n",
      "neighbourhood    10\n",
      "latitude         10\n",
      "longitude        10\n",
      "dtype: int64\n",
      "Richmondtown - id               1\n",
      "neighbourhood    1\n",
      "latitude         1\n",
      "longitude        1\n",
      "dtype: int64\n",
      "Howland Hook - id               2\n",
      "neighbourhood    2\n",
      "latitude         2\n",
      "longitude        2\n",
      "dtype: int64\n",
      "Schuylerville - id               13\n",
      "neighbourhood    13\n",
      "latitude         13\n",
      "longitude        13\n",
      "dtype: int64\n",
      "Coney Island - id               17\n",
      "neighbourhood    17\n",
      "latitude         17\n",
      "longitude        17\n",
      "dtype: int64\n",
      "New Dorp Beach - id               5\n",
      "neighbourhood    5\n",
      "latitude         5\n",
      "longitude        5\n",
      "dtype: int64\n",
      "Prince's Bay - id               4\n",
      "neighbourhood    4\n",
      "latitude         4\n",
      "longitude        4\n",
      "dtype: int64\n",
      "South Beach - id               8\n",
      "neighbourhood    8\n",
      "latitude         8\n",
      "longitude        8\n",
      "dtype: int64\n",
      "Bath Beach - id               17\n",
      "neighbourhood    17\n",
      "latitude         17\n",
      "longitude        17\n",
      "dtype: int64\n",
      "Jamaica Hills - id               8\n",
      "neighbourhood    8\n",
      "latitude         8\n",
      "longitude        8\n",
      "dtype: int64\n",
      "Oakwood - id               5\n",
      "neighbourhood    5\n",
      "latitude         5\n",
      "longitude        5\n",
      "dtype: int64\n",
      "Castle Hill - id               9\n",
      "neighbourhood    9\n",
      "latitude         9\n",
      "longitude        9\n",
      "dtype: int64\n",
      "Hollis - id               14\n",
      "neighbourhood    14\n",
      "latitude         14\n",
      "longitude        14\n",
      "dtype: int64\n",
      "Douglaston - id               8\n",
      "neighbourhood    8\n",
      "latitude         8\n",
      "longitude        8\n",
      "dtype: int64\n",
      "Huguenot - id               3\n",
      "neighbourhood    3\n",
      "latitude         3\n",
      "longitude        3\n",
      "dtype: int64\n",
      "Olinville - id               4\n",
      "neighbourhood    4\n",
      "latitude         4\n",
      "longitude        4\n",
      "dtype: int64\n",
      "Edenwald - id               13\n",
      "neighbourhood    13\n",
      "latitude         13\n",
      "longitude        13\n",
      "dtype: int64\n",
      "Grant City - id               6\n",
      "neighbourhood    6\n",
      "latitude         6\n",
      "longitude        6\n",
      "dtype: int64\n",
      "Westerleigh - id               2\n",
      "neighbourhood    2\n",
      "latitude         2\n",
      "longitude        2\n",
      "dtype: int64\n",
      "Bay Terrace, Staten Island - id               2\n",
      "neighbourhood    2\n",
      "latitude         2\n",
      "longitude        2\n",
      "dtype: int64\n",
      "Westchester Square - id               10\n",
      "neighbourhood    10\n",
      "latitude         10\n",
      "longitude        10\n",
      "dtype: int64\n",
      "Little Neck - id               5\n",
      "neighbourhood    5\n",
      "latitude         5\n",
      "longitude        5\n",
      "dtype: int64\n",
      "Fort Wadsworth - id               1\n",
      "neighbourhood    1\n",
      "latitude         1\n",
      "longitude        1\n",
      "dtype: int64\n",
      "Rosebank - id               7\n",
      "neighbourhood    7\n",
      "latitude         7\n",
      "longitude        7\n",
      "dtype: int64\n",
      "Unionport - id               7\n",
      "neighbourhood    7\n",
      "latitude         7\n",
      "longitude        7\n",
      "dtype: int64\n",
      "Mill Basin - id               4\n",
      "neighbourhood    4\n",
      "latitude         4\n",
      "longitude        4\n",
      "dtype: int64\n",
      "Arden Heights - id               4\n",
      "neighbourhood    4\n",
      "latitude         4\n",
      "longitude        4\n",
      "dtype: int64\n",
      "Bull's Head - id               6\n",
      "neighbourhood    6\n",
      "latitude         6\n",
      "longitude        6\n",
      "dtype: int64\n",
      "New Dorp - id               1\n",
      "neighbourhood    1\n",
      "latitude         1\n",
      "longitude        1\n",
      "dtype: int64\n",
      "Rossville - id               1\n",
      "neighbourhood    1\n",
      "latitude         1\n",
      "longitude        1\n",
      "dtype: int64\n",
      "Breezy Point - id               3\n",
      "neighbourhood    3\n",
      "latitude         3\n",
      "longitude        3\n",
      "dtype: int64\n",
      "Willowbrook - id               1\n",
      "neighbourhood    1\n",
      "latitude         1\n",
      "longitude        1\n",
      "dtype: int64\n"
     ]
    }
   ],
   "source": [
    "for item in neighbourhoods:\n",
    "    df_item = df_feature[df[\"neighbourhood\"]==item]\n",
    "    print(f\"{item} - {df_item.count()}\")"
   ]
  },
  {
   "cell_type": "code",
   "execution_count": 114,
   "metadata": {},
   "outputs": [],
   "source": [
    "city = row1[\"neighbourhood\"]\n"
   ]
  },
  {
   "cell_type": "code",
   "execution_count": 115,
   "metadata": {},
   "outputs": [
    {
     "data": {
      "text/plain": [
       "{'lat': 40.6462149, 'lng': -73.970694}"
      ]
     },
     "execution_count": 115,
     "metadata": {},
     "output_type": "execute_result"
    }
   ],
   "source": [
    "geocode[\"Kensington\"]"
   ]
  },
  {
   "cell_type": "code",
   "execution_count": 116,
   "metadata": {},
   "outputs": [],
   "source": [
    "origin = {\"lat\":row1[\"latitude\"], \"lng\":row1[\"longitude\"]}\n",
    "destination = {\"lat\":geocode[\"Kensington\"][\"lat\"], \"lng\":geocode[\"Kensington\"][\"lng\"]}"
   ]
  },
  {
   "cell_type": "code",
   "execution_count": 118,
   "metadata": {},
   "outputs": [
    {
     "data": {
      "text/plain": [
       "{'lat': np.float64(40.75362), 'lng': np.float64(-73.98377)}"
      ]
     },
     "execution_count": 118,
     "metadata": {},
     "output_type": "execute_result"
    }
   ],
   "source": [
    "origin"
   ]
  },
  {
   "cell_type": "code",
   "execution_count": 121,
   "metadata": {},
   "outputs": [
    {
     "name": "stdout",
     "output_type": "stream",
     "text": [
      "Distances (miles): [0, 1986.2944, 11.66]\n",
      "Travel times (seconds): [0, 103833, 1478]\n"
     ]
    }
   ],
   "source": [
    "import requests\n",
    "import json\n",
    "\n",
    "# Your MapQuest API key\n",
    "api_key = df_api[df_api[\"api\"]==\"mapquest\"][\"api_key\"][2]\n",
    "\n",
    "# API URL\n",
    "url = f'https://www.mapquestapi.com/directions/v2/routematrix?key={api_key}'\n",
    "\n",
    "# Define the locations (one origin, multiple destinations)\n",
    "locations = [\n",
    "    { \"latLng\": origin},\n",
    "    { \"latLng\": {\n",
    "        \"lat\": 40.750307,\n",
    "        \"lng\": -108.999472\n",
    "      }},\n",
    "    {\n",
    "        \"latLng\":destination}\n",
    "]\n",
    "\n",
    "# Define the request body\n",
    "payload = {\n",
    "    \"locations\": locations,\n",
    "    \"options\": {\n",
    "        \"manyToOne\": False,  # Set to True for many-to-one, False for one-to-many\n",
    "        \"allToAll\": False,   # Set to True if you want distances between all locations\n",
    "        \"unit\": \"m\"          # Unit can be 'm' for miles or 'k' for kilometers\n",
    "    }\n",
    "}\n",
    "\n",
    "# Set headers for the POST request\n",
    "headers = {\n",
    "    'Content-Type': 'application/json'\n",
    "}\n",
    "\n",
    "# Make the API request\n",
    "response = requests.post(url, headers=headers, data=json.dumps(payload))\n",
    "\n",
    "# Check if the request was successful\n",
    "if response.status_code == 200:\n",
    "    # Parse the JSON response\n",
    "    data = response.json()\n",
    "    \n",
    "    # Display distances and times\n",
    "    distances = data.get('distance', [])\n",
    "    times = data.get('time', [])\n",
    "    \n",
    "    print(\"Distances (miles):\", distances)\n",
    "    print(\"Travel times (seconds):\", times)\n",
    "else:\n",
    "    print(f\"Error: {response.status_code}\")\n",
    "    print(response.text)\n"
   ]
  },
  {
   "cell_type": "code",
   "execution_count": 117,
   "metadata": {},
   "outputs": [
    {
     "name": "stdout",
     "output_type": "stream",
     "text": [
      "Driving distance: 18.8 km\n"
     ]
    }
   ],
   "source": [
    "# using mapquest\n",
    "\n",
    "import requests\n",
    "def mapquest(origin, destination):\n",
    "    api_key = df_api[df_api[\"api\"]==\"mapquest\"][\"api_key\"][2]\n",
    "    url = \"http://www.mapquestapi.com/directions/v2/route\"\n",
    "    \n",
    "    # Define coordinates\n",
    "    params = {\n",
    "        \"key\": api_key,\n",
    "        \"from\": f\"{origin[\"lat\"]},{origin[\"lng\"]}\", \n",
    "        \"to\": f\"{destination[\"lat\"]}, {destination[\"lng\"]}\",    \n",
    "        \"outFormat\": \"json\",\n",
    "        \"unit\": \"k\"  # For kilometers\n",
    "    }\n",
    "       \n",
    "    # Send request\n",
    "    response = requests.get(url, params=params)\n",
    "    data = response.json()\n",
    "    \n",
    "    # Extract distance\n",
    "    distance = data['route']['distance']\n",
    "return distance\n"
   ]
  },
  {
   "cell_type": "code",
   "execution_count": null,
   "metadata": {},
   "outputs": [],
   "source": [
    "def row_to_distance(row):\n",
    "\n",
    "\n",
    "    return distance"
   ]
  },
  {
   "cell_type": "code",
   "execution_count": null,
   "metadata": {},
   "outputs": [],
   "source": [
    "\n",
    "pprint(current[\"best\"])"
   ]
  },
  {
   "cell_type": "code",
   "execution_count": null,
   "metadata": {},
   "outputs": [],
   "source": [
    "pprint(results[0][\"formatted\"])"
   ]
  },
  {
   "cell_type": "code",
   "execution_count": null,
   "metadata": {},
   "outputs": [],
   "source": []
  },
  {
   "cell_type": "code",
   "execution_count": null,
   "metadata": {},
   "outputs": [],
   "source": [
    "destination = df[\"neighbourhood\"][0]\n",
    "\n",
    "origin = (df[\"latitude\"][0], df[\"longitude\"][0])\n",
    "mode = \"driving\""
   ]
  },
  {
   "cell_type": "code",
   "execution_count": null,
   "metadata": {},
   "outputs": [],
   "source": [
    "print(origin)"
   ]
  },
  {
   "cell_type": "code",
   "execution_count": null,
   "metadata": {},
   "outputs": [],
   "source": [
    "dist = get_distance(origin, destination, mode = mode)"
   ]
  },
  {
   "cell_type": "code",
   "execution_count": null,
   "metadata": {},
   "outputs": [],
   "source": []
  },
  {
   "cell_type": "markdown",
   "metadata": {},
   "source": [
    "<p>We have latitude and longitude data. Even its metric data we cant use it bluntly. we can create new features like \"distance between subway and the unit\" and \"distance to nearest public transport\" and \"distance to city center\", \"distance to nearest airport\"</p>"
   ]
  },
  {
   "cell_type": "markdown",
   "metadata": {},
   "source": [
    "## Machine Learning"
   ]
  },
  {
   "cell_type": "code",
   "execution_count": null,
   "metadata": {
    "ExecuteTime": {
     "end_time": "2020-09-21T20:03:39.553700Z",
     "start_time": "2020-09-21T20:03:39.037325Z"
    }
   },
   "outputs": [],
   "source": [
    "from sklearn.ensemble import RandomForestClassifier\n",
    "from sklearn import svm\n",
    "from sklearn.neighbors import KNeighborsClassifier\n",
    "from xgboost import XGBClassifier"
   ]
  },
  {
   "cell_type": "markdown",
   "metadata": {},
   "source": [
    "### Random Forest"
   ]
  },
  {
   "cell_type": "code",
   "execution_count": null,
   "metadata": {
    "ExecuteTime": {
     "end_time": "2020-09-21T19:30:45.490026Z",
     "start_time": "2020-09-21T19:30:45.478056Z"
    }
   },
   "outputs": [],
   "source": [
    "rfs=RandomForestClassifier()"
   ]
  },
  {
   "cell_type": "code",
   "execution_count": null,
   "metadata": {
    "ExecuteTime": {
     "end_time": "2020-09-21T19:32:03.635109Z",
     "start_time": "2020-09-21T19:30:46.266130Z"
    }
   },
   "outputs": [],
   "source": [
    "rff=rfs.fit(x_train,y_train)"
   ]
  },
  {
   "cell_type": "code",
   "execution_count": null,
   "metadata": {
    "ExecuteTime": {
     "end_time": "2020-09-21T19:32:06.701909Z",
     "start_time": "2020-09-21T19:32:03.638105Z"
    }
   },
   "outputs": [],
   "source": [
    "y_predict=rff.predict(x_test)"
   ]
  },
  {
   "cell_type": "code",
   "execution_count": null,
   "metadata": {
    "ExecuteTime": {
     "end_time": "2020-09-21T19:41:14.207105Z",
     "start_time": "2020-09-21T19:41:14.195099Z"
    }
   },
   "outputs": [],
   "source": [
    "y_predic=pd.DataFrame(y_predict)"
   ]
  },
  {
   "cell_type": "code",
   "execution_count": null,
   "metadata": {
    "ExecuteTime": {
     "end_time": "2020-09-21T19:41:33.022736Z",
     "start_time": "2020-09-21T19:41:32.956878Z"
    }
   },
   "outputs": [],
   "source": [
    "reverse_map={0:dict(zip(list(range(1,len(cate)+1)),cate))}\n",
    "y_predic.replace(reverse_map,inplace=True)"
   ]
  },
  {
   "cell_type": "code",
   "execution_count": null,
   "metadata": {
    "ExecuteTime": {
     "end_time": "2020-09-21T19:41:34.555748Z",
     "start_time": "2020-09-21T19:41:34.443660Z"
    }
   },
   "outputs": [],
   "source": [
    "# Saving the results in Csv\n",
    "data={'id':test.id,'country':y_predic[0]}\n",
    "pd.DataFrame(data).set_index('id').to_csv(r'submission files/submission_RF01.csv')"
   ]
  },
  {
   "cell_type": "code",
   "execution_count": null,
   "metadata": {
    "ExecuteTime": {
     "end_time": "2020-09-21T19:41:36.680340Z",
     "start_time": "2020-09-21T19:41:36.620535Z"
    }
   },
   "outputs": [],
   "source": [
    "best_score=pd.read_csv(r'submission files/submission_RF01.csv')"
   ]
  },
  {
   "cell_type": "markdown",
   "metadata": {},
   "source": [
    "### Support Vector Machine"
   ]
  },
  {
   "cell_type": "code",
   "execution_count": null,
   "metadata": {
    "ExecuteTime": {
     "end_time": "2020-09-21T19:43:55.531204Z",
     "start_time": "2020-09-21T19:43:55.513250Z"
    }
   },
   "outputs": [],
   "source": [
    "sv=svm()"
   ]
  },
  {
   "cell_type": "code",
   "execution_count": null,
   "metadata": {
    "ExecuteTime": {
     "end_time": "2020-09-10T17:36:45.802638Z",
     "start_time": "2020-09-10T17:36:45.664Z"
    }
   },
   "outputs": [],
   "source": [
    "svr=rfs.fit(x_train_f,y_train)"
   ]
  },
  {
   "cell_type": "code",
   "execution_count": null,
   "metadata": {
    "ExecuteTime": {
     "end_time": "2020-09-10T17:36:45.803602Z",
     "start_time": "2020-09-10T17:36:45.668Z"
    }
   },
   "outputs": [],
   "source": [
    "y_predict=svr.predict(x_test_f)"
   ]
  },
  {
   "cell_type": "code",
   "execution_count": null,
   "metadata": {
    "ExecuteTime": {
     "end_time": "2020-09-10T17:36:45.804600Z",
     "start_time": "2020-09-10T17:36:45.671Z"
    }
   },
   "outputs": [],
   "source": [
    "y_predict"
   ]
  },
  {
   "cell_type": "code",
   "execution_count": null,
   "metadata": {
    "ExecuteTime": {
     "end_time": "2020-09-10T17:36:45.805635Z",
     "start_time": "2020-09-10T17:36:45.674Z"
    }
   },
   "outputs": [],
   "source": [
    "# Saving the results in Csv\n",
    "data={'Id':range(1461,2920),'SalePrice':y_predict}\n",
    "pd.DataFrame(data).set_index('Id').to_csv(r'submission files/submission_RF02.csv')"
   ]
  },
  {
   "cell_type": "code",
   "execution_count": null,
   "metadata": {
    "ExecuteTime": {
     "end_time": "2020-09-10T17:36:45.806630Z",
     "start_time": "2020-09-10T17:36:45.676Z"
    }
   },
   "outputs": [],
   "source": [
    "best_score=pd.read_csv(r'submission files/submission_RF01.csv')"
   ]
  },
  {
   "cell_type": "code",
   "execution_count": null,
   "metadata": {
    "ExecuteTime": {
     "end_time": "2020-09-10T17:36:45.807592Z",
     "start_time": "2020-09-10T17:36:45.679Z"
    }
   },
   "outputs": [],
   "source": [
    "a=best_score['SalePrice']-y_predict"
   ]
  },
  {
   "cell_type": "code",
   "execution_count": null,
   "metadata": {
    "ExecuteTime": {
     "end_time": "2020-09-10T17:36:45.808624Z",
     "start_time": "2020-09-10T17:36:45.684Z"
    }
   },
   "outputs": [],
   "source": [
    "#fig,ax1=plt.subplot(1,1)\n",
    "sns.distplot(a,bins=30)\n"
   ]
  },
  {
   "cell_type": "code",
   "execution_count": null,
   "metadata": {
    "ExecuteTime": {
     "end_time": "2020-09-10T17:36:45.809621Z",
     "start_time": "2020-09-10T17:36:45.690Z"
    }
   },
   "outputs": [],
   "source": [
    "best_score['new']=y_predict"
   ]
  },
  {
   "cell_type": "code",
   "execution_count": null,
   "metadata": {
    "ExecuteTime": {
     "end_time": "2020-09-10T17:36:45.810583Z",
     "start_time": "2020-09-10T17:36:45.694Z"
    },
    "scrolled": true
   },
   "outputs": [],
   "source": [
    "sns.heatmap(best_score[['SalePrice','new']].corr(),annot=True)"
   ]
  },
  {
   "cell_type": "markdown",
   "metadata": {},
   "source": [
    "### K-Nearest Neighbours"
   ]
  },
  {
   "cell_type": "code",
   "execution_count": null,
   "metadata": {
    "ExecuteTime": {
     "end_time": "2020-09-21T19:45:21.956390Z",
     "start_time": "2020-09-21T19:45:21.942390Z"
    }
   },
   "outputs": [],
   "source": [
    "KNN=KNeighborsClassifier()"
   ]
  },
  {
   "cell_type": "code",
   "execution_count": null,
   "metadata": {
    "ExecuteTime": {
     "start_time": "2020-09-21T19:45:47.421Z"
    }
   },
   "outputs": [],
   "source": [
    "knn=KNN.fit(x_train,y_train)"
   ]
  },
  {
   "cell_type": "code",
   "execution_count": null,
   "metadata": {
    "ExecuteTime": {
     "end_time": "2020-09-10T17:36:45.803602Z",
     "start_time": "2020-09-10T17:36:45.668Z"
    }
   },
   "outputs": [],
   "source": [
    "y_predict=knn.predict(x_test)"
   ]
  },
  {
   "cell_type": "code",
   "execution_count": null,
   "metadata": {
    "ExecuteTime": {
     "end_time": "2020-09-21T19:41:14.207105Z",
     "start_time": "2020-09-21T19:41:14.195099Z"
    }
   },
   "outputs": [],
   "source": [
    "y_predic=pd.DataFrame(y_predict)"
   ]
  },
  {
   "cell_type": "code",
   "execution_count": null,
   "metadata": {
    "ExecuteTime": {
     "end_time": "2020-09-21T19:41:33.022736Z",
     "start_time": "2020-09-21T19:41:32.956878Z"
    }
   },
   "outputs": [],
   "source": [
    "reverse_map={0:dict(zip(list(range(1,len(cate)+1)),cate))}\n",
    "y_predic.replace(reverse_map,inplace=True)"
   ]
  },
  {
   "cell_type": "code",
   "execution_count": null,
   "metadata": {
    "ExecuteTime": {
     "end_time": "2020-09-21T19:41:34.555748Z",
     "start_time": "2020-09-21T19:41:34.443660Z"
    }
   },
   "outputs": [],
   "source": [
    "# Saving the results in Csv\n",
    "data={'id':test.id,'country':y_predic[0]}\n",
    "pd.DataFrame(data).set_index('id').to_csv(r'submission files/submission_KNN01.csv')"
   ]
  },
  {
   "cell_type": "code",
   "execution_count": null,
   "metadata": {
    "ExecuteTime": {
     "end_time": "2020-09-10T17:36:45.804600Z",
     "start_time": "2020-09-10T17:36:45.671Z"
    }
   },
   "outputs": [],
   "source": [
    "y_predict"
   ]
  },
  {
   "cell_type": "code",
   "execution_count": null,
   "metadata": {
    "ExecuteTime": {
     "end_time": "2020-09-10T17:36:45.805635Z",
     "start_time": "2020-09-10T17:36:45.674Z"
    }
   },
   "outputs": [],
   "source": [
    "# Saving the results in Csv\n",
    "data={'Id':range(1461,2920),'SalePrice':y_predict}\n",
    "pd.DataFrame(data).set_index('Id').to_csv(r'submission files/submission_RF02.csv')"
   ]
  },
  {
   "cell_type": "code",
   "execution_count": null,
   "metadata": {
    "ExecuteTime": {
     "end_time": "2020-09-10T17:36:45.806630Z",
     "start_time": "2020-09-10T17:36:45.676Z"
    }
   },
   "outputs": [],
   "source": [
    "best_score=pd.read_csv(r'submission files/submission_RF01.csv')"
   ]
  },
  {
   "cell_type": "code",
   "execution_count": null,
   "metadata": {
    "ExecuteTime": {
     "end_time": "2020-09-10T17:36:45.807592Z",
     "start_time": "2020-09-10T17:36:45.679Z"
    }
   },
   "outputs": [],
   "source": [
    "a=best_score['SalePrice']-y_predict"
   ]
  },
  {
   "cell_type": "code",
   "execution_count": null,
   "metadata": {
    "ExecuteTime": {
     "end_time": "2020-09-10T17:36:45.808624Z",
     "start_time": "2020-09-10T17:36:45.684Z"
    }
   },
   "outputs": [],
   "source": [
    "#fig,ax1=plt.subplot(1,1)\n",
    "sns.distplot(a,bins=30)\n"
   ]
  },
  {
   "cell_type": "code",
   "execution_count": null,
   "metadata": {
    "ExecuteTime": {
     "end_time": "2020-09-10T17:36:45.809621Z",
     "start_time": "2020-09-10T17:36:45.690Z"
    }
   },
   "outputs": [],
   "source": [
    "best_score['new']=y_predict"
   ]
  },
  {
   "cell_type": "code",
   "execution_count": null,
   "metadata": {
    "ExecuteTime": {
     "end_time": "2020-09-10T17:36:45.810583Z",
     "start_time": "2020-09-10T17:36:45.694Z"
    },
    "scrolled": true
   },
   "outputs": [],
   "source": [
    "sns.heatmap(best_score[['SalePrice','new']].corr(),annot=True)"
   ]
  },
  {
   "cell_type": "markdown",
   "metadata": {},
   "source": [
    "### XGBoostClassifier"
   ]
  },
  {
   "cell_type": "code",
   "execution_count": null,
   "metadata": {
    "ExecuteTime": {
     "end_time": "2020-09-21T20:03:45.622970Z",
     "start_time": "2020-09-21T20:03:45.609965Z"
    }
   },
   "outputs": [],
   "source": [
    "xg=XGBClassifier()"
   ]
  },
  {
   "cell_type": "code",
   "execution_count": null,
   "metadata": {
    "ExecuteTime": {
     "end_time": "2020-09-21T20:14:45.653119Z",
     "start_time": "2020-09-21T20:04:04.201806Z"
    }
   },
   "outputs": [],
   "source": [
    "xgf=xg.fit(x_train,y_train)"
   ]
  },
  {
   "cell_type": "code",
   "execution_count": null,
   "metadata": {
    "ExecuteTime": {
     "end_time": "2020-09-10T17:36:45.803602Z",
     "start_time": "2020-09-10T17:36:45.668Z"
    }
   },
   "outputs": [],
   "source": [
    "y_predict=xgf.predict(x_test)"
   ]
  },
  {
   "cell_type": "code",
   "execution_count": null,
   "metadata": {
    "ExecuteTime": {
     "end_time": "2020-09-21T19:41:14.207105Z",
     "start_time": "2020-09-21T19:41:14.195099Z"
    }
   },
   "outputs": [],
   "source": [
    "y_predic=pd.DataFrame(y_predict)"
   ]
  },
  {
   "cell_type": "code",
   "execution_count": null,
   "metadata": {
    "ExecuteTime": {
     "end_time": "2020-09-21T19:41:33.022736Z",
     "start_time": "2020-09-21T19:41:32.956878Z"
    }
   },
   "outputs": [],
   "source": [
    "reverse_map={0:dict(zip(list(range(1,len(cate)+1)),cate))}\n",
    "y_predic.replace(reverse_map,inplace=True)"
   ]
  },
  {
   "cell_type": "code",
   "execution_count": null,
   "metadata": {
    "ExecuteTime": {
     "end_time": "2020-09-21T19:41:34.555748Z",
     "start_time": "2020-09-21T19:41:34.443660Z"
    }
   },
   "outputs": [],
   "source": [
    "# Saving the results in Csv\n",
    "data={'id':test.id,'country':y_predic[0]}\n",
    "pd.DataFrame(data).set_index('id').to_csv(r'submission files/submission_XG01.csv')"
   ]
  }
 ],
 "metadata": {
  "kernelspec": {
   "display_name": "Python 3 (ipykernel)",
   "language": "python",
   "name": "python3"
  },
  "language_info": {
   "codemirror_mode": {
    "name": "ipython",
    "version": 3
   },
   "file_extension": ".py",
   "mimetype": "text/x-python",
   "name": "python",
   "nbconvert_exporter": "python",
   "pygments_lexer": "ipython3",
   "version": "3.12.6"
  },
  "toc": {
   "base_numbering": 1,
   "nav_menu": {},
   "number_sections": true,
   "sideBar": true,
   "skip_h1_title": false,
   "title_cell": "Table of Contents",
   "title_sidebar": "Contents",
   "toc_cell": false,
   "toc_position": {},
   "toc_section_display": true,
   "toc_window_display": false
  }
 },
 "nbformat": 4,
 "nbformat_minor": 4
}
